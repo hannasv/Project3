{
 "cells": [
  {
   "cell_type": "markdown",
   "metadata": {},
   "source": [
    "# Regression with a multilayer perceptron (neural network)"
   ]
  },
  {
   "cell_type": "code",
   "execution_count": 1,
   "metadata": {},
   "outputs": [],
   "source": [
    "import numpy as np\n",
    "import scipy.sparse as sp\n",
    "np.random.seed(12)\n",
    "\n",
    "import warnings\n",
    "#Comment this to turn on warnings\n",
    "warnings.filterwarnings('ignore')\n",
    "\n",
    "from model_comparison import model_comparison\n",
    "from resample import resample\n",
    "import algorithms\n",
    "import matplotlib.pyplot as plt\n",
    "import seaborn as sns\n",
    "import netCDF4 as n\n",
    "from sklearn.linear_model import LinearRegression\n",
    "\n",
    "from mpl_toolkits.axes_grid1 import make_axes_locatable\n",
    "%matplotlib inline\n",
    "\n",
    "from utils import train_test_split\n",
    "from ann import NeuralNetMLP\n",
    "#%matplotlib notebook"
   ]
  },
  {
   "cell_type": "markdown",
   "metadata": {},
   "source": [
    "# Reading in the data"
   ]
  },
  {
   "cell_type": "code",
   "execution_count": null,
   "metadata": {},
   "outputs": [],
   "source": [
    "# reading test\n",
    "path = \"./files/\"\n",
    "filenames = [\"specific_humidity_Europa_sp.nc\", \"relative_humidity_Europa_sp.nc\", \"pressure_Europa_sp.nc\",  \n",
    "             \"temperature_Europa_sp.nc\", \"total_cloud_cover_Europa_sp.nc\"]\n",
    "\n",
    "\n",
    "cloud = n.Dataset(path + filenames[-1], \"r\")\n",
    "relative = n.Dataset(path + filenames[1], \"r\")\n",
    "specific = n.Dataset(path + filenames[0], \"r\")\n",
    "pressure = n.Dataset(path + filenames[2], \"r\")\n",
    "temperature = n.Dataset(path + filenames[3], \"r\")"
   ]
  },
  {
   "cell_type": "code",
   "execution_count": 12,
   "metadata": {},
   "outputs": [
    {
     "data": {
      "text/plain": [
       "<class 'netCDF4._netCDF4.Variable'>\n",
       "int16 r(time, level, latitude, longitude)\n",
       "    scale_factor: 0.0020292186290296298\n",
       "    add_offset: 56.78843174459784\n",
       "    _FillValue: -32767\n",
       "    missing_value: -32767\n",
       "    units: %\n",
       "    long_name: Relative humidity\n",
       "    standard_name: relative_humidity\n",
       "unlimited dimensions: time\n",
       "current shape = (32, 6, 61, 77)\n",
       "filling on"
      ]
     },
     "execution_count": 12,
     "metadata": {},
     "output_type": "execute_result"
    }
   ],
   "source": [
    "relative.variables[\"r\"]"
   ]
  },
  {
   "cell_type": "code",
   "execution_count": 13,
   "metadata": {},
   "outputs": [
    {
     "data": {
      "text/plain": [
       "<class 'netCDF4._netCDF4.Variable'>\n",
       "int16 q(time, level, latitude, longitude)\n",
       "    scale_factor: 2.1328394656708057e-07\n",
       "    add_offset: 0.006964579015321184\n",
       "    _FillValue: -32767\n",
       "    missing_value: -32767\n",
       "    units: kg kg**-1\n",
       "    long_name: Specific humidity\n",
       "    standard_name: specific_humidity\n",
       "unlimited dimensions: time\n",
       "current shape = (32, 6, 61, 77)\n",
       "filling on"
      ]
     },
     "execution_count": 13,
     "metadata": {},
     "output_type": "execute_result"
    }
   ],
   "source": [
    "specific.variables[\"q\"]"
   ]
  },
  {
   "cell_type": "code",
   "execution_count": 15,
   "metadata": {},
   "outputs": [
    {
     "data": {
      "text/plain": [
       "<class 'netCDF4._netCDF4.Variable'>\n",
       "int16 tcc(time, latitude, longitude)\n",
       "    scale_factor: 1.525948758640685e-05\n",
       "    add_offset: 0.49999237025720666\n",
       "    _FillValue: -32767\n",
       "    missing_value: -32767\n",
       "    units: (0 - 1)\n",
       "    long_name: Total cloud cover\n",
       "    standard_name: cloud_area_fraction\n",
       "unlimited dimensions: time\n",
       "current shape = (32, 61, 77)\n",
       "filling on"
      ]
     },
     "execution_count": 15,
     "metadata": {},
     "output_type": "execute_result"
    }
   ],
   "source": [
    "cloud.variables[\"tcc\"]"
   ]
  },
  {
   "cell_type": "code",
   "execution_count": 16,
   "metadata": {},
   "outputs": [
    {
     "data": {
      "text/plain": [
       "<class 'netCDF4._netCDF4.Variable'>\n",
       "int16 sp(time, latitude, longitude)\n",
       "    scale_factor: 0.38392012421222893\n",
       "    add_offset: 91282.2142899379\n",
       "    _FillValue: -32767\n",
       "    missing_value: -32767\n",
       "    units: Pa\n",
       "    long_name: Surface pressure\n",
       "    standard_name: surface_air_pressure\n",
       "unlimited dimensions: time\n",
       "current shape = (32, 61, 77)\n",
       "filling on"
      ]
     },
     "execution_count": 16,
     "metadata": {},
     "output_type": "execute_result"
    }
   ],
   "source": [
    "pressure.variables[\"sp\"]"
   ]
  },
  {
   "cell_type": "code",
   "execution_count": 14,
   "metadata": {},
   "outputs": [],
   "source": [
    "t = 0 # timestep\n",
    "\n",
    "#print(cloud.variables)\n",
    "tcc = cloud.variables[\"tcc\"][t][:][:].data\n",
    "\n",
    "# Retriving ground values, these are available at six different pressure levels. \n",
    "rel = relative.variables[\"r\"][t][0][:][:].data\n",
    "#level = relative.variables[\"level\"][:][0].data\n",
    "spe = specific.variables[\"q\"][t][0][:][:].data\n",
    "\n",
    "surf_pre = pressure.variables[\"sp\"][t][:][:].data\n",
    "temp = temperature.variables[\"t2m\"][t][:][:].data"
   ]
  },
  {
   "cell_type": "code",
   "execution_count": 21,
   "metadata": {},
   "outputs": [
    {
     "data": {
      "text/plain": [
       "(0.011704174875934848, 0.0007891556264179329)"
      ]
     },
     "execution_count": 21,
     "metadata": {},
     "output_type": "execute_result"
    }
   ],
   "source": [
    "spe.max(), spe.min() # Use logit function"
   ]
  },
  {
   "cell_type": "code",
   "execution_count": 4,
   "metadata": {},
   "outputs": [],
   "source": [
    "def logit_inv(x): # sigmoid?\n",
    "    return np.exp(x)/(1+np.exp(x))\n",
    "\n",
    "def logit(x):\n",
    "    return np.log10((x + 1e-12)/(1+1e-12-x))"
   ]
  },
  {
   "cell_type": "code",
   "execution_count": 77,
   "metadata": {},
   "outputs": [
    {
     "data": {
      "text/plain": [
       "-12.0"
      ]
     },
     "execution_count": 77,
     "metadata": {},
     "output_type": "execute_result"
    }
   ],
   "source": [
    "np.log10(0+1e-12)"
   ]
  },
  {
   "cell_type": "code",
   "execution_count": 49,
   "metadata": {},
   "outputs": [
    {
     "data": {
      "text/plain": [
       "45.0"
      ]
     },
     "execution_count": 49,
     "metadata": {},
     "output_type": "execute_result"
    }
   ],
   "source": [
    "np.log10(1./0.000000000000000000000000000000000000000000001)"
   ]
  },
  {
   "cell_type": "code",
   "execution_count": 71,
   "metadata": {},
   "outputs": [
    {
     "data": {
      "text/plain": [
       "array([[  4.5154168 ],\n",
       "       [  4.5154168 ],\n",
       "       [ 15.65355977],\n",
       "       ...,\n",
       "       [-11.69899892],\n",
       "       [-11.69899892],\n",
       "       [-11.69899892]])"
      ]
     },
     "execution_count": 71,
     "metadata": {},
     "output_type": "execute_result"
    }
   ],
   "source": [
    "logit(tcc[0].flatten()).reshape((4697, 1))"
   ]
  },
  {
   "cell_type": "code",
   "execution_count": 5,
   "metadata": {},
   "outputs": [],
   "source": [
    "# for one certain timestep \n",
    "t = 0\n",
    "# tcc[t].flatten().reshape((4697, 1))\n",
    "y = logit(tcc[t].flatten()).reshape((4697, 1))\n",
    "X = np.array([rel[t][0][:][:].flatten(), logit(spe[t][0][:][:].flatten()), surf_pre[t].flatten(), temp[t].flatten()]).transpose()"
   ]
  },
  {
   "cell_type": "code",
   "execution_count": 25,
   "metadata": {},
   "outputs": [],
   "source": [
    "X_train, X_test, y_train, y_test = train_test_split(X, y, split_size=0.2)"
   ]
  },
  {
   "cell_type": "code",
   "execution_count": 74,
   "metadata": {},
   "outputs": [
    {
     "data": {
      "text/plain": [
       "((3758, 4), (939, 4))"
      ]
     },
     "execution_count": 74,
     "metadata": {},
     "output_type": "execute_result"
    }
   ],
   "source": [
    "X_train.shape, X_test.shape"
   ]
  },
  {
   "cell_type": "code",
   "execution_count": 75,
   "metadata": {},
   "outputs": [
    {
     "data": {
      "text/plain": [
       "((3758, 1), (939, 1))"
      ]
     },
     "execution_count": 75,
     "metadata": {},
     "output_type": "execute_result"
    }
   ],
   "source": [
    "y_train.shape, y_test.shape"
   ]
  },
  {
   "cell_type": "markdown",
   "metadata": {},
   "source": [
    "# Two layer MLP (Neural network )"
   ]
  },
  {
   "cell_type": "markdown",
   "metadata": {},
   "source": [
    "## Used to make table in report. "
   ]
  },
  {
   "cell_type": "code",
   "execution_count": 76,
   "metadata": {
    "scrolled": false
   },
   "outputs": [
    {
     "name": "stdout",
     "output_type": "stream",
     "text": [
      "Sigmoid for nr of epochs 1 and eta: 0.0001  batchsize = 1   performance is 71.84957274944483\n",
      "---------------------------\n",
      "Sigmoid for nr of epochs 1 and eta: 0.001  batchsize = 1   performance is 72.09490758139931\n",
      "---------------------------\n",
      "Sigmoid for nr of epochs 1 and eta: 0.01  batchsize = 1   performance is 94.7770890143402\n",
      "---------------------------\n",
      "Sigmoid for nr of epochs 1 and eta: 0.1  batchsize = 1   performance is 93.22126657108744\n",
      "---------------------------\n",
      "Sigmoid for nr of epochs 1 and eta: 1.0  batchsize = 1   performance is nan\n",
      "---------------------------\n",
      "Sigmoid for nr of epochs 10 and eta: 0.0001  batchsize = 1   performance is 71.90269623657578\n",
      "---------------------------\n",
      "Sigmoid for nr of epochs 10 and eta: 0.001  batchsize = 1   performance is 72.2658372708311\n",
      "---------------------------\n",
      "Sigmoid for nr of epochs 10 and eta: 0.01  batchsize = 1   performance is 76.62190087295724\n",
      "---------------------------\n",
      "Sigmoid for nr of epochs 10 and eta: 0.1  batchsize = 1   performance is 138.3559628172874\n",
      "---------------------------\n",
      "Sigmoid for nr of epochs 10 and eta: 1.0  batchsize = 1   performance is nan\n",
      "---------------------------\n",
      "Sigmoid for nr of epochs 50 and eta: 0.0001  batchsize = 1   performance is 71.8885369759173\n",
      "---------------------------\n",
      "Sigmoid for nr of epochs 50 and eta: 0.001  batchsize = 1   performance is 72.38372238084526\n",
      "---------------------------\n",
      "Sigmoid for nr of epochs 50 and eta: 0.01  batchsize = 1   performance is 79.88799908285111\n",
      "---------------------------\n",
      "Sigmoid for nr of epochs 50 and eta: 0.1  batchsize = 1   performance is 134.1371230689775\n",
      "---------------------------\n",
      "Sigmoid for nr of epochs 50 and eta: 1.0  batchsize = 1   performance is nan\n",
      "---------------------------\n",
      "Sigmoid for nr of epochs 100 and eta: 0.0001  batchsize = 1   performance is 71.91710848904542\n",
      "---------------------------\n",
      "Sigmoid for nr of epochs 100 and eta: 0.001  batchsize = 1   performance is 72.26349372801934\n",
      "---------------------------\n",
      "Sigmoid for nr of epochs 100 and eta: 0.01  batchsize = 1   performance is 76.21280183393453\n",
      "---------------------------\n",
      "Sigmoid for nr of epochs 100 and eta: 0.1  batchsize = 1   performance is 185.57293194551437\n",
      "---------------------------\n",
      "Sigmoid for nr of epochs 100 and eta: 1.0  batchsize = 1   performance is nan\n",
      "---------------------------\n"
     ]
    }
   ],
   "source": [
    "# Experimental setup\n",
    "metric = []\n",
    "\n",
    "eta = [0.0001, 0.001, 0.01, 0.1, 1.0]\n",
    "#lmd = [0.0001, 0.001, 0.01, 0.1, 1.0, 10]\n",
    "epochs = [1, 10, 50, 100]\n",
    "batchsize = [1]\n",
    "\n",
    "\n",
    "for epoch in epochs:\n",
    "    for e in eta:\n",
    "        for batch in batchsize:\n",
    "            ann = NeuralNetMLP(n_hidden=30, \n",
    "                               epochs=epoch, \n",
    "                               eta=e, \n",
    "                               shuffle=True,\n",
    "                               batch_size=batch, \n",
    "                               activation='sigmoid', \n",
    "                               tpe = \"regression\")\n",
    "\n",
    "            ann.fit(X_train, y_train, X_test, y_test)\n",
    "            ann.predict(X_test)\n",
    "            # returns a list of the mean mse score for different epochs or batches\n",
    "            metric.append(ann.eval_[\"valid_preform\"])\n",
    "            print(\"Sigmoid for nr of epochs \"+str(epoch) + \" and eta: \" + str(e) + \"  batchsize = \" + str(batch) +\"   performance is \" + str(np.nanmean(ann.eval_[\"valid_preform\"])))\n",
    "        print(\"---------------------------\")"
   ]
  },
  {
   "cell_type": "markdown",
   "metadata": {},
   "source": [
    "# Performance with 10 neurons"
   ]
  },
  {
   "cell_type": "code",
   "execution_count": 20,
   "metadata": {},
   "outputs": [
    {
     "name": "stdout",
     "output_type": "stream",
     "text": [
      "ELU for nr of epochs 1 and eta: 0.0001  batchsize = 1   performance is 0.14517574693599355\n",
      "---------------------------\n",
      "ELU for nr of epochs 1 and eta: 0.001  batchsize = 1   performance is 0.13781533835655296\n",
      "---------------------------\n",
      "ELU for nr of epochs 1 and eta: 0.01  batchsize = 1   performance is 0.16857858768692663\n",
      "---------------------------\n",
      "ELU for nr of epochs 1 and eta: 0.1  batchsize = 1   performance is 0.22421847112002705\n",
      "---------------------------\n",
      "ELU for nr of epochs 1 and eta: 1.0  batchsize = 1   performance is nan\n",
      "---------------------------\n",
      "ELU for nr of epochs 10 and eta: 0.0001  batchsize = 1   performance is 0.13766677974848643\n",
      "---------------------------\n",
      "ELU for nr of epochs 10 and eta: 0.001  batchsize = 1   performance is 0.13793272898120018\n",
      "---------------------------\n",
      "ELU for nr of epochs 10 and eta: 0.01  batchsize = 1   performance is 0.14065829446965844\n",
      "---------------------------\n",
      "ELU for nr of epochs 10 and eta: 0.1  batchsize = 1   performance is 0.20940540207547143\n",
      "---------------------------\n",
      "ELU for nr of epochs 10 and eta: 1.0  batchsize = 1   performance is nan\n",
      "---------------------------\n",
      "ELU for nr of epochs 50 and eta: 0.0001  batchsize = 1   performance is 0.13757795365967393\n",
      "---------------------------\n",
      "ELU for nr of epochs 50 and eta: 0.001  batchsize = 1   performance is 0.13786194020506662\n",
      "---------------------------\n",
      "ELU for nr of epochs 50 and eta: 0.01  batchsize = 1   performance is 0.145675448223556\n",
      "---------------------------\n",
      "ELU for nr of epochs 50 and eta: 0.1  batchsize = 1   performance is 0.19399867599304826\n",
      "---------------------------\n",
      "ELU for nr of epochs 50 and eta: 1.0  batchsize = 1   performance is nan\n",
      "---------------------------\n",
      "ELU for nr of epochs 100 and eta: 0.0001  batchsize = 1   performance is 0.1376005347126416\n",
      "---------------------------\n",
      "ELU for nr of epochs 100 and eta: 0.001  batchsize = 1   performance is 0.1379649416147161\n",
      "---------------------------\n",
      "ELU for nr of epochs 100 and eta: 0.01  batchsize = 1   performance is 0.14254157036502088\n",
      "---------------------------\n",
      "ELU for nr of epochs 100 and eta: 0.1  batchsize = 1   performance is 0.17983802194445392\n",
      "---------------------------\n",
      "ELU for nr of epochs 100 and eta: 1.0  batchsize = 1   performance is nan\n",
      "---------------------------\n"
     ]
    }
   ],
   "source": [
    "# Experimental setup\n",
    "metric = []\n",
    "\n",
    "eta = [0.0001, 0.001, 0.01, 0.1, 1.0]\n",
    "#lmd = [0.0001, 0.001, 0.01, 0.1, 1.0, 10]\n",
    "epochs = [1, 10, 50, 100]\n",
    "batchsize = [1]\n",
    "\n",
    "# Om vi skal bruke elu så må vi tweeke alpha i tilegg.\n",
    "\n",
    "\n",
    "for epoch in epochs:\n",
    "    for e in eta:\n",
    "        for batch in batchsize:\n",
    "            ann = NeuralNetMLP(n_hidden=10, \n",
    "                               epochs=epoch, \n",
    "                               eta=e, \n",
    "                               alpha = 0.0001,\n",
    "                               shuffle=True,\n",
    "                               batch_size=batch, \n",
    "                               activation='sigmoid', \n",
    "                               tpe = \"regression\")\n",
    "\n",
    "            ann.fit(X_train, y_train, X_test, y_test)\n",
    "            ann.predict(X_test)\n",
    "            # returns a list of the mean mse score for different epochs or batches\n",
    "            metric.append(ann.eval_[\"valid_preform\"])\n",
    "            print(\"ELU for nr of epochs \"+str(epoch) + \" and eta: \" + str(e) + \"  batchsize = \" + str(batch) +\"   performance is \" + str(np.nanmean(ann.eval_[\"valid_preform\"])))\n",
    "        print(\"---------------------------\")"
   ]
  },
  {
   "cell_type": "markdown",
   "metadata": {},
   "source": [
    "# Performance with 5 neurons"
   ]
  },
  {
   "cell_type": "code",
   "execution_count": 21,
   "metadata": {},
   "outputs": [
    {
     "name": "stdout",
     "output_type": "stream",
     "text": [
      "ELU for nr of epochs 1 and eta: 0.0001  batchsize = 1   performance is 0.19290120272586073\n",
      "---------------------------\n",
      "ELU for nr of epochs 1 and eta: 0.001  batchsize = 1   performance is 0.13747038903084544\n",
      "---------------------------\n",
      "ELU for nr of epochs 1 and eta: 0.01  batchsize = 1   performance is 0.13782926760583414\n",
      "---------------------------\n",
      "ELU for nr of epochs 1 and eta: 0.1  batchsize = 1   performance is 0.21863717437325492\n",
      "---------------------------\n",
      "ELU for nr of epochs 1 and eta: 1.0  batchsize = 1   performance is 2863.0176969732825\n",
      "---------------------------\n",
      "ELU for nr of epochs 10 and eta: 0.0001  batchsize = 1   performance is 0.1422118117514488\n",
      "---------------------------\n",
      "ELU for nr of epochs 10 and eta: 0.001  batchsize = 1   performance is 0.1377025627708945\n",
      "---------------------------\n",
      "ELU for nr of epochs 10 and eta: 0.01  batchsize = 1   performance is 0.1398838336441726\n",
      "---------------------------\n",
      "ELU for nr of epochs 10 and eta: 0.1  batchsize = 1   performance is 0.15847225600688125\n",
      "---------------------------\n",
      "ELU for nr of epochs 10 and eta: 1.0  batchsize = 1   performance is nan\n",
      "---------------------------\n",
      "ELU for nr of epochs 50 and eta: 0.0001  batchsize = 1   performance is 0.13792503224653638\n",
      "---------------------------\n",
      "ELU for nr of epochs 50 and eta: 0.001  batchsize = 1   performance is 0.13787168944884354\n",
      "---------------------------\n",
      "ELU for nr of epochs 50 and eta: 0.01  batchsize = 1   performance is 0.13910796536433448\n",
      "---------------------------\n",
      "ELU for nr of epochs 50 and eta: 0.1  batchsize = 1   performance is 0.17753253112548614\n",
      "---------------------------\n",
      "ELU for nr of epochs 50 and eta: 1.0  batchsize = 1   performance is nan\n",
      "---------------------------\n",
      "ELU for nr of epochs 100 and eta: 0.0001  batchsize = 1   performance is 0.13778759325097772\n",
      "---------------------------\n",
      "ELU for nr of epochs 100 and eta: 0.001  batchsize = 1   performance is 0.13758057740929444\n",
      "---------------------------\n",
      "ELU for nr of epochs 100 and eta: 0.01  batchsize = 1   performance is 0.14070130729351524\n",
      "---------------------------\n",
      "ELU for nr of epochs 100 and eta: 0.1  batchsize = 1   performance is 0.17735736190018578\n",
      "---------------------------\n",
      "ELU for nr of epochs 100 and eta: 1.0  batchsize = 1   performance is 0.2671035272860969\n",
      "---------------------------\n"
     ]
    }
   ],
   "source": [
    "# Experimental setup\n",
    "metric = []\n",
    "\n",
    "eta = [0.0001, 0.001, 0.01, 0.1, 1.0]\n",
    "#lmd = [0.0001, 0.001, 0.01, 0.1, 1.0, 10]\n",
    "epochs = [1, 10, 50, 100]\n",
    "batchsize = [1]\n",
    "\n",
    "# Om vi skal bruke elu så må vi tweeke alpha i tilegg.\n",
    "\n",
    "\n",
    "for epoch in epochs:\n",
    "    for e in eta:\n",
    "        for batch in batchsize:\n",
    "            ann = NeuralNetMLP(n_hidden=5, \n",
    "                               epochs=epoch, \n",
    "                               eta=e, \n",
    "                               alpha = 0.0001,\n",
    "                               shuffle=True,\n",
    "                               batch_size=batch, \n",
    "                               activation='sigmoid', \n",
    "                               tpe = \"regression\")\n",
    "\n",
    "            ann.fit(X_train, y_train, X_test, y_test)\n",
    "            ann.predict(X_test)\n",
    "            # returns a list of the mean mse score for different epochs or batches\n",
    "            metric.append(ann.eval_[\"valid_preform\"])\n",
    "            print(\"ELU for nr of epochs \"+str(epoch) + \" and eta: \" + str(e) + \"  batchsize = \" + str(batch) +\"   performance is \" + str(np.nanmean(ann.eval_[\"valid_preform\"])))\n",
    "        print(\"---------------------------\")"
   ]
  },
  {
   "cell_type": "code",
   "execution_count": null,
   "metadata": {
    "scrolled": false
   },
   "outputs": [],
   "source": [
    "len(test_m)"
   ]
  },
  {
   "cell_type": "code",
   "execution_count": null,
   "metadata": {},
   "outputs": [],
   "source": [
    "plt.figure(figsize=(10,6))\n",
    "x = np.arange(len(test_m[0]))\n",
    "\n",
    "for i in range(2):\n",
    "    plt.plot(x, test_m[i], label = \"testdata, eta = %.4f\" %eta[i])\n",
    "    plt.plot(x, train_m[i], label = \"traindata, eta = %.4f\" %eta[i])\n",
    "    \n",
    "plt.title(\" Performance of MLPRegressor, sigmoid  \", fontsize = 20)\n",
    "xmin, xmax, ymin, ymax = plt.axis([0,50,0,50])\n",
    "plt.xlabel(\" Epoch \", fontsize=15)\n",
    "plt.ylabel(\"  MSE  \", fontsize=15)\n",
    "plt.legend()\n",
    "plt.savefig(\"./results/figures/MLPRegressor_sigmoid_MSE_50_epochs.png\")"
   ]
  },
  {
   "cell_type": "markdown",
   "metadata": {
    "collapsed": true
   },
   "source": [
    "# Exploding gradients?"
   ]
  },
  {
   "cell_type": "code",
   "execution_count": null,
   "metadata": {},
   "outputs": [],
   "source": [
    "ann = NeuralNetMLP(batch_size=10,\n",
    "                   epochs=50,\n",
    "                   n_hidden=30,\n",
    "                   eta = 0.1,\n",
    "                   activation=\"sigmoid\",\n",
    "                   tpe = \"regression\")\n",
    "\n",
    "ann.fit(X_train, y_train, X_valid, y_valid)\n",
    "ann.predict(X_valid)\n",
    "\n",
    "ann.eval_[\"valid_preform\"], ann.eval_[\"train_preform\"]"
   ]
  },
  {
   "cell_type": "code",
   "execution_count": null,
   "metadata": {},
   "outputs": [],
   "source": []
  },
  {
   "cell_type": "markdown",
   "metadata": {
    "collapsed": true
   },
   "source": [
    "# Comparing to scikitlearn MLPregression"
   ]
  },
  {
   "cell_type": "code",
   "execution_count": 22,
   "metadata": {},
   "outputs": [],
   "source": [
    "from sklearn.neural_network import MLPRegressor\n",
    "from utils import mean_squared_error"
   ]
  },
  {
   "cell_type": "code",
   "execution_count": 32,
   "metadata": {
    "scrolled": false
   },
   "outputs": [
    {
     "name": "stdout",
     "output_type": "stream",
     "text": [
      " for nr nodes:   10 eta : 0.0001 penalty l  0.0001   mse is 45.28235982501334\n",
      " for nr nodes:   10 eta : 0.0001 penalty l  0.001   mse is 45.27609185643172\n",
      " for nr nodes:   10 eta : 0.0001 penalty l  0.01   mse is 45.27837742054369\n",
      " for nr nodes:   10 eta : 0.0001 penalty l  0.1   mse is 45.32869467048834\n",
      " for nr nodes:   10 eta : 0.0001 penalty l  1.0   mse is 45.31525862456218\n",
      " for nr nodes:   10 eta : 0.0001 penalty l  10   mse is 45.299083129186826\n",
      " for nr nodes:   10 eta : 0.001 penalty l  0.0001   mse is 45.20905899652674\n",
      " for nr nodes:   10 eta : 0.001 penalty l  0.001   mse is 45.22069079191869\n",
      " for nr nodes:   10 eta : 0.001 penalty l  0.01   mse is 45.237094655853035\n",
      " for nr nodes:   10 eta : 0.001 penalty l  0.1   mse is 45.24567057196377\n",
      " for nr nodes:   10 eta : 0.001 penalty l  1.0   mse is 45.21839460367592\n",
      " for nr nodes:   10 eta : 0.001 penalty l  10   mse is 45.47477546800019\n",
      " for nr nodes:   10 eta : 0.01 penalty l  0.0001   mse is 46.08555636371623\n",
      " for nr nodes:   10 eta : 0.01 penalty l  0.001   mse is 48.14944578370702\n",
      " for nr nodes:   10 eta : 0.01 penalty l  0.01   mse is 45.356528016794464\n",
      " for nr nodes:   10 eta : 0.01 penalty l  0.1   mse is 45.46756100235401\n",
      " for nr nodes:   10 eta : 0.01 penalty l  1.0   mse is 47.02041771891073\n",
      " for nr nodes:   10 eta : 0.01 penalty l  10   mse is 45.20187492080345\n",
      " for nr nodes:   10 eta : 0.1 penalty l  0.0001   mse is 47.470069433966046\n",
      " for nr nodes:   10 eta : 0.1 penalty l  0.001   mse is 63.42646816279115\n",
      " for nr nodes:   10 eta : 0.1 penalty l  0.01   mse is 45.838590826371174\n",
      " for nr nodes:   10 eta : 0.1 penalty l  0.1   mse is 49.03176022833978\n",
      " for nr nodes:   10 eta : 0.1 penalty l  1.0   mse is 46.69708642700251\n",
      " for nr nodes:   10 eta : 0.1 penalty l  10   mse is 52.89038325264782\n"
     ]
    },
    {
     "name": "stderr",
     "output_type": "stream",
     "text": [
      "/uio/hume/student-u89/hannasv/anaconda3/lib/python3.6/site-packages/sklearn/neural_network/multilayer_perceptron.py:564: ConvergenceWarning: Stochastic Optimizer: Maximum iterations (200) reached and the optimization hasn't converged yet.\n",
      "  % self.max_iter, ConvergenceWarning)\n"
     ]
    },
    {
     "name": "stdout",
     "output_type": "stream",
     "text": [
      " for nr nodes:   10 eta : 1.0 penalty l  0.0001   mse is nan\n"
     ]
    },
    {
     "name": "stderr",
     "output_type": "stream",
     "text": [
      "/uio/hume/student-u89/hannasv/anaconda3/lib/python3.6/site-packages/sklearn/neural_network/multilayer_perceptron.py:564: ConvergenceWarning: Stochastic Optimizer: Maximum iterations (200) reached and the optimization hasn't converged yet.\n",
      "  % self.max_iter, ConvergenceWarning)\n"
     ]
    },
    {
     "name": "stdout",
     "output_type": "stream",
     "text": [
      " for nr nodes:   10 eta : 1.0 penalty l  0.001   mse is nan\n"
     ]
    },
    {
     "name": "stderr",
     "output_type": "stream",
     "text": [
      "/uio/hume/student-u89/hannasv/anaconda3/lib/python3.6/site-packages/sklearn/neural_network/multilayer_perceptron.py:564: ConvergenceWarning: Stochastic Optimizer: Maximum iterations (200) reached and the optimization hasn't converged yet.\n",
      "  % self.max_iter, ConvergenceWarning)\n"
     ]
    },
    {
     "name": "stdout",
     "output_type": "stream",
     "text": [
      " for nr nodes:   10 eta : 1.0 penalty l  0.01   mse is nan\n"
     ]
    },
    {
     "name": "stderr",
     "output_type": "stream",
     "text": [
      "/uio/hume/student-u89/hannasv/anaconda3/lib/python3.6/site-packages/sklearn/neural_network/multilayer_perceptron.py:564: ConvergenceWarning: Stochastic Optimizer: Maximum iterations (200) reached and the optimization hasn't converged yet.\n",
      "  % self.max_iter, ConvergenceWarning)\n"
     ]
    },
    {
     "name": "stdout",
     "output_type": "stream",
     "text": [
      " for nr nodes:   10 eta : 1.0 penalty l  0.1   mse is nan\n"
     ]
    },
    {
     "name": "stderr",
     "output_type": "stream",
     "text": [
      "/uio/hume/student-u89/hannasv/anaconda3/lib/python3.6/site-packages/sklearn/neural_network/multilayer_perceptron.py:564: ConvergenceWarning: Stochastic Optimizer: Maximum iterations (200) reached and the optimization hasn't converged yet.\n",
      "  % self.max_iter, ConvergenceWarning)\n"
     ]
    },
    {
     "name": "stdout",
     "output_type": "stream",
     "text": [
      " for nr nodes:   10 eta : 1.0 penalty l  1.0   mse is nan\n",
      " for nr nodes:   10 eta : 1.0 penalty l  10   mse is 59.07243007589483\n",
      " for nr nodes:   30 eta : 0.0001 penalty l  0.0001   mse is 45.2072806687496\n",
      " for nr nodes:   30 eta : 0.0001 penalty l  0.001   mse is 45.258980869113024\n",
      " for nr nodes:   30 eta : 0.0001 penalty l  0.01   mse is 45.29970557546171\n",
      " for nr nodes:   30 eta : 0.0001 penalty l  0.1   mse is 45.26845078437098\n",
      " for nr nodes:   30 eta : 0.0001 penalty l  1.0   mse is 45.254644652403236\n",
      " for nr nodes:   30 eta : 0.0001 penalty l  10   mse is 45.22886727928217\n",
      " for nr nodes:   30 eta : 0.001 penalty l  0.0001   mse is 45.232433900162654\n",
      " for nr nodes:   30 eta : 0.001 penalty l  0.001   mse is 45.24347303633534\n",
      " for nr nodes:   30 eta : 0.001 penalty l  0.01   mse is 45.21745396053589\n",
      " for nr nodes:   30 eta : 0.001 penalty l  0.1   mse is 45.78438736892228\n",
      " for nr nodes:   30 eta : 0.001 penalty l  1.0   mse is 45.29776328802606\n",
      " for nr nodes:   30 eta : 0.001 penalty l  10   mse is 45.22867579650299\n",
      " for nr nodes:   30 eta : 0.01 penalty l  0.0001   mse is 46.04325323085151\n",
      " for nr nodes:   30 eta : 0.01 penalty l  0.001   mse is 46.50673476060871\n",
      " for nr nodes:   30 eta : 0.01 penalty l  0.01   mse is 46.01919106778914\n",
      " for nr nodes:   30 eta : 0.01 penalty l  0.1   mse is 45.2363709936437\n",
      " for nr nodes:   30 eta : 0.01 penalty l  1.0   mse is 47.50608614620916\n",
      " for nr nodes:   30 eta : 0.01 penalty l  10   mse is 45.71222781201511\n"
     ]
    },
    {
     "name": "stderr",
     "output_type": "stream",
     "text": [
      "/uio/hume/student-u89/hannasv/anaconda3/lib/python3.6/site-packages/sklearn/neural_network/multilayer_perceptron.py:564: ConvergenceWarning: Stochastic Optimizer: Maximum iterations (200) reached and the optimization hasn't converged yet.\n",
      "  % self.max_iter, ConvergenceWarning)\n"
     ]
    },
    {
     "name": "stdout",
     "output_type": "stream",
     "text": [
      " for nr nodes:   30 eta : 0.1 penalty l  0.0001   mse is nan\n"
     ]
    },
    {
     "name": "stderr",
     "output_type": "stream",
     "text": [
      "/uio/hume/student-u89/hannasv/anaconda3/lib/python3.6/site-packages/sklearn/neural_network/multilayer_perceptron.py:564: ConvergenceWarning: Stochastic Optimizer: Maximum iterations (200) reached and the optimization hasn't converged yet.\n",
      "  % self.max_iter, ConvergenceWarning)\n"
     ]
    },
    {
     "name": "stdout",
     "output_type": "stream",
     "text": [
      " for nr nodes:   30 eta : 0.1 penalty l  0.001   mse is nan\n"
     ]
    },
    {
     "name": "stderr",
     "output_type": "stream",
     "text": [
      "/uio/hume/student-u89/hannasv/anaconda3/lib/python3.6/site-packages/sklearn/neural_network/multilayer_perceptron.py:564: ConvergenceWarning: Stochastic Optimizer: Maximum iterations (200) reached and the optimization hasn't converged yet.\n",
      "  % self.max_iter, ConvergenceWarning)\n"
     ]
    },
    {
     "name": "stdout",
     "output_type": "stream",
     "text": [
      " for nr nodes:   30 eta : 0.1 penalty l  0.01   mse is nan\n"
     ]
    },
    {
     "name": "stderr",
     "output_type": "stream",
     "text": [
      "/uio/hume/student-u89/hannasv/anaconda3/lib/python3.6/site-packages/sklearn/neural_network/multilayer_perceptron.py:564: ConvergenceWarning: Stochastic Optimizer: Maximum iterations (200) reached and the optimization hasn't converged yet.\n",
      "  % self.max_iter, ConvergenceWarning)\n"
     ]
    },
    {
     "name": "stdout",
     "output_type": "stream",
     "text": [
      " for nr nodes:   30 eta : 0.1 penalty l  0.1   mse is nan\n",
      " for nr nodes:   30 eta : 0.1 penalty l  1.0   mse is 54.67161780848756\n",
      " for nr nodes:   30 eta : 0.1 penalty l  10   mse is 50.66711636483213\n"
     ]
    },
    {
     "name": "stderr",
     "output_type": "stream",
     "text": [
      "/uio/hume/student-u89/hannasv/anaconda3/lib/python3.6/site-packages/sklearn/neural_network/multilayer_perceptron.py:564: ConvergenceWarning: Stochastic Optimizer: Maximum iterations (200) reached and the optimization hasn't converged yet.\n",
      "  % self.max_iter, ConvergenceWarning)\n"
     ]
    },
    {
     "name": "stdout",
     "output_type": "stream",
     "text": [
      " for nr nodes:   30 eta : 1.0 penalty l  0.0001   mse is nan\n"
     ]
    },
    {
     "name": "stderr",
     "output_type": "stream",
     "text": [
      "/uio/hume/student-u89/hannasv/anaconda3/lib/python3.6/site-packages/sklearn/neural_network/multilayer_perceptron.py:564: ConvergenceWarning: Stochastic Optimizer: Maximum iterations (200) reached and the optimization hasn't converged yet.\n",
      "  % self.max_iter, ConvergenceWarning)\n"
     ]
    },
    {
     "name": "stdout",
     "output_type": "stream",
     "text": [
      " for nr nodes:   30 eta : 1.0 penalty l  0.001   mse is nan\n"
     ]
    },
    {
     "name": "stderr",
     "output_type": "stream",
     "text": [
      "/uio/hume/student-u89/hannasv/anaconda3/lib/python3.6/site-packages/sklearn/neural_network/multilayer_perceptron.py:564: ConvergenceWarning: Stochastic Optimizer: Maximum iterations (200) reached and the optimization hasn't converged yet.\n",
      "  % self.max_iter, ConvergenceWarning)\n"
     ]
    },
    {
     "name": "stdout",
     "output_type": "stream",
     "text": [
      " for nr nodes:   30 eta : 1.0 penalty l  0.01   mse is nan\n"
     ]
    },
    {
     "name": "stderr",
     "output_type": "stream",
     "text": [
      "/uio/hume/student-u89/hannasv/anaconda3/lib/python3.6/site-packages/sklearn/neural_network/multilayer_perceptron.py:564: ConvergenceWarning: Stochastic Optimizer: Maximum iterations (200) reached and the optimization hasn't converged yet.\n",
      "  % self.max_iter, ConvergenceWarning)\n"
     ]
    },
    {
     "name": "stdout",
     "output_type": "stream",
     "text": [
      " for nr nodes:   30 eta : 1.0 penalty l  0.1   mse is nan\n"
     ]
    },
    {
     "name": "stderr",
     "output_type": "stream",
     "text": [
      "/uio/hume/student-u89/hannasv/anaconda3/lib/python3.6/site-packages/sklearn/neural_network/multilayer_perceptron.py:564: ConvergenceWarning: Stochastic Optimizer: Maximum iterations (200) reached and the optimization hasn't converged yet.\n",
      "  % self.max_iter, ConvergenceWarning)\n"
     ]
    },
    {
     "name": "stdout",
     "output_type": "stream",
     "text": [
      " for nr nodes:   30 eta : 1.0 penalty l  1.0   mse is nan\n",
      " for nr nodes:   30 eta : 1.0 penalty l  10   mse is 48.19783036028535\n",
      " for nr nodes:   50 eta : 0.0001 penalty l  0.0001   mse is 45.21105345287795\n",
      " for nr nodes:   50 eta : 0.0001 penalty l  0.001   mse is 45.20737708409501\n",
      " for nr nodes:   50 eta : 0.0001 penalty l  0.01   mse is 45.28074939380891\n",
      " for nr nodes:   50 eta : 0.0001 penalty l  0.1   mse is 45.34820424873189\n",
      " for nr nodes:   50 eta : 0.0001 penalty l  1.0   mse is 45.39538087947466\n",
      " for nr nodes:   50 eta : 0.0001 penalty l  10   mse is 45.38471539447498\n",
      " for nr nodes:   50 eta : 0.001 penalty l  0.0001   mse is 45.20728926347032\n",
      " for nr nodes:   50 eta : 0.001 penalty l  0.001   mse is 45.37254263896045\n",
      " for nr nodes:   50 eta : 0.001 penalty l  0.01   mse is 45.623233636653794\n",
      " for nr nodes:   50 eta : 0.001 penalty l  0.1   mse is 45.20129324423518\n",
      " for nr nodes:   50 eta : 0.001 penalty l  1.0   mse is 45.20299164049076\n",
      " for nr nodes:   50 eta : 0.001 penalty l  10   mse is 45.321777888020094\n",
      " for nr nodes:   50 eta : 0.01 penalty l  0.0001   mse is 45.29500832210064\n",
      " for nr nodes:   50 eta : 0.01 penalty l  0.001   mse is 55.148589315604134\n",
      " for nr nodes:   50 eta : 0.01 penalty l  0.01   mse is 48.42620971011794\n",
      " for nr nodes:   50 eta : 0.01 penalty l  0.1   mse is 45.30864884672707\n",
      " for nr nodes:   50 eta : 0.01 penalty l  1.0   mse is 45.29239852605954\n",
      " for nr nodes:   50 eta : 0.01 penalty l  10   mse is 46.03766961794257\n"
     ]
    },
    {
     "name": "stderr",
     "output_type": "stream",
     "text": [
      "/uio/hume/student-u89/hannasv/anaconda3/lib/python3.6/site-packages/sklearn/neural_network/multilayer_perceptron.py:564: ConvergenceWarning: Stochastic Optimizer: Maximum iterations (200) reached and the optimization hasn't converged yet.\n",
      "  % self.max_iter, ConvergenceWarning)\n"
     ]
    },
    {
     "name": "stdout",
     "output_type": "stream",
     "text": [
      " for nr nodes:   50 eta : 0.1 penalty l  0.0001   mse is nan\n"
     ]
    },
    {
     "name": "stderr",
     "output_type": "stream",
     "text": [
      "/uio/hume/student-u89/hannasv/anaconda3/lib/python3.6/site-packages/sklearn/neural_network/multilayer_perceptron.py:564: ConvergenceWarning: Stochastic Optimizer: Maximum iterations (200) reached and the optimization hasn't converged yet.\n",
      "  % self.max_iter, ConvergenceWarning)\n"
     ]
    },
    {
     "name": "stdout",
     "output_type": "stream",
     "text": [
      " for nr nodes:   50 eta : 0.1 penalty l  0.001   mse is nan\n"
     ]
    },
    {
     "name": "stderr",
     "output_type": "stream",
     "text": [
      "/uio/hume/student-u89/hannasv/anaconda3/lib/python3.6/site-packages/sklearn/neural_network/multilayer_perceptron.py:564: ConvergenceWarning: Stochastic Optimizer: Maximum iterations (200) reached and the optimization hasn't converged yet.\n",
      "  % self.max_iter, ConvergenceWarning)\n"
     ]
    },
    {
     "name": "stdout",
     "output_type": "stream",
     "text": [
      " for nr nodes:   50 eta : 0.1 penalty l  0.01   mse is nan\n"
     ]
    },
    {
     "name": "stderr",
     "output_type": "stream",
     "text": [
      "/uio/hume/student-u89/hannasv/anaconda3/lib/python3.6/site-packages/sklearn/neural_network/multilayer_perceptron.py:564: ConvergenceWarning: Stochastic Optimizer: Maximum iterations (200) reached and the optimization hasn't converged yet.\n",
      "  % self.max_iter, ConvergenceWarning)\n"
     ]
    },
    {
     "name": "stdout",
     "output_type": "stream",
     "text": [
      " for nr nodes:   50 eta : 0.1 penalty l  0.1   mse is nan\n"
     ]
    },
    {
     "name": "stderr",
     "output_type": "stream",
     "text": [
      "/uio/hume/student-u89/hannasv/anaconda3/lib/python3.6/site-packages/sklearn/neural_network/multilayer_perceptron.py:564: ConvergenceWarning: Stochastic Optimizer: Maximum iterations (200) reached and the optimization hasn't converged yet.\n",
      "  % self.max_iter, ConvergenceWarning)\n"
     ]
    },
    {
     "name": "stdout",
     "output_type": "stream",
     "text": [
      " for nr nodes:   50 eta : 0.1 penalty l  1.0   mse is nan\n",
      " for nr nodes:   50 eta : 0.1 penalty l  10   mse is 46.47044122726747\n"
     ]
    },
    {
     "name": "stderr",
     "output_type": "stream",
     "text": [
      "/uio/hume/student-u89/hannasv/anaconda3/lib/python3.6/site-packages/sklearn/neural_network/multilayer_perceptron.py:564: ConvergenceWarning: Stochastic Optimizer: Maximum iterations (200) reached and the optimization hasn't converged yet.\n",
      "  % self.max_iter, ConvergenceWarning)\n"
     ]
    },
    {
     "name": "stdout",
     "output_type": "stream",
     "text": [
      " for nr nodes:   50 eta : 1.0 penalty l  0.0001   mse is nan\n"
     ]
    },
    {
     "name": "stderr",
     "output_type": "stream",
     "text": [
      "/uio/hume/student-u89/hannasv/anaconda3/lib/python3.6/site-packages/sklearn/neural_network/multilayer_perceptron.py:564: ConvergenceWarning: Stochastic Optimizer: Maximum iterations (200) reached and the optimization hasn't converged yet.\n",
      "  % self.max_iter, ConvergenceWarning)\n"
     ]
    },
    {
     "name": "stdout",
     "output_type": "stream",
     "text": [
      " for nr nodes:   50 eta : 1.0 penalty l  0.001   mse is nan\n"
     ]
    },
    {
     "name": "stderr",
     "output_type": "stream",
     "text": [
      "/uio/hume/student-u89/hannasv/anaconda3/lib/python3.6/site-packages/sklearn/neural_network/multilayer_perceptron.py:564: ConvergenceWarning: Stochastic Optimizer: Maximum iterations (200) reached and the optimization hasn't converged yet.\n",
      "  % self.max_iter, ConvergenceWarning)\n"
     ]
    },
    {
     "name": "stdout",
     "output_type": "stream",
     "text": [
      " for nr nodes:   50 eta : 1.0 penalty l  0.01   mse is nan\n"
     ]
    },
    {
     "name": "stderr",
     "output_type": "stream",
     "text": [
      "/uio/hume/student-u89/hannasv/anaconda3/lib/python3.6/site-packages/sklearn/neural_network/multilayer_perceptron.py:564: ConvergenceWarning: Stochastic Optimizer: Maximum iterations (200) reached and the optimization hasn't converged yet.\n",
      "  % self.max_iter, ConvergenceWarning)\n"
     ]
    },
    {
     "name": "stdout",
     "output_type": "stream",
     "text": [
      " for nr nodes:   50 eta : 1.0 penalty l  0.1   mse is nan\n"
     ]
    },
    {
     "name": "stderr",
     "output_type": "stream",
     "text": [
      "/uio/hume/student-u89/hannasv/anaconda3/lib/python3.6/site-packages/sklearn/neural_network/multilayer_perceptron.py:564: ConvergenceWarning: Stochastic Optimizer: Maximum iterations (200) reached and the optimization hasn't converged yet.\n",
      "  % self.max_iter, ConvergenceWarning)\n"
     ]
    },
    {
     "name": "stdout",
     "output_type": "stream",
     "text": [
      " for nr nodes:   50 eta : 1.0 penalty l  1.0   mse is nan\n",
      " for nr nodes:   50 eta : 1.0 penalty l  10   mse is 47.26953348052187\n",
      " for nr nodes:   100 eta : 0.0001 penalty l  0.0001   mse is 45.484149168019044\n",
      " for nr nodes:   100 eta : 0.0001 penalty l  0.001   mse is 45.2075989763467\n",
      " for nr nodes:   100 eta : 0.0001 penalty l  0.01   mse is 45.353004033872125\n",
      " for nr nodes:   100 eta : 0.0001 penalty l  0.1   mse is 45.39416538632533\n",
      " for nr nodes:   100 eta : 0.0001 penalty l  1.0   mse is 45.306281659661494\n",
      " for nr nodes:   100 eta : 0.0001 penalty l  10   mse is 45.37117271509164\n",
      " for nr nodes:   100 eta : 0.001 penalty l  0.0001   mse is 45.44187192917479\n",
      " for nr nodes:   100 eta : 0.001 penalty l  0.001   mse is 45.328553527994586\n",
      " for nr nodes:   100 eta : 0.001 penalty l  0.01   mse is 45.60726955974989\n",
      " for nr nodes:   100 eta : 0.001 penalty l  0.1   mse is 47.09627000437789\n",
      " for nr nodes:   100 eta : 0.001 penalty l  1.0   mse is 46.01167608072215\n",
      " for nr nodes:   100 eta : 0.001 penalty l  10   mse is 45.65885779272791\n",
      " for nr nodes:   100 eta : 0.01 penalty l  0.0001   mse is 48.756664205640064\n",
      " for nr nodes:   100 eta : 0.01 penalty l  0.001   mse is 72.27608751447153\n",
      " for nr nodes:   100 eta : 0.01 penalty l  0.01   mse is 45.251958392745834\n",
      " for nr nodes:   100 eta : 0.01 penalty l  0.1   mse is 83.91354080080178\n",
      " for nr nodes:   100 eta : 0.01 penalty l  1.0   mse is 48.14280866024726\n",
      " for nr nodes:   100 eta : 0.01 penalty l  10   mse is 56.934168890927815\n"
     ]
    },
    {
     "name": "stderr",
     "output_type": "stream",
     "text": [
      "/uio/hume/student-u89/hannasv/anaconda3/lib/python3.6/site-packages/sklearn/neural_network/multilayer_perceptron.py:564: ConvergenceWarning: Stochastic Optimizer: Maximum iterations (200) reached and the optimization hasn't converged yet.\n",
      "  % self.max_iter, ConvergenceWarning)\n"
     ]
    },
    {
     "name": "stdout",
     "output_type": "stream",
     "text": [
      " for nr nodes:   100 eta : 0.1 penalty l  0.0001   mse is nan\n"
     ]
    },
    {
     "name": "stderr",
     "output_type": "stream",
     "text": [
      "/uio/hume/student-u89/hannasv/anaconda3/lib/python3.6/site-packages/sklearn/neural_network/multilayer_perceptron.py:564: ConvergenceWarning: Stochastic Optimizer: Maximum iterations (200) reached and the optimization hasn't converged yet.\n",
      "  % self.max_iter, ConvergenceWarning)\n"
     ]
    },
    {
     "name": "stdout",
     "output_type": "stream",
     "text": [
      " for nr nodes:   100 eta : 0.1 penalty l  0.001   mse is nan\n"
     ]
    },
    {
     "name": "stderr",
     "output_type": "stream",
     "text": [
      "/uio/hume/student-u89/hannasv/anaconda3/lib/python3.6/site-packages/sklearn/neural_network/multilayer_perceptron.py:564: ConvergenceWarning: Stochastic Optimizer: Maximum iterations (200) reached and the optimization hasn't converged yet.\n",
      "  % self.max_iter, ConvergenceWarning)\n"
     ]
    },
    {
     "name": "stdout",
     "output_type": "stream",
     "text": [
      " for nr nodes:   100 eta : 0.1 penalty l  0.01   mse is nan\n"
     ]
    },
    {
     "name": "stderr",
     "output_type": "stream",
     "text": [
      "/uio/hume/student-u89/hannasv/anaconda3/lib/python3.6/site-packages/sklearn/neural_network/multilayer_perceptron.py:564: ConvergenceWarning: Stochastic Optimizer: Maximum iterations (200) reached and the optimization hasn't converged yet.\n",
      "  % self.max_iter, ConvergenceWarning)\n"
     ]
    },
    {
     "name": "stdout",
     "output_type": "stream",
     "text": [
      " for nr nodes:   100 eta : 0.1 penalty l  0.1   mse is nan\n"
     ]
    },
    {
     "name": "stderr",
     "output_type": "stream",
     "text": [
      "/uio/hume/student-u89/hannasv/anaconda3/lib/python3.6/site-packages/sklearn/neural_network/multilayer_perceptron.py:564: ConvergenceWarning: Stochastic Optimizer: Maximum iterations (200) reached and the optimization hasn't converged yet.\n",
      "  % self.max_iter, ConvergenceWarning)\n"
     ]
    },
    {
     "name": "stdout",
     "output_type": "stream",
     "text": [
      " for nr nodes:   100 eta : 0.1 penalty l  1.0   mse is nan\n"
     ]
    },
    {
     "name": "stderr",
     "output_type": "stream",
     "text": [
      "/uio/hume/student-u89/hannasv/anaconda3/lib/python3.6/site-packages/sklearn/neural_network/multilayer_perceptron.py:564: ConvergenceWarning: Stochastic Optimizer: Maximum iterations (200) reached and the optimization hasn't converged yet.\n",
      "  % self.max_iter, ConvergenceWarning)\n"
     ]
    },
    {
     "name": "stdout",
     "output_type": "stream",
     "text": [
      " for nr nodes:   100 eta : 0.1 penalty l  10   mse is nan\n"
     ]
    },
    {
     "name": "stderr",
     "output_type": "stream",
     "text": [
      "/uio/hume/student-u89/hannasv/anaconda3/lib/python3.6/site-packages/sklearn/neural_network/multilayer_perceptron.py:564: ConvergenceWarning: Stochastic Optimizer: Maximum iterations (200) reached and the optimization hasn't converged yet.\n",
      "  % self.max_iter, ConvergenceWarning)\n"
     ]
    },
    {
     "name": "stdout",
     "output_type": "stream",
     "text": [
      " for nr nodes:   100 eta : 1.0 penalty l  0.0001   mse is nan\n"
     ]
    },
    {
     "name": "stderr",
     "output_type": "stream",
     "text": [
      "/uio/hume/student-u89/hannasv/anaconda3/lib/python3.6/site-packages/sklearn/neural_network/multilayer_perceptron.py:564: ConvergenceWarning: Stochastic Optimizer: Maximum iterations (200) reached and the optimization hasn't converged yet.\n",
      "  % self.max_iter, ConvergenceWarning)\n"
     ]
    },
    {
     "name": "stdout",
     "output_type": "stream",
     "text": [
      " for nr nodes:   100 eta : 1.0 penalty l  0.001   mse is nan\n"
     ]
    },
    {
     "name": "stderr",
     "output_type": "stream",
     "text": [
      "/uio/hume/student-u89/hannasv/anaconda3/lib/python3.6/site-packages/sklearn/neural_network/multilayer_perceptron.py:564: ConvergenceWarning: Stochastic Optimizer: Maximum iterations (200) reached and the optimization hasn't converged yet.\n",
      "  % self.max_iter, ConvergenceWarning)\n"
     ]
    },
    {
     "name": "stdout",
     "output_type": "stream",
     "text": [
      " for nr nodes:   100 eta : 1.0 penalty l  0.01   mse is nan\n"
     ]
    },
    {
     "name": "stderr",
     "output_type": "stream",
     "text": [
      "/uio/hume/student-u89/hannasv/anaconda3/lib/python3.6/site-packages/sklearn/neural_network/multilayer_perceptron.py:564: ConvergenceWarning: Stochastic Optimizer: Maximum iterations (200) reached and the optimization hasn't converged yet.\n",
      "  % self.max_iter, ConvergenceWarning)\n"
     ]
    },
    {
     "name": "stdout",
     "output_type": "stream",
     "text": [
      " for nr nodes:   100 eta : 1.0 penalty l  0.1   mse is nan\n"
     ]
    },
    {
     "name": "stderr",
     "output_type": "stream",
     "text": [
      "/uio/hume/student-u89/hannasv/anaconda3/lib/python3.6/site-packages/sklearn/neural_network/multilayer_perceptron.py:564: ConvergenceWarning: Stochastic Optimizer: Maximum iterations (200) reached and the optimization hasn't converged yet.\n",
      "  % self.max_iter, ConvergenceWarning)\n"
     ]
    },
    {
     "name": "stdout",
     "output_type": "stream",
     "text": [
      " for nr nodes:   100 eta : 1.0 penalty l  1.0   mse is nan\n",
      " for nr nodes:   100 eta : 1.0 penalty l  10   mse is 134.81167268715743\n",
      " for nr nodes:   500 eta : 0.0001 penalty l  0.0001   mse is 45.39024484746799\n",
      " for nr nodes:   500 eta : 0.0001 penalty l  0.001   mse is 45.28034248050086\n",
      " for nr nodes:   500 eta : 0.0001 penalty l  0.01   mse is 45.19910914294125\n",
      " for nr nodes:   500 eta : 0.0001 penalty l  0.1   mse is 46.29838414312053\n",
      " for nr nodes:   500 eta : 0.0001 penalty l  1.0   mse is 45.62904153358959\n",
      " for nr nodes:   500 eta : 0.0001 penalty l  10   mse is 45.21302131782577\n",
      " for nr nodes:   500 eta : 0.001 penalty l  0.0001   mse is 49.80359781794127\n",
      " for nr nodes:   500 eta : 0.001 penalty l  0.001   mse is 45.201040006628716\n",
      " for nr nodes:   500 eta : 0.001 penalty l  0.01   mse is 49.30923285286054\n",
      " for nr nodes:   500 eta : 0.001 penalty l  0.1   mse is 48.29965763509984\n",
      " for nr nodes:   500 eta : 0.001 penalty l  1.0   mse is 49.823817105821846\n",
      " for nr nodes:   500 eta : 0.001 penalty l  10   mse is 45.26857639596449\n"
     ]
    },
    {
     "name": "stderr",
     "output_type": "stream",
     "text": [
      "/uio/hume/student-u89/hannasv/anaconda3/lib/python3.6/site-packages/sklearn/neural_network/multilayer_perceptron.py:564: ConvergenceWarning: Stochastic Optimizer: Maximum iterations (200) reached and the optimization hasn't converged yet.\n",
      "  % self.max_iter, ConvergenceWarning)\n"
     ]
    },
    {
     "name": "stdout",
     "output_type": "stream",
     "text": [
      " for nr nodes:   500 eta : 0.01 penalty l  0.0001   mse is nan\n"
     ]
    },
    {
     "name": "stderr",
     "output_type": "stream",
     "text": [
      "/uio/hume/student-u89/hannasv/anaconda3/lib/python3.6/site-packages/sklearn/neural_network/multilayer_perceptron.py:564: ConvergenceWarning: Stochastic Optimizer: Maximum iterations (200) reached and the optimization hasn't converged yet.\n",
      "  % self.max_iter, ConvergenceWarning)\n"
     ]
    },
    {
     "name": "stdout",
     "output_type": "stream",
     "text": [
      " for nr nodes:   500 eta : 0.01 penalty l  0.001   mse is nan\n"
     ]
    },
    {
     "name": "stderr",
     "output_type": "stream",
     "text": [
      "/uio/hume/student-u89/hannasv/anaconda3/lib/python3.6/site-packages/sklearn/neural_network/multilayer_perceptron.py:564: ConvergenceWarning: Stochastic Optimizer: Maximum iterations (200) reached and the optimization hasn't converged yet.\n",
      "  % self.max_iter, ConvergenceWarning)\n"
     ]
    },
    {
     "name": "stdout",
     "output_type": "stream",
     "text": [
      " for nr nodes:   500 eta : 0.01 penalty l  0.01   mse is nan\n"
     ]
    },
    {
     "name": "stderr",
     "output_type": "stream",
     "text": [
      "/uio/hume/student-u89/hannasv/anaconda3/lib/python3.6/site-packages/sklearn/neural_network/multilayer_perceptron.py:564: ConvergenceWarning: Stochastic Optimizer: Maximum iterations (200) reached and the optimization hasn't converged yet.\n",
      "  % self.max_iter, ConvergenceWarning)\n"
     ]
    },
    {
     "name": "stdout",
     "output_type": "stream",
     "text": [
      " for nr nodes:   500 eta : 0.01 penalty l  0.1   mse is nan\n"
     ]
    },
    {
     "name": "stderr",
     "output_type": "stream",
     "text": [
      "/uio/hume/student-u89/hannasv/anaconda3/lib/python3.6/site-packages/sklearn/neural_network/multilayer_perceptron.py:564: ConvergenceWarning: Stochastic Optimizer: Maximum iterations (200) reached and the optimization hasn't converged yet.\n",
      "  % self.max_iter, ConvergenceWarning)\n"
     ]
    },
    {
     "name": "stdout",
     "output_type": "stream",
     "text": [
      " for nr nodes:   500 eta : 0.01 penalty l  1.0   mse is nan\n"
     ]
    },
    {
     "name": "stderr",
     "output_type": "stream",
     "text": [
      "/uio/hume/student-u89/hannasv/anaconda3/lib/python3.6/site-packages/sklearn/neural_network/multilayer_perceptron.py:564: ConvergenceWarning: Stochastic Optimizer: Maximum iterations (200) reached and the optimization hasn't converged yet.\n",
      "  % self.max_iter, ConvergenceWarning)\n"
     ]
    },
    {
     "name": "stdout",
     "output_type": "stream",
     "text": [
      " for nr nodes:   500 eta : 0.01 penalty l  10   mse is nan\n"
     ]
    },
    {
     "name": "stderr",
     "output_type": "stream",
     "text": [
      "/uio/hume/student-u89/hannasv/anaconda3/lib/python3.6/site-packages/sklearn/neural_network/multilayer_perceptron.py:564: ConvergenceWarning: Stochastic Optimizer: Maximum iterations (200) reached and the optimization hasn't converged yet.\n",
      "  % self.max_iter, ConvergenceWarning)\n"
     ]
    },
    {
     "name": "stdout",
     "output_type": "stream",
     "text": [
      " for nr nodes:   500 eta : 0.1 penalty l  0.0001   mse is nan\n"
     ]
    },
    {
     "name": "stderr",
     "output_type": "stream",
     "text": [
      "/uio/hume/student-u89/hannasv/anaconda3/lib/python3.6/site-packages/sklearn/neural_network/multilayer_perceptron.py:564: ConvergenceWarning: Stochastic Optimizer: Maximum iterations (200) reached and the optimization hasn't converged yet.\n",
      "  % self.max_iter, ConvergenceWarning)\n"
     ]
    },
    {
     "name": "stdout",
     "output_type": "stream",
     "text": [
      " for nr nodes:   500 eta : 0.1 penalty l  0.001   mse is nan\n"
     ]
    },
    {
     "name": "stderr",
     "output_type": "stream",
     "text": [
      "/uio/hume/student-u89/hannasv/anaconda3/lib/python3.6/site-packages/sklearn/neural_network/multilayer_perceptron.py:564: ConvergenceWarning: Stochastic Optimizer: Maximum iterations (200) reached and the optimization hasn't converged yet.\n",
      "  % self.max_iter, ConvergenceWarning)\n"
     ]
    },
    {
     "name": "stdout",
     "output_type": "stream",
     "text": [
      " for nr nodes:   500 eta : 0.1 penalty l  0.01   mse is nan\n"
     ]
    },
    {
     "name": "stderr",
     "output_type": "stream",
     "text": [
      "/uio/hume/student-u89/hannasv/anaconda3/lib/python3.6/site-packages/sklearn/neural_network/multilayer_perceptron.py:564: ConvergenceWarning: Stochastic Optimizer: Maximum iterations (200) reached and the optimization hasn't converged yet.\n",
      "  % self.max_iter, ConvergenceWarning)\n"
     ]
    },
    {
     "name": "stdout",
     "output_type": "stream",
     "text": [
      " for nr nodes:   500 eta : 0.1 penalty l  0.1   mse is nan\n"
     ]
    },
    {
     "name": "stderr",
     "output_type": "stream",
     "text": [
      "/uio/hume/student-u89/hannasv/anaconda3/lib/python3.6/site-packages/sklearn/neural_network/multilayer_perceptron.py:564: ConvergenceWarning: Stochastic Optimizer: Maximum iterations (200) reached and the optimization hasn't converged yet.\n",
      "  % self.max_iter, ConvergenceWarning)\n"
     ]
    },
    {
     "name": "stdout",
     "output_type": "stream",
     "text": [
      " for nr nodes:   500 eta : 0.1 penalty l  1.0   mse is nan\n"
     ]
    },
    {
     "name": "stderr",
     "output_type": "stream",
     "text": [
      "/uio/hume/student-u89/hannasv/anaconda3/lib/python3.6/site-packages/sklearn/neural_network/multilayer_perceptron.py:564: ConvergenceWarning: Stochastic Optimizer: Maximum iterations (200) reached and the optimization hasn't converged yet.\n",
      "  % self.max_iter, ConvergenceWarning)\n"
     ]
    },
    {
     "name": "stdout",
     "output_type": "stream",
     "text": [
      " for nr nodes:   500 eta : 0.1 penalty l  10   mse is nan\n"
     ]
    },
    {
     "name": "stderr",
     "output_type": "stream",
     "text": [
      "/uio/hume/student-u89/hannasv/anaconda3/lib/python3.6/site-packages/sklearn/neural_network/multilayer_perceptron.py:564: ConvergenceWarning: Stochastic Optimizer: Maximum iterations (200) reached and the optimization hasn't converged yet.\n",
      "  % self.max_iter, ConvergenceWarning)\n"
     ]
    },
    {
     "name": "stdout",
     "output_type": "stream",
     "text": [
      " for nr nodes:   500 eta : 1.0 penalty l  0.0001   mse is nan\n"
     ]
    },
    {
     "name": "stderr",
     "output_type": "stream",
     "text": [
      "/uio/hume/student-u89/hannasv/anaconda3/lib/python3.6/site-packages/sklearn/neural_network/multilayer_perceptron.py:564: ConvergenceWarning: Stochastic Optimizer: Maximum iterations (200) reached and the optimization hasn't converged yet.\n",
      "  % self.max_iter, ConvergenceWarning)\n"
     ]
    },
    {
     "name": "stdout",
     "output_type": "stream",
     "text": [
      " for nr nodes:   500 eta : 1.0 penalty l  0.001   mse is nan\n"
     ]
    },
    {
     "name": "stderr",
     "output_type": "stream",
     "text": [
      "/uio/hume/student-u89/hannasv/anaconda3/lib/python3.6/site-packages/sklearn/neural_network/multilayer_perceptron.py:564: ConvergenceWarning: Stochastic Optimizer: Maximum iterations (200) reached and the optimization hasn't converged yet.\n",
      "  % self.max_iter, ConvergenceWarning)\n"
     ]
    },
    {
     "name": "stdout",
     "output_type": "stream",
     "text": [
      " for nr nodes:   500 eta : 1.0 penalty l  0.01   mse is nan\n"
     ]
    },
    {
     "name": "stderr",
     "output_type": "stream",
     "text": [
      "/uio/hume/student-u89/hannasv/anaconda3/lib/python3.6/site-packages/sklearn/neural_network/multilayer_perceptron.py:564: ConvergenceWarning: Stochastic Optimizer: Maximum iterations (200) reached and the optimization hasn't converged yet.\n",
      "  % self.max_iter, ConvergenceWarning)\n"
     ]
    },
    {
     "name": "stdout",
     "output_type": "stream",
     "text": [
      " for nr nodes:   500 eta : 1.0 penalty l  0.1   mse is nan\n"
     ]
    },
    {
     "name": "stderr",
     "output_type": "stream",
     "text": [
      "/uio/hume/student-u89/hannasv/anaconda3/lib/python3.6/site-packages/sklearn/neural_network/multilayer_perceptron.py:564: ConvergenceWarning: Stochastic Optimizer: Maximum iterations (200) reached and the optimization hasn't converged yet.\n",
      "  % self.max_iter, ConvergenceWarning)\n"
     ]
    },
    {
     "name": "stdout",
     "output_type": "stream",
     "text": [
      " for nr nodes:   500 eta : 1.0 penalty l  1.0   mse is nan\n",
      " for nr nodes:   500 eta : 1.0 penalty l  10   mse is 47.04548228108013\n"
     ]
    }
   ],
   "source": [
    "n_nodes = [10,30,50,100, 500]\n",
    "eta = [0.0001, 0.001, 0.01, 0.1, 1.0]\n",
    "lmd = [0.0001, 0.001, 0.01, 0.1, 1.0, 10]\n",
    "\n",
    "for n in n_nodes:\n",
    "    for e in eta:\n",
    "        for l in lmd:\n",
    "            mlp = MLPRegressor(hidden_layer_sizes=(n, ), \n",
    "                               activation = 'logistic', # this is the sigmoid activation function\n",
    "                               solver = \"sgd\", \n",
    "                               alpha = l, \n",
    "                               batch_size =10, \n",
    "                               learning_rate_init=e)\n",
    "\n",
    "            mlp.fit(X_train, y_train)\n",
    "            y_pred = mlp.predict(X_test)\n",
    "            #logistic activation uses the sigmoid function \n",
    "            mse = mean_squared_error(y_pred, y_test)\n",
    "            print(\" for nr nodes:   \" + str(n) + \" eta : \" + str(e) + \" penalty l  \" + str(l) + \"   mse is \" + str(mse))"
   ]
  },
  {
   "cell_type": "markdown",
   "metadata": {},
   "source": [
    "# Testing adam optimizer --> Converges everytime, not better results tho"
   ]
  },
  {
   "cell_type": "code",
   "execution_count": 33,
   "metadata": {
    "scrolled": false
   },
   "outputs": [
    {
     "name": "stdout",
     "output_type": "stream",
     "text": [
      " for nr nodes:   10 eta : 0.0001 penalty l  0.0001   mse is 45.373028928000636\n",
      " for nr nodes:   10 eta : 0.0001 penalty l  0.001   mse is 46.790845347155745\n",
      " for nr nodes:   10 eta : 0.0001 penalty l  0.01   mse is 45.306195905067604\n",
      " for nr nodes:   10 eta : 0.0001 penalty l  0.1   mse is 47.11456317774389\n",
      " for nr nodes:   10 eta : 0.0001 penalty l  1.0   mse is 46.39152481277635\n",
      " for nr nodes:   10 eta : 0.0001 penalty l  10   mse is 46.422861923336974\n",
      " for nr nodes:   10 eta : 0.001 penalty l  0.0001   mse is 45.3863877977941\n",
      " for nr nodes:   10 eta : 0.001 penalty l  0.001   mse is 45.28696605337305\n",
      " for nr nodes:   10 eta : 0.001 penalty l  0.01   mse is 45.289459583545224\n",
      " for nr nodes:   10 eta : 0.001 penalty l  0.1   mse is 45.262205747144485\n",
      " for nr nodes:   10 eta : 0.001 penalty l  1.0   mse is 45.379169578739074\n",
      " for nr nodes:   10 eta : 0.001 penalty l  10   mse is 45.61156267328043\n",
      " for nr nodes:   10 eta : 0.01 penalty l  0.0001   mse is 45.202582385961385\n",
      " for nr nodes:   10 eta : 0.01 penalty l  0.001   mse is 45.43528797926523\n",
      " for nr nodes:   10 eta : 0.01 penalty l  0.01   mse is 45.28189868279545\n",
      " for nr nodes:   10 eta : 0.01 penalty l  0.1   mse is 45.21755905362925\n",
      " for nr nodes:   10 eta : 0.01 penalty l  1.0   mse is 45.339930148137796\n",
      " for nr nodes:   10 eta : 0.01 penalty l  10   mse is 45.20609201468062\n",
      " for nr nodes:   10 eta : 0.1 penalty l  0.0001   mse is 45.2015691930235\n",
      " for nr nodes:   10 eta : 0.1 penalty l  0.001   mse is 45.31083143185314\n",
      " for nr nodes:   10 eta : 0.1 penalty l  0.01   mse is 46.74451167148194\n",
      " for nr nodes:   10 eta : 0.1 penalty l  0.1   mse is 45.58929418137358\n",
      " for nr nodes:   10 eta : 0.1 penalty l  1.0   mse is 47.77924945125112\n",
      " for nr nodes:   10 eta : 0.1 penalty l  10   mse is 45.2984538696516\n",
      " for nr nodes:   10 eta : 1.0 penalty l  0.0001   mse is 45.65800586097131\n",
      " for nr nodes:   10 eta : 1.0 penalty l  0.001   mse is 45.380993992562814\n",
      " for nr nodes:   10 eta : 1.0 penalty l  0.01   mse is 45.78068595842201\n",
      " for nr nodes:   10 eta : 1.0 penalty l  0.1   mse is 46.86472489349985\n",
      " for nr nodes:   10 eta : 1.0 penalty l  1.0   mse is 60.39414696777515\n",
      " for nr nodes:   10 eta : 1.0 penalty l  10   mse is 46.56324539160001\n",
      " for nr nodes:   30 eta : 0.0001 penalty l  0.0001   mse is 45.39183514901717\n",
      " for nr nodes:   30 eta : 0.0001 penalty l  0.001   mse is 45.702519989237345\n",
      " for nr nodes:   30 eta : 0.0001 penalty l  0.01   mse is 45.538093276973065\n",
      " for nr nodes:   30 eta : 0.0001 penalty l  0.1   mse is 45.75963632387343\n",
      " for nr nodes:   30 eta : 0.0001 penalty l  1.0   mse is 45.40103850731611\n",
      " for nr nodes:   30 eta : 0.0001 penalty l  10   mse is 45.567459575240434\n",
      " for nr nodes:   30 eta : 0.001 penalty l  0.0001   mse is 45.232940773655415\n",
      " for nr nodes:   30 eta : 0.001 penalty l  0.001   mse is 45.37410344668415\n",
      " for nr nodes:   30 eta : 0.001 penalty l  0.01   mse is 45.282055884089225\n",
      " for nr nodes:   30 eta : 0.001 penalty l  0.1   mse is 45.30404260877356\n",
      " for nr nodes:   30 eta : 0.001 penalty l  1.0   mse is 45.237511640172656\n",
      " for nr nodes:   30 eta : 0.001 penalty l  10   mse is 45.459815222047254\n",
      " for nr nodes:   30 eta : 0.01 penalty l  0.0001   mse is 45.787324910716414\n",
      " for nr nodes:   30 eta : 0.01 penalty l  0.001   mse is 45.199197806594725\n",
      " for nr nodes:   30 eta : 0.01 penalty l  0.01   mse is 45.38184207415468\n",
      " for nr nodes:   30 eta : 0.01 penalty l  0.1   mse is 45.2016083488317\n",
      " for nr nodes:   30 eta : 0.01 penalty l  1.0   mse is 45.62017618602255\n",
      " for nr nodes:   30 eta : 0.01 penalty l  10   mse is 45.84938988905083\n",
      " for nr nodes:   30 eta : 0.1 penalty l  0.0001   mse is 45.3521292536376\n",
      " for nr nodes:   30 eta : 0.1 penalty l  0.001   mse is 45.362075790367136\n",
      " for nr nodes:   30 eta : 0.1 penalty l  0.01   mse is 49.94292338374626\n",
      " for nr nodes:   30 eta : 0.1 penalty l  0.1   mse is 45.6638539161682\n",
      " for nr nodes:   30 eta : 0.1 penalty l  1.0   mse is 45.591590013387055\n",
      " for nr nodes:   30 eta : 0.1 penalty l  10   mse is 45.20027289831945\n",
      " for nr nodes:   30 eta : 1.0 penalty l  0.0001   mse is 54.61594565966805\n",
      " for nr nodes:   30 eta : 1.0 penalty l  0.001   mse is 82.08801297467703\n",
      " for nr nodes:   30 eta : 1.0 penalty l  0.01   mse is 48.6882182780447\n",
      " for nr nodes:   30 eta : 1.0 penalty l  0.1   mse is 45.21914460405883\n",
      " for nr nodes:   30 eta : 1.0 penalty l  1.0   mse is 46.25830025564053\n",
      " for nr nodes:   30 eta : 1.0 penalty l  10   mse is 45.334087036869505\n",
      " for nr nodes:   50 eta : 0.0001 penalty l  0.0001   mse is 45.538083965770966\n",
      " for nr nodes:   50 eta : 0.0001 penalty l  0.001   mse is 45.59507902674946\n",
      " for nr nodes:   50 eta : 0.0001 penalty l  0.01   mse is 45.28602677702769\n",
      " for nr nodes:   50 eta : 0.0001 penalty l  0.1   mse is 45.42296089572653\n",
      " for nr nodes:   50 eta : 0.0001 penalty l  1.0   mse is 46.00517732936215\n",
      " for nr nodes:   50 eta : 0.0001 penalty l  10   mse is 45.47662972802798\n",
      " for nr nodes:   50 eta : 0.001 penalty l  0.0001   mse is 45.26195779574035\n",
      " for nr nodes:   50 eta : 0.001 penalty l  0.001   mse is 45.40128675091376\n",
      " for nr nodes:   50 eta : 0.001 penalty l  0.01   mse is 45.24803639207177\n",
      " for nr nodes:   50 eta : 0.001 penalty l  0.1   mse is 45.30142521563255\n",
      " for nr nodes:   50 eta : 0.001 penalty l  1.0   mse is 45.48974887108081\n",
      " for nr nodes:   50 eta : 0.001 penalty l  10   mse is 45.26255420152572\n",
      " for nr nodes:   50 eta : 0.01 penalty l  0.0001   mse is 45.25294465857764\n",
      " for nr nodes:   50 eta : 0.01 penalty l  0.001   mse is 45.246684525193714\n",
      " for nr nodes:   50 eta : 0.01 penalty l  0.01   mse is 45.29432959067456\n",
      " for nr nodes:   50 eta : 0.01 penalty l  0.1   mse is 45.29322384933421\n",
      " for nr nodes:   50 eta : 0.01 penalty l  1.0   mse is 45.635968952796915\n",
      " for nr nodes:   50 eta : 0.01 penalty l  10   mse is 45.21508944856851\n",
      " for nr nodes:   50 eta : 0.1 penalty l  0.0001   mse is 45.78236478421083\n",
      " for nr nodes:   50 eta : 0.1 penalty l  0.001   mse is 49.38661720480714\n",
      " for nr nodes:   50 eta : 0.1 penalty l  0.01   mse is 48.54738298806787\n",
      " for nr nodes:   50 eta : 0.1 penalty l  0.1   mse is 45.52462241609008\n",
      " for nr nodes:   50 eta : 0.1 penalty l  1.0   mse is 45.53416210056309\n",
      " for nr nodes:   50 eta : 0.1 penalty l  10   mse is 45.20504517285233\n",
      " for nr nodes:   50 eta : 1.0 penalty l  0.0001   mse is 50.8981082074229\n",
      " for nr nodes:   50 eta : 1.0 penalty l  0.001   mse is 89.95675901034225\n",
      " for nr nodes:   50 eta : 1.0 penalty l  0.01   mse is 49.249923209317224\n",
      " for nr nodes:   50 eta : 1.0 penalty l  0.1   mse is 86.2587233925321\n",
      " for nr nodes:   50 eta : 1.0 penalty l  1.0   mse is 64.01674793079269\n",
      " for nr nodes:   50 eta : 1.0 penalty l  10   mse is 89.08734140901883\n",
      " for nr nodes:   100 eta : 0.0001 penalty l  0.0001   mse is 45.49650744985512\n",
      " for nr nodes:   100 eta : 0.0001 penalty l  0.001   mse is 45.46809127984237\n",
      " for nr nodes:   100 eta : 0.0001 penalty l  0.01   mse is 45.478196176919596\n",
      " for nr nodes:   100 eta : 0.0001 penalty l  0.1   mse is 45.33879402585696\n",
      " for nr nodes:   100 eta : 0.0001 penalty l  1.0   mse is 45.339555870623784\n",
      " for nr nodes:   100 eta : 0.0001 penalty l  10   mse is 45.36997475343613\n",
      " for nr nodes:   100 eta : 0.001 penalty l  0.0001   mse is 45.39627712279374\n",
      " for nr nodes:   100 eta : 0.001 penalty l  0.001   mse is 45.33801790421104\n",
      " for nr nodes:   100 eta : 0.001 penalty l  0.01   mse is 45.204202063425306\n",
      " for nr nodes:   100 eta : 0.001 penalty l  0.1   mse is 45.35270885529113\n",
      " for nr nodes:   100 eta : 0.001 penalty l  1.0   mse is 45.38398026107458\n",
      " for nr nodes:   100 eta : 0.001 penalty l  10   mse is 45.85381530053554\n",
      " for nr nodes:   100 eta : 0.01 penalty l  0.0001   mse is 46.01258952230159\n",
      " for nr nodes:   100 eta : 0.01 penalty l  0.001   mse is 45.244826263991825\n",
      " for nr nodes:   100 eta : 0.01 penalty l  0.01   mse is 45.54215253728903\n",
      " for nr nodes:   100 eta : 0.01 penalty l  0.1   mse is 46.4681524377985\n",
      " for nr nodes:   100 eta : 0.01 penalty l  1.0   mse is 45.318036679590705\n",
      " for nr nodes:   100 eta : 0.01 penalty l  10   mse is 45.457247681011076\n",
      " for nr nodes:   100 eta : 0.1 penalty l  0.0001   mse is 46.32840923912122\n",
      " for nr nodes:   100 eta : 0.1 penalty l  0.001   mse is 48.417075855315275\n"
     ]
    },
    {
     "name": "stdout",
     "output_type": "stream",
     "text": [
      " for nr nodes:   100 eta : 0.1 penalty l  0.01   mse is 47.3790662378246\n",
      " for nr nodes:   100 eta : 0.1 penalty l  0.1   mse is 46.81784490130995\n",
      " for nr nodes:   100 eta : 0.1 penalty l  1.0   mse is 45.61315572571533\n",
      " for nr nodes:   100 eta : 0.1 penalty l  10   mse is 51.52674061199963\n",
      " for nr nodes:   100 eta : 1.0 penalty l  0.0001   mse is 59.54545841601985\n",
      " for nr nodes:   100 eta : 1.0 penalty l  0.001   mse is 49.42107671307506\n",
      " for nr nodes:   100 eta : 1.0 penalty l  0.01   mse is 50.381632152702224\n",
      " for nr nodes:   100 eta : 1.0 penalty l  0.1   mse is 58.703410390392186\n",
      " for nr nodes:   100 eta : 1.0 penalty l  1.0   mse is 76.34668290668958\n",
      " for nr nodes:   100 eta : 1.0 penalty l  10   mse is 45.201123388161214\n",
      " for nr nodes:   500 eta : 0.0001 penalty l  0.0001   mse is 45.25586663412331\n",
      " for nr nodes:   500 eta : 0.0001 penalty l  0.001   mse is 45.38037247252661\n",
      " for nr nodes:   500 eta : 0.0001 penalty l  0.01   mse is 45.310122269383925\n",
      " for nr nodes:   500 eta : 0.0001 penalty l  0.1   mse is 45.4089210635769\n",
      " for nr nodes:   500 eta : 0.0001 penalty l  1.0   mse is 45.3423618391795\n",
      " for nr nodes:   500 eta : 0.0001 penalty l  10   mse is 45.420429318154426\n",
      " for nr nodes:   500 eta : 0.001 penalty l  0.0001   mse is 45.31195487029215\n",
      " for nr nodes:   500 eta : 0.001 penalty l  0.001   mse is 45.29021741190646\n",
      " for nr nodes:   500 eta : 0.001 penalty l  0.01   mse is 45.34382031543755\n",
      " for nr nodes:   500 eta : 0.001 penalty l  0.1   mse is 45.46689388150117\n",
      " for nr nodes:   500 eta : 0.001 penalty l  1.0   mse is 45.22923931053845\n",
      " for nr nodes:   500 eta : 0.001 penalty l  10   mse is 45.80268469215546\n",
      " for nr nodes:   500 eta : 0.01 penalty l  0.0001   mse is 45.32567076664438\n",
      " for nr nodes:   500 eta : 0.01 penalty l  0.001   mse is 46.9435584474317\n",
      " for nr nodes:   500 eta : 0.01 penalty l  0.01   mse is 45.918860506950935\n",
      " for nr nodes:   500 eta : 0.01 penalty l  0.1   mse is 46.4960200915103\n",
      " for nr nodes:   500 eta : 0.01 penalty l  1.0   mse is 45.537847073537876\n",
      " for nr nodes:   500 eta : 0.01 penalty l  10   mse is 46.25248249910043\n",
      " for nr nodes:   500 eta : 0.1 penalty l  0.0001   mse is 51.81245802257981\n",
      " for nr nodes:   500 eta : 0.1 penalty l  0.001   mse is 45.929438447884046\n",
      " for nr nodes:   500 eta : 0.1 penalty l  0.01   mse is 54.98370468452113\n",
      " for nr nodes:   500 eta : 0.1 penalty l  0.1   mse is 45.20474455457819\n",
      " for nr nodes:   500 eta : 0.1 penalty l  1.0   mse is 45.53292361010671\n",
      " for nr nodes:   500 eta : 0.1 penalty l  10   mse is 52.28787940815383\n",
      " for nr nodes:   500 eta : 1.0 penalty l  0.0001   mse is 171.26962424609349\n",
      " for nr nodes:   500 eta : 1.0 penalty l  0.001   mse is 55.046662814419435\n",
      " for nr nodes:   500 eta : 1.0 penalty l  0.01   mse is 170.18180916295574\n",
      " for nr nodes:   500 eta : 1.0 penalty l  0.1   mse is 76.74076735147395\n",
      " for nr nodes:   500 eta : 1.0 penalty l  1.0   mse is 46.57149061610709\n",
      " for nr nodes:   500 eta : 1.0 penalty l  10   mse is 45.50332791704605\n"
     ]
    }
   ],
   "source": [
    "n_nodes = [10,30,50,100, 500]\n",
    "eta = [0.0001, 0.001, 0.01, 0.1, 1.0]\n",
    "lmd = [0.0001, 0.001, 0.01, 0.1, 1.0, 10]\n",
    "\n",
    "for n in n_nodes:\n",
    "    for e in eta:\n",
    "        for l in lmd:\n",
    "            mlp = MLPRegressor(hidden_layer_sizes=(n, ), \n",
    "                               activation = 'logistic', # this is the sigmoid activation function\n",
    "                               solver = \"adam\", \n",
    "                               alpha = l, \n",
    "                               batch_size =10, \n",
    "                               learning_rate_init=e)\n",
    "\n",
    "            mlp.fit(X_train, y_train)\n",
    "            y_pred = mlp.predict(X_test)\n",
    "            #logistic activation uses the sigmoid function \n",
    "            mse = mean_squared_error(y_pred, y_test)\n",
    "            print(\" for nr nodes:   \" + str(n) + \" eta : \" + str(e) + \" penalty l  \" + str(l) + \"   mse is \" + str(mse))"
   ]
  },
  {
   "cell_type": "markdown",
   "metadata": {},
   "source": [
    "# Testing RELU activation function "
   ]
  },
  {
   "cell_type": "code",
   "execution_count": null,
   "metadata": {
    "scrolled": false
   },
   "outputs": [
    {
     "name": "stdout",
     "output_type": "stream",
     "text": [
      " for nr nodes:   10 eta : 0.0001 penalty l  0.0001   mse is 9.308603093307949e+23\n",
      " for nr nodes:   10 eta : 0.0001 penalty l  0.001   mse is 1.9802784596634045e+18\n",
      " for nr nodes:   10 eta : 0.0001 penalty l  0.01   mse is 130.95670985343872\n",
      " for nr nodes:   10 eta : 0.0001 penalty l  0.1   mse is 48.79353598916291\n"
     ]
    },
    {
     "name": "stderr",
     "output_type": "stream",
     "text": [
      "/uio/hume/student-u89/hannasv/anaconda3/lib/python3.6/site-packages/sklearn/neural_network/multilayer_perceptron.py:564: ConvergenceWarning: Stochastic Optimizer: Maximum iterations (200) reached and the optimization hasn't converged yet.\n",
      "  % self.max_iter, ConvergenceWarning)\n"
     ]
    },
    {
     "name": "stdout",
     "output_type": "stream",
     "text": [
      " for nr nodes:   10 eta : 0.0001 penalty l  1.0   mse is 45.28680461905824\n",
      " for nr nodes:   10 eta : 0.0001 penalty l  10   mse is 45.2783091138014\n",
      " for nr nodes:   10 eta : 0.001 penalty l  0.0001   mse is 3990899017764778.0\n",
      " for nr nodes:   10 eta : 0.001 penalty l  0.001   mse is 2.9405664378847686e+17\n",
      " for nr nodes:   10 eta : 0.001 penalty l  0.01   mse is 82527217878.32169\n"
     ]
    },
    {
     "name": "stderr",
     "output_type": "stream",
     "text": [
      "/uio/hume/student-u89/hannasv/anaconda3/lib/python3.6/site-packages/sklearn/neural_network/multilayer_perceptron.py:564: ConvergenceWarning: Stochastic Optimizer: Maximum iterations (200) reached and the optimization hasn't converged yet.\n",
      "  % self.max_iter, ConvergenceWarning)\n"
     ]
    },
    {
     "name": "stdout",
     "output_type": "stream",
     "text": [
      " for nr nodes:   10 eta : 0.001 penalty l  0.1   mse is 45.28564459858244\n",
      " for nr nodes:   10 eta : 0.001 penalty l  1.0   mse is 45.32109249542633\n",
      " for nr nodes:   10 eta : 0.001 penalty l  10   mse is 45.28876889844545\n",
      " for nr nodes:   10 eta : 0.01 penalty l  0.0001   mse is 45.79193200334896\n",
      " for nr nodes:   10 eta : 0.01 penalty l  0.001   mse is 45.26555979361497\n"
     ]
    },
    {
     "name": "stderr",
     "output_type": "stream",
     "text": [
      "/uio/hume/student-u89/hannasv/anaconda3/lib/python3.6/site-packages/sklearn/neural_network/multilayer_perceptron.py:564: ConvergenceWarning: Stochastic Optimizer: Maximum iterations (200) reached and the optimization hasn't converged yet.\n",
      "  % self.max_iter, ConvergenceWarning)\n"
     ]
    },
    {
     "name": "stdout",
     "output_type": "stream",
     "text": [
      " for nr nodes:   10 eta : 0.01 penalty l  0.01   mse is 45.43496666459698\n",
      " for nr nodes:   10 eta : 0.01 penalty l  0.1   mse is 45.19913521039744\n",
      " for nr nodes:   10 eta : 0.01 penalty l  1.0   mse is 45.27638339763154\n"
     ]
    },
    {
     "name": "stderr",
     "output_type": "stream",
     "text": [
      "/uio/hume/student-u89/hannasv/anaconda3/lib/python3.6/site-packages/sklearn/neural_network/multilayer_perceptron.py:564: ConvergenceWarning: Stochastic Optimizer: Maximum iterations (200) reached and the optimization hasn't converged yet.\n",
      "  % self.max_iter, ConvergenceWarning)\n"
     ]
    },
    {
     "name": "stdout",
     "output_type": "stream",
     "text": [
      " for nr nodes:   10 eta : 0.01 penalty l  10   mse is nan\n",
      " for nr nodes:   10 eta : 0.1 penalty l  0.0001   mse is 45.440836669721506\n"
     ]
    },
    {
     "name": "stderr",
     "output_type": "stream",
     "text": [
      "/uio/hume/student-u89/hannasv/anaconda3/lib/python3.6/site-packages/sklearn/neural_network/multilayer_perceptron.py:564: ConvergenceWarning: Stochastic Optimizer: Maximum iterations (200) reached and the optimization hasn't converged yet.\n",
      "  % self.max_iter, ConvergenceWarning)\n"
     ]
    },
    {
     "name": "stdout",
     "output_type": "stream",
     "text": [
      " for nr nodes:   10 eta : 0.1 penalty l  0.001   mse is 45.201294739528514\n"
     ]
    },
    {
     "name": "stderr",
     "output_type": "stream",
     "text": [
      "/uio/hume/student-u89/hannasv/anaconda3/lib/python3.6/site-packages/sklearn/neural_network/multilayer_perceptron.py:564: ConvergenceWarning: Stochastic Optimizer: Maximum iterations (200) reached and the optimization hasn't converged yet.\n",
      "  % self.max_iter, ConvergenceWarning)\n"
     ]
    },
    {
     "name": "stdout",
     "output_type": "stream",
     "text": [
      " for nr nodes:   10 eta : 0.1 penalty l  0.01   mse is 46.22849119100998\n",
      " for nr nodes:   10 eta : 0.1 penalty l  0.1   mse is 45.23295709202111\n"
     ]
    },
    {
     "name": "stderr",
     "output_type": "stream",
     "text": [
      "/uio/hume/student-u89/hannasv/anaconda3/lib/python3.6/site-packages/sklearn/neural_network/multilayer_perceptron.py:564: ConvergenceWarning: Stochastic Optimizer: Maximum iterations (200) reached and the optimization hasn't converged yet.\n",
      "  % self.max_iter, ConvergenceWarning)\n"
     ]
    },
    {
     "name": "stdout",
     "output_type": "stream",
     "text": [
      " for nr nodes:   10 eta : 0.1 penalty l  1.0   mse is nan\n"
     ]
    },
    {
     "name": "stderr",
     "output_type": "stream",
     "text": [
      "/uio/hume/student-u89/hannasv/anaconda3/lib/python3.6/site-packages/sklearn/neural_network/multilayer_perceptron.py:564: ConvergenceWarning: Stochastic Optimizer: Maximum iterations (200) reached and the optimization hasn't converged yet.\n",
      "  % self.max_iter, ConvergenceWarning)\n"
     ]
    },
    {
     "name": "stdout",
     "output_type": "stream",
     "text": [
      " for nr nodes:   10 eta : 0.1 penalty l  10   mse is nan\n"
     ]
    },
    {
     "name": "stderr",
     "output_type": "stream",
     "text": [
      "/uio/hume/student-u89/hannasv/anaconda3/lib/python3.6/site-packages/sklearn/neural_network/multilayer_perceptron.py:564: ConvergenceWarning: Stochastic Optimizer: Maximum iterations (200) reached and the optimization hasn't converged yet.\n",
      "  % self.max_iter, ConvergenceWarning)\n"
     ]
    },
    {
     "name": "stdout",
     "output_type": "stream",
     "text": [
      " for nr nodes:   10 eta : 1.0 penalty l  0.0001   mse is 45.37286058846592\n"
     ]
    },
    {
     "name": "stderr",
     "output_type": "stream",
     "text": [
      "/uio/hume/student-u89/hannasv/anaconda3/lib/python3.6/site-packages/sklearn/neural_network/multilayer_perceptron.py:564: ConvergenceWarning: Stochastic Optimizer: Maximum iterations (200) reached and the optimization hasn't converged yet.\n",
      "  % self.max_iter, ConvergenceWarning)\n"
     ]
    },
    {
     "name": "stdout",
     "output_type": "stream",
     "text": [
      " for nr nodes:   10 eta : 1.0 penalty l  0.001   mse is 55.947977117784696\n",
      " for nr nodes:   10 eta : 1.0 penalty l  0.01   mse is 77.82869130157012\n"
     ]
    },
    {
     "name": "stderr",
     "output_type": "stream",
     "text": [
      "/uio/hume/student-u89/hannasv/anaconda3/lib/python3.6/site-packages/sklearn/neural_network/multilayer_perceptron.py:564: ConvergenceWarning: Stochastic Optimizer: Maximum iterations (200) reached and the optimization hasn't converged yet.\n",
      "  % self.max_iter, ConvergenceWarning)\n"
     ]
    },
    {
     "name": "stdout",
     "output_type": "stream",
     "text": [
      " for nr nodes:   10 eta : 1.0 penalty l  0.1   mse is nan\n"
     ]
    },
    {
     "name": "stderr",
     "output_type": "stream",
     "text": [
      "/uio/hume/student-u89/hannasv/anaconda3/lib/python3.6/site-packages/sklearn/neural_network/multilayer_perceptron.py:564: ConvergenceWarning: Stochastic Optimizer: Maximum iterations (200) reached and the optimization hasn't converged yet.\n",
      "  % self.max_iter, ConvergenceWarning)\n"
     ]
    },
    {
     "name": "stdout",
     "output_type": "stream",
     "text": [
      " for nr nodes:   10 eta : 1.0 penalty l  1.0   mse is nan\n"
     ]
    },
    {
     "name": "stderr",
     "output_type": "stream",
     "text": [
      "/uio/hume/student-u89/hannasv/anaconda3/lib/python3.6/site-packages/sklearn/neural_network/multilayer_perceptron.py:564: ConvergenceWarning: Stochastic Optimizer: Maximum iterations (200) reached and the optimization hasn't converged yet.\n",
      "  % self.max_iter, ConvergenceWarning)\n"
     ]
    },
    {
     "name": "stdout",
     "output_type": "stream",
     "text": [
      " for nr nodes:   10 eta : 1.0 penalty l  10   mse is nan\n",
      " for nr nodes:   30 eta : 0.0001 penalty l  0.0001   mse is 3.28354401272616e+23\n",
      " for nr nodes:   30 eta : 0.0001 penalty l  0.001   mse is 1.0717767202806046e+25\n",
      " for nr nodes:   30 eta : 0.0001 penalty l  0.01   mse is 9.983680515537177e+18\n",
      " for nr nodes:   30 eta : 0.0001 penalty l  0.1   mse is 3.3584921136102875e+23\n"
     ]
    },
    {
     "name": "stderr",
     "output_type": "stream",
     "text": [
      "/uio/hume/student-u89/hannasv/anaconda3/lib/python3.6/site-packages/sklearn/neural_network/multilayer_perceptron.py:564: ConvergenceWarning: Stochastic Optimizer: Maximum iterations (200) reached and the optimization hasn't converged yet.\n",
      "  % self.max_iter, ConvergenceWarning)\n"
     ]
    },
    {
     "name": "stdout",
     "output_type": "stream",
     "text": [
      " for nr nodes:   30 eta : 0.0001 penalty l  1.0   mse is 45.2709315049567\n",
      " for nr nodes:   30 eta : 0.0001 penalty l  10   mse is 4.492480537166175e+28\n",
      " for nr nodes:   30 eta : 0.001 penalty l  0.0001   mse is 414955932789.8378\n",
      " for nr nodes:   30 eta : 0.001 penalty l  0.001   mse is 2.4808006696552614e+17\n",
      " for nr nodes:   30 eta : 0.001 penalty l  0.01   mse is 1.6828876813916418e+16\n"
     ]
    },
    {
     "name": "stderr",
     "output_type": "stream",
     "text": [
      "/uio/hume/student-u89/hannasv/anaconda3/lib/python3.6/site-packages/sklearn/neural_network/multilayer_perceptron.py:564: ConvergenceWarning: Stochastic Optimizer: Maximum iterations (200) reached and the optimization hasn't converged yet.\n",
      "  % self.max_iter, ConvergenceWarning)\n"
     ]
    },
    {
     "name": "stdout",
     "output_type": "stream",
     "text": [
      " for nr nodes:   30 eta : 0.001 penalty l  0.1   mse is 45.26241102967534\n",
      " for nr nodes:   30 eta : 0.001 penalty l  1.0   mse is 45.30755696017007\n",
      " for nr nodes:   30 eta : 0.001 penalty l  10   mse is 3.756490565118118e+135\n",
      " for nr nodes:   30 eta : 0.01 penalty l  0.0001   mse is 45.678523824484934\n",
      " for nr nodes:   30 eta : 0.01 penalty l  0.001   mse is 45.20834086894912\n"
     ]
    },
    {
     "name": "stderr",
     "output_type": "stream",
     "text": [
      "/uio/hume/student-u89/hannasv/anaconda3/lib/python3.6/site-packages/sklearn/neural_network/multilayer_perceptron.py:564: ConvergenceWarning: Stochastic Optimizer: Maximum iterations (200) reached and the optimization hasn't converged yet.\n",
      "  % self.max_iter, ConvergenceWarning)\n"
     ]
    },
    {
     "name": "stdout",
     "output_type": "stream",
     "text": [
      " for nr nodes:   30 eta : 0.01 penalty l  0.01   mse is 46.87061098726147\n",
      " for nr nodes:   30 eta : 0.01 penalty l  0.1   mse is 45.90875020271552\n",
      " for nr nodes:   30 eta : 0.01 penalty l  1.0   mse is 170059.71524443425\n"
     ]
    },
    {
     "name": "stderr",
     "output_type": "stream",
     "text": [
      "/uio/hume/student-u89/hannasv/anaconda3/lib/python3.6/site-packages/sklearn/neural_network/multilayer_perceptron.py:564: ConvergenceWarning: Stochastic Optimizer: Maximum iterations (200) reached and the optimization hasn't converged yet.\n",
      "  % self.max_iter, ConvergenceWarning)\n"
     ]
    },
    {
     "name": "stdout",
     "output_type": "stream",
     "text": [
      " for nr nodes:   30 eta : 0.01 penalty l  10   mse is nan\n",
      " for nr nodes:   30 eta : 0.1 penalty l  0.0001   mse is 52.403694483944896\n"
     ]
    },
    {
     "name": "stderr",
     "output_type": "stream",
     "text": [
      "/uio/hume/student-u89/hannasv/anaconda3/lib/python3.6/site-packages/sklearn/neural_network/multilayer_perceptron.py:564: ConvergenceWarning: Stochastic Optimizer: Maximum iterations (200) reached and the optimization hasn't converged yet.\n",
      "  % self.max_iter, ConvergenceWarning)\n"
     ]
    },
    {
     "name": "stdout",
     "output_type": "stream",
     "text": [
      " for nr nodes:   30 eta : 0.1 penalty l  0.001   mse is 49.062912512331614\n"
     ]
    },
    {
     "name": "stderr",
     "output_type": "stream",
     "text": [
      "/uio/hume/student-u89/hannasv/anaconda3/lib/python3.6/site-packages/sklearn/neural_network/multilayer_perceptron.py:564: ConvergenceWarning: Stochastic Optimizer: Maximum iterations (200) reached and the optimization hasn't converged yet.\n",
      "  % self.max_iter, ConvergenceWarning)\n"
     ]
    },
    {
     "name": "stdout",
     "output_type": "stream",
     "text": [
      " for nr nodes:   30 eta : 0.1 penalty l  0.01   mse is 45.24128076202347\n",
      " for nr nodes:   30 eta : 0.1 penalty l  0.1   mse is 380233.2790726699\n"
     ]
    },
    {
     "name": "stderr",
     "output_type": "stream",
     "text": [
      "/uio/hume/student-u89/hannasv/anaconda3/lib/python3.6/site-packages/sklearn/neural_network/multilayer_perceptron.py:564: ConvergenceWarning: Stochastic Optimizer: Maximum iterations (200) reached and the optimization hasn't converged yet.\n",
      "  % self.max_iter, ConvergenceWarning)\n"
     ]
    },
    {
     "name": "stdout",
     "output_type": "stream",
     "text": [
      " for nr nodes:   30 eta : 0.1 penalty l  1.0   mse is nan\n"
     ]
    },
    {
     "name": "stderr",
     "output_type": "stream",
     "text": [
      "/uio/hume/student-u89/hannasv/anaconda3/lib/python3.6/site-packages/sklearn/neural_network/multilayer_perceptron.py:564: ConvergenceWarning: Stochastic Optimizer: Maximum iterations (200) reached and the optimization hasn't converged yet.\n",
      "  % self.max_iter, ConvergenceWarning)\n"
     ]
    },
    {
     "name": "stdout",
     "output_type": "stream",
     "text": [
      " for nr nodes:   30 eta : 0.1 penalty l  10   mse is nan\n"
     ]
    },
    {
     "name": "stderr",
     "output_type": "stream",
     "text": [
      "/uio/hume/student-u89/hannasv/anaconda3/lib/python3.6/site-packages/sklearn/neural_network/multilayer_perceptron.py:564: ConvergenceWarning: Stochastic Optimizer: Maximum iterations (200) reached and the optimization hasn't converged yet.\n",
      "  % self.max_iter, ConvergenceWarning)\n"
     ]
    },
    {
     "name": "stdout",
     "output_type": "stream",
     "text": [
      " for nr nodes:   30 eta : 1.0 penalty l  0.0001   mse is 50.784262723523945\n",
      " for nr nodes:   30 eta : 1.0 penalty l  0.001   mse is 45.28074150914871\n",
      " for nr nodes:   30 eta : 1.0 penalty l  0.01   mse is 45.57498295630577\n"
     ]
    },
    {
     "name": "stderr",
     "output_type": "stream",
     "text": [
      "/uio/hume/student-u89/hannasv/anaconda3/lib/python3.6/site-packages/sklearn/neural_network/multilayer_perceptron.py:564: ConvergenceWarning: Stochastic Optimizer: Maximum iterations (200) reached and the optimization hasn't converged yet.\n",
      "  % self.max_iter, ConvergenceWarning)\n"
     ]
    },
    {
     "name": "stdout",
     "output_type": "stream",
     "text": [
      " for nr nodes:   30 eta : 1.0 penalty l  0.1   mse is nan\n"
     ]
    },
    {
     "name": "stderr",
     "output_type": "stream",
     "text": [
      "/uio/hume/student-u89/hannasv/anaconda3/lib/python3.6/site-packages/sklearn/neural_network/multilayer_perceptron.py:564: ConvergenceWarning: Stochastic Optimizer: Maximum iterations (200) reached and the optimization hasn't converged yet.\n",
      "  % self.max_iter, ConvergenceWarning)\n"
     ]
    },
    {
     "name": "stdout",
     "output_type": "stream",
     "text": [
      " for nr nodes:   30 eta : 1.0 penalty l  1.0   mse is nan\n"
     ]
    },
    {
     "name": "stderr",
     "output_type": "stream",
     "text": [
      "/uio/hume/student-u89/hannasv/anaconda3/lib/python3.6/site-packages/sklearn/neural_network/multilayer_perceptron.py:564: ConvergenceWarning: Stochastic Optimizer: Maximum iterations (200) reached and the optimization hasn't converged yet.\n",
      "  % self.max_iter, ConvergenceWarning)\n"
     ]
    },
    {
     "name": "stdout",
     "output_type": "stream",
     "text": [
      " for nr nodes:   30 eta : 1.0 penalty l  10   mse is nan\n",
      " for nr nodes:   50 eta : 0.0001 penalty l  0.0001   mse is 4.5403112975424323e+24\n",
      " for nr nodes:   50 eta : 0.0001 penalty l  0.001   mse is 2.4340009709811096e+22\n",
      " for nr nodes:   50 eta : 0.0001 penalty l  0.01   mse is 1.4427443931744347e+24\n",
      " for nr nodes:   50 eta : 0.0001 penalty l  0.1   mse is 7.492551697498456e+23\n"
     ]
    },
    {
     "name": "stderr",
     "output_type": "stream",
     "text": [
      "/uio/hume/student-u89/hannasv/anaconda3/lib/python3.6/site-packages/sklearn/neural_network/multilayer_perceptron.py:564: ConvergenceWarning: Stochastic Optimizer: Maximum iterations (200) reached and the optimization hasn't converged yet.\n",
      "  % self.max_iter, ConvergenceWarning)\n"
     ]
    },
    {
     "name": "stdout",
     "output_type": "stream",
     "text": [
      " for nr nodes:   50 eta : 0.0001 penalty l  1.0   mse is 45.282616544963425\n",
      " for nr nodes:   50 eta : 0.0001 penalty l  10   mse is 1.8242140441953017e+51\n",
      " for nr nodes:   50 eta : 0.001 penalty l  0.0001   mse is 1.033263400705195e+16\n",
      " for nr nodes:   50 eta : 0.001 penalty l  0.001   mse is 4471787933524.834\n",
      " for nr nodes:   50 eta : 0.001 penalty l  0.01   mse is 1577639278651110.2\n"
     ]
    },
    {
     "name": "stderr",
     "output_type": "stream",
     "text": [
      "/uio/hume/student-u89/hannasv/anaconda3/lib/python3.6/site-packages/sklearn/neural_network/multilayer_perceptron.py:564: ConvergenceWarning: Stochastic Optimizer: Maximum iterations (200) reached and the optimization hasn't converged yet.\n",
      "  % self.max_iter, ConvergenceWarning)\n"
     ]
    },
    {
     "name": "stdout",
     "output_type": "stream",
     "text": [
      " for nr nodes:   50 eta : 0.001 penalty l  0.1   mse is 45.23550699991762\n",
      " for nr nodes:   50 eta : 0.001 penalty l  1.0   mse is 45.30451868142538\n"
     ]
    },
    {
     "name": "stderr",
     "output_type": "stream",
     "text": [
      "/uio/hume/student-u89/hannasv/anaconda3/lib/python3.6/site-packages/sklearn/neural_network/multilayer_perceptron.py:564: ConvergenceWarning: Stochastic Optimizer: Maximum iterations (200) reached and the optimization hasn't converged yet.\n",
      "  % self.max_iter, ConvergenceWarning)\n"
     ]
    },
    {
     "name": "stdout",
     "output_type": "stream",
     "text": [
      " for nr nodes:   50 eta : 0.001 penalty l  10   mse is nan\n",
      " for nr nodes:   50 eta : 0.01 penalty l  0.0001   mse is 45.51018288085773\n",
      " for nr nodes:   50 eta : 0.01 penalty l  0.001   mse is 45.199208994923154\n"
     ]
    },
    {
     "name": "stderr",
     "output_type": "stream",
     "text": [
      "/uio/hume/student-u89/hannasv/anaconda3/lib/python3.6/site-packages/sklearn/neural_network/multilayer_perceptron.py:564: ConvergenceWarning: Stochastic Optimizer: Maximum iterations (200) reached and the optimization hasn't converged yet.\n",
      "  % self.max_iter, ConvergenceWarning)\n"
     ]
    },
    {
     "name": "stdout",
     "output_type": "stream",
     "text": [
      " for nr nodes:   50 eta : 0.01 penalty l  0.01   mse is 45.208223277919636\n",
      " for nr nodes:   50 eta : 0.01 penalty l  0.1   mse is 45.29065596451068\n",
      " for nr nodes:   50 eta : 0.01 penalty l  1.0   mse is 45.20528183098614\n"
     ]
    },
    {
     "name": "stderr",
     "output_type": "stream",
     "text": [
      "/uio/hume/student-u89/hannasv/anaconda3/lib/python3.6/site-packages/sklearn/neural_network/multilayer_perceptron.py:564: ConvergenceWarning: Stochastic Optimizer: Maximum iterations (200) reached and the optimization hasn't converged yet.\n",
      "  % self.max_iter, ConvergenceWarning)\n"
     ]
    },
    {
     "name": "stdout",
     "output_type": "stream",
     "text": [
      " for nr nodes:   50 eta : 0.01 penalty l  10   mse is nan\n",
      " for nr nodes:   50 eta : 0.1 penalty l  0.0001   mse is 46.38187692004034\n"
     ]
    },
    {
     "name": "stderr",
     "output_type": "stream",
     "text": [
      "/uio/hume/student-u89/hannasv/anaconda3/lib/python3.6/site-packages/sklearn/neural_network/multilayer_perceptron.py:564: ConvergenceWarning: Stochastic Optimizer: Maximum iterations (200) reached and the optimization hasn't converged yet.\n",
      "  % self.max_iter, ConvergenceWarning)\n"
     ]
    },
    {
     "name": "stdout",
     "output_type": "stream",
     "text": [
      " for nr nodes:   50 eta : 0.1 penalty l  0.001   mse is 45.19918722849603\n",
      " for nr nodes:   50 eta : 0.1 penalty l  0.01   mse is 45.340499918501266\n",
      " for nr nodes:   50 eta : 0.1 penalty l  0.1   mse is 45.58433302319376\n"
     ]
    },
    {
     "name": "stderr",
     "output_type": "stream",
     "text": [
      "/uio/hume/student-u89/hannasv/anaconda3/lib/python3.6/site-packages/sklearn/neural_network/multilayer_perceptron.py:564: ConvergenceWarning: Stochastic Optimizer: Maximum iterations (200) reached and the optimization hasn't converged yet.\n",
      "  % self.max_iter, ConvergenceWarning)\n"
     ]
    },
    {
     "name": "stdout",
     "output_type": "stream",
     "text": [
      " for nr nodes:   50 eta : 0.1 penalty l  1.0   mse is nan\n"
     ]
    },
    {
     "name": "stderr",
     "output_type": "stream",
     "text": [
      "/uio/hume/student-u89/hannasv/anaconda3/lib/python3.6/site-packages/sklearn/neural_network/multilayer_perceptron.py:564: ConvergenceWarning: Stochastic Optimizer: Maximum iterations (200) reached and the optimization hasn't converged yet.\n",
      "  % self.max_iter, ConvergenceWarning)\n"
     ]
    },
    {
     "name": "stdout",
     "output_type": "stream",
     "text": [
      " for nr nodes:   50 eta : 0.1 penalty l  10   mse is nan\n"
     ]
    },
    {
     "name": "stderr",
     "output_type": "stream",
     "text": [
      "/uio/hume/student-u89/hannasv/anaconda3/lib/python3.6/site-packages/sklearn/neural_network/multilayer_perceptron.py:564: ConvergenceWarning: Stochastic Optimizer: Maximum iterations (200) reached and the optimization hasn't converged yet.\n",
      "  % self.max_iter, ConvergenceWarning)\n"
     ]
    },
    {
     "name": "stdout",
     "output_type": "stream",
     "text": [
      " for nr nodes:   50 eta : 1.0 penalty l  0.0001   mse is 53.15560941885829\n",
      " for nr nodes:   50 eta : 1.0 penalty l  0.001   mse is 64.55600223771137\n",
      " for nr nodes:   50 eta : 1.0 penalty l  0.01   mse is 47.149574491777614\n"
     ]
    },
    {
     "name": "stderr",
     "output_type": "stream",
     "text": [
      "/uio/hume/student-u89/hannasv/anaconda3/lib/python3.6/site-packages/sklearn/neural_network/multilayer_perceptron.py:564: ConvergenceWarning: Stochastic Optimizer: Maximum iterations (200) reached and the optimization hasn't converged yet.\n",
      "  % self.max_iter, ConvergenceWarning)\n"
     ]
    },
    {
     "name": "stdout",
     "output_type": "stream",
     "text": [
      " for nr nodes:   50 eta : 1.0 penalty l  0.1   mse is nan\n"
     ]
    },
    {
     "name": "stderr",
     "output_type": "stream",
     "text": [
      "/uio/hume/student-u89/hannasv/anaconda3/lib/python3.6/site-packages/sklearn/neural_network/multilayer_perceptron.py:564: ConvergenceWarning: Stochastic Optimizer: Maximum iterations (200) reached and the optimization hasn't converged yet.\n",
      "  % self.max_iter, ConvergenceWarning)\n"
     ]
    },
    {
     "name": "stdout",
     "output_type": "stream",
     "text": [
      " for nr nodes:   50 eta : 1.0 penalty l  1.0   mse is nan\n"
     ]
    },
    {
     "name": "stderr",
     "output_type": "stream",
     "text": [
      "/uio/hume/student-u89/hannasv/anaconda3/lib/python3.6/site-packages/sklearn/neural_network/multilayer_perceptron.py:564: ConvergenceWarning: Stochastic Optimizer: Maximum iterations (200) reached and the optimization hasn't converged yet.\n",
      "  % self.max_iter, ConvergenceWarning)\n"
     ]
    },
    {
     "name": "stdout",
     "output_type": "stream",
     "text": [
      " for nr nodes:   50 eta : 1.0 penalty l  10   mse is nan\n",
      " for nr nodes:   100 eta : 0.0001 penalty l  0.0001   mse is 4.5796822390451474e+24\n",
      " for nr nodes:   100 eta : 0.0001 penalty l  0.001   mse is 6.136956640756174e+22\n",
      " for nr nodes:   100 eta : 0.0001 penalty l  0.01   mse is 1.6300822500015616e+24\n",
      " for nr nodes:   100 eta : 0.0001 penalty l  0.1   mse is 1.3394876491939755e+22\n"
     ]
    },
    {
     "name": "stderr",
     "output_type": "stream",
     "text": [
      "/uio/hume/student-u89/hannasv/anaconda3/lib/python3.6/site-packages/sklearn/neural_network/multilayer_perceptron.py:564: ConvergenceWarning: Stochastic Optimizer: Maximum iterations (200) reached and the optimization hasn't converged yet.\n",
      "  % self.max_iter, ConvergenceWarning)\n"
     ]
    },
    {
     "name": "stdout",
     "output_type": "stream",
     "text": [
      " for nr nodes:   100 eta : 0.0001 penalty l  1.0   mse is 45.27585195430644\n",
      " for nr nodes:   100 eta : 0.0001 penalty l  10   mse is inf\n",
      " for nr nodes:   100 eta : 0.001 penalty l  0.0001   mse is 3571035900249674.5\n",
      " for nr nodes:   100 eta : 0.001 penalty l  0.001   mse is 535022239114808.75\n",
      " for nr nodes:   100 eta : 0.001 penalty l  0.01   mse is 3819721019367405.5\n"
     ]
    },
    {
     "name": "stderr",
     "output_type": "stream",
     "text": [
      "/uio/hume/student-u89/hannasv/anaconda3/lib/python3.6/site-packages/sklearn/neural_network/multilayer_perceptron.py:564: ConvergenceWarning: Stochastic Optimizer: Maximum iterations (200) reached and the optimization hasn't converged yet.\n",
      "  % self.max_iter, ConvergenceWarning)\n"
     ]
    },
    {
     "name": "stdout",
     "output_type": "stream",
     "text": [
      " for nr nodes:   100 eta : 0.001 penalty l  0.1   mse is 45.22219506688872\n",
      " for nr nodes:   100 eta : 0.001 penalty l  1.0   mse is 45.202263966394256\n"
     ]
    },
    {
     "name": "stderr",
     "output_type": "stream",
     "text": [
      "/uio/hume/student-u89/hannasv/anaconda3/lib/python3.6/site-packages/sklearn/neural_network/multilayer_perceptron.py:564: ConvergenceWarning: Stochastic Optimizer: Maximum iterations (200) reached and the optimization hasn't converged yet.\n",
      "  % self.max_iter, ConvergenceWarning)\n"
     ]
    },
    {
     "name": "stdout",
     "output_type": "stream",
     "text": [
      " for nr nodes:   100 eta : 0.001 penalty l  10   mse is nan\n",
      " for nr nodes:   100 eta : 0.01 penalty l  0.0001   mse is 45.25759235074141\n",
      " for nr nodes:   100 eta : 0.01 penalty l  0.001   mse is 45.23443326395183\n"
     ]
    },
    {
     "name": "stderr",
     "output_type": "stream",
     "text": [
      "/uio/hume/student-u89/hannasv/anaconda3/lib/python3.6/site-packages/sklearn/neural_network/multilayer_perceptron.py:564: ConvergenceWarning: Stochastic Optimizer: Maximum iterations (200) reached and the optimization hasn't converged yet.\n",
      "  % self.max_iter, ConvergenceWarning)\n"
     ]
    },
    {
     "name": "stdout",
     "output_type": "stream",
     "text": [
      " for nr nodes:   100 eta : 0.01 penalty l  0.01   mse is 45.44326979934911\n",
      " for nr nodes:   100 eta : 0.01 penalty l  0.1   mse is 1.2287463169063014e+107\n",
      " for nr nodes:   100 eta : 0.01 penalty l  1.0   mse is 1.5907833589752722e+125\n"
     ]
    },
    {
     "name": "stderr",
     "output_type": "stream",
     "text": [
      "/uio/hume/student-u89/hannasv/anaconda3/lib/python3.6/site-packages/sklearn/neural_network/multilayer_perceptron.py:564: ConvergenceWarning: Stochastic Optimizer: Maximum iterations (200) reached and the optimization hasn't converged yet.\n",
      "  % self.max_iter, ConvergenceWarning)\n"
     ]
    },
    {
     "name": "stdout",
     "output_type": "stream",
     "text": [
      " for nr nodes:   100 eta : 0.01 penalty l  10   mse is nan\n",
      " for nr nodes:   100 eta : 0.1 penalty l  0.0001   mse is 46.15159583967677\n"
     ]
    },
    {
     "name": "stderr",
     "output_type": "stream",
     "text": [
      "/uio/hume/student-u89/hannasv/anaconda3/lib/python3.6/site-packages/sklearn/neural_network/multilayer_perceptron.py:564: ConvergenceWarning: Stochastic Optimizer: Maximum iterations (200) reached and the optimization hasn't converged yet.\n",
      "  % self.max_iter, ConvergenceWarning)\n"
     ]
    },
    {
     "name": "stdout",
     "output_type": "stream",
     "text": [
      " for nr nodes:   100 eta : 0.1 penalty l  0.001   mse is 49.07717801236209\n",
      " for nr nodes:   100 eta : 0.1 penalty l  0.01   mse is 45.20356509895192\n"
     ]
    },
    {
     "name": "stderr",
     "output_type": "stream",
     "text": [
      "/uio/hume/student-u89/hannasv/anaconda3/lib/python3.6/site-packages/sklearn/neural_network/multilayer_perceptron.py:564: ConvergenceWarning: Stochastic Optimizer: Maximum iterations (200) reached and the optimization hasn't converged yet.\n",
      "  % self.max_iter, ConvergenceWarning)\n"
     ]
    },
    {
     "name": "stdout",
     "output_type": "stream",
     "text": [
      " for nr nodes:   100 eta : 0.1 penalty l  0.1   mse is nan\n"
     ]
    },
    {
     "name": "stderr",
     "output_type": "stream",
     "text": [
      "/uio/hume/student-u89/hannasv/anaconda3/lib/python3.6/site-packages/sklearn/neural_network/multilayer_perceptron.py:564: ConvergenceWarning: Stochastic Optimizer: Maximum iterations (200) reached and the optimization hasn't converged yet.\n",
      "  % self.max_iter, ConvergenceWarning)\n"
     ]
    },
    {
     "name": "stdout",
     "output_type": "stream",
     "text": [
      " for nr nodes:   100 eta : 0.1 penalty l  1.0   mse is nan\n"
     ]
    },
    {
     "name": "stderr",
     "output_type": "stream",
     "text": [
      "/uio/hume/student-u89/hannasv/anaconda3/lib/python3.6/site-packages/sklearn/neural_network/multilayer_perceptron.py:564: ConvergenceWarning: Stochastic Optimizer: Maximum iterations (200) reached and the optimization hasn't converged yet.\n",
      "  % self.max_iter, ConvergenceWarning)\n"
     ]
    },
    {
     "name": "stdout",
     "output_type": "stream",
     "text": [
      " for nr nodes:   100 eta : 0.1 penalty l  10   mse is nan\n"
     ]
    },
    {
     "name": "stderr",
     "output_type": "stream",
     "text": [
      "/uio/hume/student-u89/hannasv/anaconda3/lib/python3.6/site-packages/sklearn/neural_network/multilayer_perceptron.py:564: ConvergenceWarning: Stochastic Optimizer: Maximum iterations (200) reached and the optimization hasn't converged yet.\n",
      "  % self.max_iter, ConvergenceWarning)\n"
     ]
    },
    {
     "name": "stdout",
     "output_type": "stream",
     "text": [
      " for nr nodes:   100 eta : 1.0 penalty l  0.0001   mse is 51.26544557400048\n",
      " for nr nodes:   100 eta : 1.0 penalty l  0.001   mse is 122.5583335522208\n",
      " for nr nodes:   100 eta : 1.0 penalty l  0.01   mse is 46.93557530255838\n"
     ]
    },
    {
     "name": "stderr",
     "output_type": "stream",
     "text": [
      "/uio/hume/student-u89/hannasv/anaconda3/lib/python3.6/site-packages/sklearn/neural_network/multilayer_perceptron.py:564: ConvergenceWarning: Stochastic Optimizer: Maximum iterations (200) reached and the optimization hasn't converged yet.\n",
      "  % self.max_iter, ConvergenceWarning)\n"
     ]
    },
    {
     "name": "stdout",
     "output_type": "stream",
     "text": [
      " for nr nodes:   100 eta : 1.0 penalty l  0.1   mse is nan\n"
     ]
    },
    {
     "name": "stderr",
     "output_type": "stream",
     "text": [
      "/uio/hume/student-u89/hannasv/anaconda3/lib/python3.6/site-packages/sklearn/neural_network/multilayer_perceptron.py:564: ConvergenceWarning: Stochastic Optimizer: Maximum iterations (200) reached and the optimization hasn't converged yet.\n",
      "  % self.max_iter, ConvergenceWarning)\n"
     ]
    },
    {
     "name": "stdout",
     "output_type": "stream",
     "text": [
      " for nr nodes:   100 eta : 1.0 penalty l  1.0   mse is nan\n"
     ]
    },
    {
     "name": "stderr",
     "output_type": "stream",
     "text": [
      "/uio/hume/student-u89/hannasv/anaconda3/lib/python3.6/site-packages/sklearn/neural_network/multilayer_perceptron.py:564: ConvergenceWarning: Stochastic Optimizer: Maximum iterations (200) reached and the optimization hasn't converged yet.\n",
      "  % self.max_iter, ConvergenceWarning)\n"
     ]
    },
    {
     "name": "stdout",
     "output_type": "stream",
     "text": [
      " for nr nodes:   100 eta : 1.0 penalty l  10   mse is nan\n",
      " for nr nodes:   500 eta : 0.0001 penalty l  0.0001   mse is 9.706788120335861e+19\n",
      " for nr nodes:   500 eta : 0.0001 penalty l  0.001   mse is 3.432057675342151e+34\n",
      " for nr nodes:   500 eta : 0.0001 penalty l  0.01   mse is 1.5786908387526802e+18\n",
      " for nr nodes:   500 eta : 0.0001 penalty l  0.1   mse is 4.355852608994095e+19\n"
     ]
    },
    {
     "name": "stderr",
     "output_type": "stream",
     "text": [
      "/uio/hume/student-u89/hannasv/anaconda3/lib/python3.6/site-packages/sklearn/neural_network/multilayer_perceptron.py:564: ConvergenceWarning: Stochastic Optimizer: Maximum iterations (200) reached and the optimization hasn't converged yet.\n",
      "  % self.max_iter, ConvergenceWarning)\n"
     ]
    },
    {
     "name": "stdout",
     "output_type": "stream",
     "text": [
      " for nr nodes:   500 eta : 0.0001 penalty l  1.0   mse is 45.27237866890797\n"
     ]
    },
    {
     "name": "stderr",
     "output_type": "stream",
     "text": [
      "/uio/hume/student-u89/hannasv/anaconda3/lib/python3.6/site-packages/sklearn/neural_network/multilayer_perceptron.py:564: ConvergenceWarning: Stochastic Optimizer: Maximum iterations (200) reached and the optimization hasn't converged yet.\n",
      "  % self.max_iter, ConvergenceWarning)\n"
     ]
    },
    {
     "name": "stdout",
     "output_type": "stream",
     "text": [
      " for nr nodes:   500 eta : 0.0001 penalty l  10   mse is nan\n",
      " for nr nodes:   500 eta : 0.001 penalty l  0.0001   mse is 574511600805647.8\n",
      " for nr nodes:   500 eta : 0.001 penalty l  0.001   mse is 1723876367372286.2\n",
      " for nr nodes:   500 eta : 0.001 penalty l  0.01   mse is 30766180772154.566\n"
     ]
    },
    {
     "name": "stderr",
     "output_type": "stream",
     "text": [
      "/uio/hume/student-u89/hannasv/anaconda3/lib/python3.6/site-packages/sklearn/neural_network/multilayer_perceptron.py:564: ConvergenceWarning: Stochastic Optimizer: Maximum iterations (200) reached and the optimization hasn't converged yet.\n",
      "  % self.max_iter, ConvergenceWarning)\n"
     ]
    },
    {
     "name": "stdout",
     "output_type": "stream",
     "text": [
      " for nr nodes:   500 eta : 0.001 penalty l  0.1   mse is 45.30491382560577\n"
     ]
    },
    {
     "name": "stderr",
     "output_type": "stream",
     "text": [
      "/uio/hume/student-u89/hannasv/anaconda3/lib/python3.6/site-packages/sklearn/neural_network/multilayer_perceptron.py:564: ConvergenceWarning: Stochastic Optimizer: Maximum iterations (200) reached and the optimization hasn't converged yet.\n",
      "  % self.max_iter, ConvergenceWarning)\n"
     ]
    },
    {
     "name": "stdout",
     "output_type": "stream",
     "text": [
      " for nr nodes:   500 eta : 0.001 penalty l  1.0   mse is nan\n"
     ]
    },
    {
     "name": "stderr",
     "output_type": "stream",
     "text": [
      "/uio/hume/student-u89/hannasv/anaconda3/lib/python3.6/site-packages/sklearn/neural_network/multilayer_perceptron.py:564: ConvergenceWarning: Stochastic Optimizer: Maximum iterations (200) reached and the optimization hasn't converged yet.\n",
      "  % self.max_iter, ConvergenceWarning)\n"
     ]
    },
    {
     "name": "stdout",
     "output_type": "stream",
     "text": [
      " for nr nodes:   500 eta : 0.001 penalty l  10   mse is nan\n",
      " for nr nodes:   500 eta : 0.01 penalty l  0.0001   mse is 45.2064831301744\n",
      " for nr nodes:   500 eta : 0.01 penalty l  0.001   mse is 45.39653672931652\n"
     ]
    },
    {
     "name": "stderr",
     "output_type": "stream",
     "text": [
      "/uio/hume/student-u89/hannasv/anaconda3/lib/python3.6/site-packages/sklearn/neural_network/multilayer_perceptron.py:564: ConvergenceWarning: Stochastic Optimizer: Maximum iterations (200) reached and the optimization hasn't converged yet.\n",
      "  % self.max_iter, ConvergenceWarning)\n"
     ]
    },
    {
     "name": "stdout",
     "output_type": "stream",
     "text": [
      " for nr nodes:   500 eta : 0.01 penalty l  0.01   mse is 46.3435071510835\n"
     ]
    },
    {
     "name": "stderr",
     "output_type": "stream",
     "text": [
      "/uio/hume/student-u89/hannasv/anaconda3/lib/python3.6/site-packages/sklearn/neural_network/multilayer_perceptron.py:564: ConvergenceWarning: Stochastic Optimizer: Maximum iterations (200) reached and the optimization hasn't converged yet.\n",
      "  % self.max_iter, ConvergenceWarning)\n"
     ]
    },
    {
     "name": "stdout",
     "output_type": "stream",
     "text": [
      " for nr nodes:   500 eta : 0.01 penalty l  0.1   mse is nan\n"
     ]
    },
    {
     "name": "stderr",
     "output_type": "stream",
     "text": [
      "/uio/hume/student-u89/hannasv/anaconda3/lib/python3.6/site-packages/sklearn/neural_network/multilayer_perceptron.py:564: ConvergenceWarning: Stochastic Optimizer: Maximum iterations (200) reached and the optimization hasn't converged yet.\n",
      "  % self.max_iter, ConvergenceWarning)\n"
     ]
    },
    {
     "name": "stdout",
     "output_type": "stream",
     "text": [
      " for nr nodes:   500 eta : 0.01 penalty l  1.0   mse is nan\n"
     ]
    },
    {
     "name": "stderr",
     "output_type": "stream",
     "text": [
      "/uio/hume/student-u89/hannasv/anaconda3/lib/python3.6/site-packages/sklearn/neural_network/multilayer_perceptron.py:564: ConvergenceWarning: Stochastic Optimizer: Maximum iterations (200) reached and the optimization hasn't converged yet.\n",
      "  % self.max_iter, ConvergenceWarning)\n"
     ]
    },
    {
     "name": "stdout",
     "output_type": "stream",
     "text": [
      " for nr nodes:   500 eta : 0.01 penalty l  10   mse is nan\n",
      " for nr nodes:   500 eta : 0.1 penalty l  0.0001   mse is 46.28310845271867\n"
     ]
    },
    {
     "name": "stderr",
     "output_type": "stream",
     "text": [
      "/uio/hume/student-u89/hannasv/anaconda3/lib/python3.6/site-packages/sklearn/neural_network/multilayer_perceptron.py:564: ConvergenceWarning: Stochastic Optimizer: Maximum iterations (200) reached and the optimization hasn't converged yet.\n",
      "  % self.max_iter, ConvergenceWarning)\n"
     ]
    },
    {
     "name": "stdout",
     "output_type": "stream",
     "text": [
      " for nr nodes:   500 eta : 0.1 penalty l  0.001   mse is 45.47867434581389\n"
     ]
    },
    {
     "name": "stderr",
     "output_type": "stream",
     "text": [
      "/uio/hume/student-u89/hannasv/anaconda3/lib/python3.6/site-packages/sklearn/neural_network/multilayer_perceptron.py:564: ConvergenceWarning: Stochastic Optimizer: Maximum iterations (200) reached and the optimization hasn't converged yet.\n",
      "  % self.max_iter, ConvergenceWarning)\n"
     ]
    },
    {
     "name": "stdout",
     "output_type": "stream",
     "text": [
      " for nr nodes:   500 eta : 0.1 penalty l  0.01   mse is nan\n"
     ]
    },
    {
     "name": "stderr",
     "output_type": "stream",
     "text": [
      "/uio/hume/student-u89/hannasv/anaconda3/lib/python3.6/site-packages/sklearn/neural_network/multilayer_perceptron.py:564: ConvergenceWarning: Stochastic Optimizer: Maximum iterations (200) reached and the optimization hasn't converged yet.\n",
      "  % self.max_iter, ConvergenceWarning)\n"
     ]
    },
    {
     "name": "stdout",
     "output_type": "stream",
     "text": [
      " for nr nodes:   500 eta : 0.1 penalty l  0.1   mse is nan\n"
     ]
    }
   ],
   "source": [
    "n_nodes = [10,30,50,100, 500]\n",
    "eta = [0.0001, 0.001, 0.01, 0.1, 1.0]\n",
    "lmd = [0.0001, 0.001, 0.01, 0.1, 1.0, 10]\n",
    "\n",
    "for n in n_nodes:\n",
    "    for e in eta:\n",
    "        for l in lmd:\n",
    "            mlp = MLPRegressor(hidden_layer_sizes=(n, ), \n",
    "                               activation = 'relu', # this is the sigmoid activation function\n",
    "                               solver = \"sgd\", \n",
    "                               alpha = l, \n",
    "                               batch_size =10, \n",
    "                               learning_rate_init=e)\n",
    "\n",
    "            mlp.fit(X_train, y_train)\n",
    "            y_pred = mlp.predict(X_test)\n",
    "            #logistic activation uses the sigmoid function \n",
    "            mse = mean_squared_error(y_pred, y_test)\n",
    "            print(\" for nr nodes:   \" + str(n) + \" eta : \" + str(e) + \" penalty l  \" + str(l) + \"   mse is \" + str(mse))"
   ]
  },
  {
   "cell_type": "code",
   "execution_count": null,
   "metadata": {},
   "outputs": [],
   "source": []
  },
  {
   "cell_type": "markdown",
   "metadata": {},
   "source": [
    "# ADAM + RELU"
   ]
  },
  {
   "cell_type": "code",
   "execution_count": null,
   "metadata": {},
   "outputs": [],
   "source": [
    "n_nodes = [10,30,50,100, 500]\n",
    "eta = [0.0001, 0.001, 0.01, 0.1, 1.0]\n",
    "lmd = [0.0001, 0.001, 0.01, 0.1, 1.0, 10]\n",
    "\n",
    "for n in n_nodes:\n",
    "    for e in eta:\n",
    "        for l in lmd:\n",
    "            mlp = MLPRegressor(hidden_layer_sizes=(n, ), \n",
    "                               activation = 'relu', # this is the sigmoid activation function\n",
    "                               solver = \"atam\", \n",
    "                               alpha = l, \n",
    "                               batch_size =10, \n",
    "                               learning_rate_init=e)\n",
    "\n",
    "            mlp.fit(X_train, y_train)\n",
    "            y_pred = mlp.predict(X_test)\n",
    "            #logistic activation uses the sigmoid function \n",
    "            mse = mean_squared_error(y_pred, y_test)\n",
    "            print(\" for nr nodes:   \" + str(n) + \" eta : \" + str(e) + \" penalty l  \" + str(l) + \"   mse is \" + str(mse))"
   ]
  },
  {
   "cell_type": "code",
   "execution_count": null,
   "metadata": {},
   "outputs": [],
   "source": []
  },
  {
   "cell_type": "code",
   "execution_count": null,
   "metadata": {},
   "outputs": [],
   "source": []
  },
  {
   "cell_type": "code",
   "execution_count": null,
   "metadata": {},
   "outputs": [],
   "source": []
  },
  {
   "cell_type": "code",
   "execution_count": null,
   "metadata": {},
   "outputs": [],
   "source": []
  },
  {
   "cell_type": "code",
   "execution_count": null,
   "metadata": {},
   "outputs": [],
   "source": []
  },
  {
   "cell_type": "code",
   "execution_count": null,
   "metadata": {},
   "outputs": [],
   "source": []
  }
 ],
 "metadata": {
  "kernelspec": {
   "display_name": "Python 3",
   "language": "python",
   "name": "python3"
  },
  "language_info": {
   "codemirror_mode": {
    "name": "ipython",
    "version": 3
   },
   "file_extension": ".py",
   "mimetype": "text/x-python",
   "name": "python",
   "nbconvert_exporter": "python",
   "pygments_lexer": "ipython3",
   "version": "3.6.5"
  }
 },
 "nbformat": 4,
 "nbformat_minor": 2
}
