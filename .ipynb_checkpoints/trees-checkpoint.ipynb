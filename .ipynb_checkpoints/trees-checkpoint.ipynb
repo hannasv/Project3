{
 "cells": [
  {
   "cell_type": "markdown",
   "metadata": {},
   "source": [
    "# Trees"
   ]
  },
  {
   "cell_type": "code",
   "execution_count": 1,
   "metadata": {},
   "outputs": [],
   "source": [
    "import numpy as np \n",
    "import seaborn as sns\n",
    "import matplotlib.pyplot as plt\n",
    "import netCDF4 as n\n",
    "%matplotlib inline\n",
    "from utils import train_test_split\n",
    "from sklearn import tree\n",
    "from sklearn import metrics\n",
    "from sklearn import preprocessing\n",
    "from sklearn.ensemble import RandomForestRegressor"
   ]
  },
  {
   "cell_type": "markdown",
   "metadata": {},
   "source": [
    "## Read the data"
   ]
  },
  {
   "cell_type": "markdown",
   "metadata": {},
   "source": [
    "Working with netcdf files.\n",
    "\n",
    "http://unidata.github.io/netcdf4-python/"
   ]
  },
  {
   "cell_type": "markdown",
   "metadata": {},
   "source": [
    "### Norway\n",
    "\n",
    "We are not going to use these data (we use files for Europe)."
   ]
  },
  {
   "cell_type": "code",
   "execution_count": 2,
   "metadata": {},
   "outputs": [],
   "source": [
    "path = \"./files/\"\n",
    "filenames = [\"specific_humidity_Norway.nc\", \"relative_humidity_Norway.nc\", \"pressure_Norway.nc\",  \n",
    "             \"temperature_Norway.nc\", \"total_cloud_cover_Norway.nc\"]\n",
    "\n",
    "\n",
    "cloud = n.Dataset(path + filenames[-1], \"r\")\n",
    "relative = n.Dataset(path + filenames[1], \"r\")\n",
    "specific = n.Dataset(path + filenames[0], \"r\")\n",
    "pressure = n.Dataset(path + filenames[2], \"r\")\n",
    "temperature = n.Dataset(path + filenames[3], \"r\")\n",
    "\n",
    "files_nor = {'cloud':cloud, 'relative':relative, 'specific':specific, 'pressure':pressure, 'temperature':temperature}"
   ]
  },
  {
   "cell_type": "code",
   "execution_count": 3,
   "metadata": {},
   "outputs": [],
   "source": [
    "#print(pressure.variables)\n",
    "tcc_nor = cloud.variables[\"tcc\"]\n",
    "rh_nor = relative.variables[\"r\"]\n",
    "# level = relative.variables[\"level\"]\n",
    "q_nor = specific.variables[\"q\"]\n",
    "sp_nor = pressure.variables[\"sp\"]\n",
    "t2m_nor = temperature.variables[\"t2m\"]"
   ]
  },
  {
   "cell_type": "markdown",
   "metadata": {},
   "source": [
    "### Europe\n",
    "We use only the first time stamp, and level 1000 hPa."
   ]
  },
  {
   "cell_type": "markdown",
   "metadata": {},
   "source": [
    "#### Open files"
   ]
  },
  {
   "cell_type": "code",
   "execution_count": 4,
   "metadata": {},
   "outputs": [],
   "source": [
    "path = \"./files/\"\n",
    "filenames = [\"specific_humidity_Europa_sp.nc\", \"relative_humidity_Europa_sp.nc\", \"pressure_Europa_sp.nc\",  \n",
    "             \"temperature_Europa_sp.nc\", \"total_cloud_cover_Europa_sp.nc\"]\n",
    "\n",
    "\n",
    "cloud = n.Dataset(path + filenames[-1], \"r\")\n",
    "relative = n.Dataset(path + filenames[1], \"r\")\n",
    "specific = n.Dataset(path + filenames[0], \"r\")\n",
    "pressure = n.Dataset(path + filenames[2], \"r\")\n",
    "temperature = n.Dataset(path + filenames[3], \"r\")\n",
    "\n",
    "my_files = {'cloud':cloud, 'relative':relative, 'specific':specific, 'pressure':pressure, 'temperature':temperature}"
   ]
  },
  {
   "cell_type": "markdown",
   "metadata": {},
   "source": [
    "#### Variables"
   ]
  },
  {
   "cell_type": "code",
   "execution_count": 5,
   "metadata": {},
   "outputs": [
    {
     "name": "stdout",
     "output_type": "stream",
     "text": [
      "cloud :  OrderedDict([('longitude', <class 'netCDF4._netCDF4.Variable'>\n",
      "float32 longitude(longitude)\n",
      "    units: degrees_east\n",
      "    long_name: longitude\n",
      "unlimited dimensions: \n",
      "current shape = (77,)\n",
      "filling on, default _FillValue of 9.969209968386869e+36 used\n",
      "), ('latitude', <class 'netCDF4._netCDF4.Variable'>\n",
      "float32 latitude(latitude)\n",
      "    units: degrees_north\n",
      "    long_name: latitude\n",
      "unlimited dimensions: \n",
      "current shape = (61,)\n",
      "filling on, default _FillValue of 9.969209968386869e+36 used\n",
      "), ('time', <class 'netCDF4._netCDF4.Variable'>\n",
      "int32 time(time)\n",
      "    units: hours since 1900-01-01 00:00:0.0\n",
      "    long_name: time\n",
      "    calendar: gregorian\n",
      "unlimited dimensions: time\n",
      "current shape = (32,)\n",
      "filling on, default _FillValue of -2147483647 used\n",
      "), ('tcc', <class 'netCDF4._netCDF4.Variable'>\n",
      "int16 tcc(time, latitude, longitude)\n",
      "    scale_factor: 1.525948758640685e-05\n",
      "    add_offset: 0.49999237025720666\n",
      "    _FillValue: -32767\n",
      "    missing_value: -32767\n",
      "    units: (0 - 1)\n",
      "    long_name: Total cloud cover\n",
      "    standard_name: cloud_area_fraction\n",
      "unlimited dimensions: time\n",
      "current shape = (32, 61, 77)\n",
      "filling on)])\n",
      "relative :  OrderedDict([('longitude', <class 'netCDF4._netCDF4.Variable'>\n",
      "float32 longitude(longitude)\n",
      "    units: degrees_east\n",
      "    long_name: longitude\n",
      "unlimited dimensions: \n",
      "current shape = (77,)\n",
      "filling on, default _FillValue of 9.969209968386869e+36 used\n",
      "), ('latitude', <class 'netCDF4._netCDF4.Variable'>\n",
      "float32 latitude(latitude)\n",
      "    units: degrees_north\n",
      "    long_name: latitude\n",
      "unlimited dimensions: \n",
      "current shape = (61,)\n",
      "filling on, default _FillValue of 9.969209968386869e+36 used\n",
      "), ('level', <class 'netCDF4._netCDF4.Variable'>\n",
      "int32 level(level)\n",
      "    units: millibars\n",
      "    long_name: pressure_level\n",
      "unlimited dimensions: \n",
      "current shape = (6,)\n",
      "filling on, default _FillValue of -2147483647 used\n",
      "), ('time', <class 'netCDF4._netCDF4.Variable'>\n",
      "int32 time(time)\n",
      "    units: hours since 1900-01-01 00:00:0.0\n",
      "    long_name: time\n",
      "    calendar: gregorian\n",
      "unlimited dimensions: time\n",
      "current shape = (32,)\n",
      "filling on, default _FillValue of -2147483647 used\n",
      "), ('r', <class 'netCDF4._netCDF4.Variable'>\n",
      "int16 r(time, level, latitude, longitude)\n",
      "    scale_factor: 0.0020292186290296298\n",
      "    add_offset: 56.78843174459784\n",
      "    _FillValue: -32767\n",
      "    missing_value: -32767\n",
      "    units: %\n",
      "    long_name: Relative humidity\n",
      "    standard_name: relative_humidity\n",
      "unlimited dimensions: time\n",
      "current shape = (32, 6, 61, 77)\n",
      "filling on)])\n",
      "specific :  OrderedDict([('longitude', <class 'netCDF4._netCDF4.Variable'>\n",
      "float32 longitude(longitude)\n",
      "    units: degrees_east\n",
      "    long_name: longitude\n",
      "unlimited dimensions: \n",
      "current shape = (77,)\n",
      "filling on, default _FillValue of 9.969209968386869e+36 used\n",
      "), ('latitude', <class 'netCDF4._netCDF4.Variable'>\n",
      "float32 latitude(latitude)\n",
      "    units: degrees_north\n",
      "    long_name: latitude\n",
      "unlimited dimensions: \n",
      "current shape = (61,)\n",
      "filling on, default _FillValue of 9.969209968386869e+36 used\n",
      "), ('level', <class 'netCDF4._netCDF4.Variable'>\n",
      "int32 level(level)\n",
      "    units: millibars\n",
      "    long_name: pressure_level\n",
      "unlimited dimensions: \n",
      "current shape = (6,)\n",
      "filling on, default _FillValue of -2147483647 used\n",
      "), ('time', <class 'netCDF4._netCDF4.Variable'>\n",
      "int32 time(time)\n",
      "    units: hours since 1900-01-01 00:00:0.0\n",
      "    long_name: time\n",
      "    calendar: gregorian\n",
      "unlimited dimensions: time\n",
      "current shape = (32,)\n",
      "filling on, default _FillValue of -2147483647 used\n",
      "), ('q', <class 'netCDF4._netCDF4.Variable'>\n",
      "int16 q(time, level, latitude, longitude)\n",
      "    scale_factor: 2.1328394656708057e-07\n",
      "    add_offset: 0.006964579015321184\n",
      "    _FillValue: -32767\n",
      "    missing_value: -32767\n",
      "    units: kg kg**-1\n",
      "    long_name: Specific humidity\n",
      "    standard_name: specific_humidity\n",
      "unlimited dimensions: time\n",
      "current shape = (32, 6, 61, 77)\n",
      "filling on)])\n",
      "pressure :  OrderedDict([('longitude', <class 'netCDF4._netCDF4.Variable'>\n",
      "float32 longitude(longitude)\n",
      "    units: degrees_east\n",
      "    long_name: longitude\n",
      "unlimited dimensions: \n",
      "current shape = (77,)\n",
      "filling on, default _FillValue of 9.969209968386869e+36 used\n",
      "), ('latitude', <class 'netCDF4._netCDF4.Variable'>\n",
      "float32 latitude(latitude)\n",
      "    units: degrees_north\n",
      "    long_name: latitude\n",
      "unlimited dimensions: \n",
      "current shape = (61,)\n",
      "filling on, default _FillValue of 9.969209968386869e+36 used\n",
      "), ('time', <class 'netCDF4._netCDF4.Variable'>\n",
      "int32 time(time)\n",
      "    units: hours since 1900-01-01 00:00:0.0\n",
      "    long_name: time\n",
      "    calendar: gregorian\n",
      "unlimited dimensions: time\n",
      "current shape = (32,)\n",
      "filling on, default _FillValue of -2147483647 used\n",
      "), ('sp', <class 'netCDF4._netCDF4.Variable'>\n",
      "int16 sp(time, latitude, longitude)\n",
      "    scale_factor: 0.38392012421222893\n",
      "    add_offset: 91282.2142899379\n",
      "    _FillValue: -32767\n",
      "    missing_value: -32767\n",
      "    units: Pa\n",
      "    long_name: Surface pressure\n",
      "    standard_name: surface_air_pressure\n",
      "unlimited dimensions: time\n",
      "current shape = (32, 61, 77)\n",
      "filling on)])\n",
      "temperature :  OrderedDict([('longitude', <class 'netCDF4._netCDF4.Variable'>\n",
      "float32 longitude(longitude)\n",
      "    units: degrees_east\n",
      "    long_name: longitude\n",
      "unlimited dimensions: \n",
      "current shape = (77,)\n",
      "filling on, default _FillValue of 9.969209968386869e+36 used\n",
      "), ('latitude', <class 'netCDF4._netCDF4.Variable'>\n",
      "float32 latitude(latitude)\n",
      "    units: degrees_north\n",
      "    long_name: latitude\n",
      "unlimited dimensions: \n",
      "current shape = (61,)\n",
      "filling on, default _FillValue of 9.969209968386869e+36 used\n",
      "), ('time', <class 'netCDF4._netCDF4.Variable'>\n",
      "int32 time(time)\n",
      "    units: hours since 1900-01-01 00:00:0.0\n",
      "    long_name: time\n",
      "    calendar: gregorian\n",
      "unlimited dimensions: time\n",
      "current shape = (32,)\n",
      "filling on, default _FillValue of -2147483647 used\n",
      "), ('t2m', <class 'netCDF4._netCDF4.Variable'>\n",
      "int16 t2m(time, latitude, longitude)\n",
      "    scale_factor: 0.0009370828601501343\n",
      "    add_offset: 272.00388021345276\n",
      "    _FillValue: -32767\n",
      "    missing_value: -32767\n",
      "    units: K\n",
      "    long_name: 2 metre temperature\n",
      "unlimited dimensions: time\n",
      "current shape = (32, 61, 77)\n",
      "filling on)])\n"
     ]
    }
   ],
   "source": [
    "for key, value in my_files.items():\n",
    "    print(key, ': ', value.variables)"
   ]
  },
  {
   "cell_type": "code",
   "execution_count": 6,
   "metadata": {},
   "outputs": [],
   "source": [
    "tcc = cloud.variables[\"tcc\"]\n",
    "rh = relative.variables[\"r\"]\n",
    "q = specific.variables[\"q\"]\n",
    "sp = pressure.variables[\"sp\"]\n",
    "t2m = temperature.variables[\"t2m\"]\n",
    "\n",
    "my_vars = {'tcc':tcc, 'rh':rh, 'q':q, 'sp':sp, 't2m':t2m}"
   ]
  },
  {
   "cell_type": "markdown",
   "metadata": {},
   "source": [
    "#### Dimensions and sizes?"
   ]
  },
  {
   "cell_type": "code",
   "execution_count": 7,
   "metadata": {},
   "outputs": [
    {
     "name": "stdout",
     "output_type": "stream",
     "text": [
      "cloud :  OrderedDict([('longitude', <class 'netCDF4._netCDF4.Dimension'>: name = 'longitude', size = 77\n",
      "), ('latitude', <class 'netCDF4._netCDF4.Dimension'>: name = 'latitude', size = 61\n",
      "), ('time', <class 'netCDF4._netCDF4.Dimension'> (unlimited): name = 'time', size = 32\n",
      ")])\n",
      "relative :  OrderedDict([('longitude', <class 'netCDF4._netCDF4.Dimension'>: name = 'longitude', size = 77\n",
      "), ('latitude', <class 'netCDF4._netCDF4.Dimension'>: name = 'latitude', size = 61\n",
      "), ('level', <class 'netCDF4._netCDF4.Dimension'>: name = 'level', size = 6\n",
      "), ('time', <class 'netCDF4._netCDF4.Dimension'> (unlimited): name = 'time', size = 32\n",
      ")])\n",
      "specific :  OrderedDict([('longitude', <class 'netCDF4._netCDF4.Dimension'>: name = 'longitude', size = 77\n",
      "), ('latitude', <class 'netCDF4._netCDF4.Dimension'>: name = 'latitude', size = 61\n",
      "), ('level', <class 'netCDF4._netCDF4.Dimension'>: name = 'level', size = 6\n",
      "), ('time', <class 'netCDF4._netCDF4.Dimension'> (unlimited): name = 'time', size = 32\n",
      ")])\n",
      "pressure :  OrderedDict([('longitude', <class 'netCDF4._netCDF4.Dimension'>: name = 'longitude', size = 77\n",
      "), ('latitude', <class 'netCDF4._netCDF4.Dimension'>: name = 'latitude', size = 61\n",
      "), ('time', <class 'netCDF4._netCDF4.Dimension'> (unlimited): name = 'time', size = 32\n",
      ")])\n",
      "temperature :  OrderedDict([('longitude', <class 'netCDF4._netCDF4.Dimension'>: name = 'longitude', size = 77\n",
      "), ('latitude', <class 'netCDF4._netCDF4.Dimension'>: name = 'latitude', size = 61\n",
      "), ('time', <class 'netCDF4._netCDF4.Dimension'> (unlimited): name = 'time', size = 32\n",
      ")])\n"
     ]
    }
   ],
   "source": [
    "for key, value in my_files.items():\n",
    "    print(key, ': ', value.dimensions)"
   ]
  },
  {
   "cell_type": "code",
   "execution_count": 8,
   "metadata": {},
   "outputs": [
    {
     "name": "stdout",
     "output_type": "stream",
     "text": [
      "tcc :  ('time', 'latitude', 'longitude')\n",
      "rh :  ('time', 'level', 'latitude', 'longitude')\n",
      "q :  ('time', 'level', 'latitude', 'longitude')\n",
      "sp :  ('time', 'latitude', 'longitude')\n",
      "t2m :  ('time', 'latitude', 'longitude')\n"
     ]
    }
   ],
   "source": [
    "for key, value in my_vars.items():\n",
    "    print(key, ': ', value.dimensions)"
   ]
  },
  {
   "cell_type": "markdown",
   "metadata": {},
   "source": [
    "#### Levels"
   ]
  },
  {
   "cell_type": "code",
   "execution_count": 9,
   "metadata": {},
   "outputs": [
    {
     "name": "stdout",
     "output_type": "stream",
     "text": [
      "rh levels:  [1000  850  700  500  400  300]\n",
      "q levels:  [1000  850  700  500  400  300]\n"
     ]
    }
   ],
   "source": [
    "print('rh levels: ', relative['level'][:])\n",
    "print('q levels: ', specific['level'][:])"
   ]
  },
  {
   "cell_type": "code",
   "execution_count": 10,
   "metadata": {},
   "outputs": [
    {
     "name": "stdout",
     "output_type": "stream",
     "text": [
      "Units for the latitude: degrees_north\n",
      "Units for the longitude: degrees_east\n",
      "Units for the time: hours since 1900-01-01 00:00:0.0\n",
      "Units for the level: millibars\n"
     ]
    }
   ],
   "source": [
    "print('Units for the latitude:', relative.variables['latitude'].units)\n",
    "print('Units for the longitude:', relative.variables['longitude'].units)\n",
    "print('Units for the time:', relative.variables['time'].units)\n",
    "print('Units for the level:', relative.variables['level'].units)"
   ]
  },
  {
   "cell_type": "markdown",
   "metadata": {},
   "source": [
    "#### Check whether data is corrected for offset and scale_factor"
   ]
  },
  {
   "cell_type": "code",
   "execution_count": 11,
   "metadata": {},
   "outputs": [
    {
     "name": "stdout",
     "output_type": "stream",
     "text": [
      "True\n",
      "True\n",
      "True\n",
      "True\n",
      "True\n"
     ]
    }
   ],
   "source": [
    "for key, value in my_vars.items():\n",
    "    test = value.scale\n",
    "    print(test)\n",
    "    "
   ]
  },
  {
   "cell_type": "markdown",
   "metadata": {},
   "source": [
    "## Write array with data for 1000 hPa, first time stamp"
   ]
  },
  {
   "cell_type": "code",
   "execution_count": 12,
   "metadata": {},
   "outputs": [
    {
     "name": "stdout",
     "output_type": "stream",
     "text": [
      "(32, 61, 77)\n",
      "(32, 6, 61, 77)\n",
      "(32, 6, 61, 77)\n",
      "(32, 61, 77)\n",
      "(32, 61, 77)\n"
     ]
    }
   ],
   "source": [
    "print(tcc.shape)\n",
    "print(rh.shape)\n",
    "print(q.shape)\n",
    "print(sp.shape)\n",
    "print(t2m.shape)\n"
   ]
  },
  {
   "cell_type": "code",
   "execution_count": 13,
   "metadata": {},
   "outputs": [],
   "source": [
    "X = np.empty((tcc.shape[1]*tcc.shape[2], 4))\n",
    "y = np.empty((tcc.shape[1]*tcc.shape[2], 1))\n",
    "\n",
    "i=0\n",
    "for key, value in my_vars.items():\n",
    "    if key == 'tcc':\n",
    "        y = np.array(value[0, : , :]).flatten()\n",
    "    elif key == 'rh' or key == 'q':\n",
    "        X[:, i] = np.array(value[0, 0, : , :]).flatten()\n",
    "        i = i+1\n",
    "    else:\n",
    "        X[:, i] = np.array(value[0, : , :]).flatten()\n",
    "        i=i+1\n",
    "\n",
    "#my_vars['tcc'] = tcc[1, :, :]\n",
    "#my_vars['rh'] = rh[1, 1, :, :]\n",
    "#my_vars['q'] = q[1, 1, :, :]\n",
    "#my_vars['sp'] = sp[1, :, :]\n",
    "#my_vars['t2m'] = t2m[1, :, :]"
   ]
  },
  {
   "cell_type": "code",
   "execution_count": 14,
   "metadata": {},
   "outputs": [
    {
     "data": {
      "text/plain": [
       "array([[9.67092498e+01, 7.89155626e-04, 1.00881369e+05, 2.54531033e+02],\n",
       "       [9.58529196e+01, 8.08777750e-04, 1.00877530e+05, 2.55042680e+02],\n",
       "       [9.56865236e+01, 8.45675872e-04, 1.00848736e+05, 2.56260888e+02],\n",
       "       [9.60416369e+01, 8.82787279e-04, 1.00819942e+05, 2.57480033e+02],\n",
       "       [9.64819773e+01, 9.38027821e-04, 1.00793451e+05, 2.59043087e+02],\n",
       "       [9.65509708e+01, 1.04573621e-03, 1.00786925e+05, 2.60489006e+02],\n",
       "       [9.59746727e+01, 1.15387118e-03, 1.00780014e+05, 2.61934925e+02],\n",
       "       [9.47733753e+01, 1.27160391e-03, 1.00769264e+05, 2.63318059e+02],\n",
       "       [9.32210230e+01, 1.40192040e-03, 1.00756211e+05, 2.64518462e+02],\n",
       "       [9.16909922e+01, 1.53074391e-03, 1.00743926e+05, 2.65704809e+02]])"
      ]
     },
     "execution_count": 14,
     "metadata": {},
     "output_type": "execute_result"
    }
   ],
   "source": [
    "X[0:10,:]"
   ]
  },
  {
   "cell_type": "code",
   "execution_count": 15,
   "metadata": {},
   "outputs": [],
   "source": [
    "X_train, X_test, y_train, y_test = train_test_split(X, y, split_size=0.5)"
   ]
  },
  {
   "cell_type": "markdown",
   "metadata": {},
   "source": [
    "### Fit tree"
   ]
  },
  {
   "cell_type": "code",
   "execution_count": 16,
   "metadata": {},
   "outputs": [],
   "source": [
    "clf = tree.DecisionTreeRegressor()\n",
    "clf = clf.fit(X_train, y_train)"
   ]
  },
  {
   "cell_type": "markdown",
   "metadata": {},
   "source": [
    "### Predict tree\n"
   ]
  },
  {
   "cell_type": "code",
   "execution_count": 17,
   "metadata": {},
   "outputs": [],
   "source": [
    "y_pred = clf.predict(X_test)"
   ]
  },
  {
   "cell_type": "code",
   "execution_count": 18,
   "metadata": {},
   "outputs": [
    {
     "data": {
      "text/plain": [
       "0.09817352057051333"
      ]
     },
     "execution_count": 18,
     "metadata": {},
     "output_type": "execute_result"
    }
   ],
   "source": [
    "msq_t1 = metrics.mean_squared_error(y_test, y_pred)\n",
    "msq_t1"
   ]
  },
  {
   "cell_type": "code",
   "execution_count": 19,
   "metadata": {},
   "outputs": [
    {
     "data": {
      "text/plain": [
       "0.24935547001041125"
      ]
     },
     "execution_count": 19,
     "metadata": {},
     "output_type": "execute_result"
    }
   ],
   "source": [
    "r2_t1 = metrics.r2_score(y_test, y_pred)\n",
    "r2_t1"
   ]
  },
  {
   "cell_type": "markdown",
   "metadata": {},
   "source": [
    "#### With normalize the data"
   ]
  },
  {
   "cell_type": "code",
   "execution_count": 20,
   "metadata": {},
   "outputs": [],
   "source": [
    "# Xn = preprocessing.normalize(X)\n",
    "# yn = preprocessing.normalize(y.reshape(-1, 1))\n",
    "Xn = (X - X.mean())/X.std()\n",
    "yn = (y - y.mean())/y.std()\n",
    "\n",
    "Xn_train, Xn_test, yn_train, yn_test = train_test_split(Xn, yn, split_size=0.3)\n"
   ]
  },
  {
   "cell_type": "markdown",
   "metadata": {},
   "source": [
    "##### Max depth"
   ]
  },
  {
   "cell_type": "code",
   "execution_count": 21,
   "metadata": {},
   "outputs": [],
   "source": [
    "mse_train = []\n",
    "mse_test = []\n",
    "r2_train = []\n",
    "r2_test = []\n",
    "\n",
    "for depth in range(1,20):\n",
    "\n",
    "    clf = tree.DecisionTreeRegressor(max_depth=depth)\n",
    "    clf = clf.fit(Xn_train, yn_train)\n",
    "\n",
    "    yn_pred_test = clf.predict(Xn_test)\n",
    "    yn_pred_train = clf.predict(Xn_train)\n",
    "\n",
    "    mse_train.append(metrics.mean_squared_error(yn_train, yn_pred_train))\n",
    "    mse_test.append(metrics.mean_squared_error(yn_test, yn_pred_test))\n",
    "\n",
    "    r2_train.append(metrics.r2_score(yn_train, yn_pred_train))\n",
    "    r2_test.append(metrics.r2_score(yn_test, yn_pred_test))"
   ]
  },
  {
   "cell_type": "code",
   "execution_count": 22,
   "metadata": {},
   "outputs": [
    {
     "data": {
      "image/png": "[encoded data removed]",
      "text/plain": [
       "<Figure size 432x288 with 2 Axes>"
      ]
     },
     "metadata": {
      "needs_background": "light"
     },
     "output_type": "display_data"
    }
   ],
   "source": [
    "x = np.arange(19)+1\n",
    "fig, ax1 = plt.subplots()\n",
    "\n",
    "color = 'tab:red'\n",
    "ax1.set_xlabel('Max depth')\n",
    "ax1.set_ylabel('MSE', color=color)\n",
    "ax1.plot(x, mse_train, color=color, label='MSE - train')\n",
    "ax1.tick_params(axis='y', labelcolor=color)\n",
    "ax1.plot(x, mse_test, color=color, linestyle = ':', label='MSE - test')\n",
    "plt.legend(bbox_to_anchor=(0., 1.02, 1., .102), loc=3,\n",
    "           ncol=2, mode=\"expand\", borderaxespad=0.)\n",
    "\n",
    "ax2 = ax1.twinx()  # instantiate a second axes that shares the same x-axis\n",
    "\n",
    "color = 'tab:blue'\n",
    "ax2.set_ylabel('R-squared', color=color)  # we already handled the x-label with ax1\n",
    "ax2.plot(x, r2_train, color=color, label='R2 - train')\n",
    "ax2.tick_params(axis='y', labelcolor=color)\n",
    "ax2.plot(x, r2_test, color=color, linestyle = ':', label='R2 - test')\n",
    "#ax2.invert_yaxis()\n",
    "\n",
    "plt.legend(bbox_to_anchor=(0., 1.12, 1., 0.102), loc=3,\n",
    "           ncol=2, mode=\"expand\", borderaxespad=0.)\n",
    "#plt.legend(bbox_to_anchor=(1.30, 0.8), loc=2, borderaxespad=0.)\n",
    "fig.tight_layout()  # otherwise the right y-label is slightly clipped\n",
    "plt.show()"
   ]
  },
  {
   "cell_type": "markdown",
   "metadata": {},
   "source": [
    "##### Max leaf nodes"
   ]
  },
  {
   "cell_type": "code",
   "execution_count": 23,
   "metadata": {},
   "outputs": [],
   "source": [
    "mse_train = []\n",
    "mse_test = []\n",
    "r2_train = []\n",
    "r2_test = []\n",
    "for leaves in range(2,40):\n",
    "\n",
    "    clf = tree.DecisionTreeRegressor(max_depth=4, max_leaf_nodes=leaves)\n",
    "    clf = clf.fit(Xn_train, yn_train)\n",
    "\n",
    "    yn_pred_test = clf.predict(Xn_test)\n",
    "    yn_pred_train = clf.predict(Xn_train)\n",
    "\n",
    "    mse_train.append(metrics.mean_squared_error(yn_train, yn_pred_train))\n",
    "    mse_test.append(metrics.mean_squared_error(yn_test, yn_pred_test))\n",
    "\n",
    "    r2_train.append(metrics.r2_score(yn_train, yn_pred_train))\n",
    "    r2_test.append(metrics.r2_score(yn_test, yn_pred_test))"
   ]
  },
  {
   "cell_type": "code",
   "execution_count": 24,
   "metadata": {},
   "outputs": [
    {
     "data": {
      "image/png": "[encoded data removed]",
      "text/plain": [
       "<Figure size 432x288 with 2 Axes>"
      ]
     },
     "metadata": {
      "needs_background": "light"
     },
     "output_type": "display_data"
    }
   ],
   "source": [
    "x = np.arange(38)+2\n",
    "fig, ax1 = plt.subplots()\n",
    "\n",
    "color = 'tab:red'\n",
    "ax1.set_xlabel('Number of leaves')\n",
    "ax1.set_ylabel('MSE', color=color)\n",
    "ax1.plot(x, mse_train, color=color, label='MSE - train')\n",
    "ax1.tick_params(axis='y', labelcolor=color)\n",
    "ax1.plot(x, mse_test, color=color, linestyle = ':', label='MSE - test')\n",
    "plt.legend(bbox_to_anchor=(0., 1.02, 1., .102), loc=3,\n",
    "           ncol=2, mode=\"expand\", borderaxespad=0.)\n",
    "\n",
    "ax2 = ax1.twinx()  # instantiate a second axes that shares the same x-axis\n",
    "\n",
    "color = 'tab:blue'\n",
    "ax2.set_ylabel('R-squared', color=color)  # we already handled the x-label with ax1\n",
    "ax2.plot(x, r2_train, color=color, label='R2 - train')\n",
    "ax2.tick_params(axis='y', labelcolor=color)\n",
    "ax2.plot(x, r2_test, color=color, linestyle = ':', label='R2 - test')\n",
    "#ax2.invert_yaxis()\n",
    "\n",
    "plt.legend(bbox_to_anchor=(0., 1.12, 1., 0.102), loc=3,\n",
    "           ncol=2, mode=\"expand\", borderaxespad=0.)\n",
    "#plt.legend(bbox_to_anchor=(1.30, 0.8), loc=2, borderaxespad=0.)\n",
    "fig.tight_layout()  # otherwise the right y-label is slightly clipped\n",
    "plt.show()"
   ]
  },
  {
   "cell_type": "markdown",
   "metadata": {},
   "source": [
    "Select max_depth=4, max_leaf_nodes==7"
   ]
  },
  {
   "cell_type": "code",
   "execution_count": 25,
   "metadata": {},
   "outputs": [
    {
     "data": {
      "text/plain": [
       "'# Plot the results\\n\\nx = x = np.arange(yn_test.shape[0] )\\nplt.figure()\\nplt.scatter(x, yn_test, color=\"darkorange\", label=\"data\")\\nplt.plot(x, yn_pred_test, color=\"cornflowerblue\",\\n         label=\"Prediction\", linewidth=2)\\nplt.xlabel(\"data\")\\nplt.ylabel(\"target\")\\nplt.title(\"Decision Tree Regression\")\\nplt.legend()\\nplt.show()'"
      ]
     },
     "execution_count": 25,
     "metadata": {},
     "output_type": "execute_result"
    }
   ],
   "source": [
    "\"\"\"# Plot the results\n",
    "\n",
    "x = x = np.arange(yn_test.shape[0] )\n",
    "plt.figure()\n",
    "plt.scatter(x, yn_test, color=\"darkorange\", label=\"data\")\n",
    "plt.plot(x, yn_pred_test, color=\"cornflowerblue\",\n",
    "         label=\"Prediction\", linewidth=2)\n",
    "plt.xlabel(\"data\")\n",
    "plt.ylabel(\"target\")\n",
    "plt.title(\"Decision Tree Regression\")\n",
    "plt.legend()\n",
    "plt.show()\"\"\""
   ]
  },
  {
   "cell_type": "markdown",
   "metadata": {},
   "source": [
    "### Plot results"
   ]
  },
  {
   "cell_type": "code",
   "execution_count": 26,
   "metadata": {},
   "outputs": [
    {
     "data": {
      "text/plain": [
       "'import graphviz \\ndot_data = tree.export_graphviz(clf, out_file=None) \\ngraph = graphviz.Source(dot_data) \\ngraph.render(\"\") '"
      ]
     },
     "execution_count": 26,
     "metadata": {},
     "output_type": "execute_result"
    }
   ],
   "source": [
    "\"\"\"import graphviz \n",
    "dot_data = tree.export_graphviz(clf, out_file=None) \n",
    "graph = graphviz.Source(dot_data) \n",
    "graph.render(\"\") \"\"\""
   ]
  },
  {
   "cell_type": "markdown",
   "metadata": {},
   "source": [
    "# Random forest"
   ]
  },
  {
   "cell_type": "code",
   "execution_count": 27,
   "metadata": {},
   "outputs": [
    {
     "name": "stdout",
     "output_type": "stream",
     "text": [
      "MSE 0.5571585499510721\n",
      "R2 0.4429911099611009\n"
     ]
    },
    {
     "name": "stderr",
     "output_type": "stream",
     "text": [
      "C:\\Users\\nbpst2\\Anaconda3\\envs\\negi_course2\\lib\\site-packages\\sklearn\\ensemble\\forest.py:248: FutureWarning: The default value of n_estimators will change from 10 in version 0.20 to 100 in 0.22.\n",
      "  \"10 in version 0.20 to 100 in 0.22.\", FutureWarning)\n"
     ]
    }
   ],
   "source": [
    "regr = RandomForestRegressor()\n",
    "regr.fit(Xn_train, yn_train)\n",
    "y_pred_test = regr.predict(Xn_test)\n",
    "print('MSE', metrics.mean_squared_error(yn_train, yn_pred_train))\n",
    "print('R2', metrics.r2_score(yn_train, yn_pred_train))"
   ]
  },
  {
   "cell_type": "markdown",
   "metadata": {},
   "source": [
    "## Max depth"
   ]
  },
  {
   "cell_type": "code",
   "execution_count": 28,
   "metadata": {},
   "outputs": [
    {
     "name": "stderr",
     "output_type": "stream",
     "text": [
      "C:\\Users\\nbpst2\\Anaconda3\\envs\\negi_course2\\lib\\site-packages\\sklearn\\ensemble\\forest.py:248: FutureWarning: The default value of n_estimators will change from 10 in version 0.20 to 100 in 0.22.\n",
      "  \"10 in version 0.20 to 100 in 0.22.\", FutureWarning)\n",
      "C:\\Users\\nbpst2\\Anaconda3\\envs\\negi_course2\\lib\\site-packages\\sklearn\\ensemble\\forest.py:248: FutureWarning: The default value of n_estimators will change from 10 in version 0.20 to 100 in 0.22.\n",
      "  \"10 in version 0.20 to 100 in 0.22.\", FutureWarning)\n",
      "C:\\Users\\nbpst2\\Anaconda3\\envs\\negi_course2\\lib\\site-packages\\sklearn\\ensemble\\forest.py:248: FutureWarning: The default value of n_estimators will change from 10 in version 0.20 to 100 in 0.22.\n",
      "  \"10 in version 0.20 to 100 in 0.22.\", FutureWarning)\n",
      "C:\\Users\\nbpst2\\Anaconda3\\envs\\negi_course2\\lib\\site-packages\\sklearn\\ensemble\\forest.py:248: FutureWarning: The default value of n_estimators will change from 10 in version 0.20 to 100 in 0.22.\n",
      "  \"10 in version 0.20 to 100 in 0.22.\", FutureWarning)\n",
      "C:\\Users\\nbpst2\\Anaconda3\\envs\\negi_course2\\lib\\site-packages\\sklearn\\ensemble\\forest.py:248: FutureWarning: The default value of n_estimators will change from 10 in version 0.20 to 100 in 0.22.\n",
      "  \"10 in version 0.20 to 100 in 0.22.\", FutureWarning)\n",
      "C:\\Users\\nbpst2\\Anaconda3\\envs\\negi_course2\\lib\\site-packages\\sklearn\\ensemble\\forest.py:248: FutureWarning: The default value of n_estimators will change from 10 in version 0.20 to 100 in 0.22.\n",
      "  \"10 in version 0.20 to 100 in 0.22.\", FutureWarning)\n",
      "C:\\Users\\nbpst2\\Anaconda3\\envs\\negi_course2\\lib\\site-packages\\sklearn\\ensemble\\forest.py:248: FutureWarning: The default value of n_estimators will change from 10 in version 0.20 to 100 in 0.22.\n",
      "  \"10 in version 0.20 to 100 in 0.22.\", FutureWarning)\n",
      "C:\\Users\\nbpst2\\Anaconda3\\envs\\negi_course2\\lib\\site-packages\\sklearn\\ensemble\\forest.py:248: FutureWarning: The default value of n_estimators will change from 10 in version 0.20 to 100 in 0.22.\n",
      "  \"10 in version 0.20 to 100 in 0.22.\", FutureWarning)\n",
      "C:\\Users\\nbpst2\\Anaconda3\\envs\\negi_course2\\lib\\site-packages\\sklearn\\ensemble\\forest.py:248: FutureWarning: The default value of n_estimators will change from 10 in version 0.20 to 100 in 0.22.\n",
      "  \"10 in version 0.20 to 100 in 0.22.\", FutureWarning)\n",
      "C:\\Users\\nbpst2\\Anaconda3\\envs\\negi_course2\\lib\\site-packages\\sklearn\\ensemble\\forest.py:248: FutureWarning: The default value of n_estimators will change from 10 in version 0.20 to 100 in 0.22.\n",
      "  \"10 in version 0.20 to 100 in 0.22.\", FutureWarning)\n",
      "C:\\Users\\nbpst2\\Anaconda3\\envs\\negi_course2\\lib\\site-packages\\sklearn\\ensemble\\forest.py:248: FutureWarning: The default value of n_estimators will change from 10 in version 0.20 to 100 in 0.22.\n",
      "  \"10 in version 0.20 to 100 in 0.22.\", FutureWarning)\n",
      "C:\\Users\\nbpst2\\Anaconda3\\envs\\negi_course2\\lib\\site-packages\\sklearn\\ensemble\\forest.py:248: FutureWarning: The default value of n_estimators will change from 10 in version 0.20 to 100 in 0.22.\n",
      "  \"10 in version 0.20 to 100 in 0.22.\", FutureWarning)\n",
      "C:\\Users\\nbpst2\\Anaconda3\\envs\\negi_course2\\lib\\site-packages\\sklearn\\ensemble\\forest.py:248: FutureWarning: The default value of n_estimators will change from 10 in version 0.20 to 100 in 0.22.\n",
      "  \"10 in version 0.20 to 100 in 0.22.\", FutureWarning)\n",
      "C:\\Users\\nbpst2\\Anaconda3\\envs\\negi_course2\\lib\\site-packages\\sklearn\\ensemble\\forest.py:248: FutureWarning: The default value of n_estimators will change from 10 in version 0.20 to 100 in 0.22.\n",
      "  \"10 in version 0.20 to 100 in 0.22.\", FutureWarning)\n",
      "C:\\Users\\nbpst2\\Anaconda3\\envs\\negi_course2\\lib\\site-packages\\sklearn\\ensemble\\forest.py:248: FutureWarning: The default value of n_estimators will change from 10 in version 0.20 to 100 in 0.22.\n",
      "  \"10 in version 0.20 to 100 in 0.22.\", FutureWarning)\n",
      "C:\\Users\\nbpst2\\Anaconda3\\envs\\negi_course2\\lib\\site-packages\\sklearn\\ensemble\\forest.py:248: FutureWarning: The default value of n_estimators will change from 10 in version 0.20 to 100 in 0.22.\n",
      "  \"10 in version 0.20 to 100 in 0.22.\", FutureWarning)\n",
      "C:\\Users\\nbpst2\\Anaconda3\\envs\\negi_course2\\lib\\site-packages\\sklearn\\ensemble\\forest.py:248: FutureWarning: The default value of n_estimators will change from 10 in version 0.20 to 100 in 0.22.\n",
      "  \"10 in version 0.20 to 100 in 0.22.\", FutureWarning)\n",
      "C:\\Users\\nbpst2\\Anaconda3\\envs\\negi_course2\\lib\\site-packages\\sklearn\\ensemble\\forest.py:248: FutureWarning: The default value of n_estimators will change from 10 in version 0.20 to 100 in 0.22.\n",
      "  \"10 in version 0.20 to 100 in 0.22.\", FutureWarning)\n",
      "C:\\Users\\nbpst2\\Anaconda3\\envs\\negi_course2\\lib\\site-packages\\sklearn\\ensemble\\forest.py:248: FutureWarning: The default value of n_estimators will change from 10 in version 0.20 to 100 in 0.22.\n",
      "  \"10 in version 0.20 to 100 in 0.22.\", FutureWarning)\n"
     ]
    }
   ],
   "source": [
    "mse_train = []\n",
    "mse_test = []\n",
    "r2_train = []\n",
    "r2_test = []\n",
    "\n",
    "for depth in range(1,20):\n",
    "\n",
    "    regr = RandomForestRegressor(max_depth=depth)\n",
    "    regr.fit(Xn_train, yn_train)\n",
    "    yn_pred_test = regr.predict(Xn_test)\n",
    "    yn_pred_train = regr.predict(Xn_train)\n",
    "\n",
    "    mse_train.append(metrics.mean_squared_error(yn_train, yn_pred_train))\n",
    "    mse_test.append(metrics.mean_squared_error(yn_test, yn_pred_test))\n",
    "\n",
    "    r2_train.append(metrics.r2_score(yn_train, yn_pred_train))\n",
    "    r2_test.append(metrics.r2_score(yn_test, yn_pred_test))"
   ]
  },
  {
   "cell_type": "code",
   "execution_count": 29,
   "metadata": {},
   "outputs": [
    {
     "data": {
      "image/png": "[encoded data removed]",
      "text/plain": [
       "<Figure size 432x288 with 2 Axes>"
      ]
     },
     "metadata": {
      "needs_background": "light"
     },
     "output_type": "display_data"
    }
   ],
   "source": [
    "x = np.arange(19)+1\n",
    "fig, ax1 = plt.subplots()\n",
    "\n",
    "color = 'tab:red'\n",
    "ax1.set_xlabel('Max depth')\n",
    "ax1.set_ylabel('MSE', color=color)\n",
    "ax1.plot(x, mse_train, color=color, label='MSE - train')\n",
    "ax1.tick_params(axis='y', labelcolor=color)\n",
    "ax1.plot(x, mse_test, color=color, linestyle = ':', label='MSE - test')\n",
    "plt.legend(bbox_to_anchor=(0., 1.02, 1., .102), loc=3,\n",
    "           ncol=2, mode=\"expand\", borderaxespad=0.)\n",
    "\n",
    "ax2 = ax1.twinx()  # instantiate a second axes that shares the same x-axis\n",
    "\n",
    "color = 'tab:blue'\n",
    "ax2.set_ylabel('R-squared', color=color)  # we already handled the x-label with ax1\n",
    "ax2.plot(x, r2_train, color=color, label='R2 - train')\n",
    "ax2.tick_params(axis='y', labelcolor=color)\n",
    "ax2.plot(x, r2_test, color=color, linestyle = ':', label='R2 - test')\n",
    "#ax2.invert_yaxis()\n",
    "\n",
    "plt.legend(bbox_to_anchor=(0., 1.12, 1., 0.102), loc=3,\n",
    "           ncol=2, mode=\"expand\", borderaxespad=0.)\n",
    "#plt.legend(bbox_to_anchor=(1.30, 0.8), loc=2, borderaxespad=0.)\n",
    "fig.tight_layout()  # otherwise the right y-label is slightly clipped\n",
    "plt.show()"
   ]
  },
  {
   "cell_type": "markdown",
   "metadata": {},
   "source": [
    "## Number of estimators"
   ]
  },
  {
   "cell_type": "code",
   "execution_count": 30,
   "metadata": {},
   "outputs": [],
   "source": [
    "mse_train = []\n",
    "mse_test = []\n",
    "r2_train = []\n",
    "r2_test = []\n",
    "\n",
    "for nestim in range(1,20):\n",
    "\n",
    "    regr = RandomForestRegressor(max_depth=7, n_estimators=nestim)\n",
    "    regr.fit(Xn_train, yn_train)\n",
    "    yn_pred_test = regr.predict(Xn_test)\n",
    "    yn_pred_train = regr.predict(Xn_train)\n",
    "\n",
    "    mse_train.append(metrics.mean_squared_error(yn_train, yn_pred_train))\n",
    "    mse_test.append(metrics.mean_squared_error(yn_test, yn_pred_test))\n",
    "\n",
    "    r2_train.append(metrics.r2_score(yn_train, yn_pred_train))\n",
    "    r2_test.append(metrics.r2_score(yn_test, yn_pred_test))"
   ]
  },
  {
   "cell_type": "code",
   "execution_count": 31,
   "metadata": {},
   "outputs": [
    {
     "data": {
      "image/png": "[encoded data removed]",
      "text/plain": [
       "<Figure size 432x288 with 2 Axes>"
      ]
     },
     "metadata": {
      "needs_background": "light"
     },
     "output_type": "display_data"
    }
   ],
   "source": [
    "x = np.arange(19)+1\n",
    "fig, ax1 = plt.subplots()\n",
    "\n",
    "color = 'tab:red'\n",
    "ax1.set_xlabel('Num. estimators')\n",
    "ax1.set_ylabel('MSE', color=color)\n",
    "ax1.plot(x, mse_train, color=color, label='MSE - train')\n",
    "ax1.tick_params(axis='y', labelcolor=color)\n",
    "ax1.plot(x, mse_test, color=color, linestyle = ':', label='MSE - test')\n",
    "plt.legend(bbox_to_anchor=(0., 1.02, 1., .102), loc=3,\n",
    "           ncol=2, mode=\"expand\", borderaxespad=0.)\n",
    "\n",
    "ax2 = ax1.twinx()  # instantiate a second axes that shares the same x-axis\n",
    "\n",
    "color = 'tab:blue'\n",
    "ax2.set_ylabel('R-squared', color=color)  # we already handled the x-label with ax1\n",
    "ax2.plot(x, r2_train, color=color, label='R2 - train')\n",
    "ax2.tick_params(axis='y', labelcolor=color)\n",
    "ax2.plot(x, r2_test, color=color, linestyle = ':', label='R2 - test')\n",
    "#ax2.invert_yaxis()\n",
    "\n",
    "plt.legend(bbox_to_anchor=(0., 1.12, 1., 0.102), loc=3,\n",
    "           ncol=2, mode=\"expand\", borderaxespad=0.)\n",
    "#plt.legend(bbox_to_anchor=(1.30, 0.8), loc=2, borderaxespad=0.)\n",
    "fig.tight_layout()  # otherwise the right y-label is slightly clipped\n",
    "plt.show()"
   ]
  },
  {
   "cell_type": "code",
   "execution_count": null,
   "metadata": {},
   "outputs": [],
   "source": []
  }
 ],
 "metadata": {
  "kernelspec": {
   "display_name": "Python 3",
   "language": "python",
   "name": "python3"
  },
  "language_info": {
   "codemirror_mode": {
    "name": "ipython",
    "version": 3
   },
   "file_extension": ".py",
   "mimetype": "text/x-python",
   "name": "python",
   "nbconvert_exporter": "python",
   "pygments_lexer": "ipython3",
   "version": "3.6.6"
  }
 },
 "nbformat": 4,
 "nbformat_minor": 2
}
