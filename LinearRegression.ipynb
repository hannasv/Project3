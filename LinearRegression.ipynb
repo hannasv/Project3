{
 "cells": [
  {
   "cell_type": "markdown",
   "metadata": {},
   "source": [
    "# Predicting cloud cover using Linear regression"
   ]
  },
  {
   "cell_type": "code",
   "execution_count": 1,
   "metadata": {},
   "outputs": [],
   "source": [
    "import numpy as np\n",
    "import scipy.sparse as sp\n",
    "np.random.seed(12)\n",
    "\n",
    "import warnings\n",
    "#Comment this to turn on warnings\n",
    "warnings.filterwarnings('ignore')\n",
    "\n",
    "from model_comparison import model_comparison\n",
    "from resample import resample\n",
    "import algorithms\n",
    "import matplotlib.pyplot as plt\n",
    "import seaborn as sns\n",
    "import netCDF4 as n\n",
    "from sklearn.linear_model import LinearRegression\n",
    "\n",
    "from mpl_toolkits.axes_grid1 import make_axes_locatable\n",
    "%matplotlib inline\n",
    "\n",
    "from utils import mean_squared_error, r2_score, A_R2, NRMSE, transforming_predictorspace, standardicing_responce, train_test_split\n",
    "#%matplotlib notebook\n",
    "\n",
    "from sklearn.preprocessing import StandardScaler"
   ]
  },
  {
   "cell_type": "code",
   "execution_count": 2,
   "metadata": {},
   "outputs": [],
   "source": [
    "def logit_inv(x): \n",
    "    return np.exp(x)/(1 + np.exp(x))\n",
    "\n",
    "def logit(x):\n",
    "    return np.log(x+1e-12) - np.log(1+1e-12-x)\n",
    "\n",
    "def standardicing_responce(y):\n",
    "    return (y-np.mean(y))/np.std(y)"
   ]
  },
  {
   "cell_type": "markdown",
   "metadata": {},
   "source": [
    "# Reading in the data"
   ]
  },
  {
   "cell_type": "code",
   "execution_count": 3,
   "metadata": {},
   "outputs": [],
   "source": [
    "# reading test\n",
    "path = \"./files/\"\n",
    "filenames = [\"specific_humidity_Europa_sp.nc\", \"relative_humidity_Europa_sp.nc\", \"pressure_Europa_sp.nc\",  \n",
    "             \"temperature_Europa_sp.nc\", \"total_cloud_cover_Europa_sp.nc\"]\n",
    "\n",
    "\n",
    "cloud = n.Dataset(path + filenames[-1], \"r\")\n",
    "relative = n.Dataset(path + filenames[1], \"r\")\n",
    "specific = n.Dataset(path + filenames[0], \"r\")\n",
    "pressure = n.Dataset(path + filenames[2], \"r\")\n",
    "temperature = n.Dataset(path + filenames[3], \"r\")"
   ]
  },
  {
   "cell_type": "code",
   "execution_count": 4,
   "metadata": {},
   "outputs": [],
   "source": [
    "tcc = cloud.variables[\"tcc\"][:][:][:].data\n",
    "rel = relative.variables[\"r\"][:][:][:][:].data\n",
    "spe = specific.variables[\"q\"][:][:][:][:].data\n",
    "surf_pre = pressure.variables[\"sp\"][:][:][:].data\n",
    "temp = temperature.variables[\"t2m\"][:][:][:].data"
   ]
  },
  {
   "cell_type": "code",
   "execution_count": 5,
   "metadata": {},
   "outputs": [
    {
     "data": {
      "text/plain": [
       "(32, 6, 61, 77)"
      ]
     },
     "execution_count": 5,
     "metadata": {},
     "output_type": "execute_result"
    }
   ],
   "source": [
    "rel.shape"
   ]
  },
  {
   "cell_type": "code",
   "execution_count": 6,
   "metadata": {},
   "outputs": [
    {
     "data": {
      "text/plain": [
       "(32, 61, 77)"
      ]
     },
     "execution_count": 6,
     "metadata": {},
     "output_type": "execute_result"
    }
   ],
   "source": [
    "temp.shape"
   ]
  },
  {
   "cell_type": "code",
   "execution_count": 7,
   "metadata": {},
   "outputs": [],
   "source": [
    "# Choosing the number of days for training and testing."
   ]
  },
  {
   "cell_type": "code",
   "execution_count": 8,
   "metadata": {},
   "outputs": [],
   "source": [
    "# for one certain timestep \n",
    "\n",
    "n_days = 7\n",
    "\n",
    "TCC = []\n",
    "REL = []\n",
    "SPE = []\n",
    "PRE = []\n",
    "TEMP = []\n",
    "\n",
    "\n",
    "for t in range(n_days*4):\n",
    "    TCC.append(tcc[t][:][:].flatten())\n",
    "    #print(rel[t][0].flatten().shape)\n",
    "    REL.append(rel[t][0][:][:].flatten())\n",
    "    SPE.append(spe[t][0][:][:].flatten())\n",
    "    PRE.append(surf_pre[t][:][:].flatten())\n",
    "    TEMP.append(temp[t][:][:].flatten())\n"
   ]
  },
  {
   "cell_type": "code",
   "execution_count": 9,
   "metadata": {},
   "outputs": [],
   "source": [
    "y =(np.array(TCC).flatten())\n",
    "temp = y[y<1]\n",
    "#y[y>1] = temp.max()\n",
    "#X = np.array([np.array(REL).flatten(), np.array(SPE).flatten(), np.array(PRE).flatten(), np.array(TEMP).flatten()])\n",
    "#y = logit(np.array(TCC).flatten())"
   ]
  },
  {
   "cell_type": "code",
   "execution_count": 10,
   "metadata": {},
   "outputs": [
    {
     "data": {
      "text/plain": [
       "0.9999694810258271"
      ]
     },
     "execution_count": 10,
     "metadata": {},
     "output_type": "execute_result"
    }
   ],
   "source": [
    "# Need to determine the largest number smaller than zero to swap all elements larger than one with this...\n",
    "temp.max()"
   ]
  },
  {
   "cell_type": "code",
   "execution_count": 11,
   "metadata": {},
   "outputs": [],
   "source": [
    "y[y>1] = temp.max()"
   ]
  },
  {
   "cell_type": "code",
   "execution_count": 12,
   "metadata": {},
   "outputs": [],
   "source": [
    "X = np.array([np.array(REL).flatten(), np.array(SPE).flatten(), np.array(PRE).flatten(), np.array(TEMP).flatten()])\n",
    "y = logit(np.array(TCC).flatten())"
   ]
  },
  {
   "cell_type": "code",
   "execution_count": 13,
   "metadata": {},
   "outputs": [
    {
     "data": {
      "text/plain": [
       "(131516,)"
      ]
     },
     "execution_count": 13,
     "metadata": {},
     "output_type": "execute_result"
    }
   ],
   "source": [
    "y.shape"
   ]
  },
  {
   "cell_type": "code",
   "execution_count": 14,
   "metadata": {},
   "outputs": [
    {
     "data": {
      "text/plain": [
       "((131516,), (131516,), (131516,), (131516,))"
      ]
     },
     "execution_count": 14,
     "metadata": {},
     "output_type": "execute_result"
    }
   ],
   "source": [
    "X[0].shape, X[1].shape ,X[2].shape, X[3].shape"
   ]
  },
  {
   "cell_type": "code",
   "execution_count": 15,
   "metadata": {},
   "outputs": [],
   "source": [
    "X = X.transpose()"
   ]
  },
  {
   "cell_type": "code",
   "execution_count": 16,
   "metadata": {},
   "outputs": [
    {
     "data": {
      "text/plain": [
       "(131516, 4)"
      ]
     },
     "execution_count": 16,
     "metadata": {},
     "output_type": "execute_result"
    }
   ],
   "source": [
    "X.shape"
   ]
  },
  {
   "cell_type": "code",
   "execution_count": 17,
   "metadata": {},
   "outputs": [
    {
     "data": {
      "text/plain": [
       "(36.04365338911915, -26.93794050959591)"
      ]
     },
     "execution_count": 17,
     "metadata": {},
     "output_type": "execute_result"
    }
   ],
   "source": [
    "y.max(), y.min()"
   ]
  },
  {
   "cell_type": "code",
   "execution_count": null,
   "metadata": {},
   "outputs": [],
   "source": []
  },
  {
   "cell_type": "markdown",
   "metadata": {},
   "source": [
    "\n",
    "# Regression analysis combined with applying a logit transformation."
   ]
  },
  {
   "cell_type": "code",
   "execution_count": 18,
   "metadata": {
    "scrolled": false
   },
   "outputs": [
    {
     "name": "stdout",
     "output_type": "stream",
     "text": [
      "Testing model: ols\n",
      "Testing model: ridge\n",
      "Testing model: lasso\n",
      "3\n"
     ]
    }
   ],
   "source": [
    "# Experimental setup\n",
    "models = {\n",
    "    \"ols\": algorithms.OLS,\n",
    "    'ridge': algorithms.Ridge, \n",
    "    \"lasso\": algorithms.Lasso\n",
    "}\n",
    "\n",
    "param_grid = {\n",
    "    'ols': [0],\n",
    "    'ridge': [0.0001, 0.001, 0.01, 0.1, 1.0, 10.0, 100, 10**3, 10**4, 10**5],  \n",
    "    'lasso': [0.0001, 0.001, 0.01, 0.1, 1.0, 10.0, 100, 10**3, 10**4, 10**5]\n",
    "}\n",
    "\n",
    "# Choosing the same splitsize as the notebook in order to compare. \n",
    "results, z_pred_best, coeffs = model_comparison(\n",
    "    models, param_grid, X, y, split_size=0.2, feature_scale = False\n",
    "    )"
   ]
  },
  {
   "cell_type": "code",
   "execution_count": 19,
   "metadata": {},
   "outputs": [
    {
     "data": {
      "text/plain": [
       "[[array([ 4.83541040e-01, -1.49676460e+03,  2.57965826e-05,  1.54448509e-01]),\n",
       "  array([ 2.51916351e-02, -0.00000000e+00,  4.63404493e-06, -1.64713918e-02]),\n",
       "  array([ 2.51819007e-02, -0.00000000e+00,  4.57738678e-06, -1.63140113e-02]),\n",
       "  array([ 2.50845468e-02, -0.00000000e+00,  4.01082120e-06, -1.47402153e-02]),\n",
       "  array([ 2.39112751e-02, -0.00000000e+00, -1.19702681e-06, -0.00000000e+00]),\n",
       "  array([ 0.00000000e+00, -0.00000000e+00, -5.30376707e-06, -0.00000000e+00]),\n",
       "  array([ 0., -0., -0., -0.]),\n",
       "  array([ 0., -0., -0., -0.]),\n",
       "  array([ 0., -0., -0., -0.]),\n",
       "  array([ 0., -0., -0., -0.])]]"
      ]
     },
     "execution_count": 19,
     "metadata": {},
     "output_type": "execute_result"
    }
   ],
   "source": [
    "coeffs[\"lasso\"]"
   ]
  },
  {
   "cell_type": "code",
   "execution_count": 20,
   "metadata": {},
   "outputs": [
    {
     "data": {
      "text/plain": [
       "[[1.3607696512954144,\n",
       "  1.1935419263075417,\n",
       "  1.1933263070704312,\n",
       "  1.1914992700991653,\n",
       "  1.225810816597163,\n",
       "  2.087006241435186,\n",
       "  nan,\n",
       "  nan,\n",
       "  nan,\n",
       "  nan]]"
      ]
     },
     "execution_count": 20,
     "metadata": {},
     "output_type": "execute_result"
    }
   ],
   "source": [
    "results[\"mse_test\"][\"lasso\"]"
   ]
  },
  {
   "cell_type": "code",
   "execution_count": 21,
   "metadata": {
    "scrolled": true
   },
   "outputs": [
    {
     "data": {
      "text/plain": [
       "dict_keys(['mse_test', 'mse_train', 'r2_test', 'r2_train'])"
      ]
     },
     "execution_count": 21,
     "metadata": {},
     "output_type": "execute_result"
    }
   ],
   "source": [
    "results.keys()"
   ]
  },
  {
   "cell_type": "code",
   "execution_count": 22,
   "metadata": {},
   "outputs": [
    {
     "data": {
      "text/plain": [
       "[[-0.3627915261377852,\n",
       "  -0.18388201157805883,\n",
       "  -0.18319835662460182,\n",
       "  -0.17873549299657387,\n",
       "  -0.17480276606895417,\n",
       "  -0.17640025138250492,\n",
       "  -0.17675959538412078,\n",
       "  -0.1767986026961148,\n",
       "  -0.17680425811869926,\n",
       "  -0.17682207493578406]]"
      ]
     },
     "execution_count": 22,
     "metadata": {},
     "output_type": "execute_result"
    }
   ],
   "source": [
    "results[\"r2_test\"][\"ridge\"]"
   ]
  },
  {
   "cell_type": "code",
   "execution_count": 23,
   "metadata": {},
   "outputs": [
    {
     "data": {
      "text/plain": [
       "[[-0.35696947165598636]]"
      ]
     },
     "execution_count": 23,
     "metadata": {},
     "output_type": "execute_result"
    }
   ],
   "source": [
    "results[\"r2_test\"][\"ols\"]"
   ]
  },
  {
   "cell_type": "code",
   "execution_count": 24,
   "metadata": {},
   "outputs": [
    {
     "data": {
      "image/png": "[encoded data removed]",
      "text/plain": [
       "<Figure size 936x504 with 2 Axes>"
      ]
     },
     "metadata": {},
     "output_type": "display_data"
    }
   ],
   "source": [
    "# Generate figure\n",
    "\n",
    "# MSE\n",
    "plt.figure(1, figsize = (13,7))\n",
    "plt.subplot(1,2,1)\n",
    "xlogr = np.log10(param_grid['ridge'])  # log x-axis\n",
    "plt.plot(xlogr, (results[\"mse_train\"][\"ols\"]*np.ones(len(xlogr))).T, 'r', label='OLS (train)', linewidth=3.0) \n",
    "plt.plot(xlogr, (results[\"mse_test\"][\"ols\"]*np.ones(len(xlogr))).T, 'r--', label='OLS (test)',  linewidth=3.0) \n",
    "plt.plot(xlogr, np.asarray(results[\"mse_train\"][\"ridge\"]).T, 'b', label='Ridge (train)', linewidth=3.0) \n",
    "plt.plot(xlogr, np.asarray(results[\"mse_test\"][\"ridge\"]).T, 'b--', label='Ridge (test)', linewidth=3.0) \n",
    "plt.plot(xlogr, np.asarray(results[\"mse_train\"][\"lasso\"]).T, 'g', label='LASSO (train)', linewidth=3.0) \n",
    "plt.plot(xlogr, np.asarray(results[\"mse_test\"][\"lasso\"]).T, 'g--', label='LASSO (test)', linewidth=3.0) \n",
    "ax = plt.gca()\n",
    "plt.xticks(np.asarray(xlogr))\n",
    "ax.set_xticklabels(param_grid['ridge'])\n",
    "plt.xlabel('λ', fontsize=14)\n",
    "plt.ylabel('MSE', fontsize=14)\n",
    "plt.legend()\n",
    "\n",
    "# R-squared\n",
    "plt.subplot(1,2,2)\n",
    "plt.plot(xlogr, (results[\"r2_train\"][\"ols\"]*np.ones(len(xlogr))).T, 'r', label='OLS (train)', linewidth=3.0) \n",
    "plt.plot(xlogr, (results[\"r2_test\"][\"ols\"]*np.ones(len(xlogr))).T, 'r--', label='OLS (test)', linewidth=3.0) \n",
    "plt.plot(xlogr, np.asarray(results[\"r2_train\"][\"ridge\"]).T, 'b', label='Ridge (train)', linewidth=3.0) \n",
    "plt.plot(xlogr, np.asarray(results[\"r2_test\"][\"ridge\"]).T, 'b--', label='Ridge (test)', linewidth=3.0) \n",
    "plt.plot(xlogr, np.asarray(results[\"r2_train\"][\"lasso\"]).T, 'g', label='LASSO (train)', linewidth=3.0) \n",
    "plt.plot(xlogr, np.asarray(results[\"r2_test\"][\"lasso\"]).T, 'g--', label='LASSO (test)', linewidth=3.0) \n",
    "ax = plt.gca()\n",
    "plt.xticks(np.asarray(xlogr))\n",
    "ax.set_xticklabels(param_grid['ridge'])\n",
    "plt.xlabel('λ', fontsize=14)\n",
    "plt.ylabel('R2', fontsize=14)\n",
    "plt.legend()\n",
    "plt.suptitle(\"Performance of OLS, Ridge and LASSO regressions with logit transformation\", y=1.05, fontsize=17)\n",
    "plt.savefig(\"results/figures/metric_regression_on_allData_with_Logit.png\", bbox_inches = \"tight\")\n",
    "plt.tight_layout()    \n",
    "plt.show()"
   ]
  },
  {
   "cell_type": "markdown",
   "metadata": {},
   "source": [
    "# Regression analysis without any transformation, cloud cover fractions \\in [0,1]"
   ]
  },
  {
   "cell_type": "code",
   "execution_count": 25,
   "metadata": {},
   "outputs": [
    {
     "name": "stdout",
     "output_type": "stream",
     "text": [
      "Testing model: ols\n",
      "Testing model: ridge\n",
      "Testing model: lasso\n",
      "0\n"
     ]
    }
   ],
   "source": [
    "y = logit_inv(y) #transforming the data back. \n",
    "\n",
    "results, z_pred_best, coeffs = model_comparison(\n",
    "    models, param_grid, X, y, split_size=0.2\n",
    "    )"
   ]
  },
  {
   "cell_type": "code",
   "execution_count": 26,
   "metadata": {},
   "outputs": [
    {
     "data": {
      "image/png": "[encoded data removed]",
      "text/plain": [
       "<Figure size 936x504 with 2 Axes>"
      ]
     },
     "metadata": {},
     "output_type": "display_data"
    }
   ],
   "source": [
    "# Generate figure\n",
    "\n",
    "# MSE\n",
    "plt.figure(1, figsize = (13,7))\n",
    "plt.subplot(1,2,1)\n",
    "xlogr = np.log10(param_grid['ridge'])  # log x-axis\n",
    "plt.plot(xlogr, (results[\"mse_train\"][\"ols\"]*np.ones(len(xlogr))).T, 'r', label='OLS (train)', linewidth=3.0) \n",
    "plt.plot(xlogr, (results[\"mse_test\"][\"ols\"]*np.ones(len(xlogr))).T, 'r--', label='OLS (test)',  linewidth=3.0) \n",
    "plt.plot(xlogr, np.asarray(results[\"mse_train\"][\"ridge\"]).T, 'b', label='Ridge (train)', linewidth=3.0) \n",
    "plt.plot(xlogr, np.asarray(results[\"mse_test\"][\"ridge\"]).T, 'b--', label='Ridge (test)', linewidth=3.0) \n",
    "plt.plot(xlogr, np.asarray(results[\"mse_train\"][\"lasso\"]).T, 'g', label='LASSO (train)', linewidth=3.0) \n",
    "plt.plot(xlogr, np.asarray(results[\"mse_test\"][\"lasso\"]).T, 'g--', label='LASSO (test)', linewidth=3.0) \n",
    "ax = plt.gca()\n",
    "plt.xticks(np.asarray(xlogr))\n",
    "ax.set_xticklabels(param_grid['ridge'])\n",
    "plt.xlabel('λ', fontsize=14)\n",
    "plt.ylabel('MSE', fontsize=14)\n",
    "plt.legend()\n",
    "\n",
    "# R-squared\n",
    "plt.subplot(1,2,2)\n",
    "plt.plot(xlogr, (results[\"r2_train\"][\"ols\"]*np.ones(len(xlogr))).T, 'r', label='OLS (train)', linewidth=3.0) \n",
    "plt.plot(xlogr, (results[\"r2_test\"][\"ols\"]*np.ones(len(xlogr))).T, 'r--', label='OLS (test)', linewidth=3.0) \n",
    "plt.plot(xlogr, np.asarray(results[\"r2_train\"][\"ridge\"]).T, 'b', label='Ridge (train)', linewidth=3.0) \n",
    "plt.plot(xlogr, np.asarray(results[\"r2_test\"][\"ridge\"]).T, 'b--', label='Ridge (test)', linewidth=3.0) \n",
    "plt.plot(xlogr, np.asarray(results[\"r2_train\"][\"lasso\"]).T, 'g', label='LASSO (train)', linewidth=3.0) \n",
    "plt.plot(xlogr, np.asarray(results[\"r2_test\"][\"lasso\"]).T, 'g--', label='LASSO (test)', linewidth=3.0) \n",
    "ax = plt.gca()\n",
    "plt.xticks(np.asarray(xlogr))\n",
    "ax.set_xticklabels(param_grid['ridge'])\n",
    "plt.xlabel('λ', fontsize=14)\n",
    "plt.ylabel('R2', fontsize=14)\n",
    "plt.legend()\n",
    "plt.suptitle(\"Performance of OLS, Ridge and LASSO regressions without logit transformation\", y=1.05, fontsize=17)\n",
    "plt.savefig(\"results/figures/metric_regression_on_allData_withoutLogit.png\", bbox_inches = \"tight\")\n",
    "plt.tight_layout()    \n",
    "plt.show()"
   ]
  },
  {
   "cell_type": "code",
   "execution_count": null,
   "metadata": {},
   "outputs": [],
   "source": []
  },
  {
   "cell_type": "code",
   "execution_count": null,
   "metadata": {},
   "outputs": [],
   "source": []
  },
  {
   "cell_type": "code",
   "execution_count": null,
   "metadata": {},
   "outputs": [],
   "source": []
  },
  {
   "cell_type": "code",
   "execution_count": null,
   "metadata": {},
   "outputs": [],
   "source": []
  },
  {
   "cell_type": "markdown",
   "metadata": {},
   "source": [
    "# Determining which feature is most important"
   ]
  },
  {
   "cell_type": "markdown",
   "metadata": {},
   "source": [
    "## Results:"
   ]
  },
  {
   "cell_type": "markdown",
   "metadata": {
    "collapsed": true
   },
   "source": [
    "# Bias and variance discussion "
   ]
  },
  {
   "cell_type": "code",
   "execution_count": 27,
   "metadata": {},
   "outputs": [
    {
     "data": {
      "text/plain": [
       "(2, 4)"
      ]
     },
     "execution_count": 27,
     "metadata": {},
     "output_type": "execute_result"
    }
   ],
   "source": [
    "# Experimental setup\n",
    "models = {\n",
    "    \"ols\": algorithms.OLS, \n",
    "    \"ridge\": algorithms.Ridge, \n",
    "    \"lasso\": algorithms.Lasso, \n",
    "}\n",
    "\n",
    "lmd = {\n",
    "    'ols': [0],\n",
    "    'lasso': [0.001],\n",
    "    'ridge':[0.001]\n",
    "    \n",
    "}\n",
    "nboots = 100\n",
    "\n",
    "z_test, z_pred_test, bias, var, beta, mse_test, mse_train, ci_beta = resample(models, lmd, X, y, nboots, split_size = 0.2)\n",
    "\n",
    "ci_beta.shape"
   ]
  },
  {
   "cell_type": "code",
   "execution_count": 28,
   "metadata": {},
   "outputs": [
    {
     "data": {
      "text/plain": [
       "(2, 4)"
      ]
     },
     "execution_count": 28,
     "metadata": {},
     "output_type": "execute_result"
    }
   ],
   "source": [
    "ci_beta.shape # Muligens ikke så mys vits med konfidenseintervall av disse dimensjoner. "
   ]
  },
  {
   "cell_type": "code",
   "execution_count": 29,
   "metadata": {},
   "outputs": [
    {
     "data": {
      "text/plain": [
       "{'ridge': 0.09466480292067736,\n",
       " 'lasso': 0.09577863742129802,\n",
       " 'ols': 0.09466601995640592}"
      ]
     },
     "execution_count": 29,
     "metadata": {},
     "output_type": "execute_result"
    }
   ],
   "source": [
    "bias"
   ]
  },
  {
   "cell_type": "code",
   "execution_count": 30,
   "metadata": {},
   "outputs": [
    {
     "data": {
      "text/plain": [
       "{'ridge': 3.624209891666375e-06,\n",
       " 'lasso': 3.935863199490351e-06,\n",
       " 'ols': 3.47458100485581e-06}"
      ]
     },
     "execution_count": 30,
     "metadata": {},
     "output_type": "execute_result"
    }
   ],
   "source": [
    "var # variance dominates because we don't have so mush data???"
   ]
  },
  {
   "cell_type": "code",
   "execution_count": 31,
   "metadata": {},
   "outputs": [
    {
     "data": {
      "text/plain": [
       "{'ridge': 0.09466842713056901,\n",
       " 'lasso': 0.09578257328449753,\n",
       " 'ols': 0.09466949453741079}"
      ]
     },
     "execution_count": 31,
     "metadata": {},
     "output_type": "execute_result"
    }
   ],
   "source": [
    "mse_test"
   ]
  },
  {
   "cell_type": "code",
   "execution_count": 32,
   "metadata": {},
   "outputs": [
    {
     "data": {
      "text/plain": [
       "0.09466949453741078"
      ]
     },
     "execution_count": 32,
     "metadata": {},
     "output_type": "execute_result"
    }
   ],
   "source": [
    "bias[\"ols\"] + var[\"ols\"] "
   ]
  },
  {
   "cell_type": "code",
   "execution_count": 33,
   "metadata": {},
   "outputs": [
    {
     "data": {
      "text/plain": [
       "0.09466842713056903"
      ]
     },
     "execution_count": 33,
     "metadata": {},
     "output_type": "execute_result"
    }
   ],
   "source": [
    "bias[\"ridge\"] + var[\"ridge\"] "
   ]
  },
  {
   "cell_type": "code",
   "execution_count": 34,
   "metadata": {},
   "outputs": [
    {
     "data": {
      "text/plain": [
       "0.09578257328449752"
      ]
     },
     "execution_count": 34,
     "metadata": {},
     "output_type": "execute_result"
    }
   ],
   "source": [
    "bias[\"lasso\"] + var[\"lasso\"] "
   ]
  },
  {
   "cell_type": "markdown",
   "metadata": {},
   "source": [
    "The bias and variance summes to the mse of the ols model."
   ]
  },
  {
   "cell_type": "code",
   "execution_count": 35,
   "metadata": {
    "scrolled": false
   },
   "outputs": [],
   "source": [
    "#logit_inv(z_pred_best[\"lasso\"])"
   ]
  },
  {
   "cell_type": "markdown",
   "metadata": {},
   "source": [
    "# Compare with scikit learn without logit"
   ]
  },
  {
   "cell_type": "code",
   "execution_count": 36,
   "metadata": {},
   "outputs": [],
   "source": [
    "y = logit_inv(y)\n",
    "X_train, X_test, y_train, y_test = train_test_split(X, y, test_size = 0.5)"
   ]
  },
  {
   "cell_type": "code",
   "execution_count": 37,
   "metadata": {},
   "outputs": [
    {
     "data": {
      "text/plain": [
       "0.9026612400414826"
      ]
     },
     "execution_count": 37,
     "metadata": {},
     "output_type": "execute_result"
    }
   ],
   "source": [
    "from sklearn.linear_model import LinearRegression\n",
    "\n",
    "model = LinearRegression()\n",
    "model.fit(X_train, y_train)\n",
    "p = model.predict(X_test)\n",
    "model.score(X_test, y_test) #returns the r2 score\n",
    "\n",
    "p = standardicing_responce(transforming_predictorspace(p))\n",
    "y_test = standardicing_responce(y_test)\n",
    "\n",
    "mean_squared_error(p, y_test)"
   ]
  },
  {
   "cell_type": "code",
   "execution_count": 38,
   "metadata": {},
   "outputs": [
    {
     "data": {
      "text/plain": [
       "array([ 3.59331370e-03, -1.64730953e+01,  1.44731271e-06,  3.04075763e-03])"
      ]
     },
     "execution_count": 38,
     "metadata": {},
     "output_type": "execute_result"
    }
   ],
   "source": [
    "model.coef_"
   ]
  },
  {
   "cell_type": "code",
   "execution_count": 39,
   "metadata": {},
   "outputs": [],
   "source": [
    "# relative humidity, specific humidity, pressure, temprature"
   ]
  },
  {
   "cell_type": "markdown",
   "metadata": {},
   "source": [
    "# With logit transformation"
   ]
  },
  {
   "cell_type": "code",
   "execution_count": 40,
   "metadata": {},
   "outputs": [
    {
     "data": {
      "text/plain": [
       "array([0.73105258, 0.73105258, 0.73105858, ..., 0.51903464, 0.55011499,\n",
       "       0.62107592])"
      ]
     },
     "execution_count": 40,
     "metadata": {},
     "output_type": "execute_result"
    }
   ],
   "source": [
    "y"
   ]
  },
  {
   "cell_type": "code",
   "execution_count": 41,
   "metadata": {},
   "outputs": [],
   "source": [
    "y = logit(y)"
   ]
  },
  {
   "cell_type": "code",
   "execution_count": 42,
   "metadata": {},
   "outputs": [
    {
     "data": {
      "text/plain": [
       "(1.999511667349907e-12, 0.9999999999976487)"
      ]
     },
     "execution_count": 42,
     "metadata": {},
     "output_type": "execute_result"
    }
   ],
   "source": [
    "y.min(), y.max()"
   ]
  },
  {
   "cell_type": "code",
   "execution_count": 43,
   "metadata": {},
   "outputs": [
    {
     "data": {
      "text/plain": [
       "0.9041869821473925"
      ]
     },
     "execution_count": 43,
     "metadata": {},
     "output_type": "execute_result"
    }
   ],
   "source": [
    "X_train, X_test, y_train, y_test = train_test_split(X, y, test_size = 0.2)\n",
    "\n",
    "model = LinearRegression()\n",
    "model.fit(X_train, y_train)\n",
    "p = model.predict(X_test)\n",
    "model.score(X_test, y_test) #returns the r2 score\n",
    "\n",
    "p = standardicing_responce(transforming_predictorspace(p))\n",
    "y_test = standardicing_responce(y_test)\n",
    "\n",
    "mean_squared_error(p, y_test)\n"
   ]
  },
  {
   "cell_type": "code",
   "execution_count": 44,
   "metadata": {},
   "outputs": [
    {
     "name": "stdout",
     "output_type": "stream",
     "text": [
      "105213 4\n"
     ]
    },
    {
     "data": {
      "text/plain": [
       "0.055707078941135135"
      ]
     },
     "execution_count": 44,
     "metadata": {},
     "output_type": "execute_result"
    }
   ],
   "source": [
    "X_b = logit_inv(p)\n",
    "y_b = logit_inv(y_test)\n",
    "n,p = np.shape(X_train)\n",
    "print(n,p)\n",
    "A_R2(X_b, y_b ,n, p)"
   ]
  },
  {
   "cell_type": "code",
   "execution_count": 45,
   "metadata": {},
   "outputs": [
    {
     "data": {
      "text/plain": [
       "array([ 1.56497232e-02, -7.42122431e+01,  6.20688367e-06,  1.33323358e-02])"
      ]
     },
     "execution_count": 45,
     "metadata": {},
     "output_type": "execute_result"
    }
   ],
   "source": [
    "model.coef_"
   ]
  },
  {
   "cell_type": "code",
   "execution_count": 46,
   "metadata": {},
   "outputs": [],
   "source": [
    "# relative humidity, specific humidity, pressure, temprature"
   ]
  },
  {
   "cell_type": "code",
   "execution_count": null,
   "metadata": {},
   "outputs": [],
   "source": []
  },
  {
   "cell_type": "markdown",
   "metadata": {},
   "source": [
    "# Linear regression using standard scaler"
   ]
  },
  {
   "cell_type": "code",
   "execution_count": 47,
   "metadata": {},
   "outputs": [],
   "source": [
    "X_train, X_test, y_train, y_test = train_test_split(X, y, test_size = 0.2)\n",
    "scaler = StandardScaler()\n",
    "fit = scaler.fit(X_train)\n",
    "X_test = scaler.transform(X_train)\n",
    "X_test = scaler.transform(X_test)"
   ]
  },
  {
   "cell_type": "code",
   "execution_count": 48,
   "metadata": {},
   "outputs": [
    {
     "data": {
      "text/plain": [
       "((105213, 4), (105213, 4), (105213,), (26303,))"
      ]
     },
     "execution_count": 48,
     "metadata": {},
     "output_type": "execute_result"
    }
   ],
   "source": [
    "X_train.shape, X_test.shape, y_train.shape, y_test.shape"
   ]
  },
  {
   "cell_type": "code",
   "execution_count": 49,
   "metadata": {},
   "outputs": [
    {
     "data": {
      "text/plain": [
       "array([0.99996948, 0.99996948, 1.        , ..., 0.07617536, 0.20113531,\n",
       "       0.49411747])"
      ]
     },
     "execution_count": 49,
     "metadata": {},
     "output_type": "execute_result"
    }
   ],
   "source": [
    "y"
   ]
  },
  {
   "cell_type": "code",
   "execution_count": 50,
   "metadata": {},
   "outputs": [
    {
     "name": "stdout",
     "output_type": "stream",
     "text": [
      "Testing model: ols\n",
      "Testing model: ridge\n",
      "Testing model: lasso\n",
      "0\n"
     ]
    }
   ],
   "source": [
    "# Experimental setup\n",
    "models = {\n",
    "    \"ols\": algorithms.OLS,\n",
    "    #\"ols\": LinearRegression,\n",
    "    'ridge': algorithms.Ridge, \n",
    "    \"lasso\": algorithms.Lasso\n",
    "}\n",
    "param_grid = {\n",
    "    'ols': [0],\n",
    "    'ridge': [0.0001, 0.001, 0.01, 0.1, 1.0, 10.0, 100, 10**3, 10**4, 10**5],  \n",
    "    'lasso': [0.0001, 0.001, 0.01, 0.1, 1.0, 10.0, 100, 10**3, 10**4, 10**5]\n",
    "}\n",
    "\n",
    "# Choosing the same splitsize as the notebook in order to compare. \n",
    "results, z_pred_best, coeffs = model_comparison(\n",
    "    models, param_grid, X_train, y_train, split_size=0.2, feature_scale = True,\n",
    "    )"
   ]
  },
  {
   "cell_type": "code",
   "execution_count": 51,
   "metadata": {},
   "outputs": [
    {
     "data": {
      "image/png": "[encoded data removed]",
      "text/plain": [
       "<Figure size 936x504 with 2 Axes>"
      ]
     },
     "metadata": {},
     "output_type": "display_data"
    }
   ],
   "source": [
    "# Generate figure\n",
    "\n",
    "# MSE\n",
    "plt.figure(1, figsize = (13,7))\n",
    "plt.subplot(1,2,1)\n",
    "xlogr = np.log10(param_grid['ridge'])  # log x-axis\n",
    "plt.plot(xlogr, (results[\"mse_train\"][\"ols\"]*np.ones(len(xlogr))).T, 'r', label='OLS (train)', linewidth=3.0) \n",
    "plt.plot(xlogr, (results[\"mse_test\"][\"ols\"]*np.ones(len(xlogr))).T, 'r--', label='OLS (test)',  linewidth=3.0) \n",
    "plt.plot(xlogr, np.asarray(results[\"mse_train\"][\"ridge\"]).T, 'b', label='Ridge (train)', linewidth=3.0) \n",
    "plt.plot(xlogr, np.asarray(results[\"mse_test\"][\"ridge\"]).T, 'b--', label='Ridge (test)', linewidth=3.0) \n",
    "plt.plot(xlogr, np.asarray(results[\"mse_train\"][\"lasso\"]).T, 'g', label='LASSO (train)', linewidth=3.0) \n",
    "plt.plot(xlogr, np.asarray(results[\"mse_test\"][\"lasso\"]).T, 'g--', label='LASSO (test)', linewidth=3.0) \n",
    "ax = plt.gca()\n",
    "plt.xticks(np.asarray(xlogr))\n",
    "ax.set_xticklabels(param_grid['ridge'])\n",
    "plt.xlabel('λ', fontsize=14)\n",
    "plt.ylabel('MSE', fontsize=14)\n",
    "plt.legend()\n",
    "\n",
    "# R-squared\n",
    "plt.subplot(1,2,2)\n",
    "plt.plot(xlogr, (results[\"r2_train\"][\"ols\"]*np.ones(len(xlogr))).T, 'r', label='OLS (train)', linewidth=3.0) \n",
    "plt.plot(xlogr, (results[\"r2_test\"][\"ols\"]*np.ones(len(xlogr))).T, 'r--', label='OLS (test)', linewidth=3.0) \n",
    "plt.plot(xlogr, np.asarray(results[\"r2_train\"][\"ridge\"]).T, 'b', label='Ridge (train)', linewidth=3.0) \n",
    "plt.plot(xlogr, np.asarray(results[\"r2_test\"][\"ridge\"]).T, 'b--', label='Ridge (test)', linewidth=3.0) \n",
    "plt.plot(xlogr, np.asarray(results[\"r2_train\"][\"lasso\"]).T, 'g', label='LASSO (train)', linewidth=3.0) \n",
    "plt.plot(xlogr, np.asarray(results[\"r2_test\"][\"lasso\"]).T, 'g--', label='LASSO (test)', linewidth=3.0) \n",
    "ax = plt.gca()\n",
    "plt.xticks(np.asarray(xlogr))\n",
    "ax.set_xticklabels(param_grid['ridge'])\n",
    "plt.xlabel('λ', fontsize=14)\n",
    "plt.ylabel('R2', fontsize=14)\n",
    "plt.legend()\n",
    "plt.suptitle(\"Performance of OLS, Ridge and LASSO regressions with logit transformation\", y=1.05, fontsize=17)\n",
    "plt.savefig(\"results/figures/metric_regression_on_allData_with_Logit_StandardScaler.png\", bbox_inches = \"tight\")\n",
    "plt.tight_layout()    \n",
    "plt.show()"
   ]
  },
  {
   "cell_type": "code",
   "execution_count": null,
   "metadata": {},
   "outputs": [],
   "source": []
  },
  {
   "cell_type": "code",
   "execution_count": null,
   "metadata": {},
   "outputs": [],
   "source": []
  }
 ],
 "metadata": {
  "kernelspec": {
   "display_name": "Python 3",
   "language": "python",
   "name": "python3"
  },
  "language_info": {
   "codemirror_mode": {
    "name": "ipython",
    "version": 3
   },
   "file_extension": ".py",
   "mimetype": "text/x-python",
   "name": "python",
   "nbconvert_exporter": "python",
   "pygments_lexer": "ipython3",
   "version": "3.6.5"
  }
 },
 "nbformat": 4,
 "nbformat_minor": 2
}
