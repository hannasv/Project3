{
 "cells": [
  {
   "cell_type": "markdown",
   "metadata": {},
   "source": [
    "# Predicting cloud cover using neural networks"
   ]
  },
  {
   "cell_type": "code",
   "execution_count": 17,
   "metadata": {},
   "outputs": [],
   "source": [
    "import numpy as np\n",
    "import scipy.sparse as sp\n",
    "np.random.seed(12)\n",
    "\n",
    "import warnings\n",
    "#Comment this to turn on warnings\n",
    "warnings.filterwarnings('ignore')\n",
    "\n",
    "from model_comparison import model_comparison\n",
    "from resample import resample\n",
    "import algorithms\n",
    "import matplotlib.pyplot as plt\n",
    "import seaborn as sns\n",
    "import netCDF4 as n\n",
    "from sklearn.linear_model import LinearRegression\n",
    "#from mpl_toolkits.axes_grid1 import make_axes_locatable\n",
    "\n",
    "from utils import train_test_split\n",
    "%matplotlib inline\n",
    "#%matplotlib notebook\n",
    "\n",
    "from deepNN import NeuralNetRegressor\n",
    "\n",
    "from sklearn.neural_network import MLPRegressor\n",
    "from utils import mean_squared_error, A_R2, NRMSE"
   ]
  },
  {
   "cell_type": "code",
   "execution_count": 18,
   "metadata": {},
   "outputs": [],
   "source": [
    "# reading test\n",
    "path = \"./files/\"\n",
    "filenames = [\"specific_humidity_Europa_sp.nc\", \"relative_humidity_Europa_sp.nc\", \"pressure_Europa_sp.nc\",  \n",
    "             \"temperature_Europa_sp.nc\", \"total_cloud_cover_Europa_sp.nc\"]\n",
    "\n",
    "\n",
    "cloud = n.Dataset(path + filenames[-1], \"r\")\n",
    "relative = n.Dataset(path + filenames[1], \"r\")\n",
    "specific = n.Dataset(path + filenames[0], \"r\")\n",
    "pressure = n.Dataset(path + filenames[2], \"r\")\n",
    "temperature = n.Dataset(path + filenames[3], \"r\")"
   ]
  },
  {
   "cell_type": "code",
   "execution_count": 19,
   "metadata": {},
   "outputs": [],
   "source": [
    "#print(cloud.variables)\n",
    "tcc = cloud.variables[\"tcc\"][:][:][:].data\n",
    "\n",
    "# Retriving ground values, these are available at six different pressure levels. \n",
    "rel = relative.variables[\"r\"][:][:][:][:].data\n",
    "#level = relative.variables[\"level\"][:][0].data\n",
    "spe = specific.variables[\"q\"][:][:][:][:].data\n",
    "\n",
    "surf_pre = pressure.variables[\"sp\"][:][:][:].data\n",
    "temp = temperature.variables[\"t2m\"][:][:][:].data"
   ]
  },
  {
   "cell_type": "code",
   "execution_count": 20,
   "metadata": {},
   "outputs": [],
   "source": [
    "def logit_inv(x): # sigmoid?\n",
    "    return np.exp(x)/(1+np.exp(x))\n",
    "\n",
    "def logit(x):\n",
    "    return np.log((x + 1e-12)/(1+1e-12 - x))"
   ]
  },
  {
   "cell_type": "code",
   "execution_count": 21,
   "metadata": {},
   "outputs": [],
   "source": [
    "# for one certain timestep \n",
    "\n",
    "n_days = 7\n",
    "\n",
    "TCC = []\n",
    "REL = []\n",
    "SPE = []\n",
    "PRE = []\n",
    "TEMP = []\n",
    "\n",
    "\n",
    "for t in range(int(n_days*4)):\n",
    "    TCC.append(tcc[t][:][:].flatten())\n",
    "    REL.append(rel[t][0][:][:].flatten())\n",
    "    SPE.append(spe[t][0][:][:].flatten())\n",
    "    PRE.append(surf_pre[t][:][:].flatten())\n",
    "    TEMP.append(temp[t][:][:].flatten())\n"
   ]
  },
  {
   "cell_type": "code",
   "execution_count": 22,
   "metadata": {},
   "outputs": [],
   "source": [
    "y =(np.array(TCC).flatten())\n",
    "temp = y[y<1]\n",
    "y[y>1] = temp.max()\n",
    "\n",
    "X = np.array([np.array(REL).flatten(), np.array(SPE).flatten(), np.array(PRE).flatten(), np.array(TEMP).flatten()])\n",
    "y = logit(np.array(TCC).flatten())"
   ]
  },
  {
   "cell_type": "code",
   "execution_count": 23,
   "metadata": {},
   "outputs": [
    {
     "data": {
      "text/plain": [
       "(9.99866855977416e-13, 1.0000000000009999)"
      ]
     },
     "execution_count": 23,
     "metadata": {},
     "output_type": "execute_result"
    }
   ],
   "source": [
    "np.array(TCC).min(), np.array(TCC).max()"
   ]
  },
  {
   "cell_type": "code",
   "execution_count": 24,
   "metadata": {},
   "outputs": [
    {
     "data": {
      "text/plain": [
       "(-26.93794050959591, 36.04365338911916)"
      ]
     },
     "execution_count": 24,
     "metadata": {},
     "output_type": "execute_result"
    }
   ],
   "source": [
    "y.min(), y.max()"
   ]
  },
  {
   "cell_type": "code",
   "execution_count": 25,
   "metadata": {},
   "outputs": [
    {
     "data": {
      "text/plain": [
       "((131516,), (131516,), (131516,), (131516,), (131516,))"
      ]
     },
     "execution_count": 25,
     "metadata": {},
     "output_type": "execute_result"
    }
   ],
   "source": [
    "np.shape(X[0]),np.shape(X[1]),np.shape(X[2]),np.shape(X[3]), np.shape(y)"
   ]
  },
  {
   "cell_type": "code",
   "execution_count": 26,
   "metadata": {},
   "outputs": [],
   "source": [
    "y = y.reshape((len(y),1))\n",
    "X = X.T"
   ]
  },
  {
   "cell_type": "code",
   "execution_count": 27,
   "metadata": {},
   "outputs": [
    {
     "data": {
      "text/plain": [
       "((131516, 4), (131516, 1))"
      ]
     },
     "execution_count": 27,
     "metadata": {},
     "output_type": "execute_result"
    }
   ],
   "source": [
    "np.shape(X), np.shape(y)"
   ]
  },
  {
   "cell_type": "code",
   "execution_count": 28,
   "metadata": {},
   "outputs": [
    {
     "data": {
      "text/plain": [
       "'from sklearn.preprocessing import StandardScaler\\nscaler = StandardScaler()\\nfit = scaler.fit(X_train)\\n\\nX_train = scaler.transform(X_train)\\nX_test = scaler.transform(X_test)'"
      ]
     },
     "execution_count": 28,
     "metadata": {},
     "output_type": "execute_result"
    }
   ],
   "source": [
    "#X_train, X_test, y_train, y_test = train_test_split(X, y, split_size = 0.2)\n",
    "import sklearn.model_selection as s\n",
    "X_train, X_test, y_train, y_test = s.train_test_split(X, y, test_size = 0.2)\n",
    "\n",
    "\"\"\"from sklearn.preprocessing import StandardScaler\n",
    "scaler = StandardScaler()\n",
    "fit = scaler.fit(X_train)\n",
    "\n",
    "X_train = scaler.transform(X_train)\n",
    "X_test = scaler.transform(X_test)\"\"\""
   ]
  },
  {
   "cell_type": "code",
   "execution_count": 29,
   "metadata": {},
   "outputs": [
    {
     "data": {
      "text/plain": [
       "((105212, 4), (26304, 4), (105212, 1), (26304, 1))"
      ]
     },
     "execution_count": 29,
     "metadata": {},
     "output_type": "execute_result"
    }
   ],
   "source": [
    "np.shape(X_train), np.shape(X_test), np.shape(y_train),  np.shape(y_test)"
   ]
  },
  {
   "cell_type": "code",
   "execution_count": 30,
   "metadata": {},
   "outputs": [
    {
     "data": {
      "text/plain": [
       "(36.04365338911916, -26.93794050959591)"
      ]
     },
     "execution_count": 30,
     "metadata": {},
     "output_type": "execute_result"
    }
   ],
   "source": [
    "y_train.max(), y_train.min()"
   ]
  },
  {
   "cell_type": "code",
   "execution_count": 33,
   "metadata": {
    "scrolled": false
   },
   "outputs": [],
   "source": [
    "n_nodes = [10,30,50,100, 500]\n",
    "eta = [0.0001, 0.001, 0.01, 0.1, 1.0]\n",
    "lmd = [0.0001, 0.001, 0.01, 0.1, 1.0, 10]\n",
    "epochs = [10,50,100]\n",
    "batch_s = [1,10,50]\n",
    "\n",
    "\n",
    "#for e in epochs:\n",
    "#    for b in batch_s:\n",
    "#        for et in eta:\n",
    "#            for n in n_nodes:\n",
    "model = NeuralNetRegressor(n_hidden = [30, 20],  \n",
    "                           epochs=100, \n",
    "                           eta=0.001, \n",
    "                           shuffle=True, \n",
    "                           batch_size=1,\n",
    "                           seed=None, \n",
    "                           alpha=0.0001, # dette er for relu ikke det samme som penaltien i scikit learn  \n",
    "                           activation='sigmoid')\n",
    "\n",
    "p = model.fit(X_train, y_train, X_test, y_test)\n",
    "l = model.predict(X_test)\n",
    "#print(\" \")\n",
    "#print( \" for epochs :\" + str(e) + \" for bactsize : \" + str(b) + \" learningrat e : \" + str(et) + \"noden in middle layer n: \" + str(n) + \" traininperformance ois \" + str(p.eval_['train_preform']) + \"validation performance is \"+ str(p.eval_['valid_preform']))\n",
    "#print(\" \")\n",
    "\n",
    "                "
   ]
  },
  {
   "cell_type": "code",
   "execution_count": null,
   "metadata": {},
   "outputs": [],
   "source": [
    "#p.eval_['train_preform']"
   ]
  },
  {
   "cell_type": "code",
   "execution_count": null,
   "metadata": {},
   "outputs": [],
   "source": [
    "#p.eval_['valid_preform']"
   ]
  },
  {
   "cell_type": "code",
   "execution_count": 34,
   "metadata": {},
   "outputs": [],
   "source": [
    "tr = p.eval_['cost_train']\n",
    "te = p.eval_['cost_test']\n",
    "\n",
    "x = np.arange(100)"
   ]
  },
  {
   "cell_type": "code",
   "execution_count": 35,
   "metadata": {},
   "outputs": [],
   "source": [
    "temp = []\n",
    "temp2 = []\n",
    "for i in range(len(x)):\n",
    "    temp.append(tr[i][0][0])\n",
    "    temp2.append(te[i][0][0])"
   ]
  },
  {
   "cell_type": "code",
   "execution_count": 36,
   "metadata": {},
   "outputs": [
    {
     "data": {
      "image/png": "[encoded data removed]",
      "text/plain": [
       "<Figure size 1440x720 with 1 Axes>"
      ]
     },
     "metadata": {},
     "output_type": "display_data"
    }
   ],
   "source": [
    "plt.figure(figsize = (20,10))\n",
    "plt.plot(x,temp, label = \"cost train\")\n",
    "#plt.plot(x,temp2, label = \"cost test\")\n",
    "plt.legend()\n",
    "plt.savefig(\"results/figures/cost_nn.png\")"
   ]
  },
  {
   "cell_type": "code",
   "execution_count": null,
   "metadata": {},
   "outputs": [],
   "source": []
  },
  {
   "cell_type": "code",
   "execution_count": null,
   "metadata": {},
   "outputs": [],
   "source": []
  },
  {
   "cell_type": "code",
   "execution_count": null,
   "metadata": {},
   "outputs": [],
   "source": []
  },
  {
   "cell_type": "code",
   "execution_count": null,
   "metadata": {},
   "outputs": [],
   "source": []
  },
  {
   "cell_type": "code",
   "execution_count": 14,
   "metadata": {},
   "outputs": [],
   "source": [
    "y_train = y_train.ravel()"
   ]
  },
  {
   "cell_type": "code",
   "execution_count": 15,
   "metadata": {},
   "outputs": [
    {
     "data": {
      "text/plain": [
       "array([ 2.94593381,  0.8415567 ,  0.45661411, ...,  1.19026945,\n",
       "       -0.72485788,  1.12914103])"
      ]
     },
     "execution_count": 15,
     "metadata": {},
     "output_type": "execute_result"
    }
   ],
   "source": [
    "y_train"
   ]
  },
  {
   "cell_type": "markdown",
   "metadata": {},
   "source": [
    "# Scikit MLP Regressor using one hidden layer"
   ]
  },
  {
   "cell_type": "code",
   "execution_count": 16,
   "metadata": {
    "scrolled": false
   },
   "outputs": [
    {
     "name": "stdout",
     "output_type": "stream",
     "text": [
      " eta : 0.0001 lmd 0.0001    batch size : 1   mse is 1.0152668287369793 a r2  -358667.42984775547\n",
      " eta : 0.0001 lmd 0.001    batch size : 1   mse is 1.0537711968164556 a r2  -310826.83133555035\n",
      " eta : 0.0001 lmd 0.01    batch size : 1   mse is 4.423568025591926 a r2  -170874.72286245268\n",
      " eta : 0.0001 lmd 0.1    batch size : 1   mse is 0.9978992677088465 a r2  -399994.8472569592\n",
      " eta : 0.0001 lmd 1.0    batch size : 1   mse is 1.5080154420779808 a r2  -185758.3588135766\n",
      " eta : 0.0001 lmd 10    batch size : 1   mse is 1.3022721142126725 a r2  -209466.49252274146\n",
      " eta : 0.001 lmd 0.0001    batch size : 1   mse is 2.4478454879788356 a r2  -inf\n",
      " eta : 0.001 lmd 0.001    batch size : 1   mse is 2.4150933821227296 a r2  -8.991508903297183e+35\n",
      " eta : 0.001 lmd 0.01    batch size : 1   mse is 2.4779753124696664 a r2  -8.090701361405643e+36\n",
      " eta : 0.001 lmd 0.1    batch size : 1   mse is 2.487700620885454 a r2  -8.090608312035414e+36\n",
      " eta : 0.001 lmd 1.0    batch size : 1   mse is 2.483483535462398 a r2  -2.0226609014701442e+36\n",
      " eta : 0.001 lmd 10    batch size : 1   mse is 2.5074679309752987 a r2  -inf\n",
      " eta : 0.01 lmd 0.0001    batch size : 1   mse is 2.7458953643048836 a r2  -inf\n",
      " eta : 0.01 lmd 0.001    batch size : 1   mse is 2.3111367934053915 a r2  -8.999764814463935e+35\n",
      " eta : 0.01 lmd 0.01    batch size : 1   mse is 2.524200858938861 a r2  -8.090613637441243e+36\n",
      " eta : 0.01 lmd 0.1    batch size : 1   mse is 2.5133603116718493 a r2  -2.0226388419093405e+36\n",
      " eta : 0.01 lmd 1.0    batch size : 1   mse is 2.631065137560495 a r2  -8.992732526529114e+35\n",
      " eta : 0.01 lmd 10    batch size : 1   mse is 2.3744633435349893 a r2  -8.993890781504207e+35\n",
      " eta : 0.1 lmd 0.0001    batch size : 1   mse is 2.4058774882349034 a r2  -8.991961852526022e+35\n",
      " eta : 0.1 lmd 0.001    batch size : 1   mse is 2.5857056385238657 a r2  -8.09177829339669e+36\n",
      " eta : 0.1 lmd 0.01    batch size : 1   mse is 2.231732599577912 a r2  -9.01151953332301e+35\n",
      " eta : 0.1 lmd 0.1    batch size : 1   mse is 2.2287464710535385 a r2  -9.012070102473437e+35\n",
      " eta : 0.1 lmd 1.0    batch size : 1   mse is 2.1632813545680447 a r2  -2.0309408831890925e+36\n",
      " eta : 0.1 lmd 10    batch size : 1   mse is 1.7365933407649168 a r2  -2.0931050625812436e+36\n",
      " eta : 1.0 lmd 0.0001    batch size : 1   mse is 0.9524523115405068 a r2  -3.263898389852838e+35\n",
      " eta : 1.0 lmd 0.001    batch size : 1   mse is 0.944034641424644 a r2  -8.039280459204093e+35\n",
      " eta : 1.0 lmd 0.01    batch size : 1   mse is 0.9604640885289285 a r2  -5.327458645989013e+35\n",
      " eta : 1.0 lmd 0.1    batch size : 1   mse is 0.9491318270699101 a r2  -1.0767609346626643e+36\n",
      " eta : 1.0 lmd 1.0    batch size : 1   mse is -1.6407630929938284 a r2  -1.6368538728607808e+36\n",
      " eta : 1.0 lmd 10    batch size : 1   mse is 0.937539310088903 a r2  -inf\n",
      " eta : 0.0001 lmd 0.0001    batch size : 10   mse is 1.3994066456230416 a r2  -198813.55444993376\n",
      " eta : 0.0001 lmd 0.001    batch size : 10   mse is 1.0364128683951732 a r2  -333201.0762146316\n",
      " eta : 0.0001 lmd 0.01    batch size : 10   mse is 6.975871610294421 a r2  -175375.9127186172\n",
      " eta : 0.0001 lmd 0.1    batch size : 10   mse is 27.904980607069522 a r2  -189085.44674970765\n",
      " eta : 0.0001 lmd 1.0    batch size : 10   mse is 1.6045191738750317 a r2  -185500.2764897785\n",
      " eta : 0.0001 lmd 10    batch size : 10   mse is 14.059922486834965 a r2  -186015.9863737408\n",
      " eta : 0.001 lmd 0.0001    batch size : 10   mse is 8.30789797772139 a r2  -173517.0240470634\n",
      " eta : 0.001 lmd 0.001    batch size : 10   mse is 1.026837769261013 a r2  -341659.5827766302\n",
      " eta : 0.001 lmd 0.01    batch size : 10   mse is 2.4749293412331834 a r2  -8.090739031706271e+36\n",
      " eta : 0.001 lmd 0.1    batch size : 10   mse is -4.063491925928929 a r2  -242221.88211403668\n",
      " eta : 0.001 lmd 1.0    batch size : 10   mse is 1.0420807708952018 a r2  -319472.7197966444\n",
      " eta : 0.001 lmd 10    batch size : 10   mse is -2.4630888244020452 a r2  -343181.31203379127\n",
      " eta : 0.01 lmd 0.0001    batch size : 10   mse is 2.4612832008667263 a r2  -inf\n",
      " eta : 0.01 lmd 0.001    batch size : 10   mse is 2.562835101873791 a r2  -inf\n",
      " eta : 0.01 lmd 0.01    batch size : 10   mse is 2.5803848596954664 a r2  -8.091624643973233e+36\n",
      " eta : 0.01 lmd 0.1    batch size : 10   mse is 2.409237279322886 a r2  -8.991790968616517e+35\n",
      " eta : 0.01 lmd 1.0    batch size : 10   mse is 2.6299347659636654 a r2  -2.0233524118011245e+36\n",
      " eta : 0.01 lmd 10    batch size : 10   mse is 2.6815112651949744 a r2  -8.096045016954253e+36\n",
      " eta : 0.1 lmd 0.0001    batch size : 10   mse is 1.3542308394101437 a r2  -5.844536814296406e+35\n",
      " eta : 0.1 lmd 0.001    batch size : 10   mse is -1.689893989036122 a r2  -1.5445108091880812e+36\n",
      " eta : 0.1 lmd 0.01    batch size : 10   mse is 6.4670630993748635 a r2  -3.422786496955765e+37\n",
      " eta : 0.1 lmd 0.1    batch size : 10   mse is 8.597800239781346 a r2  -8.717602059170461e+36\n",
      " eta : 0.1 lmd 1.0    batch size : 10   mse is -1.9417310378162334 a r2  -4.9641745958985155e+36\n",
      " eta : 0.1 lmd 10    batch size : 10   mse is 3.8653633118436574 a r2  -8.244554045729709e+36\n",
      " eta : 1.0 lmd 0.0001    batch size : 10   mse is 2.2565343681514287 a r2  -8.106539233362804e+36\n",
      " eta : 1.0 lmd 0.001    batch size : 10   mse is 2.98256749627851 a r2  -8.122837240142401e+36\n",
      " eta : 1.0 lmd 0.01    batch size : 10   mse is -1.4299351827764686 a r2  -2.3344166909201963e+36\n",
      " eta : 1.0 lmd 0.1    batch size : 10   mse is 2.6512657541218205 a r2  -inf\n",
      " eta : 1.0 lmd 1.0    batch size : 10   mse is 2.727140996725477 a r2  -8.098959655166744e+36\n",
      " eta : 1.0 lmd 10    batch size : 10   mse is 0.9636020317955899 a r2  -6.555692246019885e+35\n",
      " eta : 0.0001 lmd 0.0001    batch size : 50   mse is 2.789499195813394 a r2  -158407.77423823747\n",
      " eta : 0.0001 lmd 0.001    batch size : 50   mse is 8.917607051082083 a r2  -322401.7847090629\n",
      " eta : 0.0001 lmd 0.01    batch size : 50   mse is 2.2419685578635957 a r2  -1512396.9395779672\n",
      " eta : 0.0001 lmd 0.1    batch size : 50   mse is 4.67188707505303 a r2  -247371.8748940475\n",
      " eta : 0.0001 lmd 1.0    batch size : 50   mse is 3.4354398802250325 a r2  -122673.76345029013\n",
      " eta : 0.0001 lmd 10    batch size : 50   mse is -36.35666576004007 a r2  -202090.90818724586\n",
      " eta : 0.001 lmd 0.0001    batch size : 50   mse is 1.1157785998903387 a r2  -317330.4321886217\n",
      " eta : 0.001 lmd 0.001    batch size : 50   mse is -4.922625547372391 a r2  -501241.67263305985\n",
      " eta : 0.001 lmd 0.01    batch size : 50   mse is 1.4065113027530107 a r2  -210804.3417259008\n",
      " eta : 0.001 lmd 0.1    batch size : 50   mse is 0.9389168280609752 a r2  -1281352.6644523598\n",
      " eta : 0.001 lmd 1.0    batch size : 50   mse is -2.3438458688336405 a r2  -379272.64421036554\n",
      " eta : 0.001 lmd 10    batch size : 50   mse is 0.9396651815315142 a r2  -1160502.0118076536\n",
      " eta : 0.01 lmd 0.0001    batch size : 50   mse is 2.4621088041995782 a r2  -8.090943175388751e+36\n",
      " eta : 0.01 lmd 0.001    batch size : 50   mse is 2.429175063479834 a r2  -8.09181999561705e+36\n",
      " eta : 0.01 lmd 0.01    batch size : 50   mse is 0.9496759190896331 a r2  -1029858.9605297102\n",
      " eta : 0.01 lmd 0.1    batch size : 50   mse is 2.4832412634991603 a r2  -2.0226614668797523e+36\n",
      " eta : 0.01 lmd 1.0    batch size : 50   mse is 2.47471331231678 a r2  -inf\n",
      " eta : 0.01 lmd 10    batch size : 50   mse is -1.1714640530011244 a r2  -2899721.3078160407\n",
      " eta : 0.1 lmd 0.0001    batch size : 50   mse is 2.503922720658471 a r2  -8.090543093549817e+36\n",
      " eta : 0.1 lmd 0.001    batch size : 50   mse is 1.1685763966185863 a r2  -1175229.6938824488\n",
      " eta : 0.1 lmd 0.01    batch size : 50   mse is 2.580854240814433 a r2  -8.091637814814746e+36\n",
      " eta : 0.1 lmd 0.1    batch size : 50   mse is 1.8195846222629342 a r2  -762047.6408392172\n",
      " eta : 0.1 lmd 1.0    batch size : 50   mse is 1.4562042325455524 a r2  -1104576.3856188417\n",
      " eta : 0.1 lmd 10    batch size : 50   mse is -1.558816416197253 a r2  -inf\n",
      " eta : 1.0 lmd 0.0001    batch size : 50   mse is 2.51450629468088 a r2  -inf\n",
      " eta : 1.0 lmd 0.001    batch size : 50   mse is 2.3308945041719458 a r2  -8.09786509637965e+36\n",
      " eta : 1.0 lmd 0.01    batch size : 50   mse is 2.5827353733634184 a r2  -8.091691346149195e+36\n",
      " eta : 1.0 lmd 0.1    batch size : 50   mse is 1.8811479323526759 a r2  -2.0608535340931558e+36\n"
     ]
    },
    {
     "name": "stdout",
     "output_type": "stream",
     "text": [
      " eta : 1.0 lmd 1.0    batch size : 50   mse is 2.339119658873412 a r2  -inf\n",
      " eta : 1.0 lmd 10    batch size : 50   mse is 2.1066950490401455 a r2  -9.042722459882836e+35\n"
     ]
    }
   ],
   "source": [
    "#n_nodes = [10,30,50,100, 500]\n",
    "eta = [0.0001, 0.001, 0.01, 0.1, 1.0]\n",
    "lmd = [0.0001, 0.001, 0.01, 0.1, 1.0, 10]\n",
    "#epochs = [10,50,100] Scikit stopper på rett antall epochs\n",
    "batch_s = [1,10,50]\n",
    "\n",
    "n, p = X_train.shape\n",
    "\n",
    "#for e in epochs:\n",
    "\n",
    "for b in batch_s:\n",
    "    for et in eta:\n",
    "        for l in lmd:\n",
    "            mlp = MLPRegressor(hidden_layer_sizes=(30,), \n",
    "                               activation = 'relu', # identity’, ‘logistic’, ‘tanh’, ‘relu’\n",
    "                               solver = \"adam\", \n",
    "                               alpha = l, # penalty\n",
    "                               batch_size = b, \n",
    "                               learning_rate_init = et)\n",
    "\n",
    "            mlp.fit(X_train, y_train)\n",
    "            y_pred = mlp.predict(X_test)\n",
    "            #logistic activation uses the sigmoid function \n",
    "            mse = NRMSE(y_pred, y_test)\n",
    "            ajusted_r2 = A_R2(y_pred, y_test, n, p)\n",
    "            print(\" eta : \" + str(et) + \" lmd \"+ str(l) +\"    batch size : \" +  str(b)   + \"   mse is \" + str(mse) + \" a r2  \" + str(ajusted_r2))"
   ]
  },
  {
   "cell_type": "code",
   "execution_count": null,
   "metadata": {},
   "outputs": [],
   "source": []
  },
  {
   "cell_type": "code",
   "execution_count": null,
   "metadata": {},
   "outputs": [],
   "source": []
  },
  {
   "cell_type": "markdown",
   "metadata": {},
   "source": [
    "# Adding regularization may result in a better preformance despite of the network architecture ..? Doen't apper to be so, but check it out."
   ]
  },
  {
   "cell_type": "code",
   "execution_count": null,
   "metadata": {},
   "outputs": [],
   "source": []
  },
  {
   "cell_type": "code",
   "execution_count": null,
   "metadata": {},
   "outputs": [],
   "source": []
  },
  {
   "cell_type": "code",
   "execution_count": null,
   "metadata": {},
   "outputs": [],
   "source": []
  },
  {
   "cell_type": "code",
   "execution_count": null,
   "metadata": {},
   "outputs": [],
   "source": []
  },
  {
   "cell_type": "code",
   "execution_count": null,
   "metadata": {},
   "outputs": [],
   "source": []
  },
  {
   "cell_type": "code",
   "execution_count": null,
   "metadata": {},
   "outputs": [],
   "source": []
  }
 ],
 "metadata": {
  "kernelspec": {
   "display_name": "Python 3",
   "language": "python",
   "name": "python3"
  },
  "language_info": {
   "codemirror_mode": {
    "name": "ipython",
    "version": 3
   },
   "file_extension": ".py",
   "mimetype": "text/x-python",
   "name": "python",
   "nbconvert_exporter": "python",
   "pygments_lexer": "ipython3",
   "version": "3.6.5"
  }
 },
 "nbformat": 4,
 "nbformat_minor": 2
}
