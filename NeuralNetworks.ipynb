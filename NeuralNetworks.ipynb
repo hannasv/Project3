{
 "cells": [
  {
   "cell_type": "markdown",
   "metadata": {},
   "source": [
    "# Predicting cloud cover using neural networks"
   ]
  },
  {
   "cell_type": "code",
   "execution_count": 21,
   "metadata": {},
   "outputs": [],
   "source": [
    "import numpy as np\n",
    "import scipy.sparse as sp\n",
    "np.random.seed(12)\n",
    "\n",
    "import warnings\n",
    "#Comment this to turn on warnings\n",
    "warnings.filterwarnings('ignore')\n",
    "\n",
    "from model_comparison import model_comparison\n",
    "from resample import resample\n",
    "import algorithms\n",
    "import matplotlib.pyplot as plt\n",
    "import seaborn as sns\n",
    "import netCDF4 as n\n",
    "from sklearn.linear_model import LinearRegression\n",
    "#from mpl_toolkits.axes_grid1 import make_axes_locatable\n",
    "\n",
    "from utils import train_test_split\n",
    "%matplotlib inline\n",
    "#%matplotlib notebook\n",
    "\n",
    "from deepNN import NeuralNetRegressor\n",
    "\n",
    "from sklearn.neural_network import MLPRegressor\n",
    "from utils import mean_squared_error"
   ]
  },
  {
   "cell_type": "code",
   "execution_count": 22,
   "metadata": {},
   "outputs": [],
   "source": [
    "# reading test\n",
    "path = \"./files/\"\n",
    "filenames = [\"specific_humidity_Europa_sp.nc\", \"relative_humidity_Europa_sp.nc\", \"pressure_Europa_sp.nc\",  \n",
    "             \"temperature_Europa_sp.nc\", \"total_cloud_cover_Europa_sp.nc\"]\n",
    "\n",
    "\n",
    "cloud = n.Dataset(path + filenames[-1], \"r\")\n",
    "relative = n.Dataset(path + filenames[1], \"r\")\n",
    "specific = n.Dataset(path + filenames[0], \"r\")\n",
    "pressure = n.Dataset(path + filenames[2], \"r\")\n",
    "temperature = n.Dataset(path + filenames[3], \"r\")"
   ]
  },
  {
   "cell_type": "code",
   "execution_count": 23,
   "metadata": {},
   "outputs": [],
   "source": [
    "#print(cloud.variables)\n",
    "tcc = cloud.variables[\"tcc\"][:][:][:].data\n",
    "\n",
    "# Retriving ground values, these are available at six different pressure levels. \n",
    "rel = relative.variables[\"r\"][:][:][:][:].data\n",
    "#level = relative.variables[\"level\"][:][0].data\n",
    "spe = specific.variables[\"q\"][:][:][:][:].data\n",
    "\n",
    "surf_pre = pressure.variables[\"sp\"][:][:][:].data\n",
    "temp = temperature.variables[\"t2m\"][:][:][:].data"
   ]
  },
  {
   "cell_type": "code",
   "execution_count": 24,
   "metadata": {},
   "outputs": [],
   "source": [
    "def logit_inv(x): # sigmoid?\n",
    "    return np.exp(x)/(1+np.exp(x))\n",
    "\n",
    "def logit(x):\n",
    "    return np.log((x + 1e-12)/(1+1e-12 - x))"
   ]
  },
  {
   "cell_type": "code",
   "execution_count": 25,
   "metadata": {},
   "outputs": [],
   "source": [
    "# for one certain timestep \n",
    "\n",
    "n_days = 0.25\n",
    "\n",
    "TCC = []\n",
    "REL = []\n",
    "SPE = []\n",
    "PRE = []\n",
    "TEMP = []\n",
    "\n",
    "\n",
    "for t in range(int(n_days*4)):\n",
    "    TCC.append(tcc[t].flatten())\n",
    "    REL.append(rel[t][0].flatten())\n",
    "    SPE.append(spe[t][0].flatten())\n",
    "    PRE.append(surf_pre[t].flatten())\n",
    "    TEMP.append(temp[t].flatten())\n"
   ]
  },
  {
   "cell_type": "code",
   "execution_count": 26,
   "metadata": {},
   "outputs": [],
   "source": [
    "y =(np.array(TCC).flatten())\n",
    "temp = y[y<1]\n",
    "y[y>1] = temp.max()\n",
    "X = np.array([np.array(REL).flatten(), np.array(SPE).flatten(), np.array(PRE).flatten(), np.array(TEMP).flatten()])\n",
    "y = logit(np.array(TCC).flatten())"
   ]
  },
  {
   "cell_type": "code",
   "execution_count": 27,
   "metadata": {},
   "outputs": [
    {
     "data": {
      "text/plain": [
       "(9.99866855977416e-13, 1.0000000000009999)"
      ]
     },
     "execution_count": 27,
     "metadata": {},
     "output_type": "execute_result"
    }
   ],
   "source": [
    "np.array(TCC).min(), np.array(TCC).max()"
   ]
  },
  {
   "cell_type": "code",
   "execution_count": 28,
   "metadata": {},
   "outputs": [
    {
     "data": {
      "text/plain": [
       "(-26.93794050959591, 36.04365338911916)"
      ]
     },
     "execution_count": 28,
     "metadata": {},
     "output_type": "execute_result"
    }
   ],
   "source": [
    "y.min(), y.max()"
   ]
  },
  {
   "cell_type": "code",
   "execution_count": 8,
   "metadata": {},
   "outputs": [
    {
     "data": {
      "text/plain": [
       "((4, 4697), (4697,))"
      ]
     },
     "execution_count": 8,
     "metadata": {},
     "output_type": "execute_result"
    }
   ],
   "source": [
    "np.shape(X), np.shape(y)"
   ]
  },
  {
   "cell_type": "code",
   "execution_count": 9,
   "metadata": {},
   "outputs": [],
   "source": [
    "y = y.reshape((len(y),1))\n",
    "X = X.T"
   ]
  },
  {
   "cell_type": "code",
   "execution_count": 10,
   "metadata": {},
   "outputs": [
    {
     "data": {
      "text/plain": [
       "((4697, 4), (4697, 1))"
      ]
     },
     "execution_count": 10,
     "metadata": {},
     "output_type": "execute_result"
    }
   ],
   "source": [
    "np.shape(X), np.shape(y)"
   ]
  },
  {
   "cell_type": "code",
   "execution_count": 11,
   "metadata": {},
   "outputs": [],
   "source": [
    "#X_train, X_test, y_train, y_test = train_test_split(X, y, split_size = 0.2)\n",
    "import sklearn.model_selection as s\n",
    "X_train, X_test, y_train, y_test = s.train_test_split(X,y,test_size=0.2)"
   ]
  },
  {
   "cell_type": "code",
   "execution_count": 12,
   "metadata": {},
   "outputs": [
    {
     "data": {
      "text/plain": [
       "((3757, 4), (3757, 1), (940, 4), (940, 1))"
      ]
     },
     "execution_count": 12,
     "metadata": {},
     "output_type": "execute_result"
    }
   ],
   "source": [
    "np.shape(X_train), np.shape(y_train), np.shape(X_test), np.shape(y_test)"
   ]
  },
  {
   "cell_type": "code",
   "execution_count": 13,
   "metadata": {},
   "outputs": [
    {
     "data": {
      "text/plain": [
       "(36.04365338911916, -26.93794050959591)"
      ]
     },
     "execution_count": 13,
     "metadata": {},
     "output_type": "execute_result"
    }
   ],
   "source": [
    "y_train.max(), y_train.min()"
   ]
  },
  {
   "cell_type": "code",
   "execution_count": 14,
   "metadata": {},
   "outputs": [
    {
     "data": {
      "text/plain": [
       "(-27.63102111592955, 27.63093221929863)"
      ]
     },
     "execution_count": 14,
     "metadata": {},
     "output_type": "execute_result"
    }
   ],
   "source": [
    "logit(0), logit(1)"
   ]
  },
  {
   "cell_type": "code",
   "execution_count": 15,
   "metadata": {
    "scrolled": false
   },
   "outputs": [
    {
     "name": "stdout",
     "output_type": "stream",
     "text": [
      " for epochs :10 for bactsize : 1 learningrat e : 0.0001noden in middle layer n: 10 traininperformance ois [233.22948743034272]validation performance is [222.4940143207615]\n",
      " for epochs :10 for bactsize : 1 learningrat e : 0.0001noden in middle layer n: 30 traininperformance ois [232.732010869807]validation performance is [221.33154647789004]\n",
      " for epochs :10 for bactsize : 1 learningrat e : 0.0001noden in middle layer n: 50 traininperformance ois [232.6610075451657]validation performance is [221.68941506347142]\n",
      " for epochs :10 for bactsize : 1 learningrat e : 0.0001noden in middle layer n: 100 traininperformance ois [232.52082629528945]validation performance is [221.3239737728288]\n",
      " for epochs :10 for bactsize : 1 learningrat e : 0.0001noden in middle layer n: 500 traininperformance ois [232.58158399053363]validation performance is [221.54633097206732]\n",
      " for epochs :10 for bactsize : 1 learningrat e : 0.001noden in middle layer n: 10 traininperformance ois [234.8339240383847]validation performance is [224.4431243859855]\n",
      " for epochs :10 for bactsize : 1 learningrat e : 0.001noden in middle layer n: 30 traininperformance ois [240.4726978565962]validation performance is [230.7419643129632]\n",
      " for epochs :10 for bactsize : 1 learningrat e : 0.001noden in middle layer n: 50 traininperformance ois [232.9971165642147]validation performance is [222.1847987289233]\n",
      " for epochs :10 for bactsize : 1 learningrat e : 0.001noden in middle layer n: 100 traininperformance ois [232.85071240686852]validation performance is [221.97983168294084]\n",
      " for epochs :10 for bactsize : 1 learningrat e : 0.001noden in middle layer n: 500 traininperformance ois [233.71570515524263]validation performance is [221.9944408473144]\n",
      " for epochs :10 for bactsize : 1 learningrat e : 0.01noden in middle layer n: 10 traininperformance ois [329.99196207510516]validation performance is [323.84638305338314]\n",
      " for epochs :10 for bactsize : 1 learningrat e : 0.01noden in middle layer n: 30 traininperformance ois [314.1551051596819]validation performance is [307.5837408342987]\n",
      " for epochs :10 for bactsize : 1 learningrat e : 0.01noden in middle layer n: 50 traininperformance ois [326.33784423147284]validation performance is [310.24912734817747]\n",
      " for epochs :10 for bactsize : 1 learningrat e : 0.01noden in middle layer n: 100 traininperformance ois [241.72424119610483]validation performance is [229.01703759690145]\n",
      " for epochs :10 for bactsize : 1 learningrat e : 0.01noden in middle layer n: 500 traininperformance ois [291.46550418379667]validation performance is [276.39774595241295]\n",
      " for epochs :10 for bactsize : 1 learningrat e : 0.1noden in middle layer n: 10 traininperformance ois [nan]validation performance is [nan]\n",
      " for epochs :10 for bactsize : 1 learningrat e : 0.1noden in middle layer n: 30 traininperformance ois [nan]validation performance is [nan]\n",
      " for epochs :10 for bactsize : 1 learningrat e : 0.1noden in middle layer n: 50 traininperformance ois [nan]validation performance is [nan]\n",
      " for epochs :10 for bactsize : 1 learningrat e : 0.1noden in middle layer n: 100 traininperformance ois [nan]validation performance is [nan]\n",
      " for epochs :10 for bactsize : 1 learningrat e : 0.1noden in middle layer n: 500 traininperformance ois [nan]validation performance is [nan]\n",
      " for epochs :10 for bactsize : 1 learningrat e : 1.0noden in middle layer n: 10 traininperformance ois [nan]validation performance is [nan]\n",
      " for epochs :10 for bactsize : 1 learningrat e : 1.0noden in middle layer n: 30 traininperformance ois [nan]validation performance is [nan]\n",
      " for epochs :10 for bactsize : 1 learningrat e : 1.0noden in middle layer n: 50 traininperformance ois [nan]validation performance is [nan]\n",
      " for epochs :10 for bactsize : 1 learningrat e : 1.0noden in middle layer n: 100 traininperformance ois [nan]validation performance is [nan]\n",
      " for epochs :10 for bactsize : 1 learningrat e : 1.0noden in middle layer n: 500 traininperformance ois [nan]validation performance is [nan]\n",
      " for epochs :10 for bactsize : 10 learningrat e : 0.0001noden in middle layer n: 10 traininperformance ois [232.5388359029907]validation performance is [221.44964738758225]\n",
      " for epochs :10 for bactsize : 10 learningrat e : 0.0001noden in middle layer n: 30 traininperformance ois [232.5202636496932]validation performance is [221.3257529124762]\n",
      " for epochs :10 for bactsize : 10 learningrat e : 0.0001noden in middle layer n: 50 traininperformance ois [232.5310955838208]validation performance is [221.42722094139603]\n",
      " for epochs :10 for bactsize : 10 learningrat e : 0.0001noden in middle layer n: 100 traininperformance ois [232.67994811144624]validation performance is [221.72064283558277]\n",
      " for epochs :10 for bactsize : 10 learningrat e : 0.0001noden in middle layer n: 500 traininperformance ois [232.5839172712638]validation performance is [221.28758969523645]\n",
      " for epochs :10 for bactsize : 10 learningrat e : 0.001noden in middle layer n: 10 traininperformance ois [233.03887627483314]validation performance is [221.50692644670013]\n",
      " for epochs :10 for bactsize : 10 learningrat e : 0.001noden in middle layer n: 30 traininperformance ois [232.65579097484112]validation performance is [221.68067451251852]\n",
      " for epochs :10 for bactsize : 10 learningrat e : 0.001noden in middle layer n: 50 traininperformance ois [233.0471917050516]validation performance is [222.25278434405874]\n",
      " for epochs :10 for bactsize : 10 learningrat e : 0.001noden in middle layer n: 100 traininperformance ois [232.6081512437132]validation performance is [221.28987430461478]\n",
      " for epochs :10 for bactsize : 10 learningrat e : 0.001noden in middle layer n: 500 traininperformance ois [239.72435566474607]validation performance is [227.1949208238386]\n",
      " for epochs :10 for bactsize : 10 learningrat e : 0.01noden in middle layer n: 10 traininperformance ois [inf]validation performance is [inf]\n",
      " for epochs :10 for bactsize : 10 learningrat e : 0.01noden in middle layer n: 30 traininperformance ois [inf]validation performance is [inf]\n",
      " for epochs :10 for bactsize : 10 learningrat e : 0.01noden in middle layer n: 50 traininperformance ois [inf]validation performance is [inf]\n",
      " for epochs :10 for bactsize : 10 learningrat e : 0.01noden in middle layer n: 100 traininperformance ois [inf]validation performance is [inf]\n",
      " for epochs :10 for bactsize : 10 learningrat e : 0.01noden in middle layer n: 500 traininperformance ois [inf]validation performance is [inf]\n",
      " for epochs :10 for bactsize : 10 learningrat e : 0.1noden in middle layer n: 10 traininperformance ois [nan]validation performance is [nan]\n",
      " for epochs :10 for bactsize : 10 learningrat e : 0.1noden in middle layer n: 30 traininperformance ois [nan]validation performance is [nan]\n",
      " for epochs :10 for bactsize : 10 learningrat e : 0.1noden in middle layer n: 50 traininperformance ois [nan]validation performance is [nan]\n",
      " for epochs :10 for bactsize : 10 learningrat e : 0.1noden in middle layer n: 100 traininperformance ois [nan]validation performance is [nan]\n",
      " for epochs :10 for bactsize : 10 learningrat e : 0.1noden in middle layer n: 500 traininperformance ois [nan]validation performance is [nan]\n",
      " for epochs :10 for bactsize : 10 learningrat e : 1.0noden in middle layer n: 10 traininperformance ois [nan]validation performance is [nan]\n",
      " for epochs :10 for bactsize : 10 learningrat e : 1.0noden in middle layer n: 30 traininperformance ois [nan]validation performance is [nan]\n",
      " for epochs :10 for bactsize : 10 learningrat e : 1.0noden in middle layer n: 50 traininperformance ois [nan]validation performance is [nan]\n",
      " for epochs :10 for bactsize : 10 learningrat e : 1.0noden in middle layer n: 100 traininperformance ois [nan]validation performance is [nan]\n",
      " for epochs :10 for bactsize : 10 learningrat e : 1.0noden in middle layer n: 500 traininperformance ois [nan]validation performance is [nan]\n",
      " for epochs :10 for bactsize : 50 learningrat e : 0.0001noden in middle layer n: 10 traininperformance ois [232.54406981934665]validation performance is [221.29550067359935]\n",
      " for epochs :10 for bactsize : 50 learningrat e : 0.0001noden in middle layer n: 30 traininperformance ois [232.6416077045986]validation performance is [221.29738381921345]\n",
      " for epochs :10 for bactsize : 50 learningrat e : 0.0001noden in middle layer n: 50 traininperformance ois [232.86087374781147]validation performance is [221.39804727770132]\n"
     ]
    },
    {
     "name": "stdout",
     "output_type": "stream",
     "text": [
      " for epochs :10 for bactsize : 50 learningrat e : 0.0001noden in middle layer n: 100 traininperformance ois [232.71949352986886]validation performance is [221.7837256718339]\n",
      " for epochs :10 for bactsize : 50 learningrat e : 0.0001noden in middle layer n: 500 traininperformance ois [233.83935003705787]validation performance is [223.25934246764598]\n",
      " for epochs :10 for bactsize : 50 learningrat e : 0.001noden in middle layer n: 10 traininperformance ois [232.7539188622462]validation performance is [221.83682545480866]\n",
      " for epochs :10 for bactsize : 50 learningrat e : 0.001noden in middle layer n: 30 traininperformance ois [236.7431440781679]validation performance is [224.53341059540926]\n",
      " for epochs :10 for bactsize : 50 learningrat e : 0.001noden in middle layer n: 50 traininperformance ois [235.03871009638235]validation performance is [223.06676701672717]\n",
      " for epochs :10 for bactsize : 50 learningrat e : 0.001noden in middle layer n: 100 traininperformance ois [236.15234344771417]validation performance is [224.01840581526935]\n",
      " for epochs :10 for bactsize : 50 learningrat e : 0.001noden in middle layer n: 500 traininperformance ois [246.42857439904773]validation performance is [237.16006071482116]\n",
      " for epochs :10 for bactsize : 50 learningrat e : 0.01noden in middle layer n: 10 traininperformance ois [nan]validation performance is [nan]\n",
      " for epochs :10 for bactsize : 50 learningrat e : 0.01noden in middle layer n: 30 traininperformance ois [nan]validation performance is [nan]\n",
      " for epochs :10 for bactsize : 50 learningrat e : 0.01noden in middle layer n: 50 traininperformance ois [nan]validation performance is [nan]\n",
      " for epochs :10 for bactsize : 50 learningrat e : 0.01noden in middle layer n: 100 traininperformance ois [nan]validation performance is [nan]\n",
      " for epochs :10 for bactsize : 50 learningrat e : 0.01noden in middle layer n: 500 traininperformance ois [nan]validation performance is [nan]\n",
      " for epochs :10 for bactsize : 50 learningrat e : 0.1noden in middle layer n: 10 traininperformance ois [nan]validation performance is [nan]\n",
      " for epochs :10 for bactsize : 50 learningrat e : 0.1noden in middle layer n: 30 traininperformance ois [nan]validation performance is [nan]\n",
      " for epochs :10 for bactsize : 50 learningrat e : 0.1noden in middle layer n: 50 traininperformance ois [nan]validation performance is [nan]\n",
      " for epochs :10 for bactsize : 50 learningrat e : 0.1noden in middle layer n: 100 traininperformance ois [nan]validation performance is [nan]\n",
      " for epochs :10 for bactsize : 50 learningrat e : 0.1noden in middle layer n: 500 traininperformance ois [nan]validation performance is [nan]\n",
      " for epochs :10 for bactsize : 50 learningrat e : 1.0noden in middle layer n: 10 traininperformance ois [nan]validation performance is [nan]\n",
      " for epochs :10 for bactsize : 50 learningrat e : 1.0noden in middle layer n: 30 traininperformance ois [nan]validation performance is [nan]\n",
      " for epochs :10 for bactsize : 50 learningrat e : 1.0noden in middle layer n: 50 traininperformance ois [nan]validation performance is [nan]\n",
      " for epochs :10 for bactsize : 50 learningrat e : 1.0noden in middle layer n: 100 traininperformance ois [nan]validation performance is [nan]\n",
      " for epochs :10 for bactsize : 50 learningrat e : 1.0noden in middle layer n: 500 traininperformance ois [nan]validation performance is [nan]\n",
      " for epochs :50 for bactsize : 1 learningrat e : 0.0001noden in middle layer n: 10 traininperformance ois [232.51681278048784]validation performance is [221.351335094126]\n",
      " for epochs :50 for bactsize : 1 learningrat e : 0.0001noden in middle layer n: 30 traininperformance ois [232.52637375619497]validation performance is [221.41145342861145]\n",
      " for epochs :50 for bactsize : 1 learningrat e : 0.0001noden in middle layer n: 50 traininperformance ois [233.18144898357178]validation performance is [222.43125958537064]\n",
      " for epochs :50 for bactsize : 1 learningrat e : 0.0001noden in middle layer n: 100 traininperformance ois [232.6018054865649]validation performance is [221.58537847954315]\n",
      " for epochs :50 for bactsize : 1 learningrat e : 0.0001noden in middle layer n: 500 traininperformance ois [232.51687415756004]validation performance is [221.34816791676263]\n",
      " for epochs :50 for bactsize : 1 learningrat e : 0.001noden in middle layer n: 10 traininperformance ois [233.24512685613146]validation performance is [221.6466457103023]\n",
      " for epochs :50 for bactsize : 1 learningrat e : 0.001noden in middle layer n: 30 traininperformance ois [233.05816440341658]validation performance is [222.26756713330346]\n",
      " for epochs :50 for bactsize : 1 learningrat e : 0.001noden in middle layer n: 50 traininperformance ois [232.5776165937431]validation performance is [221.28762363698766]\n",
      " for epochs :50 for bactsize : 1 learningrat e : 0.001noden in middle layer n: 100 traininperformance ois [236.98961812818413]validation performance is [224.74984210175614]\n",
      " for epochs :50 for bactsize : 1 learningrat e : 0.001noden in middle layer n: 500 traininperformance ois [236.83501212202918]validation performance is [226.72677230598032]\n",
      " for epochs :50 for bactsize : 1 learningrat e : 0.01noden in middle layer n: 10 traininperformance ois [234.81025174041494]validation performance is [222.87574349443676]\n",
      " for epochs :50 for bactsize : 1 learningrat e : 0.01noden in middle layer n: 30 traininperformance ois [256.98297975547695]validation performance is [248.33288176273228]\n",
      " for epochs :50 for bactsize : 1 learningrat e : 0.01noden in middle layer n: 50 traininperformance ois [236.59538787500009]validation performance is [226.45741916712868]\n",
      " for epochs :50 for bactsize : 1 learningrat e : 0.01noden in middle layer n: 100 traininperformance ois [255.36221827592462]validation performance is [241.76776015036867]\n",
      " for epochs :50 for bactsize : 1 learningrat e : 0.01noden in middle layer n: 500 traininperformance ois [244.23651161350432]validation performance is [231.33153899295078]\n",
      " for epochs :50 for bactsize : 1 learningrat e : 0.1noden in middle layer n: 10 traininperformance ois [nan]validation performance is [nan]\n",
      " for epochs :50 for bactsize : 1 learningrat e : 0.1noden in middle layer n: 30 traininperformance ois [nan]validation performance is [nan]\n",
      " for epochs :50 for bactsize : 1 learningrat e : 0.1noden in middle layer n: 50 traininperformance ois [nan]validation performance is [nan]\n",
      " for epochs :50 for bactsize : 1 learningrat e : 0.1noden in middle layer n: 100 traininperformance ois [nan]validation performance is [nan]\n",
      " for epochs :50 for bactsize : 1 learningrat e : 0.1noden in middle layer n: 500 traininperformance ois [nan]validation performance is [nan]\n",
      " for epochs :50 for bactsize : 1 learningrat e : 1.0noden in middle layer n: 10 traininperformance ois [nan]validation performance is [nan]\n",
      " for epochs :50 for bactsize : 1 learningrat e : 1.0noden in middle layer n: 30 traininperformance ois [nan]validation performance is [nan]\n",
      " for epochs :50 for bactsize : 1 learningrat e : 1.0noden in middle layer n: 50 traininperformance ois [nan]validation performance is [nan]\n",
      " for epochs :50 for bactsize : 1 learningrat e : 1.0noden in middle layer n: 100 traininperformance ois [nan]validation performance is [nan]\n",
      " for epochs :50 for bactsize : 1 learningrat e : 1.0noden in middle layer n: 500 traininperformance ois [nan]validation performance is [nan]\n",
      " for epochs :50 for bactsize : 10 learningrat e : 0.0001noden in middle layer n: 10 traininperformance ois [232.5244672106043]validation performance is [221.3153471850858]\n",
      " for epochs :50 for bactsize : 10 learningrat e : 0.0001noden in middle layer n: 30 traininperformance ois [232.51697835629534]validation performance is [221.35893834143062]\n",
      " for epochs :50 for bactsize : 10 learningrat e : 0.0001noden in middle layer n: 50 traininperformance ois [233.2883921802122]validation performance is [221.67721072610237]\n",
      " for epochs :50 for bactsize : 10 learningrat e : 0.0001noden in middle layer n: 100 traininperformance ois [233.14114616265212]validation performance is [221.57482687600503]\n",
      " for epochs :50 for bactsize : 10 learningrat e : 0.0001noden in middle layer n: 500 traininperformance ois [232.66188677718355]validation performance is [221.30362071186502]\n"
     ]
    },
    {
     "name": "stdout",
     "output_type": "stream",
     "text": [
      " for epochs :50 for bactsize : 10 learningrat e : 0.001noden in middle layer n: 10 traininperformance ois [237.28287874473517]validation performance is [227.2280702425372]\n",
      " for epochs :50 for bactsize : 10 learningrat e : 0.001noden in middle layer n: 30 traininperformance ois [233.80015070970865]validation performance is [223.21141395409416]\n",
      " for epochs :50 for bactsize : 10 learningrat e : 0.001noden in middle layer n: 50 traininperformance ois [232.60760888202753]validation performance is [221.28978876478368]\n",
      " for epochs :50 for bactsize : 10 learningrat e : 0.001noden in middle layer n: 100 traininperformance ois [233.9108794727925]validation performance is [223.3464734970596]\n",
      " for epochs :50 for bactsize : 10 learningrat e : 0.001noden in middle layer n: 500 traininperformance ois [233.61902493119157]validation performance is [221.9206758927666]\n",
      " for epochs :50 for bactsize : 10 learningrat e : 0.01noden in middle layer n: 10 traininperformance ois [nan]validation performance is [nan]\n",
      " for epochs :50 for bactsize : 10 learningrat e : 0.01noden in middle layer n: 30 traininperformance ois [nan]validation performance is [nan]\n",
      " for epochs :50 for bactsize : 10 learningrat e : 0.01noden in middle layer n: 50 traininperformance ois [nan]validation performance is [nan]\n",
      " for epochs :50 for bactsize : 10 learningrat e : 0.01noden in middle layer n: 100 traininperformance ois [nan]validation performance is [nan]\n",
      " for epochs :50 for bactsize : 10 learningrat e : 0.01noden in middle layer n: 500 traininperformance ois [nan]validation performance is [nan]\n",
      " for epochs :50 for bactsize : 10 learningrat e : 0.1noden in middle layer n: 10 traininperformance ois [nan]validation performance is [nan]\n",
      " for epochs :50 for bactsize : 10 learningrat e : 0.1noden in middle layer n: 30 traininperformance ois [nan]validation performance is [nan]\n",
      " for epochs :50 for bactsize : 10 learningrat e : 0.1noden in middle layer n: 50 traininperformance ois [nan]validation performance is [nan]\n",
      " for epochs :50 for bactsize : 10 learningrat e : 0.1noden in middle layer n: 100 traininperformance ois [nan]validation performance is [nan]\n",
      " for epochs :50 for bactsize : 10 learningrat e : 0.1noden in middle layer n: 500 traininperformance ois [nan]validation performance is [nan]\n",
      " for epochs :50 for bactsize : 10 learningrat e : 1.0noden in middle layer n: 10 traininperformance ois [nan]validation performance is [nan]\n",
      " for epochs :50 for bactsize : 10 learningrat e : 1.0noden in middle layer n: 30 traininperformance ois [nan]validation performance is [nan]\n",
      " for epochs :50 for bactsize : 10 learningrat e : 1.0noden in middle layer n: 50 traininperformance ois [nan]validation performance is [nan]\n",
      " for epochs :50 for bactsize : 10 learningrat e : 1.0noden in middle layer n: 100 traininperformance ois [nan]validation performance is [nan]\n",
      " for epochs :50 for bactsize : 10 learningrat e : 1.0noden in middle layer n: 500 traininperformance ois [nan]validation performance is [nan]\n",
      " for epochs :50 for bactsize : 50 learningrat e : 0.0001noden in middle layer n: 10 traininperformance ois [232.72718769519747]validation performance is [221.79572345100695]\n",
      " for epochs :50 for bactsize : 50 learningrat e : 0.0001noden in middle layer n: 30 traininperformance ois [232.5285746489777]validation performance is [221.41907883660082]\n",
      " for epochs :50 for bactsize : 50 learningrat e : 0.0001noden in middle layer n: 50 traininperformance ois [232.56641737168212]validation performance is [221.28855541985845]\n",
      " for epochs :50 for bactsize : 50 learningrat e : 0.0001noden in middle layer n: 100 traininperformance ois [232.55779184442025]validation performance is [221.4960694939358]\n",
      " for epochs :50 for bactsize : 50 learningrat e : 0.0001noden in middle layer n: 500 traininperformance ois [232.8955807363266]validation performance is [221.41807572467383]\n",
      " for epochs :50 for bactsize : 50 learningrat e : 0.001noden in middle layer n: 10 traininperformance ois [243.58900532134868]validation performance is [230.7327920281749]\n",
      " for epochs :50 for bactsize : 50 learningrat e : 0.001noden in middle layer n: 30 traininperformance ois [236.7987691054284]validation performance is [226.68608674139134]\n",
      " for epochs :50 for bactsize : 50 learningrat e : 0.001noden in middle layer n: 50 traininperformance ois [237.72648031088337]validation performance is [225.4015182867866]\n",
      " for epochs :50 for bactsize : 50 learningrat e : 0.001noden in middle layer n: 100 traininperformance ois [233.83354289438122]validation performance is [222.08556448765057]\n",
      " for epochs :50 for bactsize : 50 learningrat e : 0.001noden in middle layer n: 500 traininperformance ois [232.59100790069343]validation performance is [221.5648472700242]\n",
      " for epochs :50 for bactsize : 50 learningrat e : 0.01noden in middle layer n: 10 traininperformance ois [nan]validation performance is [nan]\n",
      " for epochs :50 for bactsize : 50 learningrat e : 0.01noden in middle layer n: 30 traininperformance ois [nan]validation performance is [nan]\n",
      " for epochs :50 for bactsize : 50 learningrat e : 0.01noden in middle layer n: 50 traininperformance ois [nan]validation performance is [nan]\n",
      " for epochs :50 for bactsize : 50 learningrat e : 0.01noden in middle layer n: 100 traininperformance ois [nan]validation performance is [nan]\n",
      " for epochs :50 for bactsize : 50 learningrat e : 0.01noden in middle layer n: 500 traininperformance ois [nan]validation performance is [nan]\n",
      " for epochs :50 for bactsize : 50 learningrat e : 0.1noden in middle layer n: 10 traininperformance ois [nan]validation performance is [nan]\n",
      " for epochs :50 for bactsize : 50 learningrat e : 0.1noden in middle layer n: 30 traininperformance ois [nan]validation performance is [nan]\n",
      " for epochs :50 for bactsize : 50 learningrat e : 0.1noden in middle layer n: 50 traininperformance ois [nan]validation performance is [nan]\n",
      " for epochs :50 for bactsize : 50 learningrat e : 0.1noden in middle layer n: 100 traininperformance ois [nan]validation performance is [nan]\n",
      " for epochs :50 for bactsize : 50 learningrat e : 0.1noden in middle layer n: 500 traininperformance ois [nan]validation performance is [nan]\n",
      " for epochs :50 for bactsize : 50 learningrat e : 1.0noden in middle layer n: 10 traininperformance ois [nan]validation performance is [nan]\n",
      " for epochs :50 for bactsize : 50 learningrat e : 1.0noden in middle layer n: 30 traininperformance ois [nan]validation performance is [nan]\n",
      " for epochs :50 for bactsize : 50 learningrat e : 1.0noden in middle layer n: 50 traininperformance ois [nan]validation performance is [nan]\n",
      " for epochs :50 for bactsize : 50 learningrat e : 1.0noden in middle layer n: 100 traininperformance ois [nan]validation performance is [nan]\n",
      " for epochs :50 for bactsize : 50 learningrat e : 1.0noden in middle layer n: 500 traininperformance ois [nan]validation performance is [nan]\n",
      " for epochs :100 for bactsize : 1 learningrat e : 0.0001noden in middle layer n: 10 traininperformance ois [232.5248709424127]validation performance is [221.40587773967724]\n",
      " for epochs :100 for bactsize : 1 learningrat e : 0.0001noden in middle layer n: 30 traininperformance ois [232.7923490527619]validation performance is [221.8945632681551]\n",
      " for epochs :100 for bactsize : 1 learningrat e : 0.0001noden in middle layer n: 50 traininperformance ois [232.75510031442155]validation performance is [221.8386228597672]\n",
      " for epochs :100 for bactsize : 1 learningrat e : 0.0001noden in middle layer n: 100 traininperformance ois [232.5237469185008]validation performance is [221.40145209178203]\n",
      " for epochs :100 for bactsize : 1 learningrat e : 0.0001noden in middle layer n: 500 traininperformance ois [232.519767012636]validation performance is [221.32748767199834]\n",
      " for epochs :100 for bactsize : 1 learningrat e : 0.001noden in middle layer n: 10 traininperformance ois [232.87229906561274]validation performance is [221.4045620169809]\n",
      " for epochs :100 for bactsize : 1 learningrat e : 0.001noden in middle layer n: 30 traininperformance ois [233.0014607130858]validation performance is [221.48291795050122]\n",
      " for epochs :100 for bactsize : 1 learningrat e : 0.001noden in middle layer n: 50 traininperformance ois [234.17592998419659]validation performance is [223.66610258061755]\n"
     ]
    },
    {
     "name": "stdout",
     "output_type": "stream",
     "text": [
      " for epochs :100 for bactsize : 1 learningrat e : 0.001noden in middle layer n: 100 traininperformance ois [232.56004895340817]validation performance is [221.50112263508169]\n",
      " for epochs :100 for bactsize : 1 learningrat e : 0.001noden in middle layer n: 500 traininperformance ois [233.83561658816805]validation performance is [222.0871790151195]\n",
      " for epochs :100 for bactsize : 1 learningrat e : 0.01noden in middle layer n: 10 traininperformance ois [632.6054844941967]validation performance is [611.2724344035613]\n",
      " for epochs :100 for bactsize : 1 learningrat e : 0.01noden in middle layer n: 30 traininperformance ois [245.0854709024247]validation performance is [235.7231044871467]\n",
      " for epochs :100 for bactsize : 1 learningrat e : 0.01noden in middle layer n: 50 traininperformance ois [394.6114820588026]validation performance is [376.97453395133573]\n",
      " for epochs :100 for bactsize : 1 learningrat e : 0.01noden in middle layer n: 100 traininperformance ois [245.1956104827229]validation performance is [235.8411235139793]\n",
      " for epochs :100 for bactsize : 1 learningrat e : 0.01noden in middle layer n: 500 traininperformance ois [232.5962051024721]validation performance is [221.5748121426797]\n",
      " for epochs :100 for bactsize : 1 learningrat e : 0.1noden in middle layer n: 10 traininperformance ois [nan]validation performance is [nan]\n",
      " for epochs :100 for bactsize : 1 learningrat e : 0.1noden in middle layer n: 30 traininperformance ois [nan]validation performance is [nan]\n",
      " for epochs :100 for bactsize : 1 learningrat e : 0.1noden in middle layer n: 50 traininperformance ois [nan]validation performance is [nan]\n",
      " for epochs :100 for bactsize : 1 learningrat e : 0.1noden in middle layer n: 100 traininperformance ois [nan]validation performance is [nan]\n",
      " for epochs :100 for bactsize : 1 learningrat e : 0.1noden in middle layer n: 500 traininperformance ois [nan]validation performance is [nan]\n",
      " for epochs :100 for bactsize : 1 learningrat e : 1.0noden in middle layer n: 10 traininperformance ois [nan]validation performance is [nan]\n",
      " for epochs :100 for bactsize : 1 learningrat e : 1.0noden in middle layer n: 30 traininperformance ois [nan]validation performance is [nan]\n",
      " for epochs :100 for bactsize : 1 learningrat e : 1.0noden in middle layer n: 50 traininperformance ois [nan]validation performance is [nan]\n",
      " for epochs :100 for bactsize : 1 learningrat e : 1.0noden in middle layer n: 100 traininperformance ois [nan]validation performance is [nan]\n",
      " for epochs :100 for bactsize : 1 learningrat e : 1.0noden in middle layer n: 500 traininperformance ois [nan]validation performance is [nan]\n",
      " for epochs :100 for bactsize : 10 learningrat e : 0.0001noden in middle layer n: 10 traininperformance ois [232.6360993502238]validation performance is [221.64704423692325]\n",
      " for epochs :100 for bactsize : 10 learningrat e : 0.0001noden in middle layer n: 30 traininperformance ois [232.87450634824796]validation performance is [222.01391203155615]\n",
      " for epochs :100 for bactsize : 10 learningrat e : 0.0001noden in middle layer n: 50 traininperformance ois [232.634360633371]validation performance is [221.29542913081815]\n",
      " for epochs :100 for bactsize : 10 learningrat e : 0.0001noden in middle layer n: 100 traininperformance ois [232.5170482940321]validation performance is [221.36025975844058]\n",
      " for epochs :100 for bactsize : 10 learningrat e : 0.0001noden in middle layer n: 500 traininperformance ois [233.01289025301276]validation performance is [222.2063108943953]\n",
      " for epochs :100 for bactsize : 10 learningrat e : 0.001noden in middle layer n: 10 traininperformance ois [233.9649268416007]validation performance is [222.1885372495287]\n",
      " for epochs :100 for bactsize : 10 learningrat e : 0.001noden in middle layer n: 30 traininperformance ois [232.88065824317505]validation performance is [222.02266732953493]\n",
      " for epochs :100 for bactsize : 10 learningrat e : 0.001noden in middle layer n: 50 traininperformance ois [235.8735221895227]validation performance is [225.64027801696912]\n",
      " for epochs :100 for bactsize : 10 learningrat e : 0.001noden in middle layer n: 100 traininperformance ois [233.2147688078241]validation performance is [221.62542578167077]\n",
      " for epochs :100 for bactsize : 10 learningrat e : 0.001noden in middle layer n: 500 traininperformance ois [235.68490178347054]validation performance is [223.61542174020025]\n",
      " for epochs :100 for bactsize : 10 learningrat e : 0.01noden in middle layer n: 10 traininperformance ois [nan]validation performance is [nan]\n",
      " for epochs :100 for bactsize : 10 learningrat e : 0.01noden in middle layer n: 30 traininperformance ois [nan]validation performance is [nan]\n",
      " for epochs :100 for bactsize : 10 learningrat e : 0.01noden in middle layer n: 50 traininperformance ois [nan]validation performance is [nan]\n",
      " for epochs :100 for bactsize : 10 learningrat e : 0.01noden in middle layer n: 100 traininperformance ois [nan]validation performance is [nan]\n",
      " for epochs :100 for bactsize : 10 learningrat e : 0.01noden in middle layer n: 500 traininperformance ois [nan]validation performance is [nan]\n",
      " for epochs :100 for bactsize : 10 learningrat e : 0.1noden in middle layer n: 10 traininperformance ois [nan]validation performance is [nan]\n",
      " for epochs :100 for bactsize : 10 learningrat e : 0.1noden in middle layer n: 30 traininperformance ois [nan]validation performance is [nan]\n",
      " for epochs :100 for bactsize : 10 learningrat e : 0.1noden in middle layer n: 50 traininperformance ois [nan]validation performance is [nan]\n",
      " for epochs :100 for bactsize : 10 learningrat e : 0.1noden in middle layer n: 100 traininperformance ois [nan]validation performance is [nan]\n",
      " for epochs :100 for bactsize : 10 learningrat e : 0.1noden in middle layer n: 500 traininperformance ois [nan]validation performance is [nan]\n",
      " for epochs :100 for bactsize : 10 learningrat e : 1.0noden in middle layer n: 10 traininperformance ois [nan]validation performance is [nan]\n",
      " for epochs :100 for bactsize : 10 learningrat e : 1.0noden in middle layer n: 30 traininperformance ois [nan]validation performance is [nan]\n",
      " for epochs :100 for bactsize : 10 learningrat e : 1.0noden in middle layer n: 50 traininperformance ois [nan]validation performance is [nan]\n",
      " for epochs :100 for bactsize : 10 learningrat e : 1.0noden in middle layer n: 100 traininperformance ois [nan]validation performance is [nan]\n",
      " for epochs :100 for bactsize : 10 learningrat e : 1.0noden in middle layer n: 500 traininperformance ois [nan]validation performance is [nan]\n",
      " for epochs :100 for bactsize : 50 learningrat e : 0.0001noden in middle layer n: 10 traininperformance ois [232.5181574948039]validation performance is [221.3721829541717]\n",
      " for epochs :100 for bactsize : 50 learningrat e : 0.0001noden in middle layer n: 30 traininperformance ois [232.7203267527281]validation performance is [221.32635375109666]\n",
      " for epochs :100 for bactsize : 50 learningrat e : 0.0001noden in middle layer n: 50 traininperformance ois [232.5240749306904]validation performance is [221.31610936595027]\n",
      " for epochs :100 for bactsize : 50 learningrat e : 0.0001noden in middle layer n: 100 traininperformance ois [232.78036574981437]validation performance is [221.35474782523164]\n",
      " for epochs :100 for bactsize : 50 learningrat e : 0.0001noden in middle layer n: 500 traininperformance ois [233.27613942753266]validation performance is [222.55449019947355]\n",
      " for epochs :100 for bactsize : 50 learningrat e : 0.001noden in middle layer n: 10 traininperformance ois [232.8552113444165]validation performance is [221.986302996772]\n",
      " for epochs :100 for bactsize : 50 learningrat e : 0.001noden in middle layer n: 30 traininperformance ois [234.38286742722525]validation performance is [222.52378735423002]\n",
      " for epochs :100 for bactsize : 50 learningrat e : 0.001noden in middle layer n: 50 traininperformance ois [233.1973563462983]validation performance is [222.45209726513255]\n",
      " for epochs :100 for bactsize : 50 learningrat e : 0.001noden in middle layer n: 100 traininperformance ois [233.32732780441367]validation performance is [221.7050181945604]\n",
      " for epochs :100 for bactsize : 50 learningrat e : 0.001noden in middle layer n: 500 traininperformance ois [233.28007999309017]validation performance is [221.67131035267772]\n"
     ]
    },
    {
     "name": "stdout",
     "output_type": "stream",
     "text": [
      " for epochs :100 for bactsize : 50 learningrat e : 0.01noden in middle layer n: 10 traininperformance ois [nan]validation performance is [nan]\n",
      " for epochs :100 for bactsize : 50 learningrat e : 0.01noden in middle layer n: 30 traininperformance ois [nan]validation performance is [nan]\n",
      " for epochs :100 for bactsize : 50 learningrat e : 0.01noden in middle layer n: 50 traininperformance ois [nan]validation performance is [nan]\n",
      " for epochs :100 for bactsize : 50 learningrat e : 0.01noden in middle layer n: 100 traininperformance ois [nan]validation performance is [nan]\n",
      " for epochs :100 for bactsize : 50 learningrat e : 0.01noden in middle layer n: 500 traininperformance ois [nan]validation performance is [nan]\n",
      " for epochs :100 for bactsize : 50 learningrat e : 0.1noden in middle layer n: 10 traininperformance ois [nan]validation performance is [nan]\n",
      " for epochs :100 for bactsize : 50 learningrat e : 0.1noden in middle layer n: 30 traininperformance ois [nan]validation performance is [nan]\n",
      " for epochs :100 for bactsize : 50 learningrat e : 0.1noden in middle layer n: 50 traininperformance ois [nan]validation performance is [nan]\n",
      " for epochs :100 for bactsize : 50 learningrat e : 0.1noden in middle layer n: 100 traininperformance ois [nan]validation performance is [nan]\n",
      " for epochs :100 for bactsize : 50 learningrat e : 0.1noden in middle layer n: 500 traininperformance ois [nan]validation performance is [nan]\n",
      " for epochs :100 for bactsize : 50 learningrat e : 1.0noden in middle layer n: 10 traininperformance ois [nan]validation performance is [nan]\n",
      " for epochs :100 for bactsize : 50 learningrat e : 1.0noden in middle layer n: 30 traininperformance ois [nan]validation performance is [nan]\n",
      " for epochs :100 for bactsize : 50 learningrat e : 1.0noden in middle layer n: 50 traininperformance ois [nan]validation performance is [nan]\n",
      " for epochs :100 for bactsize : 50 learningrat e : 1.0noden in middle layer n: 100 traininperformance ois [nan]validation performance is [nan]\n",
      " for epochs :100 for bactsize : 50 learningrat e : 1.0noden in middle layer n: 500 traininperformance ois [nan]validation performance is [nan]\n"
     ]
    }
   ],
   "source": [
    "n_nodes = [10,30,50,100, 500]\n",
    "eta = [0.0001, 0.001, 0.01, 0.1, 1.0]\n",
    "lmd = [0.0001, 0.001, 0.01, 0.1, 1.0, 10]\n",
    "epochs = [10,50,100]\n",
    "batch_s = [1,10,50]\n",
    "\n",
    "\n",
    "for e in epochs:\n",
    "    for b in batch_s:\n",
    "        for et in eta:\n",
    "            for n in n_nodes:\n",
    "                model = NeuralNetRegressor(n_hidden = [30, n, 20],  \n",
    "                                           epochs=e, \n",
    "                                           eta=et, \n",
    "                                           shuffle=True, \n",
    "                                           batch_size=b,\n",
    "                                           seed=None, \n",
    "                                           alpha=0.0001, \n",
    "                                           activation='sigmoid')\n",
    "\n",
    "                p = model.fit(X_train, y_train, X_test, y_test)\n",
    "                l = model.predict(X_test)\n",
    "                print( \" for epochs :\" + str(e) + \" for bactsize : \" + str(b) + \" learningrat e : \" + str(et) + \"noden in middle layer n: \" + str(n) + \" traininperformance ois \" + str(p.eval_['train_preform']) + \"validation performance is \"+ str(p.eval_['valid_preform']))\n",
    "                \n",
    "                \n",
    "                "
   ]
  },
  {
   "cell_type": "code",
   "execution_count": 16,
   "metadata": {},
   "outputs": [
    {
     "data": {
      "text/plain": [
       "[nan]"
      ]
     },
     "execution_count": 16,
     "metadata": {},
     "output_type": "execute_result"
    }
   ],
   "source": [
    "p.eval_['train_preform']"
   ]
  },
  {
   "cell_type": "code",
   "execution_count": 17,
   "metadata": {},
   "outputs": [
    {
     "data": {
      "text/plain": [
       "[nan]"
      ]
     },
     "execution_count": 17,
     "metadata": {},
     "output_type": "execute_result"
    }
   ],
   "source": [
    "p.eval_['valid_preform']"
   ]
  },
  {
   "cell_type": "code",
   "execution_count": null,
   "metadata": {},
   "outputs": [],
   "source": []
  },
  {
   "cell_type": "code",
   "execution_count": 18,
   "metadata": {},
   "outputs": [],
   "source": [
    "y_train = y_train.ravel()"
   ]
  },
  {
   "cell_type": "code",
   "execution_count": 19,
   "metadata": {},
   "outputs": [
    {
     "data": {
      "text/plain": [
       "array([  6.02530017, -26.93794051, -26.93794051, ..., -26.93794051,\n",
       "        -0.72208271,   3.77878821])"
      ]
     },
     "execution_count": 19,
     "metadata": {},
     "output_type": "execute_result"
    }
   ],
   "source": [
    "y_train"
   ]
  },
  {
   "cell_type": "markdown",
   "metadata": {},
   "source": [
    "# Scikit MLP Regressor using several layers of depth "
   ]
  },
  {
   "cell_type": "code",
   "execution_count": 20,
   "metadata": {
    "scrolled": false
   },
   "outputs": [
    {
     "name": "stdout",
     "output_type": "stream",
     "text": [
      " eta : 0.0001 lmd :   0.0001    batch size : 1   mse is 221.28791670137886\n",
      " eta : 0.0001 lmd :   0.001    batch size : 1   mse is 221.2936133380667\n",
      " eta : 0.0001 lmd :   0.01    batch size : 1   mse is 221.3189646416359\n",
      " eta : 0.0001 lmd :   0.1    batch size : 1   mse is 221.35573206317684\n",
      " eta : 0.0001 lmd :   1.0    batch size : 1   mse is 221.30547151686272\n",
      " eta : 0.0001 lmd :   10    batch size : 1   mse is 221.34754495060636\n",
      " eta : 0.001 lmd :   0.0001    batch size : 1   mse is 221.54619772970133\n",
      " eta : 0.001 lmd :   0.001    batch size : 1   mse is 221.31741787209108\n",
      " eta : 0.001 lmd :   0.01    batch size : 1   mse is 221.33462334729575\n",
      " eta : 0.001 lmd :   0.1    batch size : 1   mse is 221.28790047169582\n",
      " eta : 0.001 lmd :   1.0    batch size : 1   mse is 221.29611414083394\n",
      " eta : 0.001 lmd :   10    batch size : 1   mse is 221.52063614689658\n",
      " eta : 0.01 lmd :   0.0001    batch size : 1   mse is 222.0242270396313\n",
      " eta : 0.01 lmd :   0.001    batch size : 1   mse is 221.3788389043341\n",
      " eta : 0.01 lmd :   0.01    batch size : 1   mse is 222.50728982657498\n",
      " eta : 0.01 lmd :   0.1    batch size : 1   mse is 221.28849228450235\n",
      " eta : 0.01 lmd :   1.0    batch size : 1   mse is 221.2925676819386\n",
      " eta : 0.01 lmd :   10    batch size : 1   mse is 221.47319654336613\n",
      " eta : 0.1 lmd :   0.0001    batch size : 1   mse is 238.56833366151224\n",
      " eta : 0.1 lmd :   0.001    batch size : 1   mse is 226.8896307565273\n",
      " eta : 0.1 lmd :   0.01    batch size : 1   mse is 223.26341043793568\n",
      " eta : 0.1 lmd :   0.1    batch size : 1   mse is 228.63130491698604\n",
      " eta : 0.1 lmd :   1.0    batch size : 1   mse is 222.89855340125754\n",
      " eta : 0.1 lmd :   10    batch size : 1   mse is 221.49141983018657\n",
      " eta : 1.0 lmd :   0.0001    batch size : 1   mse is 401.3621933795109\n",
      " eta : 1.0 lmd :   0.001    batch size : 1   mse is 236.48547718964676\n",
      " eta : 1.0 lmd :   0.01    batch size : 1   mse is 248.77300314927163\n",
      " eta : 1.0 lmd :   0.1    batch size : 1   mse is 677.0263398496571\n",
      " eta : 1.0 lmd :   1.0    batch size : 1   mse is 221.9287209817275\n",
      " eta : 1.0 lmd :   10    batch size : 1   mse is 230.20309214325246\n",
      " eta : 0.0001 lmd :   0.0001    batch size : 10   mse is 221.34523350554272\n",
      " eta : 0.0001 lmd :   0.001    batch size : 10   mse is 221.35327489095047\n",
      " eta : 0.0001 lmd :   0.01    batch size : 10   mse is 221.3444758542219\n",
      " eta : 0.0001 lmd :   0.1    batch size : 10   mse is 221.33671494080406\n",
      " eta : 0.0001 lmd :   1.0    batch size : 10   mse is 221.2889038693573\n",
      " eta : 0.0001 lmd :   10    batch size : 10   mse is 221.28770616993967\n",
      " eta : 0.001 lmd :   0.0001    batch size : 10   mse is 221.49184581787966\n",
      " eta : 0.001 lmd :   0.001    batch size : 10   mse is 221.33998226956135\n",
      " eta : 0.001 lmd :   0.01    batch size : 10   mse is 221.3664712369473\n",
      " eta : 0.001 lmd :   0.1    batch size : 10   mse is 221.2878661444657\n",
      " eta : 0.001 lmd :   1.0    batch size : 10   mse is 221.28775879996272\n",
      " eta : 0.001 lmd :   10    batch size : 10   mse is 221.37571342002104\n",
      " eta : 0.01 lmd :   0.0001    batch size : 10   mse is 221.4181620650329\n",
      " eta : 0.01 lmd :   0.001    batch size : 10   mse is 221.43780141639974\n",
      " eta : 0.01 lmd :   0.01    batch size : 10   mse is 223.13187637575044\n",
      " eta : 0.01 lmd :   0.1    batch size : 10   mse is 221.50672830601945\n",
      " eta : 0.01 lmd :   1.0    batch size : 10   mse is 221.29681857199836\n",
      " eta : 0.01 lmd :   10    batch size : 10   mse is 221.40876238634394\n",
      " eta : 0.1 lmd :   0.0001    batch size : 10   mse is 226.63536065523232\n",
      " eta : 0.1 lmd :   0.001    batch size : 10   mse is 224.11471621781368\n",
      " eta : 0.1 lmd :   0.01    batch size : 10   mse is 224.88666951591446\n",
      " eta : 0.1 lmd :   0.1    batch size : 10   mse is 221.56227832456983\n",
      " eta : 0.1 lmd :   1.0    batch size : 10   mse is 221.81943982912904\n",
      " eta : 0.1 lmd :   10    batch size : 10   mse is 221.76942691306576\n",
      " eta : 1.0 lmd :   0.0001    batch size : 10   mse is 223.24491094640834\n",
      " eta : 1.0 lmd :   0.001    batch size : 10   mse is 245.62221048726124\n",
      " eta : 1.0 lmd :   0.01    batch size : 10   mse is 223.63868791288743\n",
      " eta : 1.0 lmd :   0.1    batch size : 10   mse is 222.21696548117797\n",
      " eta : 1.0 lmd :   1.0    batch size : 10   mse is 221.29060946225735\n",
      " eta : 1.0 lmd :   10    batch size : 10   mse is 222.04046015881235\n",
      " eta : 0.0001 lmd :   0.0001    batch size : 50   mse is 221.32596113520674\n",
      " eta : 0.0001 lmd :   0.001    batch size : 50   mse is 221.31996250637891\n",
      " eta : 0.0001 lmd :   0.01    batch size : 50   mse is 221.3134862187776\n",
      " eta : 0.0001 lmd :   0.1    batch size : 50   mse is 221.30428174043016\n",
      " eta : 0.0001 lmd :   1.0    batch size : 50   mse is 221.28939597546233\n",
      " eta : 0.0001 lmd :   10    batch size : 50   mse is 221.28760785353617\n",
      " eta : 0.001 lmd :   0.0001    batch size : 50   mse is 221.33962514049242\n",
      " eta : 0.001 lmd :   0.001    batch size : 50   mse is 221.34099017994657\n",
      " eta : 0.001 lmd :   0.01    batch size : 50   mse is 221.37914270229334\n",
      " eta : 0.001 lmd :   0.1    batch size : 50   mse is 221.57621563130724\n",
      " eta : 0.001 lmd :   1.0    batch size : 50   mse is 221.32191598179506\n",
      " eta : 0.001 lmd :   10    batch size : 50   mse is 221.359977258931\n",
      " eta : 0.01 lmd :   0.0001    batch size : 50   mse is 221.2990193567528\n",
      " eta : 0.01 lmd :   0.001    batch size : 50   mse is 221.45803839779109\n",
      " eta : 0.01 lmd :   0.01    batch size : 50   mse is 221.5912187399044\n",
      " eta : 0.01 lmd :   0.1    batch size : 50   mse is 221.588658057096\n",
      " eta : 0.01 lmd :   1.0    batch size : 50   mse is 222.053737956829\n",
      " eta : 0.01 lmd :   10    batch size : 50   mse is 222.45297600326117\n",
      " eta : 0.1 lmd :   0.0001    batch size : 50   mse is 221.31682019601382\n",
      " eta : 0.1 lmd :   0.001    batch size : 50   mse is 222.47695755106838\n",
      " eta : 0.1 lmd :   0.01    batch size : 50   mse is 225.8435953517956\n",
      " eta : 0.1 lmd :   0.1    batch size : 50   mse is 222.0426515350395\n",
      " eta : 0.1 lmd :   1.0    batch size : 50   mse is 223.52126000375702\n",
      " eta : 0.1 lmd :   10    batch size : 50   mse is 222.35355710585745\n",
      " eta : 1.0 lmd :   0.0001    batch size : 50   mse is 222.82785316919774\n",
      " eta : 1.0 lmd :   0.001    batch size : 50   mse is 224.47034839100405\n",
      " eta : 1.0 lmd :   0.01    batch size : 50   mse is 222.20710457734486\n",
      " eta : 1.0 lmd :   0.1    batch size : 50   mse is 356.5379293586103\n",
      " eta : 1.0 lmd :   1.0    batch size : 50   mse is 238.63661029438333\n",
      " eta : 1.0 lmd :   10    batch size : 50   mse is 223.33058647599498\n"
     ]
    }
   ],
   "source": [
    "n_nodes = [10,30,50,100, 500]\n",
    "eta = [0.0001, 0.001, 0.01, 0.1, 1.0]\n",
    "lmd = [0.0001, 0.001, 0.01, 0.1, 1.0, 10]\n",
    "epochs = [10,50,100]\n",
    "batch_s = [1,10,50]\n",
    "\n",
    "\n",
    "\n",
    "#for e in epochs:\n",
    "for b in batch_s:\n",
    "    for et in eta:\n",
    "        for l in lmd:\n",
    "            mlp = MLPRegressor(hidden_layer_sizes=(100,50), \n",
    "                               activation = 'logistic', # this is the sigmoid activation function\n",
    "                               solver = \"adam\", \n",
    "                               alpha = l, # penalty\n",
    "                               batch_size =b, \n",
    "                               learning_rate_init=et)\n",
    "\n",
    "            mlp.fit(X_train, y_train)\n",
    "            y_pred = mlp.predict(X_test)\n",
    "            #logistic activation uses the sigmoid function \n",
    "            mse = mean_squared_error(y_pred, y_test)\n",
    "            print(\" eta : \" + str(et) +   \" lmd :   \"   + str(l) + \"    batch size : \" +  str(b)   + \"   mse is \" + str(mse))"
   ]
  },
  {
   "cell_type": "code",
   "execution_count": null,
   "metadata": {},
   "outputs": [],
   "source": []
  },
  {
   "cell_type": "code",
   "execution_count": null,
   "metadata": {},
   "outputs": [],
   "source": []
  },
  {
   "cell_type": "markdown",
   "metadata": {},
   "source": [
    "# Adding regularization may result in a beytte preformance despite of the network architecture "
   ]
  },
  {
   "cell_type": "code",
   "execution_count": null,
   "metadata": {},
   "outputs": [],
   "source": []
  },
  {
   "cell_type": "code",
   "execution_count": null,
   "metadata": {},
   "outputs": [],
   "source": []
  },
  {
   "cell_type": "code",
   "execution_count": null,
   "metadata": {},
   "outputs": [],
   "source": []
  },
  {
   "cell_type": "code",
   "execution_count": null,
   "metadata": {},
   "outputs": [],
   "source": []
  },
  {
   "cell_type": "code",
   "execution_count": null,
   "metadata": {},
   "outputs": [],
   "source": []
  },
  {
   "cell_type": "code",
   "execution_count": null,
   "metadata": {},
   "outputs": [],
   "source": []
  }
 ],
 "metadata": {
  "kernelspec": {
   "display_name": "Python 3",
   "language": "python",
   "name": "python3"
  },
  "language_info": {
   "codemirror_mode": {
    "name": "ipython",
    "version": 3
   },
   "file_extension": ".py",
   "mimetype": "text/x-python",
   "name": "python",
   "nbconvert_exporter": "python",
   "pygments_lexer": "ipython3",
   "version": "3.6.5"
  }
 },
 "nbformat": 4,
 "nbformat_minor": 2
}
