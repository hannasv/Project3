{
 "cells": [
  {
   "cell_type": "markdown",
   "metadata": {},
   "source": [
    "# Project 3 -- predicting cloud cover "
   ]
  },
  {
   "cell_type": "code",
   "execution_count": 1,
   "metadata": {},
   "outputs": [],
   "source": [
    "import numpy as np\n",
    "import scipy.sparse as sp\n",
    "np.random.seed(12)\n",
    "\n",
    "import warnings\n",
    "#Comment this to turn on warnings\n",
    "warnings.filterwarnings('ignore')\n",
    "\n",
    "from model_comparison import model_comparison\n",
    "from resample import resample\n",
    "import algorithms\n",
    "import matplotlib.pyplot as plt\n",
    "import seaborn as sns\n",
    "import netCDF4 as n\n",
    "from sklearn.linear_model import LinearRegression\n",
    "\n",
    "from mpl_toolkits.axes_grid1 import make_axes_locatable\n",
    "%matplotlib inline\n",
    "\n",
    "from utils import train_test_split\n",
    "\n",
    "#%matplotlib notebook"
   ]
  },
  {
   "cell_type": "code",
   "execution_count": 2,
   "metadata": {},
   "outputs": [],
   "source": [
    "def logit_inv(x):\n",
    "    return np.exp(x)/(1+np.exp(x))\n",
    "\n",
    "def logit(x):\n",
    "    return np.log(x/(1-x))"
   ]
  },
  {
   "cell_type": "markdown",
   "metadata": {},
   "source": [
    "# Reading in the data"
   ]
  },
  {
   "cell_type": "code",
   "execution_count": 3,
   "metadata": {},
   "outputs": [],
   "source": [
    "# reading test\n",
    "path = \"./files/\"\n",
    "filenames = [\"specific_humidity_Europa_sp.nc\", \"relative_humidity_Europa_sp.nc\", \"pressure_Europa_sp.nc\",  \n",
    "             \"temperature_Europa_sp.nc\", \"total_cloud_cover_Europa_sp.nc\"]\n",
    "\n",
    "\n",
    "cloud = n.Dataset(path + filenames[-1], \"r\")\n",
    "relative = n.Dataset(path + filenames[1], \"r\")\n",
    "specific = n.Dataset(path + filenames[0], \"r\")\n",
    "pressure = n.Dataset(path + filenames[2], \"r\")\n",
    "temperature = n.Dataset(path + filenames[3], \"r\")\n",
    "\n",
    "#print(cloud.variables)\n",
    "tcc = cloud.variables[\"tcc\"][:].data\n",
    "\n",
    "# Retriving ground values, these are available at six different pressure levels. \n",
    "rel = relative.variables[\"r\"][:][0].data\n",
    "#level = relative.variables[\"level\"][:][0].data\n",
    "spe = specific.variables[\"q\"][:][0].data\n",
    "\n",
    "surf_pre = pressure.variables[\"sp\"][:].data\n",
    "temp = temperature.variables[\"t2m\"][:].data"
   ]
  },
  {
   "cell_type": "code",
   "execution_count": 24,
   "metadata": {},
   "outputs": [],
   "source": [
    "# for one certain timestep \n",
    "t = 1\n",
    "\n",
    "y = tcc[t].flatten().reshape((4697, 1)) #logit(tcc[0].flatten()).reshape((4697, 1))\n",
    "X = np.array([rel[t].flatten(), spe[t].flatten(), surf_pre[t].flatten(), temp[t].flatten()]).transpose()\n",
    "                    \n",
    "                    \n",
    "# Testing is a different timestep??\n",
    "# Training for several timesteps"
   ]
  },
  {
   "cell_type": "code",
   "execution_count": 7,
   "metadata": {},
   "outputs": [
    {
     "data": {
      "text/plain": [
       "(4697, 1)"
      ]
     },
     "execution_count": 7,
     "metadata": {},
     "output_type": "execute_result"
    }
   ],
   "source": [
    "y.shape"
   ]
  },
  {
   "cell_type": "code",
   "execution_count": 8,
   "metadata": {},
   "outputs": [
    {
     "data": {
      "text/plain": [
       "(4697, 4)"
      ]
     },
     "execution_count": 8,
     "metadata": {},
     "output_type": "execute_result"
    }
   ],
   "source": [
    "X.shape"
   ]
  },
  {
   "cell_type": "code",
   "execution_count": null,
   "metadata": {},
   "outputs": [],
   "source": [
    "#X_train, X_test, y_train, y_test = train_test_split(X, y, split_size=0.2)"
   ]
  },
  {
   "cell_type": "code",
   "execution_count": null,
   "metadata": {},
   "outputs": [],
   "source": []
  },
  {
   "cell_type": "code",
   "execution_count": null,
   "metadata": {},
   "outputs": [],
   "source": []
  },
  {
   "cell_type": "markdown",
   "metadata": {},
   "source": [
    "\n",
    "# Regression analysis "
   ]
  },
  {
   "cell_type": "code",
   "execution_count": 9,
   "metadata": {
    "scrolled": false
   },
   "outputs": [
    {
     "name": "stdout",
     "output_type": "stream",
     "text": [
      "Testing model: ols\n",
      "Testing model: ridge\n",
      "Testing model: lasso\n",
      "6\n"
     ]
    }
   ],
   "source": [
    "# Experimental setup\n",
    "models = {\n",
    "    \"ols\": algorithms.OLS,\n",
    "    #\"ols\": LinearRegression,\n",
    "    'ridge': algorithms.Ridge, \n",
    "    \"lasso\": algorithms.Lasso\n",
    "}\n",
    "param_grid = {\n",
    "    'ols': [0],\n",
    "    'ridge': [0.0001, 0.001, 0.01, 0.1, 1.0, 10.0, 100, 10**3, 10**4, 10**5],  \n",
    "    'lasso': [0.0001, 0.001, 0.01, 0.1, 1.0, 10.0, 100, 10**3, 10**4, 10**5]\n",
    "}\n",
    "\n",
    "# Choosing the same splitsize as the notebook in order to compare. \n",
    "results, z_pred_best, coeffs = model_comparison(\n",
    "    models, param_grid, X, y, split_size=0.2\n",
    "    )"
   ]
  },
  {
   "cell_type": "code",
   "execution_count": 10,
   "metadata": {
    "scrolled": true
   },
   "outputs": [
    {
     "data": {
      "text/plain": [
       "dict_keys(['mse_test', 'mse_train', 'r2_test', 'r2_train'])"
      ]
     },
     "execution_count": 10,
     "metadata": {},
     "output_type": "execute_result"
    }
   ],
   "source": [
    "results.keys()"
   ]
  },
  {
   "cell_type": "code",
   "execution_count": 11,
   "metadata": {},
   "outputs": [
    {
     "data": {
      "text/plain": [
       "[[0.29468026285069693,\n",
       "  0.29456526115911474,\n",
       "  0.2931930834869302,\n",
       "  0.29071339372042415,\n",
       "  0.29011291548567775,\n",
       "  0.2900445095421528,\n",
       "  0.29003327612241336,\n",
       "  0.2899887080930573,\n",
       "  0.2895108088117425,\n",
       "  0.2819090173572594]]"
      ]
     },
     "execution_count": 11,
     "metadata": {},
     "output_type": "execute_result"
    }
   ],
   "source": [
    "results[\"r2_test\"][\"ridge\"]"
   ]
  },
  {
   "cell_type": "code",
   "execution_count": 12,
   "metadata": {},
   "outputs": [
    {
     "data": {
      "text/plain": [
       "[[0.26069385926072863]]"
      ]
     },
     "execution_count": 12,
     "metadata": {},
     "output_type": "execute_result"
    }
   ],
   "source": [
    "results[\"r2_test\"][\"ols\"]"
   ]
  },
  {
   "cell_type": "code",
   "execution_count": 13,
   "metadata": {},
   "outputs": [
    {
     "data": {
      "image/png": "[encoded data removed]",
      "text/plain": [
       "<Figure size 936x504 with 2 Axes>"
      ]
     },
     "metadata": {},
     "output_type": "display_data"
    }
   ],
   "source": [
    "# Generate figure\n",
    "\n",
    "# MSE\n",
    "plt.figure(1, figsize = (13,7))\n",
    "plt.subplot(1,2,1)\n",
    "xlogr = np.log10(param_grid['ridge'])  # log x-axis\n",
    "plt.plot(xlogr, (results[\"mse_train\"][\"ols\"]*np.ones(len(xlogr))).T, 'r', label='OLS (train)', linewidth=3.0) \n",
    "plt.plot(xlogr, (results[\"mse_test\"][\"ols\"]*np.ones(len(xlogr))).T, 'r--', label='OLS (test)',  linewidth=3.0) \n",
    "plt.plot(xlogr, np.asarray(results[\"mse_train\"][\"ridge\"]).T, 'b', label='Ridge (train)', linewidth=3.0) \n",
    "plt.plot(xlogr, np.asarray(results[\"mse_test\"][\"ridge\"]).T, 'b--', label='Ridge (test)', linewidth=3.0) \n",
    "plt.plot(xlogr, np.asarray(results[\"mse_train\"][\"lasso\"]).T, 'g', label='LASSO (train)', linewidth=3.0) \n",
    "plt.plot(xlogr, np.asarray(results[\"mse_test\"][\"lasso\"]).T, 'g--', label='LASSO (test)', linewidth=3.0) \n",
    "ax = plt.gca()\n",
    "plt.xticks(np.asarray(xlogr))\n",
    "ax.set_xticklabels(param_grid['ridge'])\n",
    "plt.xlabel('λ', fontsize=14)\n",
    "plt.ylabel('MSE', fontsize=14)\n",
    "plt.legend()\n",
    "\n",
    "# R-squared\n",
    "plt.subplot(1,2,2)\n",
    "plt.plot(xlogr, (results[\"r2_train\"][\"ols\"]*np.ones(len(xlogr))).T, 'r', label='OLS (train)', linewidth=3.0) \n",
    "plt.plot(xlogr, (results[\"r2_test\"][\"ols\"]*np.ones(len(xlogr))).T, 'r--', label='OLS (test)', linewidth=3.0) \n",
    "plt.plot(xlogr, np.asarray(results[\"r2_train\"][\"ridge\"]).T, 'b', label='Ridge (train)', linewidth=3.0) \n",
    "plt.plot(xlogr, np.asarray(results[\"r2_test\"][\"ridge\"]).T, 'b--', label='Ridge (test)', linewidth=3.0) \n",
    "#plt.plot(xlogr, np.asarray(results[\"r2_train\"][\"lasso\"]).T, 'g', label='LASSO (train)', linewidth=3.0) \n",
    "#plt.plot(xlogr, np.asarray(results[\"r2_test\"][\"lasso\"]).T, 'g--', label='LASSO (test)', linewidth=3.0) \n",
    "ax = plt.gca()\n",
    "plt.xticks(np.asarray(xlogr))\n",
    "ax.set_xticklabels(param_grid['ridge'])\n",
    "plt.xlabel('λ', fontsize=14)\n",
    "plt.ylabel('R2', fontsize=14)\n",
    "plt.legend()\n",
    "plt.suptitle(\"Performance of OLS, Ridge and LASSO regressions\", y=1.05, fontsize=17)\n",
    "plt.savefig(\"results/figures/metric_regression_on_allData.png\", bbox_inches = \"tight\")\n",
    "plt.tight_layout()    \n",
    "plt.show()"
   ]
  },
  {
   "cell_type": "markdown",
   "metadata": {},
   "source": [
    "# Determining which feature is most important"
   ]
  },
  {
   "cell_type": "markdown",
   "metadata": {},
   "source": [
    "## Results:"
   ]
  },
  {
   "cell_type": "markdown",
   "metadata": {
    "collapsed": true
   },
   "source": [
    "# Bias and variance discussion "
   ]
  },
  {
   "cell_type": "code",
   "execution_count": 16,
   "metadata": {},
   "outputs": [
    {
     "data": {
      "text/plain": [
       "(2, 4)"
      ]
     },
     "execution_count": 16,
     "metadata": {},
     "output_type": "execute_result"
    }
   ],
   "source": [
    "# Experimental setup\n",
    "models = {\n",
    "    \"ols\": algorithms.OLS, \n",
    "    \"ridge\": algorithms.Ridge, \n",
    "    \"lasso\": algorithms.Lasso, \n",
    "}\n",
    "\n",
    "lmd = {\n",
    "    'ols': [0],\n",
    "    'lasso': [0.001],\n",
    "    'ridge':[0.001]\n",
    "    \n",
    "}\n",
    "nboots = 100\n",
    "\n",
    "z_test, z_pred_test, bias, var, beta, mse_test, mse_train, ci_beta = resample(models, lmd, X, y, nboots, split_size = 0.2)\n",
    "\n",
    "ci_beta.shape"
   ]
  },
  {
   "cell_type": "code",
   "execution_count": 17,
   "metadata": {},
   "outputs": [
    {
     "data": {
      "text/plain": [
       "(2, 4)"
      ]
     },
     "execution_count": 17,
     "metadata": {},
     "output_type": "execute_result"
    }
   ],
   "source": [
    "ci_beta.shape # Muligens ikke så mys vits med konfidenseintervall av disse dimensjoner. "
   ]
  },
  {
   "cell_type": "code",
   "execution_count": 18,
   "metadata": {},
   "outputs": [
    {
     "data": {
      "text/plain": [
       "{'ridge': 0.09398233371398797,\n",
       " 'lasso': 0.09482311832154165,\n",
       " 'ols': 0.09397958714848735}"
      ]
     },
     "execution_count": 18,
     "metadata": {},
     "output_type": "execute_result"
    }
   ],
   "source": [
    "bias"
   ]
  },
  {
   "cell_type": "code",
   "execution_count": 19,
   "metadata": {},
   "outputs": [
    {
     "data": {
      "text/plain": [
       "{'ridge': 0.00010438231317453392,\n",
       " 'lasso': 0.00011613131137079264,\n",
       " 'ols': 0.0001090472538421933}"
      ]
     },
     "execution_count": 19,
     "metadata": {},
     "output_type": "execute_result"
    }
   ],
   "source": [
    "var # variance dominates because we don't have so mush data???"
   ]
  },
  {
   "cell_type": "code",
   "execution_count": 20,
   "metadata": {},
   "outputs": [
    {
     "data": {
      "text/plain": [
       "{'ridge': 0.0940867160271625,\n",
       " 'lasso': 0.09493924963291243,\n",
       " 'ols': 0.09408863440232954}"
      ]
     },
     "execution_count": 20,
     "metadata": {},
     "output_type": "execute_result"
    }
   ],
   "source": [
    "mse_test"
   ]
  },
  {
   "cell_type": "code",
   "execution_count": 21,
   "metadata": {},
   "outputs": [
    {
     "data": {
      "text/plain": [
       "0.09408863440232955"
      ]
     },
     "execution_count": 21,
     "metadata": {},
     "output_type": "execute_result"
    }
   ],
   "source": [
    "bias[\"ols\"] + var[\"ols\"] "
   ]
  },
  {
   "cell_type": "code",
   "execution_count": 22,
   "metadata": {},
   "outputs": [
    {
     "data": {
      "text/plain": [
       "0.0940867160271625"
      ]
     },
     "execution_count": 22,
     "metadata": {},
     "output_type": "execute_result"
    }
   ],
   "source": [
    "bias[\"ridge\"] + var[\"ridge\"] "
   ]
  },
  {
   "cell_type": "code",
   "execution_count": 23,
   "metadata": {},
   "outputs": [
    {
     "data": {
      "text/plain": [
       "0.09493924963291245"
      ]
     },
     "execution_count": 23,
     "metadata": {},
     "output_type": "execute_result"
    }
   ],
   "source": [
    "bias[\"lasso\"] + var[\"lasso\"] "
   ]
  },
  {
   "cell_type": "markdown",
   "metadata": {},
   "source": [
    "The bias and variance summes to the mse of the ols model."
   ]
  }
 ],
 "metadata": {
  "kernelspec": {
   "display_name": "Python 3",
   "language": "python",
   "name": "python3"
  },
  "language_info": {
   "codemirror_mode": {
    "name": "ipython",
    "version": 3
   },
   "file_extension": ".py",
   "mimetype": "text/x-python",
   "name": "python",
   "nbconvert_exporter": "python",
   "pygments_lexer": "ipython3",
   "version": "3.6.5"
  }
 },
 "nbformat": 4,
 "nbformat_minor": 2
}
