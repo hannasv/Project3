{
 "cells": [
  {
   "cell_type": "markdown",
   "metadata": {},
   "source": [
    "# Part d: regression on a multilayer perceptron (neural network)"
   ]
  },
  {
   "cell_type": "code",
   "execution_count": 9,
   "metadata": {},
   "outputs": [],
   "source": [
    "import numpy as np\n",
    "import scipy.sparse as sp\n",
    "np.random.seed(12)\n",
    "\n",
    "import warnings\n",
    "#Comment this to turn on warnings\n",
    "warnings.filterwarnings('ignore')\n",
    "\n",
    "from model_comparison import model_comparison\n",
    "from resample import resample\n",
    "import algorithms\n",
    "import matplotlib.pyplot as plt\n",
    "import seaborn as sns\n",
    "import netCDF4 as n\n",
    "from sklearn.linear_model import LinearRegression\n",
    "\n",
    "from mpl_toolkits.axes_grid1 import make_axes_locatable\n",
    "%matplotlib inline\n",
    "\n",
    "from utils import train_test_split\n",
    "from ann import NeuralNetMLP\n",
    "#%matplotlib notebook"
   ]
  },
  {
   "cell_type": "markdown",
   "metadata": {},
   "source": [
    "# Reading in the data"
   ]
  },
  {
   "cell_type": "code",
   "execution_count": 30,
   "metadata": {},
   "outputs": [],
   "source": [
    "# reading test\n",
    "path = \"./files/\"\n",
    "filenames = [\"specific_humidity_Europa_sp.nc\", \"relative_humidity_Europa_sp.nc\", \"pressure_Europa_sp.nc\",  \n",
    "             \"temperature_Europa_sp.nc\", \"total_cloud_cover_Europa_sp.nc\"]\n",
    "\n",
    "\n",
    "cloud = n.Dataset(path + filenames[-1], \"r\")\n",
    "relative = n.Dataset(path + filenames[1], \"r\")\n",
    "specific = n.Dataset(path + filenames[0], \"r\")\n",
    "pressure = n.Dataset(path + filenames[2], \"r\")\n",
    "temperature = n.Dataset(path + filenames[3], \"r\")\n",
    "\n",
    "#print(cloud.variables)\n",
    "tcc = cloud.variables[\"tcc\"][:].data\n",
    "\n",
    "# Retriving ground values, these are available at six different pressure levels. \n",
    "rel = relative.variables[\"r\"][:].data\n",
    "#level = relative.variables[\"level\"][:][0].data\n",
    "spe = specific.variables[\"q\"][:].data\n",
    "\n",
    "surf_pre = pressure.variables[\"sp\"][:].data\n",
    "temp = temperature.variables[\"t2m\"][:].data"
   ]
  },
  {
   "cell_type": "code",
   "execution_count": 33,
   "metadata": {},
   "outputs": [
    {
     "data": {
      "text/plain": [
       "(61, 77)"
      ]
     },
     "execution_count": 33,
     "metadata": {},
     "output_type": "execute_result"
    }
   ],
   "source": [
    "rel[0][0][:][:].shape"
   ]
  },
  {
   "cell_type": "code",
   "execution_count": 70,
   "metadata": {},
   "outputs": [],
   "source": [
    "def logit_inv(x): # sigmoid?\n",
    "    return np.exp(x)/(1+np.exp(x))\n",
    "\n",
    "def logit(x):\n",
    "    return np.log10((x + 1e-12)/(1+1e-12-x))"
   ]
  },
  {
   "cell_type": "code",
   "execution_count": 77,
   "metadata": {},
   "outputs": [
    {
     "data": {
      "text/plain": [
       "-12.0"
      ]
     },
     "execution_count": 77,
     "metadata": {},
     "output_type": "execute_result"
    }
   ],
   "source": [
    "np.log10(0+1e-12)"
   ]
  },
  {
   "cell_type": "code",
   "execution_count": 49,
   "metadata": {},
   "outputs": [
    {
     "data": {
      "text/plain": [
       "45.0"
      ]
     },
     "execution_count": 49,
     "metadata": {},
     "output_type": "execute_result"
    }
   ],
   "source": [
    "np.log10(1./0.000000000000000000000000000000000000000000001)"
   ]
  },
  {
   "cell_type": "code",
   "execution_count": 71,
   "metadata": {},
   "outputs": [
    {
     "data": {
      "text/plain": [
       "array([[  4.5154168 ],\n",
       "       [  4.5154168 ],\n",
       "       [ 15.65355977],\n",
       "       ...,\n",
       "       [-11.69899892],\n",
       "       [-11.69899892],\n",
       "       [-11.69899892]])"
      ]
     },
     "execution_count": 71,
     "metadata": {},
     "output_type": "execute_result"
    }
   ],
   "source": [
    "logit(tcc[0].flatten()).reshape((4697, 1))"
   ]
  },
  {
   "cell_type": "code",
   "execution_count": 72,
   "metadata": {},
   "outputs": [],
   "source": [
    "# for one certain timestep \n",
    "t = 6\n",
    "# tcc[t].flatten().reshape((4697, 1))\n",
    "y = logit(tcc[t].flatten()).reshape((4697, 1))\n",
    "X = np.array([rel[t][0][:][:].flatten(), spe[t][0][:][:].flatten(), surf_pre[t].flatten(), temp[t].flatten()]).transpose()"
   ]
  },
  {
   "cell_type": "code",
   "execution_count": 73,
   "metadata": {},
   "outputs": [],
   "source": [
    "X_train, X_test, y_train, y_test = train_test_split(X, y, split_size=0.2)"
   ]
  },
  {
   "cell_type": "code",
   "execution_count": 74,
   "metadata": {},
   "outputs": [
    {
     "data": {
      "text/plain": [
       "((3758, 4), (939, 4))"
      ]
     },
     "execution_count": 74,
     "metadata": {},
     "output_type": "execute_result"
    }
   ],
   "source": [
    "X_train.shape, X_test.shape"
   ]
  },
  {
   "cell_type": "code",
   "execution_count": 75,
   "metadata": {},
   "outputs": [
    {
     "data": {
      "text/plain": [
       "((3758, 1), (939, 1))"
      ]
     },
     "execution_count": 75,
     "metadata": {},
     "output_type": "execute_result"
    }
   ],
   "source": [
    "y_train.shape, y_test.shape"
   ]
  },
  {
   "cell_type": "markdown",
   "metadata": {},
   "source": [
    "# Two layer MLP (Neural network )"
   ]
  },
  {
   "cell_type": "markdown",
   "metadata": {},
   "source": [
    "## Used to make table in report. "
   ]
  },
  {
   "cell_type": "code",
   "execution_count": 76,
   "metadata": {
    "scrolled": false
   },
   "outputs": [
    {
     "name": "stdout",
     "output_type": "stream",
     "text": [
      "Sigmoid for nr of epochs 1 and eta: 0.0001  batchsize = 1   performance is 71.84957274944483\n",
      "---------------------------\n",
      "Sigmoid for nr of epochs 1 and eta: 0.001  batchsize = 1   performance is 72.09490758139931\n",
      "---------------------------\n",
      "Sigmoid for nr of epochs 1 and eta: 0.01  batchsize = 1   performance is 94.7770890143402\n",
      "---------------------------\n",
      "Sigmoid for nr of epochs 1 and eta: 0.1  batchsize = 1   performance is 93.22126657108744\n",
      "---------------------------\n",
      "Sigmoid for nr of epochs 1 and eta: 1.0  batchsize = 1   performance is nan\n",
      "---------------------------\n",
      "Sigmoid for nr of epochs 10 and eta: 0.0001  batchsize = 1   performance is 71.90269623657578\n",
      "---------------------------\n",
      "Sigmoid for nr of epochs 10 and eta: 0.001  batchsize = 1   performance is 72.2658372708311\n",
      "---------------------------\n",
      "Sigmoid for nr of epochs 10 and eta: 0.01  batchsize = 1   performance is 76.62190087295724\n",
      "---------------------------\n",
      "Sigmoid for nr of epochs 10 and eta: 0.1  batchsize = 1   performance is 138.3559628172874\n",
      "---------------------------\n",
      "Sigmoid for nr of epochs 10 and eta: 1.0  batchsize = 1   performance is nan\n",
      "---------------------------\n",
      "Sigmoid for nr of epochs 50 and eta: 0.0001  batchsize = 1   performance is 71.8885369759173\n",
      "---------------------------\n",
      "Sigmoid for nr of epochs 50 and eta: 0.001  batchsize = 1   performance is 72.38372238084526\n",
      "---------------------------\n",
      "Sigmoid for nr of epochs 50 and eta: 0.01  batchsize = 1   performance is 79.88799908285111\n",
      "---------------------------\n",
      "Sigmoid for nr of epochs 50 and eta: 0.1  batchsize = 1   performance is 134.1371230689775\n",
      "---------------------------\n",
      "Sigmoid for nr of epochs 50 and eta: 1.0  batchsize = 1   performance is nan\n",
      "---------------------------\n",
      "Sigmoid for nr of epochs 100 and eta: 0.0001  batchsize = 1   performance is 71.91710848904542\n",
      "---------------------------\n",
      "Sigmoid for nr of epochs 100 and eta: 0.001  batchsize = 1   performance is 72.26349372801934\n",
      "---------------------------\n",
      "Sigmoid for nr of epochs 100 and eta: 0.01  batchsize = 1   performance is 76.21280183393453\n",
      "---------------------------\n",
      "Sigmoid for nr of epochs 100 and eta: 0.1  batchsize = 1   performance is 185.57293194551437\n",
      "---------------------------\n",
      "Sigmoid for nr of epochs 100 and eta: 1.0  batchsize = 1   performance is nan\n",
      "---------------------------\n"
     ]
    }
   ],
   "source": [
    "# Experimental setup\n",
    "metric = []\n",
    "\n",
    "eta = [0.0001, 0.001, 0.01, 0.1, 1.0]\n",
    "#lmd = [0.0001, 0.001, 0.01, 0.1, 1.0, 10]\n",
    "epochs = [1, 10, 50, 100]\n",
    "batchsize = [1]\n",
    "\n",
    "\n",
    "for epoch in epochs:\n",
    "    for e in eta:\n",
    "        for batch in batchsize:\n",
    "            ann = NeuralNetMLP(n_hidden=30, \n",
    "                               epochs=epoch, \n",
    "                               eta=e, \n",
    "                               shuffle=True,\n",
    "                               batch_size=batch, \n",
    "                               activation='sigmoid', \n",
    "                               tpe = \"regression\")\n",
    "\n",
    "            ann.fit(X_train, y_train, X_test, y_test)\n",
    "            ann.predict(X_test)\n",
    "            # returns a list of the mean mse score for different epochs or batches\n",
    "            metric.append(ann.eval_[\"valid_preform\"])\n",
    "            print(\"Sigmoid for nr of epochs \"+str(epoch) + \" and eta: \" + str(e) + \"  batchsize = \" + str(batch) +\"   performance is \" + str(np.nanmean(ann.eval_[\"valid_preform\"])))\n",
    "        print(\"---------------------------\")"
   ]
  },
  {
   "cell_type": "markdown",
   "metadata": {},
   "source": [
    "# Performance with 10 neurons"
   ]
  },
  {
   "cell_type": "code",
   "execution_count": 20,
   "metadata": {},
   "outputs": [
    {
     "name": "stdout",
     "output_type": "stream",
     "text": [
      "ELU for nr of epochs 1 and eta: 0.0001  batchsize = 1   performance is 0.14517574693599355\n",
      "---------------------------\n",
      "ELU for nr of epochs 1 and eta: 0.001  batchsize = 1   performance is 0.13781533835655296\n",
      "---------------------------\n",
      "ELU for nr of epochs 1 and eta: 0.01  batchsize = 1   performance is 0.16857858768692663\n",
      "---------------------------\n",
      "ELU for nr of epochs 1 and eta: 0.1  batchsize = 1   performance is 0.22421847112002705\n",
      "---------------------------\n",
      "ELU for nr of epochs 1 and eta: 1.0  batchsize = 1   performance is nan\n",
      "---------------------------\n",
      "ELU for nr of epochs 10 and eta: 0.0001  batchsize = 1   performance is 0.13766677974848643\n",
      "---------------------------\n",
      "ELU for nr of epochs 10 and eta: 0.001  batchsize = 1   performance is 0.13793272898120018\n",
      "---------------------------\n",
      "ELU for nr of epochs 10 and eta: 0.01  batchsize = 1   performance is 0.14065829446965844\n",
      "---------------------------\n",
      "ELU for nr of epochs 10 and eta: 0.1  batchsize = 1   performance is 0.20940540207547143\n",
      "---------------------------\n",
      "ELU for nr of epochs 10 and eta: 1.0  batchsize = 1   performance is nan\n",
      "---------------------------\n",
      "ELU for nr of epochs 50 and eta: 0.0001  batchsize = 1   performance is 0.13757795365967393\n",
      "---------------------------\n",
      "ELU for nr of epochs 50 and eta: 0.001  batchsize = 1   performance is 0.13786194020506662\n",
      "---------------------------\n",
      "ELU for nr of epochs 50 and eta: 0.01  batchsize = 1   performance is 0.145675448223556\n",
      "---------------------------\n",
      "ELU for nr of epochs 50 and eta: 0.1  batchsize = 1   performance is 0.19399867599304826\n",
      "---------------------------\n",
      "ELU for nr of epochs 50 and eta: 1.0  batchsize = 1   performance is nan\n",
      "---------------------------\n",
      "ELU for nr of epochs 100 and eta: 0.0001  batchsize = 1   performance is 0.1376005347126416\n",
      "---------------------------\n",
      "ELU for nr of epochs 100 and eta: 0.001  batchsize = 1   performance is 0.1379649416147161\n",
      "---------------------------\n",
      "ELU for nr of epochs 100 and eta: 0.01  batchsize = 1   performance is 0.14254157036502088\n",
      "---------------------------\n",
      "ELU for nr of epochs 100 and eta: 0.1  batchsize = 1   performance is 0.17983802194445392\n",
      "---------------------------\n",
      "ELU for nr of epochs 100 and eta: 1.0  batchsize = 1   performance is nan\n",
      "---------------------------\n"
     ]
    }
   ],
   "source": [
    "# Experimental setup\n",
    "metric = []\n",
    "\n",
    "eta = [0.0001, 0.001, 0.01, 0.1, 1.0]\n",
    "#lmd = [0.0001, 0.001, 0.01, 0.1, 1.0, 10]\n",
    "epochs = [1, 10, 50, 100]\n",
    "batchsize = [1]\n",
    "\n",
    "# Om vi skal bruke elu så må vi tweeke alpha i tilegg.\n",
    "\n",
    "\n",
    "for epoch in epochs:\n",
    "    for e in eta:\n",
    "        for batch in batchsize:\n",
    "            ann = NeuralNetMLP(n_hidden=10, \n",
    "                               epochs=epoch, \n",
    "                               eta=e, \n",
    "                               alpha = 0.0001,\n",
    "                               shuffle=True,\n",
    "                               batch_size=batch, \n",
    "                               activation='sigmoid', \n",
    "                               tpe = \"regression\")\n",
    "\n",
    "            ann.fit(X_train, y_train, X_test, y_test)\n",
    "            ann.predict(X_test)\n",
    "            # returns a list of the mean mse score for different epochs or batches\n",
    "            metric.append(ann.eval_[\"valid_preform\"])\n",
    "            print(\"ELU for nr of epochs \"+str(epoch) + \" and eta: \" + str(e) + \"  batchsize = \" + str(batch) +\"   performance is \" + str(np.nanmean(ann.eval_[\"valid_preform\"])))\n",
    "        print(\"---------------------------\")"
   ]
  },
  {
   "cell_type": "markdown",
   "metadata": {},
   "source": [
    "# Performance with 5 neurons"
   ]
  },
  {
   "cell_type": "code",
   "execution_count": 21,
   "metadata": {},
   "outputs": [
    {
     "name": "stdout",
     "output_type": "stream",
     "text": [
      "ELU for nr of epochs 1 and eta: 0.0001  batchsize = 1   performance is 0.19290120272586073\n",
      "---------------------------\n",
      "ELU for nr of epochs 1 and eta: 0.001  batchsize = 1   performance is 0.13747038903084544\n",
      "---------------------------\n",
      "ELU for nr of epochs 1 and eta: 0.01  batchsize = 1   performance is 0.13782926760583414\n",
      "---------------------------\n",
      "ELU for nr of epochs 1 and eta: 0.1  batchsize = 1   performance is 0.21863717437325492\n",
      "---------------------------\n",
      "ELU for nr of epochs 1 and eta: 1.0  batchsize = 1   performance is 2863.0176969732825\n",
      "---------------------------\n",
      "ELU for nr of epochs 10 and eta: 0.0001  batchsize = 1   performance is 0.1422118117514488\n",
      "---------------------------\n",
      "ELU for nr of epochs 10 and eta: 0.001  batchsize = 1   performance is 0.1377025627708945\n",
      "---------------------------\n",
      "ELU for nr of epochs 10 and eta: 0.01  batchsize = 1   performance is 0.1398838336441726\n",
      "---------------------------\n",
      "ELU for nr of epochs 10 and eta: 0.1  batchsize = 1   performance is 0.15847225600688125\n",
      "---------------------------\n",
      "ELU for nr of epochs 10 and eta: 1.0  batchsize = 1   performance is nan\n",
      "---------------------------\n",
      "ELU for nr of epochs 50 and eta: 0.0001  batchsize = 1   performance is 0.13792503224653638\n",
      "---------------------------\n",
      "ELU for nr of epochs 50 and eta: 0.001  batchsize = 1   performance is 0.13787168944884354\n",
      "---------------------------\n",
      "ELU for nr of epochs 50 and eta: 0.01  batchsize = 1   performance is 0.13910796536433448\n",
      "---------------------------\n",
      "ELU for nr of epochs 50 and eta: 0.1  batchsize = 1   performance is 0.17753253112548614\n",
      "---------------------------\n",
      "ELU for nr of epochs 50 and eta: 1.0  batchsize = 1   performance is nan\n",
      "---------------------------\n",
      "ELU for nr of epochs 100 and eta: 0.0001  batchsize = 1   performance is 0.13778759325097772\n",
      "---------------------------\n",
      "ELU for nr of epochs 100 and eta: 0.001  batchsize = 1   performance is 0.13758057740929444\n",
      "---------------------------\n",
      "ELU for nr of epochs 100 and eta: 0.01  batchsize = 1   performance is 0.14070130729351524\n",
      "---------------------------\n",
      "ELU for nr of epochs 100 and eta: 0.1  batchsize = 1   performance is 0.17735736190018578\n",
      "---------------------------\n",
      "ELU for nr of epochs 100 and eta: 1.0  batchsize = 1   performance is 0.2671035272860969\n",
      "---------------------------\n"
     ]
    }
   ],
   "source": [
    "# Experimental setup\n",
    "metric = []\n",
    "\n",
    "eta = [0.0001, 0.001, 0.01, 0.1, 1.0]\n",
    "#lmd = [0.0001, 0.001, 0.01, 0.1, 1.0, 10]\n",
    "epochs = [1, 10, 50, 100]\n",
    "batchsize = [1]\n",
    "\n",
    "# Om vi skal bruke elu så må vi tweeke alpha i tilegg.\n",
    "\n",
    "\n",
    "for epoch in epochs:\n",
    "    for e in eta:\n",
    "        for batch in batchsize:\n",
    "            ann = NeuralNetMLP(n_hidden=5, \n",
    "                               epochs=epoch, \n",
    "                               eta=e, \n",
    "                               alpha = 0.0001,\n",
    "                               shuffle=True,\n",
    "                               batch_size=batch, \n",
    "                               activation='sigmoid', \n",
    "                               tpe = \"regression\")\n",
    "\n",
    "            ann.fit(X_train, y_train, X_test, y_test)\n",
    "            ann.predict(X_test)\n",
    "            # returns a list of the mean mse score for different epochs or batches\n",
    "            metric.append(ann.eval_[\"valid_preform\"])\n",
    "            print(\"ELU for nr of epochs \"+str(epoch) + \" and eta: \" + str(e) + \"  batchsize = \" + str(batch) +\"   performance is \" + str(np.nanmean(ann.eval_[\"valid_preform\"])))\n",
    "        print(\"---------------------------\")"
   ]
  },
  {
   "cell_type": "code",
   "execution_count": null,
   "metadata": {
    "scrolled": false
   },
   "outputs": [],
   "source": [
    "len(test_m)"
   ]
  },
  {
   "cell_type": "code",
   "execution_count": null,
   "metadata": {},
   "outputs": [],
   "source": [
    "plt.figure(figsize=(10,6))\n",
    "x = np.arange(len(test_m[0]))\n",
    "\n",
    "for i in range(2):\n",
    "    plt.plot(x, test_m[i], label = \"testdata, eta = %.4f\" %eta[i])\n",
    "    plt.plot(x, train_m[i], label = \"traindata, eta = %.4f\" %eta[i])\n",
    "    \n",
    "plt.title(\" Performance of MLPRegressor, sigmoid  \", fontsize = 20)\n",
    "xmin, xmax, ymin, ymax = plt.axis([0,50,0,50])\n",
    "plt.xlabel(\" Epoch \", fontsize=15)\n",
    "plt.ylabel(\"  MSE  \", fontsize=15)\n",
    "plt.legend()\n",
    "plt.savefig(\"./results/figures/MLPRegressor_sigmoid_MSE_50_epochs.png\")"
   ]
  },
  {
   "cell_type": "markdown",
   "metadata": {
    "collapsed": true
   },
   "source": [
    "# Exploding gradients?"
   ]
  },
  {
   "cell_type": "code",
   "execution_count": null,
   "metadata": {},
   "outputs": [],
   "source": [
    "ann = NeuralNetMLP(batch_size=10,\n",
    "                   epochs=50,\n",
    "                   n_hidden=30,\n",
    "                   eta = 0.1,\n",
    "                   activation=\"sigmoid\",\n",
    "                   tpe = \"regression\")\n",
    "\n",
    "ann.fit(X_train, y_train, X_valid, y_valid)\n",
    "ann.predict(X_valid)\n",
    "\n",
    "ann.eval_[\"valid_preform\"], ann.eval_[\"train_preform\"]"
   ]
  },
  {
   "cell_type": "code",
   "execution_count": null,
   "metadata": {},
   "outputs": [],
   "source": []
  },
  {
   "cell_type": "markdown",
   "metadata": {
    "collapsed": true
   },
   "source": [
    "# Comparing to scikitlearn MLPregression"
   ]
  },
  {
   "cell_type": "code",
   "execution_count": null,
   "metadata": {},
   "outputs": [],
   "source": [
    "from sklearn.neural_network import MLPRegressor\n",
    "from utils import mean_squared_error"
   ]
  },
  {
   "cell_type": "code",
   "execution_count": null,
   "metadata": {},
   "outputs": [],
   "source": [
    "mlp = MLPRegressor(hidden_layer_sizes=(30, ), \n",
    "                   activation = 'logistic', # this is the sigmoid activation function\n",
    "                   solver = \"sgd\", \n",
    "                   alpha = 0.0001, \n",
    "                   batch_size =10, \n",
    "                   learning_rate_init=0.0001)\n",
    "\n",
    "mlp.fit(X_train, y_train)\n",
    "y_pred = mlp.predict(X_valid)\n",
    "#logistic activation uses the sigmoid function \n",
    "mean_squared_error(y_pred, y_valid)"
   ]
  },
  {
   "cell_type": "code",
   "execution_count": null,
   "metadata": {},
   "outputs": [],
   "source": [
    "mlp = MLPRegressor(hidden_layer_sizes=(30, ), \n",
    "                   activation = 'relu', # similar to both elu and lrelu but it is zero for negative values.\n",
    "                   solver = \"sgd\", \n",
    "                   alpha = 0.0001, # out lmd\n",
    "                   batch_size =10, \n",
    "                   learning_rate_init=0.0001)\n",
    "\n",
    "mlp.fit(X_train, y_train)\n",
    "y_pred = mlp.predict(X_valid)"
   ]
  },
  {
   "cell_type": "code",
   "execution_count": null,
   "metadata": {},
   "outputs": [],
   "source": [
    "mean_squared_error(y_pred, y_valid)"
   ]
  },
  {
   "cell_type": "code",
   "execution_count": null,
   "metadata": {},
   "outputs": [],
   "source": []
  }
 ],
 "metadata": {
  "kernelspec": {
   "display_name": "Python 3",
   "language": "python",
   "name": "python3"
  },
  "language_info": {
   "codemirror_mode": {
    "name": "ipython",
    "version": 3
   },
   "file_extension": ".py",
   "mimetype": "text/x-python",
   "name": "python",
   "nbconvert_exporter": "python",
   "pygments_lexer": "ipython3",
   "version": "3.6.5"
  }
 },
 "nbformat": 4,
 "nbformat_minor": 2
}
