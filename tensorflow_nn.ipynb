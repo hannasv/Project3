{
 "cells": [
  {
   "cell_type": "markdown",
   "metadata": {},
   "source": [
    "# Neural networks regression analysis using Keras"
   ]
  },
  {
   "cell_type": "markdown",
   "metadata": {},
   "source": [
    "The code runs on the environment tflow and is based on the example in : https://medium.com/@rajatgupta310198/getting-started-with-neural-network-for-regression-and-tensorflow-58ad3bd75223"
   ]
  },
  {
   "cell_type": "markdown",
   "metadata": {},
   "source": [
    "## Import libraries"
   ]
  },
  {
   "cell_type": "code",
   "execution_count": 2,
   "metadata": {},
   "outputs": [],
   "source": [
    "import pandas as pd\n",
    "import numpy as np\n",
    "import matplotlib.pyplot as plt\n",
    "import seaborn as sns\n",
    "from sklearn.preprocessing import MinMaxScaler\n",
    "from sklearn.preprocessing import StandardScaler\n",
    "import tensorflow as tf\n",
    "\n",
    "import matplotlib.pyplot as plt\n",
    "import netCDF4 as n\n",
    "%matplotlib inline\n",
    "from utils import train_test_split"
   ]
  },
  {
   "cell_type": "code",
   "execution_count": 3,
   "metadata": {},
   "outputs": [],
   "source": [
    "from tflow_reg import nn_model\n",
    "\n",
    "# from tflow_reg_new import nn_model"
   ]
  },
  {
   "cell_type": "markdown",
   "metadata": {},
   "source": [
    "## Import data"
   ]
  },
  {
   "cell_type": "code",
   "execution_count": 6,
   "metadata": {},
   "outputs": [],
   "source": [
    "path = \"./files/\"\n",
    "filenames = [\"specific_humidity_Europa_sp.nc\", \"relative_humidity_Europa_sp.nc\", \"pressure_Europa_sp.nc\",  \n",
    "             \"temperature_Europa_sp.nc\", \"total_cloud_cover_Europa_sp.nc\"]\n",
    "\n",
    "\n",
    "cloud = n.Dataset(path + filenames[-1], \"r\")\n",
    "relative = n.Dataset(path + filenames[1], \"r\")\n",
    "specific = n.Dataset(path + filenames[0], \"r\")\n",
    "pressure = n.Dataset(path + filenames[2], \"r\")\n",
    "temperature = n.Dataset(path + filenames[3], \"r\")\n",
    "\n",
    "my_files = {'cloud':cloud, 'relative':relative, 'specific':specific, 'pressure':pressure, 'temperature':temperature}\n",
    "\n",
    "\n",
    "tcc = cloud.variables[\"tcc\"]\n",
    "rh = relative.variables[\"r\"]\n",
    "q = specific.variables[\"q\"]\n",
    "sp = pressure.variables[\"sp\"]\n",
    "t2m = temperature.variables[\"t2m\"]\n",
    "\n",
    "my_vars = {'tcc':tcc, 'rh':rh, 'q':q, 'sp':sp, 't2m':t2m}\n",
    "\n",
    "n_days = 2\n",
    "n_grid_boxes = tcc.shape[1]*tcc.shape[2]\n",
    "X = np.empty((n_grid_boxes*n_days*4, 4))\n",
    "y = np.empty((n_grid_boxes*n_days*4))\n",
    "\n",
    "\n",
    "\n",
    "for t in range(int(n_days*4)):\n",
    "    i = 0\n",
    "    for key, value in my_vars.items():\n",
    "        if key == 'tcc':\n",
    "            y[n_grid_boxes*t:n_grid_boxes*(t+1)] = np.array(value[t, : , :]).flatten()\n",
    "        elif key == 'rh' or key == 'q':\n",
    "            X[n_grid_boxes*t:n_grid_boxes*(t+1), i] = np.array(value[t, 0, : , :]).flatten()\n",
    "            i = i+1\n",
    "        else:\n",
    "            X[n_grid_boxes*t:n_grid_boxes*(t+1), i] = np.array(value[t, : , :]).flatten()\n",
    "            i=i+1"
   ]
  },
  {
   "cell_type": "code",
   "execution_count": 7,
   "metadata": {},
   "outputs": [
    {
     "data": {
      "text/plain": [
       "[<matplotlib.lines.Line2D at 0x1e231326240>]"
      ]
     },
     "execution_count": 7,
     "metadata": {},
     "output_type": "execute_result"
    },
    {
     "data": {
      "image/png": "[encoded data removed]",
      "text/plain": [
       "<Figure size 432x288 with 1 Axes>"
      ]
     },
     "metadata": {
      "needs_background": "light"
     },
     "output_type": "display_data"
    }
   ],
   "source": [
    "\n",
    "plt.plot(range(y.shape[0]),y,label=\"Original Data\")"
   ]
  },
  {
   "cell_type": "markdown",
   "metadata": {},
   "source": [
    "### Standarize and split"
   ]
  },
  {
   "cell_type": "code",
   "execution_count": 8,
   "metadata": {},
   "outputs": [],
   "source": [
    "X_train, X_test, y_train, y_test = train_test_split(X, y, split_size=0.2)\n",
    "\n",
    "Xn_train = (X_train - X_train.mean(axis=0))/X_train.std(axis=0)\n",
    "yn_train = (y_train - y_train.mean())/y_train.std()\n",
    "\n",
    "Xn_test = (X_test - X_train.mean(axis=0))/X_train.std(axis=0)\n",
    "yn_test = (y_test - y_train.mean())/y_train.std()"
   ]
  },
  {
   "cell_type": "markdown",
   "metadata": {},
   "source": [
    "## Neural net model"
   ]
  },
  {
   "cell_type": "markdown",
   "metadata": {},
   "source": [
    "Feed forward neural net with 2 layers. Activation function: Sigmoid for all layers."
   ]
  },
  {
   "cell_type": "markdown",
   "metadata": {},
   "source": [
    "### Run neural network model"
   ]
  },
  {
   "cell_type": "code",
   "execution_count": 12,
   "metadata": {},
   "outputs": [],
   "source": [
    "npred = Xn_train.shape[1]\n",
    "noutput = Xn_train.shape[0]\n",
    "n_nodes = [npred, 100, 150, 1]"
   ]
  },
  {
   "cell_type": "code",
   "execution_count": 13,
   "metadata": {},
   "outputs": [],
   "source": [
    "xs = tf.placeholder(\"float\")\n",
    "ys = tf.placeholder(\"float\")\n",
    "\n",
    "output = nn_model(xs, n_nodes)\n",
    "#output = nn_model(xs, Xn_train.shape[1], [50, 50], 1)"
   ]
  },
  {
   "cell_type": "markdown",
   "metadata": {},
   "source": [
    "### MSE"
   ]
  },
  {
   "cell_type": "code",
   "execution_count": 14,
   "metadata": {},
   "outputs": [],
   "source": [
    "cost = tf.reduce_mean(tf.square(output-ys))"
   ]
  },
  {
   "cell_type": "markdown",
   "metadata": {},
   "source": [
    "### R2"
   ]
  },
  {
   "cell_type": "code",
   "execution_count": 15,
   "metadata": {},
   "outputs": [],
   "source": [
    "total_error = tf.reduce_sum(tf.square(tf.subtract(ys, tf.reduce_mean(ys))))\n",
    "\n",
    "unexplained_error = tf.reduce_sum(tf.square(tf.subtract(ys, output)))\n",
    "\n",
    "R_squared = tf.subtract(1.0, tf.divide(unexplained_error, total_error)) "
   ]
  },
  {
   "cell_type": "markdown",
   "metadata": {},
   "source": [
    "### Gradient descent"
   ]
  },
  {
   "cell_type": "code",
   "execution_count": 16,
   "metadata": {},
   "outputs": [],
   "source": [
    "eta = 0.001\n",
    "train = tf.train.GradientDescentOptimizer(eta).minimize(cost)"
   ]
  },
  {
   "cell_type": "code",
   "execution_count": 17,
   "metadata": {},
   "outputs": [
    {
     "data": {
      "text/plain": [
       "numpy.ndarray"
      ]
     },
     "execution_count": 17,
     "metadata": {},
     "output_type": "execute_result"
    }
   ],
   "source": [
    "type(Xn_train)"
   ]
  },
  {
   "cell_type": "markdown",
   "metadata": {},
   "source": [
    "### Plot the data"
   ]
  },
  {
   "cell_type": "code",
   "execution_count": 18,
   "metadata": {},
   "outputs": [
    {
     "name": "stdout",
     "output_type": "stream",
     "text": [
      "Epoch : 0 Cost train: 4.1898227 Cost test: 5.9711475\n",
      "Epoch : 0 R2 train: -166484.47 R2 test: -45008.12\n",
      "Epoch : 1 Cost train: 3.1349998 Cost test: 4.6136537\n",
      "Epoch : 1 R2 train: -129173.95 R2 test: -34708.477\n",
      "Epoch : 2 Cost train: 2.6653256 Cost test: 3.7865143\n",
      "Epoch : 2 R2 train: -105373.85 R2 test: -28571.697\n",
      "Epoch : 3 Cost train: 2.414797 Cost test: 3.2887123\n",
      "Epoch : 3 R2 train: -91240.51 R2 test: -24871.3\n",
      "Epoch : 4 Cost train: 2.1448653 Cost test: 2.9939466\n",
      "Epoch : 4 R2 train: -83023.805 R2 test: -22584.076\n",
      "Epoch : 5 Cost train: 1.9400077 Cost test: 2.8045332\n",
      "Epoch : 5 R2 train: -77975.99 R2 test: -21135.422\n",
      "Epoch : 6 Cost train: 1.8070265 Cost test: 2.6755974\n",
      "Epoch : 6 R2 train: -74561.77 R2 test: -20166.451\n",
      "Epoch : 7 Cost train: 1.7197102 Cost test: 2.587479\n",
      "Epoch : 7 R2 train: -72304.47 R2 test: -19491.77\n",
      "Epoch : 8 Cost train: 1.6631433 Cost test: 2.521321\n",
      "Epoch : 8 R2 train: -70485.23 R2 test: -18990.453\n",
      "Epoch : 9 Cost train: 1.6218224 Cost test: 2.4688919\n",
      "Epoch : 9 R2 train: -68987.06 R2 test: -18592.543\n",
      "Epoch : 10 Cost train: 1.5864718 Cost test: 2.4255111\n",
      "Epoch : 10 R2 train: -67754.375 R2 test: -18263.045\n",
      "Epoch : 11 Cost train: 1.5586706 Cost test: 2.3873882\n",
      "Epoch : 11 R2 train: -66613.62 R2 test: -17979.732\n",
      "Epoch : 12 Cost train: 1.5325838 Cost test: 2.3539462\n",
      "Epoch : 12 R2 train: -65613.65 R2 test: -17724.44\n",
      "Epoch : 13 Cost train: 1.5105772 Cost test: 2.3224301\n",
      "Epoch : 13 R2 train: -64730.223 R2 test: -17490.656\n",
      "Epoch : 14 Cost train: 1.4881439 Cost test: 2.293718\n",
      "Epoch : 14 R2 train: -63868.062 R2 test: -17271.592\n",
      "Epoch : 15 Cost train: 1.4701865 Cost test: 2.2667317\n",
      "Epoch : 15 R2 train: -63077.13 R2 test: -17068.867\n",
      "Epoch : 16 Cost train: 1.4521557 Cost test: 2.2415125\n",
      "Epoch : 16 R2 train: -62305.168 R2 test: -16879.018\n",
      "Epoch : 17 Cost train: 1.436333 Cost test: 2.2179985\n",
      "Epoch : 17 R2 train: -61616.324 R2 test: -16696.354\n",
      "Epoch : 18 Cost train: 1.4233236 Cost test: 2.1942682\n",
      "Epoch : 18 R2 train: -60929.543 R2 test: -16522.816\n",
      "Epoch : 19 Cost train: 1.4106013 Cost test: 2.1730769\n",
      "Epoch : 19 R2 train: -60303.97 R2 test: -16358.081\n",
      "Epoch : 20 Cost train: 1.3967458 Cost test: 2.1519394\n",
      "Epoch : 20 R2 train: -59710.41 R2 test: -16199.77\n",
      "Epoch : 21 Cost train: 1.383974 Cost test: 2.1320858\n",
      "Epoch : 21 R2 train: -59099.293 R2 test: -16051.16\n",
      "Epoch : 22 Cost train: 1.372302 Cost test: 2.1136944\n",
      "Epoch : 22 R2 train: -58545.195 R2 test: -15906.041\n",
      "Epoch : 23 Cost train: 1.3620081 Cost test: 2.095003\n",
      "Epoch : 23 R2 train: -57989.145 R2 test: -15767.912\n",
      "Epoch : 24 Cost train: 1.3508629 Cost test: 2.0780592\n",
      "Epoch : 24 R2 train: -57480.77 R2 test: -15636.403\n",
      "Epoch : 25 Cost train: 1.3423927 Cost test: 2.060427\n",
      "Epoch : 25 R2 train: -57002.08 R2 test: -15508.213\n",
      "Epoch : 26 Cost train: 1.3345009 Cost test: 2.0441258\n",
      "Epoch : 26 R2 train: -56520.332 R2 test: -15385.12\n",
      "Epoch : 27 Cost train: 1.3270296 Cost test: 2.028986\n",
      "Epoch : 27 R2 train: -56086.785 R2 test: -15269.528\n",
      "Epoch : 28 Cost train: 1.3200924 Cost test: 2.013853\n",
      "Epoch : 28 R2 train: -55679.31 R2 test: -15157.429\n",
      "Epoch : 29 Cost train: 1.3131144 Cost test: 1.9995004\n",
      "Epoch : 29 R2 train: -55261.28 R2 test: -15051.122\n",
      "Epoch : 30 Cost train: 1.304422 Cost test: 1.9856607\n",
      "Epoch : 30 R2 train: -54884.45 R2 test: -14947.893\n",
      "Epoch : 31 Cost train: 1.2980818 Cost test: 1.9722672\n",
      "Epoch : 31 R2 train: -54516.08 R2 test: -14847.249\n",
      "Epoch : 32 Cost train: 1.2912639 Cost test: 1.95984\n",
      "Epoch : 32 R2 train: -54144.11 R2 test: -14750.395\n",
      "Epoch : 33 Cost train: 1.2849581 Cost test: 1.947911\n",
      "Epoch : 33 R2 train: -53820.016 R2 test: -14656.993\n",
      "Epoch : 34 Cost train: 1.2776456 Cost test: 1.9356862\n",
      "Epoch : 34 R2 train: -53495.68 R2 test: -14567.84\n",
      "Epoch : 35 Cost train: 1.2718204 Cost test: 1.9248161\n",
      "Epoch : 35 R2 train: -53187.938 R2 test: -14482.412\n",
      "Epoch : 36 Cost train: 1.265667 Cost test: 1.9140075\n",
      "Epoch : 36 R2 train: -52883.062 R2 test: -14399.389\n",
      "Epoch : 37 Cost train: 1.2603867 Cost test: 1.9035684\n",
      "Epoch : 37 R2 train: -52585.254 R2 test: -14318.562\n",
      "Epoch : 38 Cost train: 1.2540417 Cost test: 1.8934776\n",
      "Epoch : 38 R2 train: -52311.24 R2 test: -14241.333\n",
      "Epoch : 39 Cost train: 1.2487012 Cost test: 1.8837254\n",
      "Epoch : 39 R2 train: -52045.613 R2 test: -14167.269\n",
      "Epoch : 40 Cost train: 1.2433507 Cost test: 1.8740662\n",
      "Epoch : 40 R2 train: -51795.5 R2 test: -14094.269\n",
      "Epoch : 41 Cost train: 1.2373911 Cost test: 1.8644947\n",
      "Epoch : 41 R2 train: -51540.965 R2 test: -14023.639\n",
      "Epoch : 42 Cost train: 1.2329892 Cost test: 1.8550442\n",
      "Epoch : 42 R2 train: -51288.85 R2 test: -13955.561\n",
      "Epoch : 43 Cost train: 1.229019 Cost test: 1.8461765\n",
      "Epoch : 43 R2 train: -51058.04 R2 test: -13889.398\n",
      "Epoch : 44 Cost train: 1.2253534 Cost test: 1.8373487\n",
      "Epoch : 44 R2 train: -50845.527 R2 test: -13825.843\n",
      "Epoch : 45 Cost train: 1.2214038 Cost test: 1.8296435\n",
      "Epoch : 45 R2 train: -50621.88 R2 test: -13765.434\n",
      "Epoch : 46 Cost train: 1.2173241 Cost test: 1.8216907\n",
      "Epoch : 46 R2 train: -50400.414 R2 test: -13705.208\n",
      "Epoch : 47 Cost train: 1.212323 Cost test: 1.8138674\n",
      "Epoch : 47 R2 train: -50189.707 R2 test: -13647.063\n",
      "Epoch : 48 Cost train: 1.2089634 Cost test: 1.806539\n",
      "Epoch : 48 R2 train: -49973.29 R2 test: -13589.287\n",
      "Epoch : 49 Cost train: 1.205457 Cost test: 1.7989645\n",
      "Epoch : 49 R2 train: -49755.64 R2 test: -13533.134\n",
      "Epoch : 50 Cost train: 1.2026731 Cost test: 1.791625\n",
      "Epoch : 50 R2 train: -49562.0 R2 test: -13480.447\n",
      "Epoch : 51 Cost train: 1.1998833 Cost test: 1.7846081\n",
      "Epoch : 51 R2 train: -49385.65 R2 test: -13429.118\n",
      "Epoch : 52 Cost train: 1.1972532 Cost test: 1.7774527\n",
      "Epoch : 52 R2 train: -49203.938 R2 test: -13377.576\n",
      "Epoch : 53 Cost train: 1.1947181 Cost test: 1.7710103\n",
      "Epoch : 53 R2 train: -49018.016 R2 test: -13329.108\n",
      "Epoch : 54 Cost train: 1.1926274 Cost test: 1.7645587\n",
      "Epoch : 54 R2 train: -48851.508 R2 test: -13280.653\n",
      "Epoch : 55 Cost train: 1.1897107 Cost test: 1.7580453\n",
      "Epoch : 55 R2 train: -48684.625 R2 test: -13232.872\n",
      "Epoch : 56 Cost train: 1.1867925 Cost test: 1.7522954\n",
      "Epoch : 56 R2 train: -48536.727 R2 test: -13187.812\n",
      "Epoch : 57 Cost train: 1.1817132 Cost test: 1.7458197\n",
      "Epoch : 57 R2 train: -48379.67 R2 test: -13144.587\n",
      "Epoch : 58 Cost train: 1.1768768 Cost test: 1.7403595\n",
      "Epoch : 58 R2 train: -48225.48 R2 test: -13100.9\n",
      "Epoch : 59 Cost train: 1.1715 Cost test: 1.734683\n",
      "Epoch : 59 R2 train: -48066.777 R2 test: -13057.631\n",
      "Epoch : 60 Cost train: 1.1665018 Cost test: 1.7293172\n",
      "Epoch : 60 R2 train: -47908.246 R2 test: -13017.19\n",
      "Epoch : 61 Cost train: 1.161544 Cost test: 1.7241966\n",
      "Epoch : 61 R2 train: -47791.727 R2 test: -12978.073\n",
      "Epoch : 62 Cost train: 1.1572512 Cost test: 1.719056\n",
      "Epoch : 62 R2 train: -47645.5 R2 test: -12937.84\n",
      "Epoch : 63 Cost train: 1.1522721 Cost test: 1.7137346\n",
      "Epoch : 63 R2 train: -47500.34 R2 test: -12899.027\n",
      "Epoch : 64 Cost train: 1.1474801 Cost test: 1.708753\n",
      "Epoch : 64 R2 train: -47369.133 R2 test: -12859.745\n",
      "Epoch : 65 Cost train: 1.1429759 Cost test: 1.704378\n",
      "Epoch : 65 R2 train: -47239.41 R2 test: -12823.092\n",
      "Epoch : 66 Cost train: 1.1385602 Cost test: 1.6993362\n",
      "Epoch : 66 R2 train: -47107.715 R2 test: -12786.773\n",
      "Epoch : 67 Cost train: 1.1342937 Cost test: 1.6943727\n",
      "Epoch : 67 R2 train: -46989.496 R2 test: -12751.436\n",
      "Epoch : 68 Cost train: 1.130536 Cost test: 1.6894804\n",
      "Epoch : 68 R2 train: -46871.36 R2 test: -12716.188\n",
      "Epoch : 69 Cost train: 1.1261084 Cost test: 1.6844435\n",
      "Epoch : 69 R2 train: -46760.27 R2 test: -12682.34\n",
      "Epoch : 70 Cost train: 1.1221132 Cost test: 1.679769\n",
      "Epoch : 70 R2 train: -46642.934 R2 test: -12650.328\n",
      "Epoch : 71 Cost train: 1.1183295 Cost test: 1.67505\n",
      "Epoch : 71 R2 train: -46532.43 R2 test: -12617.245\n",
      "Epoch : 72 Cost train: 1.1141887 Cost test: 1.6708312\n",
      "Epoch : 72 R2 train: -46430.19 R2 test: -12586.195\n",
      "Epoch : 73 Cost train: 1.1106257 Cost test: 1.6665821\n",
      "Epoch : 73 R2 train: -46324.062 R2 test: -12555.664\n",
      "Epoch : 74 Cost train: 1.1074773 Cost test: 1.662195\n",
      "Epoch : 74 R2 train: -46215.64 R2 test: -12524.532\n",
      "Epoch : 75 Cost train: 1.1043348 Cost test: 1.6580111\n",
      "Epoch : 75 R2 train: -46116.86 R2 test: -12493.395\n",
      "Epoch : 76 Cost train: 1.1017158 Cost test: 1.6538489\n",
      "Epoch : 76 R2 train: -46007.766 R2 test: -12464.474\n",
      "Epoch : 77 Cost train: 1.0983562 Cost test: 1.6503083\n",
      "Epoch : 77 R2 train: -45898.598 R2 test: -12436.344\n",
      "Epoch : 78 Cost train: 1.0947485 Cost test: 1.6465849\n"
     ]
    },
    {
     "name": "stdout",
     "output_type": "stream",
     "text": [
      "Epoch : 78 R2 train: -45797.66 R2 test: -12408.41\n",
      "Epoch : 79 Cost train: 1.0916728 Cost test: 1.642971\n",
      "Epoch : 79 R2 train: -45696.797 R2 test: -12379.777\n",
      "Epoch : 80 Cost train: 1.0888238 Cost test: 1.6395155\n",
      "Epoch : 80 R2 train: -45597.957 R2 test: -12352.548\n",
      "Epoch : 81 Cost train: 1.0851715 Cost test: 1.6361971\n",
      "Epoch : 81 R2 train: -45495.52 R2 test: -12325.491\n",
      "Epoch : 82 Cost train: 1.0817103 Cost test: 1.6329391\n",
      "Epoch : 82 R2 train: -45400.207 R2 test: -12298.658\n",
      "Epoch : 83 Cost train: 1.078314 Cost test: 1.6296389\n",
      "Epoch : 83 R2 train: -45314.844 R2 test: -12273.029\n",
      "Epoch : 84 Cost train: 1.0759212 Cost test: 1.6266052\n",
      "Epoch : 84 R2 train: -45221.457 R2 test: -12247.689\n",
      "Epoch : 85 Cost train: 1.072824 Cost test: 1.6229312\n",
      "Epoch : 85 R2 train: -45120.36 R2 test: -12222.156\n",
      "Epoch : 86 Cost train: 1.0702523 Cost test: 1.6198744\n",
      "Epoch : 86 R2 train: -45027.34 R2 test: -12197.181\n",
      "Epoch : 87 Cost train: 1.0670105 Cost test: 1.6169199\n",
      "Epoch : 87 R2 train: -44950.316 R2 test: -12173.148\n",
      "Epoch : 88 Cost train: 1.0635618 Cost test: 1.6136208\n",
      "Epoch : 88 R2 train: -44861.902 R2 test: -12148.765\n",
      "Epoch : 89 Cost train: 1.0606905 Cost test: 1.610581\n",
      "Epoch : 89 R2 train: -44776.387 R2 test: -12125.878\n",
      "Epoch : 90 Cost train: 1.058517 Cost test: 1.6074672\n",
      "Epoch : 90 R2 train: -44696.76 R2 test: -12103.526\n",
      "Epoch : 91 Cost train: 1.0565773 Cost test: 1.6046019\n",
      "Epoch : 91 R2 train: -44613.23 R2 test: -12080.559\n",
      "Epoch : 92 Cost train: 1.0535718 Cost test: 1.6016251\n",
      "Epoch : 92 R2 train: -44529.33 R2 test: -12058.904\n",
      "Epoch : 93 Cost train: 1.0508385 Cost test: 1.5988271\n",
      "Epoch : 93 R2 train: -44445.48 R2 test: -12037.388\n",
      "Epoch : 94 Cost train: 1.0488234 Cost test: 1.5957069\n",
      "Epoch : 94 R2 train: -44366.16 R2 test: -12015.78\n",
      "Epoch : 95 Cost train: 1.0462495 Cost test: 1.5929078\n",
      "Epoch : 95 R2 train: -44293.11 R2 test: -11994.456\n",
      "Epoch : 96 Cost train: 1.0442903 Cost test: 1.5904061\n",
      "Epoch : 96 R2 train: -44224.188 R2 test: -11973.316\n",
      "Epoch : 97 Cost train: 1.0421277 Cost test: 1.5878158\n",
      "Epoch : 97 R2 train: -44158.11 R2 test: -11952.187\n",
      "Epoch : 98 Cost train: 1.0398566 Cost test: 1.5851109\n",
      "Epoch : 98 R2 train: -44081.99 R2 test: -11932.208\n",
      "Epoch : 99 Cost train: 1.0378726 Cost test: 1.5823115\n",
      "Epoch : 99 R2 train: -44007.457 R2 test: -11912.092\n",
      "Cost : 1.5823115\n"
     ]
    },
    {
     "data": {
      "image/png": "[encoded data removed]",
      "text/plain": [
       "<Figure size 432x288 with 1 Axes>"
      ]
     },
     "metadata": {
      "needs_background": "light"
     },
     "output_type": "display_data"
    },
    {
     "data": {
      "image/png": "[encoded data removed]",
      "text/plain": [
       "<Figure size 432x288 with 2 Axes>"
      ]
     },
     "metadata": {
      "needs_background": "light"
     },
     "output_type": "display_data"
    }
   ],
   "source": [
    "with tf.Session() as sess:\n",
    "    # Initiate session and initialize all vaiables\n",
    "    sess.run(tf.global_variables_initializer())\n",
    "    saver = tf.train.Saver()\n",
    "    c_t = []\n",
    "    c_test = []\n",
    "    r2_t = []\n",
    "    r2_test = []\n",
    "    for i in range(100):        \n",
    "        sess.run([cost,train],feed_dict=    {xs:Xn_train, ys:yn_train})\n",
    "        \n",
    "        c_t.append(sess.run(cost, feed_dict={xs:Xn_train,ys:yn_train}))\n",
    "        c_test.append(sess.run(cost, feed_dict={xs:Xn_test,ys:yn_test}))\n",
    "        print('Epoch :',i,'Cost train:',c_t[-1], 'Cost test:',c_test[-1])\n",
    "        r2_t.append(sess.run(R_squared, feed_dict={xs:Xn_train,ys:yn_train}))\n",
    "        r2_test.append(sess.run(R_squared, feed_dict={xs:Xn_test,ys:yn_test}))\n",
    "        print('Epoch :',i,'R2 train:',r2_t[-1], 'R2 test:',r2_test[-1])\n",
    "    \n",
    "    pred = sess.run(output, feed_dict={xs:Xn_test})\n",
    "    # predict output of test data after training\n",
    "    print('Cost :',sess.run(cost, feed_dict={xs:Xn_test,ys:yn_test}))\n",
    "\n",
    "    plt.plot(range(yn_test.shape[0]),yn_test,label=\"Original Data\")\n",
    "    plt.plot(range(yn_test.shape[0]),pred,label=\"Predicted Data\")\n",
    "    plt.legend(loc='best')\n",
    "    plt.ylabel('Total Cloud Cover')\n",
    "    plt.xlabel('Points')\n",
    "    #plt.title('Total Cloud Cover')\n",
    "    plt.savefig('results/data_t0_2layers_10_10_split03.png')\n",
    "    plt.show()\n",
    "    \n",
    "    \n",
    "    plt.subplot(1,2,1)\n",
    "    plt.plot(range(len(c_t)), c_t,label=\"MSE train\")\n",
    "    plt.plot(range(len(c_test)), c_test,label=\"MSE test\")\n",
    "    plt.legend(loc='best')\n",
    "    plt.ylabel('MSE')\n",
    "    plt.xlabel('Epochs')\n",
    "    #plt.title('Cost vs. epochs')\n",
    "    plt.tight_layout()\n",
    "    \n",
    "    plt.subplot(1,2,2)\n",
    "    plt.plot(range(len(r2_t)), r2_t,label=\"R2 train\")\n",
    "    plt.plot(range(len(r2_test)), r2_test,label=\"R2 test\")\n",
    "    plt.legend(loc='best')\n",
    "    plt.ylabel('R2')\n",
    "    plt.xlabel('Epochs')\n",
    "    #plt.title('R2 vs. epochs')\n",
    "    plt.tight_layout()\n",
    "    plt.savefig('results/t0_2layers_10_10_split03.png')\n",
    "    plt.show()\n",
    "    \n",
    "  "
   ]
  },
  {
   "cell_type": "code",
   "execution_count": null,
   "metadata": {},
   "outputs": [],
   "source": []
  },
  {
   "cell_type": "code",
   "execution_count": null,
   "metadata": {},
   "outputs": [],
   "source": []
  },
  {
   "cell_type": "code",
   "execution_count": null,
   "metadata": {},
   "outputs": [],
   "source": []
  }
 ],
 "metadata": {
  "kernelspec": {
   "display_name": "Python [conda env:tflow]",
   "language": "python",
   "name": "conda-env-tflow-py"
  },
  "language_info": {
   "codemirror_mode": {
    "name": "ipython",
    "version": 3
   },
   "file_extension": ".py",
   "mimetype": "text/x-python",
   "name": "python",
   "nbconvert_exporter": "python",
   "pygments_lexer": "ipython3",
   "version": "3.6.7"
  }
 },
 "nbformat": 4,
 "nbformat_minor": 2
}
