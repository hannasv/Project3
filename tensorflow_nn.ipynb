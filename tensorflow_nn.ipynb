{
 "cells": [
  {
   "cell_type": "code",
   "execution_count": null,
   "metadata": {},
   "outputs": [],
   "source": []
  },
  {
   "cell_type": "markdown",
   "metadata": {},
   "source": [
    "# Neural networks using tensorflow"
   ]
  },
  {
   "cell_type": "markdown",
   "metadata": {},
   "source": [
    "## Import libraries"
   ]
  },
  {
   "cell_type": "code",
   "execution_count": 2,
   "metadata": {},
   "outputs": [],
   "source": [
    "import pandas as pd\n",
    "import numpy as np\n",
    "import matplotlib.pyplot as plt\n",
    "import seaborn as sns\n",
    "from sklearn.preprocessing import MinMaxScaler\n",
    "import tensorflow as tf\n",
    "\n",
    "import matplotlib.pyplot as plt\n",
    "import netCDF4 as n\n",
    "%matplotlib inline\n",
    "from utils import train_test_split"
   ]
  },
  {
   "cell_type": "code",
   "execution_count": 3,
   "metadata": {},
   "outputs": [],
   "source": [
    "from tflow_reg import nn_model"
   ]
  },
  {
   "cell_type": "markdown",
   "metadata": {},
   "source": [
    "## Import data"
   ]
  },
  {
   "cell_type": "code",
   "execution_count": 4,
   "metadata": {},
   "outputs": [],
   "source": [
    "path = \"./files/\"\n",
    "filenames = [\"specific_humidity_Europa_sp.nc\", \"relative_humidity_Europa_sp.nc\", \"pressure_Europa_sp.nc\",  \n",
    "             \"temperature_Europa_sp.nc\", \"total_cloud_cover_Europa_sp.nc\"]\n",
    "\n",
    "\n",
    "cloud = n.Dataset(path + filenames[-1], \"r\")\n",
    "relative = n.Dataset(path + filenames[1], \"r\")\n",
    "specific = n.Dataset(path + filenames[0], \"r\")\n",
    "pressure = n.Dataset(path + filenames[2], \"r\")\n",
    "temperature = n.Dataset(path + filenames[3], \"r\")\n",
    "\n",
    "my_files = {'cloud':cloud, 'relative':relative, 'specific':specific, 'pressure':pressure, 'temperature':temperature}\n",
    "\n",
    "\n",
    "tcc = cloud.variables[\"tcc\"]\n",
    "rh = relative.variables[\"r\"]\n",
    "q = specific.variables[\"q\"]\n",
    "sp = pressure.variables[\"sp\"]\n",
    "t2m = temperature.variables[\"t2m\"]\n",
    "\n",
    "my_vars = {'tcc':tcc, 'rh':rh, 'q':q, 'sp':sp, 't2m':t2m}\n",
    "\n",
    "\n",
    "X = np.empty((tcc.shape[1]*tcc.shape[2], 4))\n",
    "y = np.empty((tcc.shape[1]*tcc.shape[2], 1))\n",
    "\n",
    "i=0\n",
    "for key, value in my_vars.items():\n",
    "    if key == 'tcc':\n",
    "        y = np.array(value[0, : , :]).flatten()\n",
    "    elif key == 'rh' or key == 'q':\n",
    "        X[:, i] = np.array(value[0, 0, : , :]).flatten()\n",
    "        i = i+1\n",
    "    else:\n",
    "        X[:, i] = np.array(value[0, : , :]).flatten()\n",
    "        i=i+1"
   ]
  },
  {
   "cell_type": "markdown",
   "metadata": {},
   "source": [
    "### Normalize and split"
   ]
  },
  {
   "cell_type": "code",
   "execution_count": 5,
   "metadata": {},
   "outputs": [],
   "source": [
    "Xn = (X - X.mean())/X.std()\n",
    "yn = (y - y.mean())/y.std()\n",
    "\n",
    "Xn_train, Xn_test, yn_train, yn_test = train_test_split(Xn, yn, split_size=0.3)"
   ]
  },
  {
   "cell_type": "code",
   "execution_count": 6,
   "metadata": {},
   "outputs": [
    {
     "data": {
      "text/plain": [
       "numpy.ndarray"
      ]
     },
     "execution_count": 6,
     "metadata": {},
     "output_type": "execute_result"
    }
   ],
   "source": [
    "type(Xn_train)"
   ]
  },
  {
   "cell_type": "code",
   "execution_count": 7,
   "metadata": {},
   "outputs": [
    {
     "data": {
      "text/plain": [
       "(3288, 4)"
      ]
     },
     "execution_count": 7,
     "metadata": {},
     "output_type": "execute_result"
    }
   ],
   "source": [
    "Xn_train.shape"
   ]
  },
  {
   "cell_type": "code",
   "execution_count": 8,
   "metadata": {},
   "outputs": [],
   "source": [
    "# Xn_train = tf.cast(Xn_train, tf.float32)  # convert to float 32 so that we can use tf.matmul"
   ]
  },
  {
   "cell_type": "markdown",
   "metadata": {},
   "source": [
    "## Neural net model"
   ]
  },
  {
   "cell_type": "markdown",
   "metadata": {},
   "source": [
    "Feed forward neural net with 2 layers. Activation function: Sigmoid for all layers.\n",
    "\n",
    "TODO: write as function"
   ]
  },
  {
   "cell_type": "code",
   "execution_count": 9,
   "metadata": {},
   "outputs": [
    {
     "data": {
      "text/plain": [
       "'\\n### Define weights and biases\\n\\nnpred = Xn_train.get_shape().as_list()[1]  # number of predictors\\nnpred\\n\\ntf.shape(Xn_train)\\n\\n# Using normal distribution (maybe change this)\\n\\nW_1 = tf.Variable(tf.random_uniform([npred,10]))\\nb_1 = tf.Variable(tf.zeros([10]))\\n\\n### Define layer 1 and activation f\\n\\nlayer_1 = tf.add(tf.matmul(Xn_train,W_1), b_1)\\n# layer_1 = tf.nn.relu(layer_1)\\nlayer_1 = tf.nn.sigmoid(layer_1)  \\n\\nlayer_1 = tf.nn.relu(layer_1)\\n\\n### Multiply by layer 1 and add bias. Then activation function\\n#### Obtain layer 2\\n\\nW_2 = tf.Variable(tf.random_uniform([10,10]))\\nb_2 = tf.Variable(tf.zeros([10]))\\nlayer_2 = tf.add(tf.matmul(layer_1,W_2), b_2)\\nlayer_2 = tf.nn.sigmoid(layer_2)\\n\\n### Multiply by layer 2 and add bias. Then activation function\\n#### Obtain output\\n\\nW_O = tf.Variable(tf.random_uniform([10,1]))\\nb_O = tf.Variable(tf.zeros([1]))\\noutput = tf.add(tf.matmul(layer_2,W_O), b_O)\\n\\n'"
      ]
     },
     "execution_count": 9,
     "metadata": {},
     "output_type": "execute_result"
    }
   ],
   "source": [
    "\"\"\"\n",
    "### Define weights and biases\n",
    "\n",
    "npred = Xn_train.get_shape().as_list()[1]  # number of predictors\n",
    "npred\n",
    "\n",
    "tf.shape(Xn_train)\n",
    "\n",
    "# Using normal distribution (maybe change this)\n",
    "\n",
    "W_1 = tf.Variable(tf.random_uniform([npred,10]))\n",
    "b_1 = tf.Variable(tf.zeros([10]))\n",
    "\n",
    "### Define layer 1 and activation f\n",
    "\n",
    "layer_1 = tf.add(tf.matmul(Xn_train,W_1), b_1)\n",
    "# layer_1 = tf.nn.relu(layer_1)\n",
    "layer_1 = tf.nn.sigmoid(layer_1)  \n",
    "\n",
    "layer_1 = tf.nn.relu(layer_1)\n",
    "\n",
    "### Multiply by layer 1 and add bias. Then activation function\n",
    "#### Obtain layer 2\n",
    "\n",
    "W_2 = tf.Variable(tf.random_uniform([10,10]))\n",
    "b_2 = tf.Variable(tf.zeros([10]))\n",
    "layer_2 = tf.add(tf.matmul(layer_1,W_2), b_2)\n",
    "layer_2 = tf.nn.sigmoid(layer_2)\n",
    "\n",
    "### Multiply by layer 2 and add bias. Then activation function\n",
    "#### Obtain output\n",
    "\n",
    "W_O = tf.Variable(tf.random_uniform([10,1]))\n",
    "b_O = tf.Variable(tf.zeros([1]))\n",
    "output = tf.add(tf.matmul(layer_2,W_O), b_O)\n",
    "\n",
    "\"\"\""
   ]
  },
  {
   "cell_type": "code",
   "execution_count": null,
   "metadata": {},
   "outputs": [],
   "source": []
  },
  {
   "cell_type": "code",
   "execution_count": null,
   "metadata": {},
   "outputs": [],
   "source": []
  },
  {
   "cell_type": "markdown",
   "metadata": {},
   "source": [
    "### Run neural network model"
   ]
  },
  {
   "cell_type": "code",
   "execution_count": 20,
   "metadata": {},
   "outputs": [],
   "source": [
    "#npred = Xn_train.get_shape().as_list()[1]  # number of predictors\n",
    "#n_output = Xn_train.get_shape().as_list()[0]\n",
    "\n",
    "npred = Xn_train.shape[1]\n",
    "noutput = Xn_train.shape[0]\n",
    "n_nodes = [npred, 100, 150, 1]"
   ]
  },
  {
   "cell_type": "code",
   "execution_count": 21,
   "metadata": {},
   "outputs": [],
   "source": [
    "xs = tf.placeholder(\"float\")\n",
    "ys = tf.placeholder(\"float\")\n",
    "\n",
    "output = nn_model(xs, n_nodes)"
   ]
  },
  {
   "cell_type": "markdown",
   "metadata": {},
   "source": [
    "### MSE"
   ]
  },
  {
   "cell_type": "code",
   "execution_count": 22,
   "metadata": {},
   "outputs": [],
   "source": [
    "cost = tf.reduce_mean(tf.square(output-ys))"
   ]
  },
  {
   "cell_type": "markdown",
   "metadata": {},
   "source": [
    "### Gradient descent"
   ]
  },
  {
   "cell_type": "code",
   "execution_count": 23,
   "metadata": {},
   "outputs": [],
   "source": [
    "eta = 0.001\n",
    "train = tf.train.GradientDescentOptimizer(eta).minimize(cost)"
   ]
  },
  {
   "cell_type": "code",
   "execution_count": 24,
   "metadata": {},
   "outputs": [
    {
     "data": {
      "text/plain": [
       "numpy.ndarray"
      ]
     },
     "execution_count": 24,
     "metadata": {},
     "output_type": "execute_result"
    }
   ],
   "source": [
    "type(Xn_train)"
   ]
  },
  {
   "cell_type": "markdown",
   "metadata": {},
   "source": [
    "### Plot the data"
   ]
  },
  {
   "cell_type": "code",
   "execution_count": 25,
   "metadata": {},
   "outputs": [
    {
     "name": "stdout",
     "output_type": "stream",
     "text": [
      "Epoch : 0 Cost : [1.002366]\n",
      "Epoch : 1 Cost : [1.0030826]\n",
      "Epoch : 2 Cost : [1.0023948]\n",
      "Epoch : 3 Cost : [1.001542]\n",
      "Epoch : 4 Cost : [1.000726]\n",
      "Epoch : 5 Cost : [1.0001031]\n",
      "Epoch : 6 Cost : [0.99963766]\n",
      "Epoch : 7 Cost : [0.99919415]\n",
      "Epoch : 8 Cost : [0.9989799]\n",
      "Epoch : 9 Cost : [0.998805]\n",
      "Epoch : 10 Cost : [0.9986767]\n",
      "Epoch : 11 Cost : [0.9985472]\n",
      "Epoch : 12 Cost : [0.99841756]\n",
      "Epoch : 13 Cost : [0.9982849]\n",
      "Epoch : 14 Cost : [0.9981308]\n",
      "Epoch : 15 Cost : [0.99802154]\n",
      "Epoch : 16 Cost : [0.99793744]\n",
      "Epoch : 17 Cost : [0.9978777]\n",
      "Epoch : 18 Cost : [0.9978146]\n",
      "Epoch : 19 Cost : [0.99771535]\n",
      "Epoch : 20 Cost : [0.99763936]\n",
      "Epoch : 21 Cost : [0.99758303]\n",
      "Epoch : 22 Cost : [0.9975105]\n",
      "Epoch : 23 Cost : [0.99742115]\n",
      "Epoch : 24 Cost : [0.9973342]\n",
      "Epoch : 25 Cost : [0.9972674]\n",
      "Epoch : 26 Cost : [0.9971949]\n",
      "Epoch : 27 Cost : [0.99710906]\n",
      "Epoch : 28 Cost : [0.99705595]\n",
      "Epoch : 29 Cost : [0.99698585]\n",
      "Epoch : 30 Cost : [0.99696255]\n",
      "Epoch : 31 Cost : [0.9969054]\n",
      "Epoch : 32 Cost : [0.99684596]\n",
      "Epoch : 33 Cost : [0.996779]\n",
      "Epoch : 34 Cost : [0.99669546]\n",
      "Epoch : 35 Cost : [0.9966101]\n",
      "Epoch : 36 Cost : [0.99656135]\n",
      "Epoch : 37 Cost : [0.996528]\n",
      "Epoch : 38 Cost : [0.99650204]\n",
      "Epoch : 39 Cost : [0.99644786]\n",
      "Epoch : 40 Cost : [0.9964044]\n",
      "Epoch : 41 Cost : [0.9963726]\n",
      "Epoch : 42 Cost : [0.99633133]\n",
      "Epoch : 43 Cost : [0.9962771]\n",
      "Epoch : 44 Cost : [0.99623287]\n",
      "Epoch : 45 Cost : [0.99617416]\n",
      "Epoch : 46 Cost : [0.9961281]\n",
      "Epoch : 47 Cost : [0.99607325]\n",
      "Epoch : 48 Cost : [0.99606055]\n",
      "Epoch : 49 Cost : [0.9960372]\n",
      "Epoch : 50 Cost : [0.99601156]\n",
      "Epoch : 51 Cost : [0.99599034]\n",
      "Epoch : 52 Cost : [0.995958]\n",
      "Epoch : 53 Cost : [0.9959309]\n",
      "Epoch : 54 Cost : [0.99589306]\n",
      "Epoch : 55 Cost : [0.9958433]\n",
      "Epoch : 56 Cost : [0.9958234]\n",
      "Epoch : 57 Cost : [0.99580336]\n",
      "Epoch : 58 Cost : [0.99576867]\n",
      "Epoch : 59 Cost : [0.99575365]\n",
      "Epoch : 60 Cost : [0.9957121]\n",
      "Epoch : 61 Cost : [0.9957018]\n",
      "Epoch : 62 Cost : [0.99568444]\n",
      "Epoch : 63 Cost : [0.99566126]\n",
      "Epoch : 64 Cost : [0.9956341]\n",
      "Epoch : 65 Cost : [0.9956066]\n",
      "Epoch : 66 Cost : [0.99557894]\n",
      "Epoch : 67 Cost : [0.99555117]\n",
      "Epoch : 68 Cost : [0.99552965]\n",
      "Epoch : 69 Cost : [0.99551886]\n",
      "Epoch : 70 Cost : [0.99551463]\n",
      "Epoch : 71 Cost : [0.9954939]\n",
      "Epoch : 72 Cost : [0.9954585]\n",
      "Epoch : 73 Cost : [0.9954444]\n",
      "Epoch : 74 Cost : [0.9954157]\n",
      "Epoch : 75 Cost : [0.995373]\n",
      "Epoch : 76 Cost : [0.99534905]\n",
      "Epoch : 77 Cost : [0.9953055]\n",
      "Epoch : 78 Cost : [0.9952602]\n",
      "Epoch : 79 Cost : [0.9952176]\n",
      "Epoch : 80 Cost : [0.9951811]\n",
      "Epoch : 81 Cost : [0.99515873]\n",
      "Epoch : 82 Cost : [0.9951028]\n",
      "Epoch : 83 Cost : [0.995046]\n",
      "Epoch : 84 Cost : [0.9949952]\n",
      "Epoch : 85 Cost : [0.99494696]\n",
      "Epoch : 86 Cost : [0.9949065]\n",
      "Epoch : 87 Cost : [0.99485844]\n",
      "Epoch : 88 Cost : [0.9948177]\n",
      "Epoch : 89 Cost : [0.9947519]\n",
      "Epoch : 90 Cost : [0.9946726]\n",
      "Epoch : 91 Cost : [0.9946293]\n",
      "Epoch : 92 Cost : [0.9945727]\n",
      "Epoch : 93 Cost : [0.9945189]\n",
      "Epoch : 94 Cost : [0.99448866]\n",
      "Epoch : 95 Cost : [0.9944375]\n",
      "Epoch : 96 Cost : [0.99438995]\n",
      "Epoch : 97 Cost : [0.9943388]\n",
      "Epoch : 98 Cost : [0.9942936]\n",
      "Epoch : 99 Cost : [0.9942547]\n"
     ]
    },
    {
     "data": {
      "image/png": "[encoded data removed]",
      "text/plain": [
       "<Figure size 432x288 with 1 Axes>"
      ]
     },
     "metadata": {
      "needs_background": "light"
     },
     "output_type": "display_data"
    }
   ],
   "source": [
    "with tf.Session() as sess:\n",
    "    # Initiate session and initialize all vaiables\n",
    "    sess.run(tf.global_variables_initializer())\n",
    "    saver = tf.train.Saver()\n",
    "    #saver.restore(sess,'yahoo_dataset.ckpt')\n",
    "    for i in range(100):\n",
    "        c_t = []\n",
    "        c_test = []\n",
    "        for j in range(Xn_train.shape[0]):\n",
    "            sess.run([cost,train],feed_dict=    {xs:Xn_train[j,:].reshape(1,npred), ys:yn_train[j]})\n",
    "            # Run cost and train with each sample\n",
    "        c_t.append(sess.run(cost, feed_dict={xs:Xn_train,ys:yn_train}))\n",
    "        c_test.append(sess.run(cost, feed_dict={xs:Xn_test,ys:yn_test}))\n",
    "        print('Epoch :',i,'Cost :',c_t)\n",
    "    pred = sess.run(output, feed_dict={xs:Xn_test})\n",
    "    # predict output of test data after training\n",
    "    #print('Cost :',sess.run(cost, feed_dict={xs:Xn_test,ys:yn_test}))\n",
    "    #y_test = denormalize(df_test,y_test)\n",
    "    #pred = denormalize(df_test,pred)\n",
    "    #Denormalize data     \n",
    "    plt.plot(range(yn_test.shape[0]),yn_test,label=\"Original Data\")\n",
    "    plt.plot(range(yn_test.shape[0]),pred,label=\"Predicted Data\")\n",
    "    plt.legend(loc='best')\n",
    "    plt.ylabel('Total Cloud Cover')\n",
    "    plt.xlabel('Points')\n",
    "    plt.title('Total Cloud Cover')\n",
    "    plt.show()"
   ]
  },
  {
   "cell_type": "code",
   "execution_count": 16,
   "metadata": {},
   "outputs": [
    {
     "data": {
      "text/plain": [
       "[None, 3288]"
      ]
     },
     "execution_count": 16,
     "metadata": {},
     "output_type": "execute_result"
    }
   ],
   "source": [
    "output.get_shape().as_list()"
   ]
  },
  {
   "cell_type": "code",
   "execution_count": 17,
   "metadata": {},
   "outputs": [
    {
     "data": {
      "text/plain": [
       "[0.9849894]"
      ]
     },
     "execution_count": 17,
     "metadata": {},
     "output_type": "execute_result"
    }
   ],
   "source": [
    "c_t"
   ]
  },
  {
   "cell_type": "code",
   "execution_count": null,
   "metadata": {},
   "outputs": [],
   "source": [
    "feed_dict={xs:Xn_train[j,:], ys:yn_train[j]}"
   ]
  },
  {
   "cell_type": "code",
   "execution_count": null,
   "metadata": {},
   "outputs": [],
   "source": [
    "Xn_test.shape"
   ]
  },
  {
   "cell_type": "code",
   "execution_count": null,
   "metadata": {},
   "outputs": [],
   "source": [
    "tf.reshape(Xn_train[j,:], [1, npred])"
   ]
  },
  {
   "cell_type": "code",
   "execution_count": null,
   "metadata": {},
   "outputs": [],
   "source": [
    "n_nodes"
   ]
  },
  {
   "cell_type": "code",
   "execution_count": null,
   "metadata": {},
   "outputs": [],
   "source": [
    "output = nn_model(Xn_train, n_nodes)"
   ]
  },
  {
   "cell_type": "code",
   "execution_count": null,
   "metadata": {},
   "outputs": [],
   "source": [
    "output.get_shape().as_list()[1]"
   ]
  },
  {
   "cell_type": "code",
   "execution_count": null,
   "metadata": {},
   "outputs": [],
   "source": []
  }
 ],
 "metadata": {
  "kernelspec": {
   "display_name": "Python [conda env:tflow]",
   "language": "python",
   "name": "conda-env-tflow-py"
  },
  "language_info": {
   "codemirror_mode": {
    "name": "ipython",
    "version": 3
   },
   "file_extension": ".py",
   "mimetype": "text/x-python",
   "name": "python",
   "nbconvert_exporter": "python",
   "pygments_lexer": "ipython3",
   "version": "3.6.7"
  }
 },
 "nbformat": 4,
 "nbformat_minor": 2
}
