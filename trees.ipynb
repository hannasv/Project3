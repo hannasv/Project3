{
 "cells": [
  {
   "cell_type": "markdown",
   "metadata": {},
   "source": [
    "# Trees"
   ]
  },
  {
   "cell_type": "code",
   "execution_count": 88,
   "metadata": {},
   "outputs": [],
   "source": [
    "import numpy as np \n",
    "import seaborn as sns\n",
    "import matplotlib.pyplot as plt\n",
    "import netCDF4 as n\n",
    "%matplotlib inline"
   ]
  },
  {
   "cell_type": "markdown",
   "metadata": {},
   "source": [
    "## Read the data"
   ]
  },
  {
   "cell_type": "markdown",
   "metadata": {},
   "source": [
    "Working with netcdf files.\n",
    "\n",
    "http://unidata.github.io/netcdf4-python/"
   ]
  },
  {
   "cell_type": "markdown",
   "metadata": {},
   "source": [
    "### Norway\n",
    "\n",
    "We are not going to use these data (we use files for Europe)."
   ]
  },
  {
   "cell_type": "code",
   "execution_count": 89,
   "metadata": {},
   "outputs": [],
   "source": [
    "path = \"./files/\"\n",
    "filenames = [\"specific_humidity_Norway.nc\", \"relative_humidity_Norway.nc\", \"pressure_Norway.nc\",  \n",
    "             \"temperature_Norway.nc\", \"total_cloud_cover_Norway.nc\"]\n",
    "\n",
    "\n",
    "cloud = n.Dataset(path + filenames[-1], \"r\")\n",
    "relative = n.Dataset(path + filenames[1], \"r\")\n",
    "specific = n.Dataset(path + filenames[0], \"r\")\n",
    "pressure = n.Dataset(path + filenames[2], \"r\")\n",
    "temperature = n.Dataset(path + filenames[3], \"r\")\n",
    "\n",
    "files_nor = {'cloud':cloud, 'relative':relative, 'specific':specific, 'pressure':pressure, 'temperature':temperature}"
   ]
  },
  {
   "cell_type": "code",
   "execution_count": 90,
   "metadata": {},
   "outputs": [],
   "source": [
    "#print(pressure.variables)\n",
    "tcc_nor = cloud.variables[\"tcc\"]\n",
    "rh_nor = relative.variables[\"r\"]\n",
    "# level = relative.variables[\"level\"]\n",
    "q_nor = specific.variables[\"q\"]\n",
    "sp_nor = pressure.variables[\"sp\"]\n",
    "t2m_nor = temperature.variables[\"t2m\"]"
   ]
  },
  {
   "cell_type": "markdown",
   "metadata": {},
   "source": [
    "### Europe\n",
    "We use only the first time stamp, and level 1000 hPa."
   ]
  },
  {
   "cell_type": "markdown",
   "metadata": {},
   "source": [
    "#### Open files"
   ]
  },
  {
   "cell_type": "code",
   "execution_count": 91,
   "metadata": {},
   "outputs": [],
   "source": [
    "path = \"./files/\"\n",
    "filenames = [\"specific_humidity_Europa_sp.nc\", \"relative_humidity_Europa_sp.nc\", \"pressure_Europa_sp.nc\",  \n",
    "             \"temperature_Europa_sp.nc\", \"total_cloud_cover_Europa_sp.nc\"]\n",
    "\n",
    "\n",
    "cloud = n.Dataset(path + filenames[-1], \"r\")\n",
    "relative = n.Dataset(path + filenames[1], \"r\")\n",
    "specific = n.Dataset(path + filenames[0], \"r\")\n",
    "pressure = n.Dataset(path + filenames[2], \"r\")\n",
    "temperature = n.Dataset(path + filenames[3], \"r\")\n",
    "\n",
    "my_files = {'cloud':cloud, 'relative':relative, 'specific':specific, 'pressure':pressure, 'temperature':temperature}"
   ]
  },
  {
   "cell_type": "markdown",
   "metadata": {},
   "source": [
    "#### Variables"
   ]
  },
  {
   "cell_type": "code",
   "execution_count": 92,
   "metadata": {},
   "outputs": [
    {
     "name": "stdout",
     "output_type": "stream",
     "text": [
      "cloud :  OrderedDict([('longitude', <class 'netCDF4._netCDF4.Variable'>\n",
      "float32 longitude(longitude)\n",
      "    units: degrees_east\n",
      "    long_name: longitude\n",
      "unlimited dimensions: \n",
      "current shape = (77,)\n",
      "filling on, default _FillValue of 9.969209968386869e+36 used\n",
      "), ('latitude', <class 'netCDF4._netCDF4.Variable'>\n",
      "float32 latitude(latitude)\n",
      "    units: degrees_north\n",
      "    long_name: latitude\n",
      "unlimited dimensions: \n",
      "current shape = (61,)\n",
      "filling on, default _FillValue of 9.969209968386869e+36 used\n",
      "), ('time', <class 'netCDF4._netCDF4.Variable'>\n",
      "int32 time(time)\n",
      "    units: hours since 1900-01-01 00:00:0.0\n",
      "    long_name: time\n",
      "    calendar: gregorian\n",
      "unlimited dimensions: time\n",
      "current shape = (32,)\n",
      "filling on, default _FillValue of -2147483647 used\n",
      "), ('tcc', <class 'netCDF4._netCDF4.Variable'>\n",
      "int16 tcc(time, latitude, longitude)\n",
      "    scale_factor: 1.525948758640685e-05\n",
      "    add_offset: 0.49999237025720666\n",
      "    _FillValue: -32767\n",
      "    missing_value: -32767\n",
      "    units: (0 - 1)\n",
      "    long_name: Total cloud cover\n",
      "    standard_name: cloud_area_fraction\n",
      "unlimited dimensions: time\n",
      "current shape = (32, 61, 77)\n",
      "filling on)])\n",
      "relative :  OrderedDict([('longitude', <class 'netCDF4._netCDF4.Variable'>\n",
      "float32 longitude(longitude)\n",
      "    units: degrees_east\n",
      "    long_name: longitude\n",
      "unlimited dimensions: \n",
      "current shape = (77,)\n",
      "filling on, default _FillValue of 9.969209968386869e+36 used\n",
      "), ('latitude', <class 'netCDF4._netCDF4.Variable'>\n",
      "float32 latitude(latitude)\n",
      "    units: degrees_north\n",
      "    long_name: latitude\n",
      "unlimited dimensions: \n",
      "current shape = (61,)\n",
      "filling on, default _FillValue of 9.969209968386869e+36 used\n",
      "), ('level', <class 'netCDF4._netCDF4.Variable'>\n",
      "int32 level(level)\n",
      "    units: millibars\n",
      "    long_name: pressure_level\n",
      "unlimited dimensions: \n",
      "current shape = (6,)\n",
      "filling on, default _FillValue of -2147483647 used\n",
      "), ('time', <class 'netCDF4._netCDF4.Variable'>\n",
      "int32 time(time)\n",
      "    units: hours since 1900-01-01 00:00:0.0\n",
      "    long_name: time\n",
      "    calendar: gregorian\n",
      "unlimited dimensions: time\n",
      "current shape = (32,)\n",
      "filling on, default _FillValue of -2147483647 used\n",
      "), ('r', <class 'netCDF4._netCDF4.Variable'>\n",
      "int16 r(time, level, latitude, longitude)\n",
      "    scale_factor: 0.0020292186290296298\n",
      "    add_offset: 56.78843174459784\n",
      "    _FillValue: -32767\n",
      "    missing_value: -32767\n",
      "    units: %\n",
      "    long_name: Relative humidity\n",
      "    standard_name: relative_humidity\n",
      "unlimited dimensions: time\n",
      "current shape = (32, 6, 61, 77)\n",
      "filling on)])\n",
      "specific :  OrderedDict([('longitude', <class 'netCDF4._netCDF4.Variable'>\n",
      "float32 longitude(longitude)\n",
      "    units: degrees_east\n",
      "    long_name: longitude\n",
      "unlimited dimensions: \n",
      "current shape = (77,)\n",
      "filling on, default _FillValue of 9.969209968386869e+36 used\n",
      "), ('latitude', <class 'netCDF4._netCDF4.Variable'>\n",
      "float32 latitude(latitude)\n",
      "    units: degrees_north\n",
      "    long_name: latitude\n",
      "unlimited dimensions: \n",
      "current shape = (61,)\n",
      "filling on, default _FillValue of 9.969209968386869e+36 used\n",
      "), ('level', <class 'netCDF4._netCDF4.Variable'>\n",
      "int32 level(level)\n",
      "    units: millibars\n",
      "    long_name: pressure_level\n",
      "unlimited dimensions: \n",
      "current shape = (6,)\n",
      "filling on, default _FillValue of -2147483647 used\n",
      "), ('time', <class 'netCDF4._netCDF4.Variable'>\n",
      "int32 time(time)\n",
      "    units: hours since 1900-01-01 00:00:0.0\n",
      "    long_name: time\n",
      "    calendar: gregorian\n",
      "unlimited dimensions: time\n",
      "current shape = (32,)\n",
      "filling on, default _FillValue of -2147483647 used\n",
      "), ('q', <class 'netCDF4._netCDF4.Variable'>\n",
      "int16 q(time, level, latitude, longitude)\n",
      "    scale_factor: 2.1328394656708057e-07\n",
      "    add_offset: 0.006964579015321184\n",
      "    _FillValue: -32767\n",
      "    missing_value: -32767\n",
      "    units: kg kg**-1\n",
      "    long_name: Specific humidity\n",
      "    standard_name: specific_humidity\n",
      "unlimited dimensions: time\n",
      "current shape = (32, 6, 61, 77)\n",
      "filling on)])\n",
      "pressure :  OrderedDict([('longitude', <class 'netCDF4._netCDF4.Variable'>\n",
      "float32 longitude(longitude)\n",
      "    units: degrees_east\n",
      "    long_name: longitude\n",
      "unlimited dimensions: \n",
      "current shape = (77,)\n",
      "filling on, default _FillValue of 9.969209968386869e+36 used\n",
      "), ('latitude', <class 'netCDF4._netCDF4.Variable'>\n",
      "float32 latitude(latitude)\n",
      "    units: degrees_north\n",
      "    long_name: latitude\n",
      "unlimited dimensions: \n",
      "current shape = (61,)\n",
      "filling on, default _FillValue of 9.969209968386869e+36 used\n",
      "), ('time', <class 'netCDF4._netCDF4.Variable'>\n",
      "int32 time(time)\n",
      "    units: hours since 1900-01-01 00:00:0.0\n",
      "    long_name: time\n",
      "    calendar: gregorian\n",
      "unlimited dimensions: time\n",
      "current shape = (32,)\n",
      "filling on, default _FillValue of -2147483647 used\n",
      "), ('sp', <class 'netCDF4._netCDF4.Variable'>\n",
      "int16 sp(time, latitude, longitude)\n",
      "    scale_factor: 0.38392012421222893\n",
      "    add_offset: 91282.2142899379\n",
      "    _FillValue: -32767\n",
      "    missing_value: -32767\n",
      "    units: Pa\n",
      "    long_name: Surface pressure\n",
      "    standard_name: surface_air_pressure\n",
      "unlimited dimensions: time\n",
      "current shape = (32, 61, 77)\n",
      "filling on)])\n",
      "temperature :  OrderedDict([('longitude', <class 'netCDF4._netCDF4.Variable'>\n",
      "float32 longitude(longitude)\n",
      "    units: degrees_east\n",
      "    long_name: longitude\n",
      "unlimited dimensions: \n",
      "current shape = (77,)\n",
      "filling on, default _FillValue of 9.969209968386869e+36 used\n",
      "), ('latitude', <class 'netCDF4._netCDF4.Variable'>\n",
      "float32 latitude(latitude)\n",
      "    units: degrees_north\n",
      "    long_name: latitude\n",
      "unlimited dimensions: \n",
      "current shape = (61,)\n",
      "filling on, default _FillValue of 9.969209968386869e+36 used\n",
      "), ('time', <class 'netCDF4._netCDF4.Variable'>\n",
      "int32 time(time)\n",
      "    units: hours since 1900-01-01 00:00:0.0\n",
      "    long_name: time\n",
      "    calendar: gregorian\n",
      "unlimited dimensions: time\n",
      "current shape = (32,)\n",
      "filling on, default _FillValue of -2147483647 used\n",
      "), ('t2m', <class 'netCDF4._netCDF4.Variable'>\n",
      "int16 t2m(time, latitude, longitude)\n",
      "    scale_factor: 0.0009370828601501343\n",
      "    add_offset: 272.00388021345276\n",
      "    _FillValue: -32767\n",
      "    missing_value: -32767\n",
      "    units: K\n",
      "    long_name: 2 metre temperature\n",
      "unlimited dimensions: time\n",
      "current shape = (32, 61, 77)\n",
      "filling on)])\n"
     ]
    }
   ],
   "source": [
    "for key, value in my_files.items():\n",
    "    print(key, ': ', value.variables)"
   ]
  },
  {
   "cell_type": "code",
   "execution_count": 93,
   "metadata": {},
   "outputs": [],
   "source": [
    "tcc = cloud.variables[\"tcc\"]\n",
    "rh = relative.variables[\"r\"]\n",
    "q = specific.variables[\"q\"]\n",
    "sp = pressure.variables[\"sp\"]\n",
    "t2m = temperature.variables[\"t2m\"]\n",
    "\n",
    "my_vars = {'tcc':tcc, 'rh':rh, 'q':q, 'sp':sp, 't2m':t2m}"
   ]
  },
  {
   "cell_type": "markdown",
   "metadata": {},
   "source": [
    "#### Dimensions and sizes?"
   ]
  },
  {
   "cell_type": "code",
   "execution_count": 94,
   "metadata": {},
   "outputs": [
    {
     "name": "stdout",
     "output_type": "stream",
     "text": [
      "cloud :  OrderedDict([('longitude', <class 'netCDF4._netCDF4.Dimension'>: name = 'longitude', size = 77\n",
      "), ('latitude', <class 'netCDF4._netCDF4.Dimension'>: name = 'latitude', size = 61\n",
      "), ('time', <class 'netCDF4._netCDF4.Dimension'> (unlimited): name = 'time', size = 32\n",
      ")])\n",
      "relative :  OrderedDict([('longitude', <class 'netCDF4._netCDF4.Dimension'>: name = 'longitude', size = 77\n",
      "), ('latitude', <class 'netCDF4._netCDF4.Dimension'>: name = 'latitude', size = 61\n",
      "), ('level', <class 'netCDF4._netCDF4.Dimension'>: name = 'level', size = 6\n",
      "), ('time', <class 'netCDF4._netCDF4.Dimension'> (unlimited): name = 'time', size = 32\n",
      ")])\n",
      "specific :  OrderedDict([('longitude', <class 'netCDF4._netCDF4.Dimension'>: name = 'longitude', size = 77\n",
      "), ('latitude', <class 'netCDF4._netCDF4.Dimension'>: name = 'latitude', size = 61\n",
      "), ('level', <class 'netCDF4._netCDF4.Dimension'>: name = 'level', size = 6\n",
      "), ('time', <class 'netCDF4._netCDF4.Dimension'> (unlimited): name = 'time', size = 32\n",
      ")])\n",
      "pressure :  OrderedDict([('longitude', <class 'netCDF4._netCDF4.Dimension'>: name = 'longitude', size = 77\n",
      "), ('latitude', <class 'netCDF4._netCDF4.Dimension'>: name = 'latitude', size = 61\n",
      "), ('time', <class 'netCDF4._netCDF4.Dimension'> (unlimited): name = 'time', size = 32\n",
      ")])\n",
      "temperature :  OrderedDict([('longitude', <class 'netCDF4._netCDF4.Dimension'>: name = 'longitude', size = 77\n",
      "), ('latitude', <class 'netCDF4._netCDF4.Dimension'>: name = 'latitude', size = 61\n",
      "), ('time', <class 'netCDF4._netCDF4.Dimension'> (unlimited): name = 'time', size = 32\n",
      ")])\n"
     ]
    }
   ],
   "source": [
    "for key, value in my_files.items():\n",
    "    print(key, ': ', value.dimensions)"
   ]
  },
  {
   "cell_type": "code",
   "execution_count": 95,
   "metadata": {},
   "outputs": [
    {
     "name": "stdout",
     "output_type": "stream",
     "text": [
      "tcc :  ('time', 'latitude', 'longitude')\n",
      "rh :  ('time', 'level', 'latitude', 'longitude')\n",
      "q :  ('time', 'level', 'latitude', 'longitude')\n",
      "sp :  ('time', 'latitude', 'longitude')\n",
      "t2m :  ('time', 'latitude', 'longitude')\n"
     ]
    }
   ],
   "source": [
    "for key, value in my_vars.items():\n",
    "    print(key, ': ', value.dimensions)"
   ]
  },
  {
   "cell_type": "markdown",
   "metadata": {},
   "source": [
    "#### Levels"
   ]
  },
  {
   "cell_type": "code",
   "execution_count": 96,
   "metadata": {},
   "outputs": [
    {
     "name": "stdout",
     "output_type": "stream",
     "text": [
      "rh levels:  [1000  850  700  500  400  300]\n",
      "q levels:  [1000  850  700  500  400  300]\n"
     ]
    }
   ],
   "source": [
    "print('rh levels: ', relative['level'][:])\n",
    "print('q levels: ', specific['level'][:])"
   ]
  },
  {
   "cell_type": "code",
   "execution_count": 97,
   "metadata": {},
   "outputs": [
    {
     "name": "stdout",
     "output_type": "stream",
     "text": [
      "Units for the latitude: degrees_north\n",
      "Units for the longitude: degrees_east\n",
      "Units for the time: hours since 1900-01-01 00:00:0.0\n",
      "Units for the level: millibars\n"
     ]
    }
   ],
   "source": [
    "print('Units for the latitude:', relative.variables['latitude'].units)\n",
    "print('Units for the longitude:', relative.variables['longitude'].units)\n",
    "print('Units for the time:', relative.variables['time'].units)\n",
    "print('Units for the level:', relative.variables['level'].units)"
   ]
  },
  {
   "cell_type": "markdown",
   "metadata": {},
   "source": [
    "## Correct all the variables for offset and scale_factor"
   ]
  },
  {
   "cell_type": "code",
   "execution_count": 98,
   "metadata": {},
   "outputs": [
    {
     "name": "stdout",
     "output_type": "stream",
     "text": [
      "0.49999237025720666\n",
      "56.78843174459784\n",
      "0.006964579015321184\n",
      "91282.2142899379\n",
      "272.00388021345276\n"
     ]
    }
   ],
   "source": [
    "for key, value in my_vars.items():\n",
    "    #my_vars[key] = value.scale\n",
    "    my_vars[key] = value.add_offset\n",
    "    print(my_vars[key])"
   ]
  },
  {
   "cell_type": "markdown",
   "metadata": {},
   "source": [
    "##### Extraxt data for 1000 hPa"
   ]
  },
  {
   "cell_type": "code",
   "execution_count": 59,
   "metadata": {},
   "outputs": [
    {
     "ename": "AttributeError",
     "evalue": "'bool' object has no attribute 'add_offset'",
     "output_type": "error",
     "traceback": [
      "\u001b[1;31m---------------------------------------------------------------------------\u001b[0m",
      "\u001b[1;31mAttributeError\u001b[0m                            Traceback (most recent call last)",
      "\u001b[1;32m<ipython-input-59-012695708246>\u001b[0m in \u001b[0;36m<module>\u001b[1;34m\u001b[0m\n\u001b[1;32m----> 1\u001b[1;33m \u001b[0mmy_vars\u001b[0m\u001b[1;33m[\u001b[0m\u001b[1;34m'tcc'\u001b[0m\u001b[1;33m]\u001b[0m \u001b[1;33m=\u001b[0m \u001b[0mtcc\u001b[0m\u001b[1;33m.\u001b[0m\u001b[0mscale\u001b[0m\u001b[1;33m.\u001b[0m\u001b[0madd_offset\u001b[0m\u001b[1;33m[\u001b[0m\u001b[1;33m:\u001b[0m\u001b[1;33m,\u001b[0m \u001b[1;33m:\u001b[0m\u001b[1;33m,\u001b[0m \u001b[1;33m:\u001b[0m\u001b[1;33m]\u001b[0m\u001b[1;33m\u001b[0m\u001b[0m\n\u001b[0m\u001b[0;32m      2\u001b[0m \u001b[0mmy_vars\u001b[0m\u001b[1;33m[\u001b[0m\u001b[1;34m'rh'\u001b[0m\u001b[1;33m]\u001b[0m \u001b[1;33m=\u001b[0m \u001b[0mrh\u001b[0m\u001b[1;33m.\u001b[0m\u001b[0madd_offset\u001b[0m\u001b[1;33m[\u001b[0m\u001b[1;33m:\u001b[0m\u001b[1;33m,\u001b[0m \u001b[1;36m1\u001b[0m\u001b[1;33m,\u001b[0m \u001b[1;33m:\u001b[0m\u001b[1;33m,\u001b[0m \u001b[1;33m:\u001b[0m\u001b[1;33m]\u001b[0m\u001b[1;33m\u001b[0m\u001b[0m\n\u001b[0;32m      3\u001b[0m \u001b[0mmy_vars\u001b[0m\u001b[1;33m[\u001b[0m\u001b[1;34m'q'\u001b[0m\u001b[1;33m]\u001b[0m \u001b[1;33m=\u001b[0m \u001b[0mq\u001b[0m\u001b[1;33m.\u001b[0m\u001b[0madd_offset\u001b[0m\u001b[1;33m[\u001b[0m\u001b[1;33m:\u001b[0m\u001b[1;33m,\u001b[0m \u001b[1;36m1\u001b[0m\u001b[1;33m,\u001b[0m \u001b[1;33m:\u001b[0m\u001b[1;33m,\u001b[0m \u001b[1;33m:\u001b[0m\u001b[1;33m]\u001b[0m\u001b[1;33m\u001b[0m\u001b[0m\n\u001b[0;32m      4\u001b[0m \u001b[0mmy_vars\u001b[0m\u001b[1;33m[\u001b[0m\u001b[1;34m'sp'\u001b[0m\u001b[1;33m]\u001b[0m \u001b[1;33m=\u001b[0m \u001b[0msp\u001b[0m\u001b[1;33m.\u001b[0m\u001b[0madd_offset\u001b[0m\u001b[1;33m[\u001b[0m\u001b[1;33m:\u001b[0m\u001b[1;33m,\u001b[0m \u001b[1;33m:\u001b[0m\u001b[1;33m,\u001b[0m \u001b[1;33m:\u001b[0m\u001b[1;33m]\u001b[0m\u001b[1;33m\u001b[0m\u001b[0m\n\u001b[0;32m      5\u001b[0m \u001b[0mmy_vars\u001b[0m\u001b[1;33m[\u001b[0m\u001b[1;34m't2m'\u001b[0m\u001b[1;33m]\u001b[0m \u001b[1;33m=\u001b[0m \u001b[0mrh\u001b[0m\u001b[1;33m.\u001b[0m\u001b[0madd_offset\u001b[0m\u001b[1;33m[\u001b[0m\u001b[1;33m:\u001b[0m\u001b[1;33m,\u001b[0m \u001b[1;33m:\u001b[0m\u001b[1;33m,\u001b[0m \u001b[1;33m:\u001b[0m\u001b[1;33m]\u001b[0m\u001b[1;33m\u001b[0m\u001b[0m\n",
      "\u001b[1;31mAttributeError\u001b[0m: 'bool' object has no attribute 'add_offset'"
     ]
    }
   ],
   "source": [
    "my_vars['tcc'] = tcc.scale.add_offset[:, :, :]\n",
    "my_vars['rh'] = rh.add_offset[:, 1, :, :]\n",
    "my_vars['q'] = q.add_offset[:, 1, :, :]\n",
    "my_vars['sp'] = sp.add_offset[:, :, :]\n",
    "my_vars['t2m'] = rh.add_offset[:, :, :]\n",
    "\n"
   ]
  },
  {
   "cell_type": "code",
   "execution_count": null,
   "metadata": {},
   "outputs": [],
   "source": []
  },
  {
   "cell_type": "code",
   "execution_count": null,
   "metadata": {},
   "outputs": [],
   "source": []
  }
 ],
 "metadata": {
  "kernelspec": {
   "display_name": "Python 3",
   "language": "python",
   "name": "python3"
  },
  "language_info": {
   "codemirror_mode": {
    "name": "ipython",
    "version": 3
   },
   "file_extension": ".py",
   "mimetype": "text/x-python",
   "name": "python",
   "nbconvert_exporter": "python",
   "pygments_lexer": "ipython3",
   "version": "3.6.6"
  }
 },
 "nbformat": 4,
 "nbformat_minor": 2
}
